{
 "cells": [
  {
   "cell_type": "markdown",
   "metadata": {},
   "source": [
    "# icecream"
   ]
  },
  {
   "cell_type": "markdown",
   "metadata": {},
   "source": [
    "The Annapolis Ice Cream Company is small and often overcrowded.\n",
    "If there are too many customers already in line at the shop, then arriving customers will go elsewhere.\n",
    "In addition, customers are rather impatient, and will abandon the line without getting served if they've waited too long.\n",
    "\n",
    "The interarrival time between potential customers is exponentially distributed with a mean of 3 minutes.\n",
    "There is 1 server, and the service time is exponentially distributed with a mean of 6 minutes.\n",
    "The probability that a customer arrive at the shop and then go elsewhere is $\\frac{4e^x}{5e^x + 100}$ when there are $x$ customers already in line.\n",
    "The time that a customer will spend in line before abandoning it is exponentially distributed with mean 10 minutes.\n",
    "\n",
    "* Write a SimPy model that simulates the shop for 8 hours.\n",
    "\n",
    "\n",
    "* Using 100 replications, compute point and interval estimates for the mean fraction of customers that arrive at the shop and leave without joining the line.\n",
    "\n",
    "\n",
    "* Using 100 replications, compute point and interval estimates for the mean fraction of customers that join the line at the shop, but then abandon the line without getting served.\n",
    "\n",
    "\n",
    "*Hint.* You will find the [`exp`](http://docs.scipy.org/doc/numpy/reference/generated/numpy.exp.html) function in NumPy useful."
   ]
  },
  {
   "cell_type": "code",
   "execution_count": null,
   "metadata": {
    "collapsed": false
   },
   "outputs": [],
   "source": []
  }
 ],
 "metadata": {
  "kernelspec": {
   "display_name": "Python 3",
   "language": "python",
   "name": "python3"
  },
  "language_info": {
   "codemirror_mode": {
    "name": "ipython",
    "version": 3
   },
   "file_extension": ".py",
   "mimetype": "text/x-python",
   "name": "python",
   "nbconvert_exporter": "python",
   "pygments_lexer": "ipython3",
   "version": "3.4.3"
  }
 },
 "nbformat": 4,
 "nbformat_minor": 0
}
