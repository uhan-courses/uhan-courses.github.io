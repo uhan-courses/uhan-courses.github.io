{
 "cells": [
  {
   "cell_type": "markdown",
   "metadata": {},
   "source": [
    "## python"
   ]
  },
  {
   "cell_type": "markdown",
   "metadata": {},
   "source": [
    "**Problem.** Recall that $x$ degrees Celsius is\n",
    "\n",
    "$$\\frac{9}{5} x + 32$$\n",
    "\n",
    "degrees Fahrenheit. *Using a list comprehension*, create a list with the temperatures in degrees Celsius given below, converted to degrees Fahrenheit. Print the list of converted temperatures."
   ]
  },
  {
   "cell_type": "code",
   "execution_count": null,
   "metadata": {
    "collapsed": false
   },
   "outputs": [],
   "source": [
    "# List of temperatures to convert\n",
    "Celsius = [39.2, 33.3, 36.5, 31.6, 37.3, 37.8, 42.1, 28.6]"
   ]
  },
  {
   "cell_type": "markdown",
   "metadata": {},
   "source": [
    "**Problem.** Write a function called `sum_double` that takes 2 integers as input, and outputs double their sum *unless* the two values are the same. Example inputs and outputs:\n",
    "\n",
    "* `sum_double(1,2)` should return 6\n",
    "* `sum_double(4,3)` should return 14\n",
    "* `sum_double(2,2)` should return 4"
   ]
  },
  {
   "cell_type": "code",
   "execution_count": null,
   "metadata": {
    "collapsed": false
   },
   "outputs": [],
   "source": []
  },
  {
   "cell_type": "markdown",
   "metadata": {},
   "source": [
    "Test your `sum_double` function below."
   ]
  },
  {
   "cell_type": "code",
   "execution_count": null,
   "metadata": {
    "collapsed": false
   },
   "outputs": [],
   "source": []
  },
  {
   "cell_type": "markdown",
   "metadata": {},
   "source": [
    "**Problem.** Read the Python documentation on list methods found in Section 5.1 [here](https://docs.python.org/2/tutorial/datastructures.html). Use these methods to do the following with the list of student names given below.\n",
    "\n",
    "* Find the index of first student named Zelda in the list.\n",
    "* Insert your name in the 3rd position of the list.\n",
    "* Sort the list in alphabetical order.\n",
    "* Find how many students named Junior are in the list.\n",
    "* Remove Leo from the list.\n",
    "\n",
    "After each task, print the list to check your work."
   ]
  },
  {
   "cell_type": "code",
   "execution_count": null,
   "metadata": {
    "collapsed": false
   },
   "outputs": [],
   "source": [
    "# List of student names, generated courtesy of http://listofrandomnames.com\n",
    "students = [\"Sterling\", \"Malika\", \"Junior\", \"Shiloh\", \"Zelda\", \"Helene\", \"Leo\", \"Junior\", \"Jacinto\", \"Craig\"]"
   ]
  },
  {
   "cell_type": "code",
   "execution_count": null,
   "metadata": {
    "collapsed": false
   },
   "outputs": [],
   "source": []
  }
 ],
 "metadata": {
  "kernelspec": {
   "display_name": "Python 3",
   "language": "python",
   "name": "python3"
  },
  "language_info": {
   "codemirror_mode": {
    "name": "ipython",
    "version": 3
   },
   "file_extension": ".py",
   "mimetype": "text/x-python",
   "name": "python",
   "nbconvert_exporter": "python",
   "pygments_lexer": "ipython3",
   "version": "3.4.3"
  }
 },
 "nbformat": 4,
 "nbformat_minor": 0
}
