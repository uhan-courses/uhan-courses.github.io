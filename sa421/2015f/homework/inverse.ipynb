{
 "cells": [
  {
   "cell_type": "markdown",
   "metadata": {},
   "source": [
    "# inverse"
   ]
  },
  {
   "cell_type": "markdown",
   "metadata": {},
   "source": [
    "#### Problem 1."
   ]
  },
  {
   "cell_type": "markdown",
   "metadata": {},
   "source": [
    "Consider a discrete random variable $X$ with cdf\n",
    "\n",
    "$$ F_X(a) = \\begin{cases}\n",
    "0 & \\text{if } a < 1,\\\\\n",
    "0.1 & \\text{if } 1 \\le a < 2,\\\\\n",
    "0.4 & \\text{if } 2 \\le a < 3,\\\\\n",
    "0.9 & \\text{if } 3 \\le a < 4,\\\\\n",
    "1 & \\text{if } a \\ge 4.\n",
    "\\end{cases} $$\n",
    "\n",
    "Using the inverse transform method, generate 50 random variates from X.\n",
    "\n",
    "*Hint.* You do not need to use a pre-existing Python function to compute cdf values; just use the ones given to you above directly."
   ]
  },
  {
   "cell_type": "code",
   "execution_count": null,
   "metadata": {
    "collapsed": false
   },
   "outputs": [],
   "source": []
  },
  {
   "cell_type": "markdown",
   "metadata": {},
   "source": [
    "#### Problem 2."
   ]
  },
  {
   "cell_type": "markdown",
   "metadata": {},
   "source": [
    "a. Using the inverse transform method, generate 50 random variates from a Gamma distribution with shape parameter 13.3 and scale parameter 4.2. You'll need to use the Pro Tip from Lesson 11."
   ]
  },
  {
   "cell_type": "code",
   "execution_count": null,
   "metadata": {
    "collapsed": false
   },
   "outputs": [],
   "source": []
  },
  {
   "cell_type": "markdown",
   "metadata": {},
   "source": [
    "b. Do your random variates pass a Kolmogorov-Smirnov test?"
   ]
  },
  {
   "cell_type": "code",
   "execution_count": null,
   "metadata": {
    "collapsed": false
   },
   "outputs": [],
   "source": []
  },
  {
   "cell_type": "markdown",
   "metadata": {},
   "source": [
    "c. Are your random variates independent? Why or why not?"
   ]
  },
  {
   "cell_type": "code",
   "execution_count": null,
   "metadata": {
    "collapsed": true
   },
   "outputs": [],
   "source": []
  }
 ],
 "metadata": {
  "kernelspec": {
   "display_name": "Python 3",
   "language": "python",
   "name": "python3"
  },
  "language_info": {
   "codemirror_mode": {
    "name": "ipython",
    "version": 3
   },
   "file_extension": ".py",
   "mimetype": "text/x-python",
   "name": "python",
   "nbconvert_exporter": "python",
   "pygments_lexer": "ipython3",
   "version": "3.4.3"
  }
 },
 "nbformat": 4,
 "nbformat_minor": 0
}
