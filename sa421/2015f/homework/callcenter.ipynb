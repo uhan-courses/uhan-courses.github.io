{
 "cells": [
  {
   "cell_type": "markdown",
   "metadata": {},
   "source": [
    "# callcenter"
   ]
  },
  {
   "cell_type": "markdown",
   "metadata": {},
   "source": [
    "The Simplexville Emergency Dispatch receives urgent calls for the police and fire departments in Simplexville, as well as for neighboring towns Bellman and Fulkerson. 65% of the calls are from Simplexville, 20% of the calls are from Bellman, and 15% of the calls are from Fulkerson. The dispatch prioritizes calls by the location of the call: Simplexville calls get the highest priority, then Bellman, and then Fulkerson. Calls arrive according to an exponential interarrival distribution with a mean of 3.2 minutes. The time that a call requires is also exponentially distributed, with a mean of 11.3 minutes. There are always 4 operators on duty at the dispatch.\n",
    "\n",
    "* Simulate this system for 24 hours. Using 100 replications, give point and interval estimates of:\n",
    "    - the average delay for a call from Simplexville\n",
    "    - the average delay for a call from Bellman\n",
    "    - the average delay for a call from Fulkerson"
   ]
  },
  {
   "cell_type": "code",
   "execution_count": null,
   "metadata": {
    "collapsed": false
   },
   "outputs": [],
   "source": []
  }
 ],
 "metadata": {
  "kernelspec": {
   "display_name": "Python 3",
   "language": "python",
   "name": "python3"
  },
  "language_info": {
   "codemirror_mode": {
    "name": "ipython",
    "version": 3
   },
   "file_extension": ".py",
   "mimetype": "text/x-python",
   "name": "python",
   "nbconvert_exporter": "python",
   "pygments_lexer": "ipython3",
   "version": "3.4.3"
  }
 },
 "nbformat": 4,
 "nbformat_minor": 0
}
