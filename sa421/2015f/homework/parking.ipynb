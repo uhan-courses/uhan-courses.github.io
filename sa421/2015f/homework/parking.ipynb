{
 "cells": [
  {
   "cell_type": "markdown",
   "metadata": {},
   "source": [
    "# parking"
   ]
  },
  {
   "cell_type": "markdown",
   "metadata": {},
   "source": [
    "*This problem's setting is borrowed from: B. Nelson (2010). Stochastic Modeling: Analysis and Simulation. Dover, New York.*\n",
    "\n",
    "Planning for construction of the the proposed Massive Mall &mdash; the largest shopping mall and indoor golf course in the world &mdash; includes determining the amount of customer parking to provide. Massive Mall will have a customer parking garage with 3 floors. The planners need to figure out how many parking spaces per floor the garage should have: if they are generous with the size of a parking space, they can fit 950 spaces in 1 floor; if they are stingy, then they can fit 960 spaces in 1 floor.\n",
    "\n",
    "Through forecasts based on historical data, surveys, and malls in similar markets, the planners have data on customer traffic to the mall and the amount of time customers spend shopping. In particular, on Saturdays:\n",
    "\n",
    "* the time between customer arrivals to the parking garage is forecast to be exponentially distributed with mean 1/1000 hours (i.e. 1000 customers per hour).\n",
    "\n",
    "* the time a customer spends in the mall is forecast to be exponentially distributed with mean 3 hours.\n",
    "\n",
    "\n",
    "The mall will be open from 9 am to 9 pm on Saturdays.\n",
    "\n",
    "\n",
    "1. Simulate the arrival and departure of customers from the parking garage on Saturdays, assuming that each floor has 950 spaces. Using 50 replications, give a point and interval estimate for the mean time average number of customers waiting for a parking spot.\n",
    "\n",
    "2. Simulate the arrival and departure of customers from the parking garage on Saturdays, assuming that each floor has 960. Using 50 replications, give a point and interval estimate for the mean time average number of customers waiting for a parking spot.\n",
    "\n",
    "3. Is it worth being stingy with the size of a parking space? In particular, are the mean time average number of customers waiting for a parking spot statistically different when each floor has 950 spaces vs. 960 spaces? Use the Levene test for equal variances and the $t$-test for equal means to answer this question.\n",
    "\n",
    "*Note.* These replicated simulations might take a few minutes (as opposed to a few seconds). "
   ]
  },
  {
   "cell_type": "code",
   "execution_count": 6,
   "metadata": {
    "collapsed": false
   },
   "outputs": [],
   "source": []
  }
 ],
 "metadata": {
  "kernelspec": {
   "display_name": "Python 3",
   "language": "python",
   "name": "python3"
  },
  "language_info": {
   "codemirror_mode": {
    "name": "ipython",
    "version": 3
   },
   "file_extension": ".py",
   "mimetype": "text/x-python",
   "name": "python",
   "nbconvert_exporter": "python",
   "pygments_lexer": "ipython3",
   "version": "3.4.3"
  }
 },
 "nbformat": 4,
 "nbformat_minor": 0
}
