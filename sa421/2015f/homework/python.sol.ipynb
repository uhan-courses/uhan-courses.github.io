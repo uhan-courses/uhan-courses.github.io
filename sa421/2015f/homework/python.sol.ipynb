{
 "cells": [
  {
   "cell_type": "markdown",
   "metadata": {},
   "source": [
    "## python"
   ]
  },
  {
   "cell_type": "markdown",
   "metadata": {},
   "source": [
    "**Problem.** Recall that $x$ degrees Celsius is\n",
    "\n",
    "$$\\frac{9}{5} x + 32$$\n",
    "\n",
    "degrees Fahrenheit. *Using a list comprehension*, create a list with the temperatures in degrees Celsius given below, converted to degrees Fahrenheit. Print the list of converted temperatures."
   ]
  },
  {
   "cell_type": "code",
   "execution_count": 1,
   "metadata": {
    "collapsed": false
   },
   "outputs": [
    {
     "name": "stdout",
     "output_type": "stream",
     "text": [
      "Temperatures in deg F = [102.56, 91.94, 97.7, 88.88, 99.14, 100.03999999999999, 107.78, 83.48]\n",
      "Another list of temperatures in deg F = [102.56, 91.94, 97.7, 88.88, 99.14, 100.03999999999999, 107.78, 83.48]\n"
     ]
    }
   ],
   "source": [
    "# List of temperatures to convert\n",
    "Celsius = [39.2, 33.3, 36.5, 31.6, 37.3, 37.8, 42.1, 28.6]\n",
    "\n",
    "# List of temperatures in Fahrenheit\n",
    "Fahrenheit = [ (9/5)*x + 32 for x in Celsius ]\n",
    "print(\"Temperatures in deg F = {0}\".format(Fahrenheit))\n",
    "\n",
    "AnotherFahrenheit = [ (9/5) * Celsius[i] + 32 for i in range(8) ]\n",
    "print(\"Another list of temperatures in deg F = {0}\".format(AnotherFahrenheit))"
   ]
  },
  {
   "cell_type": "markdown",
   "metadata": {},
   "source": [
    "**Problem.** Write a function called `sum_double` that takes 2 integers as input, and outputs double their sum *unless* the two values are the same. Example inputs and outputs:\n",
    "\n",
    "* `sum_double(1,2)` should return 6\n",
    "* `sum_double(4,3)` should return 14\n",
    "* `sum_double(2,2)` should return 4"
   ]
  },
  {
   "cell_type": "code",
   "execution_count": 2,
   "metadata": {
    "collapsed": false
   },
   "outputs": [],
   "source": [
    "def sum_double(a, b):\n",
    "    sum = a + b\n",
    "    if a == b:\n",
    "        return sum\n",
    "    else:\n",
    "        return 2*sum"
   ]
  },
  {
   "cell_type": "markdown",
   "metadata": {},
   "source": [
    "Test your `sum_double` function below."
   ]
  },
  {
   "cell_type": "code",
   "execution_count": 3,
   "metadata": {
    "collapsed": false
   },
   "outputs": [
    {
     "data": {
      "text/plain": [
       "6"
      ]
     },
     "execution_count": 3,
     "metadata": {},
     "output_type": "execute_result"
    }
   ],
   "source": [
    "sum_double(1,2)"
   ]
  },
  {
   "cell_type": "code",
   "execution_count": 4,
   "metadata": {
    "collapsed": false
   },
   "outputs": [
    {
     "data": {
      "text/plain": [
       "14"
      ]
     },
     "execution_count": 4,
     "metadata": {},
     "output_type": "execute_result"
    }
   ],
   "source": [
    "sum_double(4,3)"
   ]
  },
  {
   "cell_type": "code",
   "execution_count": 5,
   "metadata": {
    "collapsed": false
   },
   "outputs": [
    {
     "data": {
      "text/plain": [
       "4"
      ]
     },
     "execution_count": 5,
     "metadata": {},
     "output_type": "execute_result"
    }
   ],
   "source": [
    "sum_double(2,2)"
   ]
  },
  {
   "cell_type": "markdown",
   "metadata": {},
   "source": [
    "**Problem.** Read the Python documentation on list methods found in Section 5.1 [here](https://docs.python.org/2/tutorial/datastructures.html). Use these methods to do the following with the list of student names given below.\n",
    "\n",
    "* Find the index of first student named Zelda in the list.\n",
    "* Insert your name in the 3rd position of the list.\n",
    "* Sort the list in alphabetical order.\n",
    "* Find how many students named Junior are in the list.\n",
    "* Remove Leo from the list.\n",
    "\n",
    "After each task, print the list to check your work."
   ]
  },
  {
   "cell_type": "code",
   "execution_count": 6,
   "metadata": {
    "collapsed": false
   },
   "outputs": [],
   "source": [
    "# List of student names, generated courtesy of http://listofrandomnames.com\n",
    "students = [\"Sterling\", \"Malika\", \"Junior\", \"Shiloh\", \"Zelda\", \"Helene\", \"Leo\", \"Junior\", \"Jacinto\", \"Craig\"]"
   ]
  },
  {
   "cell_type": "code",
   "execution_count": 7,
   "metadata": {
    "collapsed": false
   },
   "outputs": [
    {
     "data": {
      "text/plain": [
       "4"
      ]
     },
     "execution_count": 7,
     "metadata": {},
     "output_type": "execute_result"
    }
   ],
   "source": [
    "# Find the index of first student named Zelda in the list.\n",
    "students.index(\"Zelda\")"
   ]
  },
  {
   "cell_type": "code",
   "execution_count": 8,
   "metadata": {
    "collapsed": false
   },
   "outputs": [
    {
     "data": {
      "text/plain": [
       "['Sterling',\n",
       " 'Malika',\n",
       " 'Nelson',\n",
       " 'Junior',\n",
       " 'Shiloh',\n",
       " 'Zelda',\n",
       " 'Helene',\n",
       " 'Leo',\n",
       " 'Junior',\n",
       " 'Jacinto',\n",
       " 'Craig']"
      ]
     },
     "execution_count": 8,
     "metadata": {},
     "output_type": "execute_result"
    }
   ],
   "source": [
    "# Insert your name in the 3rd position of the list.\n",
    "students.insert(2, \"Nelson\")\n",
    "students"
   ]
  },
  {
   "cell_type": "code",
   "execution_count": 9,
   "metadata": {
    "collapsed": false
   },
   "outputs": [
    {
     "data": {
      "text/plain": [
       "['Craig',\n",
       " 'Helene',\n",
       " 'Jacinto',\n",
       " 'Junior',\n",
       " 'Junior',\n",
       " 'Leo',\n",
       " 'Malika',\n",
       " 'Nelson',\n",
       " 'Shiloh',\n",
       " 'Sterling',\n",
       " 'Zelda']"
      ]
     },
     "execution_count": 9,
     "metadata": {},
     "output_type": "execute_result"
    }
   ],
   "source": [
    "# Sort the list in alphabetical order.\n",
    "students.sort()\n",
    "students"
   ]
  },
  {
   "cell_type": "code",
   "execution_count": 10,
   "metadata": {
    "collapsed": false
   },
   "outputs": [
    {
     "data": {
      "text/plain": [
       "2"
      ]
     },
     "execution_count": 10,
     "metadata": {},
     "output_type": "execute_result"
    }
   ],
   "source": [
    "# Find how many students named Junior are in the list.\n",
    "students.count(\"Junior\")"
   ]
  },
  {
   "cell_type": "code",
   "execution_count": 11,
   "metadata": {
    "collapsed": false
   },
   "outputs": [
    {
     "data": {
      "text/plain": [
       "['Craig',\n",
       " 'Helene',\n",
       " 'Jacinto',\n",
       " 'Junior',\n",
       " 'Junior',\n",
       " 'Malika',\n",
       " 'Nelson',\n",
       " 'Shiloh',\n",
       " 'Sterling',\n",
       " 'Zelda']"
      ]
     },
     "execution_count": 11,
     "metadata": {},
     "output_type": "execute_result"
    }
   ],
   "source": [
    "# Remove Leo from the list.\n",
    "students.remove(\"Leo\")\n",
    "students"
   ]
  }
 ],
 "metadata": {
  "kernelspec": {
   "display_name": "Python 3",
   "language": "python",
   "name": "python3"
  },
  "language_info": {
   "codemirror_mode": {
    "name": "ipython",
    "version": 3
   },
   "file_extension": ".py",
   "mimetype": "text/x-python",
   "name": "python",
   "nbconvert_exporter": "python",
   "pygments_lexer": "ipython3",
   "version": "3.4.3"
  }
 },
 "nbformat": 4,
 "nbformat_minor": 0
}
