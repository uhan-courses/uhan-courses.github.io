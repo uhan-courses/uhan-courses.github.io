{
 "cells": [
  {
   "cell_type": "markdown",
   "metadata": {},
   "source": [
    "# tube"
   ]
  },
  {
   "cell_type": "markdown",
   "metadata": {},
   "source": [
    "Transport for London (TfL) has asked you to study the feasibility of replacing the manned ticket offices with automated ticket machines in its underground stations. \n",
    "As a pilot study, TfL wants you to focus on the evening rush hour period, from 16:00 to 20:00, at a very small station with 1 employee at the ticket office, which will be replaced with 1 machine.\n",
    "\n",
    "Using historical data provided to you, you have determined that the time between customers arrivals at the ticket office/machine is exponentially distributed with a mean of 3.2 minutes. \n",
    "In addition, you have determined using this data that the service time (in minutes) at the manned ticket office can be modeled with a Gamma random variable with shape parameter 2 and scale parameter 1.3. \n",
    "Through its own studies, TfL has determined that the service time (in minutes) at the automated ticket machine can be modeled with a Gamma random variable with shape parameter 1 and scale parameter 2.6.\n",
    "\n",
    "Call the current system \"System 1\", and call the proposed system \"System 2\".\n",
    "\n",
    "Using 100 replications, compute a point estimate of the average delay in System 1 and System 2. Use the t-test for equal means to compare the mean average delay of the two systems. <span style=\"color:#a00000\">Use separate streams of random numbers to generate interarrival times and service times.</span>"
   ]
  },
  {
   "cell_type": "code",
   "execution_count": 1,
   "metadata": {
    "collapsed": true
   },
   "outputs": [],
   "source": [
    "##### Setup #####\n",
    "# Import all simulation functions from SimPy\n",
    "from SimPy.Simulation import *\n",
    "\n",
    "# Import mean, std, sqrt functions from numpy\n",
    "from numpy import mean, std, sqrt\n",
    "\n",
    "# Import seed initializer and random sampling functions from NumPy\n",
    "from numpy.random import RandomState, seed, exponential, gamma\n",
    "\n",
    "# Import Levene test and t-test from scipy.stats\n",
    "from scipy.stats import levene, ttest_ind"
   ]
  },
  {
   "cell_type": "code",
   "execution_count": 2,
   "metadata": {
    "collapsed": false
   },
   "outputs": [],
   "source": [
    "##### Parameters #####\n",
    "class P:\n",
    "    # Customers arrive at the ticket office/machine with \n",
    "    # exponentially distributed interarrival times with mean 3.2\n",
    "    interarrivalTimeMean = 3.2\n",
    "    \n",
    "    # Service times follow gamma distribution with some shape/scale parameters\n",
    "    serviceTimeShape = None\n",
    "    serviceTimeScale = None\n",
    "    \n",
    "    # One server: we assume there is 1 employee or 1 machine\n",
    "    nServers = 1\n",
    "    \n",
    "    # Simulation time: 4 hours\n",
    "    simulationTimeMax =  4 * 60\n",
    "    \n",
    "    \n",
    "##### Streams #####\n",
    "class S:\n",
    "    inter = RandomState()\n",
    "    serv = RandomState()\n",
    "    \n",
    "\n",
    "##### Processes #####\n",
    "# Customer\n",
    "class Customer(Process):\n",
    "    def behavior(self):\n",
    "        # Customer arrives, joins queue\n",
    "        # Record customer arrival time\n",
    "        arrivalTime = now()\n",
    "        yield request, self, R.server\n",
    "        \n",
    "        # Customer is released from queue and starts service\n",
    "        # Observe customer delay using monitor\n",
    "        M.delay.observe(now() - arrivalTime)\n",
    "        serviceTime = S.serv.gamma(shape = P.serviceTimeShape, scale = P.serviceTimeScale)\n",
    "        yield hold, self, serviceTime\n",
    "        \n",
    "        # Customer finishes service, leaves\n",
    "        yield release, self, R.server\n",
    "\n",
    "# Entrance\n",
    "class Entrance(Process):\n",
    "    def behavior(self):\n",
    "        # At the start of the simulation, no customers have arrived\n",
    "        nCustomers = 0\n",
    "        \n",
    "        # Customer arrivals\n",
    "        while True:\n",
    "            # Wait until the next arrival\n",
    "            interarrivalTime = S.inter.exponential(scale = P.interarrivalTimeMean)\n",
    "            yield hold, self, interarrivalTime\n",
    "            \n",
    "            # Create a new customer using the template defined in the Customer class\n",
    "            c = Customer(name=\"Customer {0}\".format(nCustomers))\n",
    "            \n",
    "            # Activate the customer's behavior\n",
    "            activate(c, c.behavior())\n",
    "\n",
    "            # Count this new customer\n",
    "            nCustomers += 1\n",
    "\n",
    "            \n",
    "##### Resources #####\n",
    "class R:\n",
    "    # Server\n",
    "    server = None\n",
    "    \n",
    "    \n",
    "##### Monitors #####\n",
    "class M:\n",
    "    # Delay\n",
    "    delay = None\n",
    "\n",
    "\n",
    "##### Model #####\n",
    "def model(interSeed, servSeed):\n",
    "    # Initialize SimPy \n",
    "    initialize()\n",
    "\n",
    "    # Initialize seed for interarrival time random number generator\n",
    "    S.inter.seed(interSeed)\n",
    "\n",
    "    # Initialize seed for service time random number generator\n",
    "    S.serv.seed(servSeed)\n",
    "\n",
    "    # Create the server resource\n",
    "    R.server = Resource(capacity = P.nServers)\n",
    "    \n",
    "    # Create the monitor for customer delay\n",
    "    M.delay = Monitor()\n",
    "\n",
    "    # Activate the entrance (to generate customers)\n",
    "    e = Entrance()\n",
    "    activate(e, e.behavior())\n",
    "    \n",
    "    # Run the simulation\n",
    "    simulate(until = P.simulationTimeMax)\n",
    "\n",
    "    # Compute performance measure: average delay\n",
    "    avgDelay = M.delay.mean()\n",
    "    \n",
    "    # Return performance measure\n",
    "    return avgDelay"
   ]
  },
  {
   "cell_type": "code",
   "execution_count": 3,
   "metadata": {
    "collapsed": false
   },
   "outputs": [
    {
     "name": "stdout",
     "output_type": "stream",
     "text": [
      "SYSTEM 1\n",
      "Point estimate for mean average delay: 5.654543994484325\n"
     ]
    }
   ],
   "source": [
    "##### Experiment - System 1 #####\n",
    "# Number of replications\n",
    "n = 100\n",
    "\n",
    "# Service time parameters for System 1\n",
    "P.serviceTimeShape = 2\n",
    "P.serviceTimeScale = 1.3\n",
    "\n",
    "# Perform replications, and put performance measure from each replication in one list\n",
    "avgDelay1Obs = [model(interSeed = 123*i, servSeed = 123*i) for i in range(n)]\n",
    "\n",
    "# Sample mean to estimate mean performance measure\n",
    "avgDelay1SM = mean(avgDelay1Obs)\n",
    "print(\"SYSTEM 1\")\n",
    "print(\"Point estimate for mean average delay: {0}\".format(avgDelay1SM))"
   ]
  },
  {
   "cell_type": "code",
   "execution_count": 4,
   "metadata": {
    "collapsed": false
   },
   "outputs": [
    {
     "name": "stdout",
     "output_type": "stream",
     "text": [
      "SYSTEM 2\n",
      "Point estimate for mean average delay: 3.5526531164118755\n"
     ]
    }
   ],
   "source": [
    "##### Experiment - System 2 #####\n",
    "# Number of replications\n",
    "n = 100\n",
    "\n",
    "# Service time parameters for System 2\n",
    "P.serviceTimeShape = 1\n",
    "P.serviceTimeScale = 2.6\n",
    "\n",
    "# Perform replications, and put performance measure from each replication in one list\n",
    "avgDelay2Obs = [model(interSeed = 123*i, servSeed = 123*i) for i in range(n)]\n",
    "\n",
    "# Sample mean to estimate mean performance measure\n",
    "avgDelay2SM = mean(avgDelay2Obs)\n",
    "print(\"SYSTEM 2\")\n",
    "print(\"Point estimate for mean average delay: {0}\".format(avgDelay2SM))"
   ]
  },
  {
   "cell_type": "code",
   "execution_count": 5,
   "metadata": {
    "collapsed": false
   },
   "outputs": [
    {
     "name": "stdout",
     "output_type": "stream",
     "text": [
      "Levene test p-value = 2.7266447572960463e-10\n"
     ]
    }
   ],
   "source": [
    "(LeveneTS, LevenePValue) = levene(avgDelay1Obs, avgDelay2Obs)\n",
    "print(\"Levene test p-value = {0}\".format(LevenePValue))"
   ]
  },
  {
   "cell_type": "markdown",
   "metadata": {},
   "source": [
    "Assuming a significance level of 0.05, we reject the null hypothesis of the Levene test, and statistically conclude that the two sets of observations have unequal variances."
   ]
  },
  {
   "cell_type": "code",
   "execution_count": 6,
   "metadata": {
    "collapsed": false
   },
   "outputs": [
    {
     "name": "stdout",
     "output_type": "stream",
     "text": [
      "t-test p-value = 3.936707784482137e-09\n"
     ]
    }
   ],
   "source": [
    "(tTS, tPValue) = ttest_ind(avgDelay1Obs, avgDelay2Obs, equal_var = False)\n",
    "print(\"t-test p-value = {0}\".format(tPValue))"
   ]
  },
  {
   "cell_type": "markdown",
   "metadata": {},
   "source": [
    "Assuming a significance level of 0.05, we reject the null hypothesis of the t-test, and statistically conclude that the mean average delay in the two systems are in fact different."
   ]
  }
 ],
 "metadata": {
  "kernelspec": {
   "display_name": "Python 3",
   "language": "python",
   "name": "python3"
  },
  "language_info": {
   "codemirror_mode": {
    "name": "ipython",
    "version": 3
   },
   "file_extension": ".py",
   "mimetype": "text/x-python",
   "name": "python",
   "nbconvert_exporter": "python",
   "pygments_lexer": "ipython3",
   "version": "3.4.3"
  }
 },
 "nbformat": 4,
 "nbformat_minor": 0
}
