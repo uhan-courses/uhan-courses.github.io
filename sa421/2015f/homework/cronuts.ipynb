{
 "cells": [
  {
   "cell_type": "markdown",
   "metadata": {},
   "source": [
    "# cronuts"
   ]
  },
  {
   "cell_type": "markdown",
   "metadata": {},
   "source": [
    "The Simplex Bakery is trying to determine how many dozens of cronuts to bake each day. Customers arrive at the bakery according to an exponential interarrival time distribution with a mean of 12 minutes. The dozens of cronuts that each customer orders follows a Binomial distribution with 4 trials and success probability 0.3.\n",
    "\n",
    "Cronuts sell for \\$20 per dozen. \n",
    "They cost \\$12 per dozen to make. \n",
    "All cronuts not sold at the end of the day are sold at half price to a local stale baked good distributor.\n",
    "\n",
    "Due to mixing size constraints, cronuts must be made in batches of 20 dozen, anywhere between 0 and 200 dozen. \n",
    "\n",
    "Assume that the Simplex Bakery is open for 6 hours a day.\n",
    "\n",
    "Using 50 replications, how many dozen should the bakery bake per day to maximize its profit?"
   ]
  },
  {
   "cell_type": "code",
   "execution_count": null,
   "metadata": {
    "collapsed": false
   },
   "outputs": [],
   "source": []
  }
 ],
 "metadata": {
  "kernelspec": {
   "display_name": "Python 3",
   "language": "python",
   "name": "python3"
  },
  "language_info": {
   "codemirror_mode": {
    "name": "ipython",
    "version": 3
   },
   "file_extension": ".py",
   "mimetype": "text/x-python",
   "name": "python",
   "nbconvert_exporter": "python",
   "pygments_lexer": "ipython3",
   "version": "3.4.3"
  }
 },
 "nbformat": 4,
 "nbformat_minor": 0
}
