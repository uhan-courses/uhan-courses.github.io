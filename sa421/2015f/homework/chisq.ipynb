{
 "cells": [
  {
   "cell_type": "markdown",
   "metadata": {},
   "source": [
    "# chisq"
   ]
  },
  {
   "cell_type": "markdown",
   "metadata": {},
   "source": [
    "#### Problem 1."
   ]
  },
  {
   "cell_type": "markdown",
   "metadata": {},
   "source": [
    "Using a chi-squared goodness-of-fit test with $\\alpha = 0.05$, determine whether the 250 observations below come from a discrete uniform distribution on $\\{7, 8, \\dots, 23\\}$. Based on the result of the chi-squared test, what can you conclude?"
   ]
  },
  {
   "cell_type": "code",
   "execution_count": 58,
   "metadata": {
    "collapsed": false
   },
   "outputs": [],
   "source": [
    "y = [11, 10, 15, 8, 22, 11, 18, 11, 14, 10,  9, 10, 10, 22, 11, 17,  8,\n",
    "       11, 12,  8, 14, 23,  9, 11, 22, 19, 10, 19, 23, 20,  8, 12, 20,  8,\n",
    "       15, 19,  9,  7,  7,  7, 10,  7, 16, 23,  8, 11, 14, 21, 20, 10, 23,\n",
    "       10, 16, 18,  8, 13,  8,  9,  9, 11, 22, 21, 23, 11, 15, 10, 18, 19,\n",
    "       14, 12, 22,  8, 14, 11, 12, 23, 12, 20,  7, 20, 10, 22, 14, 12, 13,\n",
    "       10,  7, 12, 12,  8, 11, 14, 19, 22, 17, 14, 11, 21, 13,  9, 19, 21,\n",
    "       13, 12, 15, 18, 18, 12, 11, 12, 14, 7, 22, 13, 12, 22,  8,  8,  8,\n",
    "       14, 17, 22, 16, 22,  9, 15, 15, 23, 18, 10, 16, 19, 15, 18, 11, 12,\n",
    "       15, 10,  9, 22,  7, 18, 18,  7, 22, 13, 20, 13, 17, 22, 12, 11, 19,\n",
    "       23, 23, 13,  9, 20,  8,  8, 12, 20, 23,  9, 12, 13,  8, 14, 22, 16,\n",
    "        7, 10, 15, 15, 22, 20, 11, 20, 17,  9, 14,  7, 11, 7, 11, 11,  9,\n",
    "       23, 20,  8, 15, 11, 16, 22,  8,  7, 20, 16, 16, 15, 11, 13,  7, 12,\n",
    "       12, 16, 19, 12,  9, 18, 20, 16,  7, 20, 10, 23, 16, 14, 16, 16, 19,\n",
    "       16,  7, 23, 18,  9, 10, 14,  7, 23, 14, 23, 13, 10, 14, 7, 11,  8,\n",
    "        7, 20, 16,  9, 11, 19,  8,  8, 18,  8, 20, 17]"
   ]
  },
  {
   "cell_type": "code",
   "execution_count": null,
   "metadata": {
    "collapsed": false
   },
   "outputs": [],
   "source": []
  },
  {
   "cell_type": "markdown",
   "metadata": {},
   "source": [
    "#### Problem 2."
   ]
  },
  {
   "cell_type": "markdown",
   "metadata": {},
   "source": [
    "Using a chi-squared goodness-of-fit test with $\\alpha = 0.05$, determine whether the 250 observations below come from a Bernoulli random variable with success probability 0.5 (i.e. do these observations come from a fair two-sided coin?). Based on the result of the chi-squared test, what can you conclude?\n",
    "\n",
    "[SciPy documentation on the Bernoulli random variable object](http://docs.scipy.org/doc/scipy/reference/generated/scipy.stats.bernoulli.html)"
   ]
  },
  {
   "cell_type": "code",
   "execution_count": 61,
   "metadata": {
    "collapsed": false
   },
   "outputs": [],
   "source": [
    "y = [1, 1, 0, 1, 0, 0, 1, 1, 0, 0, 1, 1, 0, 0, 1, 1, 0, 0, 1, 1, 1, 0, 0,\n",
    "       0, 0, 0, 1, 1, 1, 1, 0, 1, 0, 1, 1, 0, 1, 0, 0, 0, 0, 1, 1, 0, 0, 0,\n",
    "       1, 0, 1, 1, 0, 1, 1, 1, 1, 0, 1, 0, 1, 0, 1, 0, 1, 0, 0, 1, 0, 0, 1,\n",
    "       0, 0, 1, 0, 1, 1, 0, 0, 1, 1, 0, 1, 1, 1, 1, 0, 0, 0, 1, 0, 0, 0, 0,\n",
    "       1, 1, 1, 1, 1, 1, 1, 1, 0, 0, 1, 1, 0, 0, 0, 0, 0, 0, 1, 1, 0, 0, 1,\n",
    "       1, 0, 0, 0, 0, 1, 0, 1, 0, 1, 0, 0, 0, 1, 0, 0, 1, 0, 0, 0, 0, 1, 1,\n",
    "       0, 0, 0, 0, 0, 0, 1, 0, 0, 0, 1, 1, 0, 0, 0, 1, 0, 0, 0, 0, 1, 0, 0,\n",
    "       1, 1, 0, 0, 1, 1, 0, 0, 0, 0, 0, 0, 1, 0, 0, 1, 1, 0, 1, 0, 1, 1, 0,\n",
    "       0, 0, 1, 1, 0, 1, 1, 0, 1, 0, 0, 0, 0, 1, 0, 1, 1, 1, 0, 0, 1, 0, 1,\n",
    "       0, 0, 1, 0, 1, 0, 0, 1, 1, 0, 0, 0, 1, 0, 1, 1, 1, 1, 0, 1, 0, 0, 0,\n",
    "       0, 0, 0, 1, 0, 1, 0, 1, 1, 0, 0, 0, 0, 1, 1, 0, 0, 1, 0, 1]"
   ]
  },
  {
   "cell_type": "code",
   "execution_count": null,
   "metadata": {
    "collapsed": false
   },
   "outputs": [],
   "source": []
  }
 ],
 "metadata": {
  "kernelspec": {
   "display_name": "Python 3",
   "language": "python",
   "name": "python3"
  },
  "language_info": {
   "codemirror_mode": {
    "name": "ipython",
    "version": 3
   },
   "file_extension": ".py",
   "mimetype": "text/x-python",
   "name": "python",
   "nbconvert_exporter": "python",
   "pygments_lexer": "ipython3",
   "version": "3.4.3"
  }
 },
 "nbformat": 4,
 "nbformat_minor": 0
}
