{
 "cells": [
  {
   "cell_type": "markdown",
   "metadata": {},
   "source": [
    "# cronuts"
   ]
  },
  {
   "cell_type": "markdown",
   "metadata": {},
   "source": [
    "The Simplex Bakery is trying to determine how many dozens of cronuts to bake each day. Customers arrive at the bakery according to an exponential interarrival time distribution with a mean of 12 minutes. The dozens of cronuts that each customer orders follows a Binomial distribution with 4 trials and success probability 0.3.\n",
    "\n",
    "Cronuts sell for \\$20 per dozen. \n",
    "They cost \\$12 per dozen to make. \n",
    "All cronuts not sold at the end of the day are sold at half price to a local stale baked good distributor.\n",
    "\n",
    "Due to mixing size constraints, cronuts must be made in batches of 20 dozen, anywhere between 0 and 200 dozen. \n",
    "\n",
    "Assume that the Simplex Bakery is open for 6 hours a day.\n",
    "\n",
    "Using 50 replications, how many dozen should the bakery bake per day to maximize its profit?"
   ]
  },
  {
   "cell_type": "code",
   "execution_count": 1,
   "metadata": {
    "collapsed": false
   },
   "outputs": [],
   "source": [
    "##### Setup #####\n",
    "# Import various functions from NumPy\n",
    "from numpy import mean\n",
    "\n",
    "# Import seed initializer and random sampling functions from NumPy\n",
    "from numpy.random import seed, rand, binomial, exponential\n",
    "\n",
    "# Import everything from SimPy\n",
    "from SimPy.Simulation import *"
   ]
  },
  {
   "cell_type": "code",
   "execution_count": 2,
   "metadata": {
    "collapsed": false
   },
   "outputs": [],
   "source": [
    "##### Parameters #####\n",
    "class P:\n",
    "    # Revenue per dozen cronuts\n",
    "    revenue = 20\n",
    "    \n",
    "    # Cost per dozen cronuts\n",
    "    cost = 12\n",
    "    \n",
    "    # Number of dozen cronuts baked\n",
    "    nCronuts = None\n",
    "    \n",
    "    # Interarrival time distribution: mean 12\n",
    "    interarrivalTimeMean = 12\n",
    "    \n",
    "    # Cronuts per customer distribution: 10 trials, success probability 0.3\n",
    "    cronuts_n = 4\n",
    "    cronuts_p = 0.3\n",
    "    \n",
    "    # Bakery is open for 6 hours\n",
    "    simulationTimeMax = 6 * 60\n",
    "\n",
    "    \n",
    "##### Processes #####\n",
    "# Customer\n",
    "class Customer(Process):\n",
    "    def behavior(self):\n",
    "        # Customer arrives, determines how many cronuts she wants\n",
    "        cronutsWanted = binomial(n = P.cronuts_n, p = P.cronuts_p)\n",
    "        \n",
    "        # Are there enough cronuts for this customer?\n",
    "        if cronutsWanted > L.cronuts.amount:\n",
    "            yield get, self, L.cronuts, L.cronuts.amount\n",
    "        else:\n",
    "            yield get, self, L.cronuts, cronutsWanted\n",
    "        \n",
    "        # Check if \n",
    "            \n",
    "# Entrance\n",
    "class Entrance(Process):\n",
    "    def behavior(self):\n",
    "        # Start customer for number of customers\n",
    "        nCustomers = 0\n",
    "        \n",
    "        while True:\n",
    "            # Interarrival time\n",
    "            interarrivalTime = exponential(scale = P.interarrivalTimeMean)\n",
    "            yield hold, self, interarrivalTime\n",
    "            \n",
    "            # Create customer using the template defined in the Customer class\n",
    "            c = Customer(name = \"Customer {0}\".format(nCustomers))\n",
    "            \n",
    "            # Activate the customer's behavior\n",
    "            activate(c, c.behavior())\n",
    "            \n",
    "            # Count this new customer\n",
    "            nCustomers += 1\n",
    "\n",
    "\n",
    "##### Levels #####\n",
    "class L:\n",
    "    cronuts = None\n",
    "    \n",
    "            \n",
    "##### Simulation #####\n",
    "def model(inputSeed):\n",
    "    # Initialize SimPy\n",
    "    initialize()\n",
    "    \n",
    "    # Initialize a seed for the random number generator\n",
    "    seed(inputSeed)\n",
    "\n",
    "    # Create level for cronuts\n",
    "    L.cronuts = Level(initialBuffered = P.nCronuts)\n",
    "    \n",
    "    # Activate the entrance\n",
    "    e = Entrance()\n",
    "    activate(e, e.behavior())\n",
    "    \n",
    "    # Run the simulation\n",
    "    simulate(until = P.simulationTimeMax)\n",
    "\n",
    "    # Compute profit\n",
    "    profit = (P.revenue - P.cost) * (P.nCronuts - L.cronuts.amount) + (0.5 * P.revenue - P.cost) * L.cronuts.amount\n",
    "    \n",
    "    # Return performance measures\n",
    "    return profit"
   ]
  },
  {
   "cell_type": "code",
   "execution_count": 3,
   "metadata": {
    "collapsed": false
   },
   "outputs": [
    {
     "name": "stdout",
     "output_type": "stream",
     "text": [
      "Dozens baked = 0, mean profit = 0.0\n",
      "Dozens baked = 20, mean profit = 159.8\n",
      "Dozens baked = 40, mean profit = 268.0\n",
      "Dozens baked = 60, mean profit = 246.2\n",
      "Dozens baked = 80, mean profit = 206.2\n",
      "Dozens baked = 100, mean profit = 166.2\n",
      "Dozens baked = 120, mean profit = 126.2\n",
      "Dozens baked = 140, mean profit = 86.2\n",
      "Dozens baked = 160, mean profit = 46.2\n",
      "Dozens baked = 180, mean profit = 6.2\n",
      "Dozens baked = 200, mean profit = -33.8\n"
     ]
    }
   ],
   "source": [
    "# Number of replications\n",
    "n = 50\n",
    "\n",
    "# Run n replications for different initial inventory of cronuts\n",
    "for P.nCronuts in [0, 20, 40, 60, 80, 100, 120, 140, 160, 180, 200]:\n",
    "    profitObs = [model(inputSeed = 123*i) for i in range(n)]\n",
    "    profitSM = mean(profitObs)\n",
    "    print(\"Dozens baked = {0}, mean profit = {1}\".format(P.nCronuts, profitSM))"
   ]
  },
  {
   "cell_type": "markdown",
   "metadata": {},
   "source": [
    "Based on these simulations, the Simplex Bakery should bake 40 dozen cronuts per day."
   ]
  }
 ],
 "metadata": {
  "kernelspec": {
   "display_name": "Python 3",
   "language": "python",
   "name": "python3"
  },
  "language_info": {
   "codemirror_mode": {
    "name": "ipython",
    "version": 3
   },
   "file_extension": ".py",
   "mimetype": "text/x-python",
   "name": "python",
   "nbconvert_exporter": "python",
   "pygments_lexer": "ipython3",
   "version": "3.4.3"
  }
 },
 "nbformat": 4,
 "nbformat_minor": 0
}
