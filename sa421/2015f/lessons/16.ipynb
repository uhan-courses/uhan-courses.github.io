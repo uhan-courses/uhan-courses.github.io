{
 "cells": [
  {
   "cell_type": "markdown",
   "metadata": {},
   "source": [
    "# Lesson 16. SimPy &mdash; levels"
   ]
  },
  {
   "cell_type": "markdown",
   "metadata": {},
   "source": [
    "### SA421 Fall 2015"
   ]
  },
  {
   "cell_type": "markdown",
   "metadata": {},
   "source": [
    "* First, some setup code for the inverse transform method and SimPy."
   ]
  },
  {
   "cell_type": "code",
   "execution_count": null,
   "metadata": {
    "collapsed": true
   },
   "outputs": [],
   "source": [
    "##### Setup for inverse transform method #####\n",
    "# Import infinity from NumPy\n",
    "from numpy import inf\n",
    "\n",
    "# Import random number generator from NumPy\n",
    "from numpy.random import rand\n",
    "\n",
    "# Import bisect_right from bisect\n",
    "from bisect import bisect_left"
   ]
  },
  {
   "cell_type": "code",
   "execution_count": null,
   "metadata": {
    "collapsed": true
   },
   "outputs": [],
   "source": [
    "##### Setup for SimPy #####\n",
    "# Import seed initializer from NumPy\n",
    "from numpy.random import seed\n",
    "\n",
    "# Import all simulation functions from SimPy\n",
    "from SimPy.Simulation import *"
   ]
  },
  {
   "cell_type": "markdown",
   "metadata": {},
   "source": [
    "## Using SimPy to track inventory"
   ]
  },
  {
   "cell_type": "markdown",
   "metadata": {},
   "source": [
    "**Problem.** The Simplex Bakery is trying to determine how many dozens of [cronuts](http://en.wikipedia.org/wiki/Cronut) to bake each day. \n",
    "The probability distribution of the number of cronut customers is as follows:\n",
    "\n",
    "| Number of customers per day | 5    | 10   | 15   | 20   |\n",
    "| --------------------------- | ---- | ---- | ---- | ---- |\n",
    "| Probability                 | 0.15 | 0.40 | 0.35 | 0.10 |\n",
    "\n",
    "Customers order 1, 2, 3 or 4 cronuts according to the following probability distribution:\n",
    "\n",
    "| Number of dozen ordered per customer | 1   | 2   | 3   | 4   |\n",
    "| ------------------------------------ | --- | --- | --- | --- |\n",
    "| Probability                          | 0.3 | 0.4 | 0.2 | 0.1 |\n",
    "\n",
    "Cronuts sell for \\$3.50 per dozen. \n",
    "They cost \\$2.00 per dozen to make. \n",
    "All cronuts not sold at the end of the day are sold at half price to a local stale baked good distributor.\n",
    "\n",
    "Due to mixing size constraints, cronuts must be made in batches of 10 dozen.\n",
    "Currently, the bakery bakes 20 dozen.\n",
    "\n",
    "* Based on a 1-day simulation, what is the bakery's profit? How many customers are left unsatisfied (didn't get the number of cronuts wanted)?\n",
    "\n",
    "\n",
    "* Based on a 1-day simulation, how many dozen should the bakery bake to maximize its profit?"
   ]
  },
  {
   "cell_type": "markdown",
   "metadata": {},
   "source": [
    "* Let's start by creating functions that sample from the given probability distributions:\n",
    "\n",
    "    - `D.customersPerDay` samples from the probability distribution on the number of customers per day.\n",
    "\n",
    "    - `D.cronutsPerCustomer` that samples from the probability distribution on the number of cronuts each customer orders."
   ]
  },
  {
   "cell_type": "code",
   "execution_count": null,
   "metadata": {
    "collapsed": false
   },
   "outputs": [],
   "source": [
    "##### Distributions #####\n",
    "class D:\n",
    "    # Number of customers per day\n",
    "    def customersPerDay():\n",
    "        # Sorted list of possible values and -inf\n",
    "        a = [-inf, 5, 10, 15, 20]\n",
    "\n",
    "        # cdf at each possible value\n",
    "        cdf = [0, 0.15, 0.55, 0.90, 1]\n",
    "\n",
    "        # Generate variate\n",
    "        u = rand()\n",
    "        i = bisect_left(cdf, u)\n",
    "        variate = a[i]\n",
    "\n",
    "        # Return generated variate\n",
    "        return variate\n",
    "    \n",
    "    # Number of cronuts per customer\n",
    "    def cronutsPerCustomer():\n",
    "        # Sorted list of possible values and -inf\n",
    "        a = [-inf, 1, 2, 3, 4]\n",
    "\n",
    "        # cdf at each possible value\n",
    "        cdf = [0, 0.30, 0.70, 0.90, 1]\n",
    "\n",
    "        # Generate variate\n",
    "        u = rand()\n",
    "        i = bisect_left(cdf, u)\n",
    "        variate = a[i]\n",
    "\n",
    "        # Return generated variate\n",
    "        return variate"
   ]
  },
  {
   "cell_type": "markdown",
   "metadata": {},
   "source": [
    "* Let's also define input parameters for our simulation."
   ]
  },
  {
   "cell_type": "code",
   "execution_count": null,
   "metadata": {
    "collapsed": false
   },
   "outputs": [],
   "source": [
    "##### Parameters #####\n",
    "class P:\n",
    "    # Revenue per dozen cronuts\n",
    "    revenue = 3.5\n",
    "    \n",
    "    # Cost per dozen cronuts\n",
    "    cost = 2.0\n",
    "    \n",
    "    # Number of dozen cronuts baked\n",
    "    nCronuts = 20"
   ]
  },
  {
   "cell_type": "markdown",
   "metadata": {},
   "source": [
    "## Levels"
   ]
  },
  {
   "cell_type": "markdown",
   "metadata": {},
   "source": [
    "* We need a way to model the number of cronuts available at any given time.\n",
    "\n",
    "\n",
    "* A **level** in SimPy represents inventory of a homogeneous, undifferentiated \"material\".\n",
    "    - Levels can represent physical, discrete items, like cronuts.\n",
    "    - Levels can also represent items of a continuous nature, like gasoline.\n",
    "    - In addition, levels can represent more abstract items, such as packets in a computer network.\n",
    "\n",
    "\n",
    "* Like with resources, we will put all levels in a common class called `L` for consistent naming purposes. \n",
    "\n",
    "\n",
    "* Also like with resources, we will create the SimPy level object later in the `model()` function that runs the simulation."
   ]
  },
  {
   "cell_type": "code",
   "execution_count": null,
   "metadata": {
    "collapsed": false
   },
   "outputs": [],
   "source": [
    "##### Create dummy variable for cronut level #####\n",
    "class L:\n"
   ]
  },
  {
   "cell_type": "markdown",
   "metadata": {},
   "source": [
    "* Next, like with our other SimPy simulations, we need to define processes for our simulation model.\n",
    "\n",
    "\n",
    "* Let's start by defining a `Customer` process that simulates the behavior of a customer.\n",
    "\n",
    "\n",
    "* To get `q` units of material from a level, say `L.cronuts`, we use:\n",
    "```\n",
    "yield get, self, L.cronuts, q\n",
    "```\n",
    "\n",
    "* To add `q` units of material to a level, again, say `L.cronuts`, we use:\n",
    "```\n",
    "yield put, self, L.cronuts, q\n",
    "```\n",
    "\n",
    "* `L.cronuts.amount` gives the current amount held in the level `L.cronuts`."
   ]
  },
  {
   "cell_type": "code",
   "execution_count": null,
   "metadata": {
    "collapsed": false
   },
   "outputs": [],
   "source": [
    "##### Create Customer process #####\n",
    "class Customer(Process):\n",
    "    def behavior(self):\n",
    "        # How many cronuts are available?\n",
    "\n",
    "        \n",
    "        # Customer arrives\n",
    "\n",
    "        \n",
    "        # Customer determines how many cronuts she wants\n",
    "\n",
    "        \n",
    "        # Are there enough cronuts for this customer?\n"
   ]
  },
  {
   "cell_type": "markdown",
   "metadata": {},
   "source": [
    "* Let's also define an `Entrance` process that models the arrival of customers to the bakery."
   ]
  },
  {
   "cell_type": "code",
   "execution_count": null,
   "metadata": {
    "collapsed": false
   },
   "outputs": [],
   "source": [
    "# Entrance\n",
    "class Entrance(Process):\n",
    "    def behavior(self):\n",
    "        # Determine how many customers will arrive at the bakery today\n",
    "        nCustomersTotal = D.customersPerDay()\n",
    "        \n",
    "        # Generate customers\n",
    "        nCustomersArrived = 0\n",
    "        while nCustomersArrived < nCustomersTotal:\n",
    "            # Create customer using the template defined in the Customer class\n",
    "            c = Customer(name = \"Customer {0}\".format(nCustomersArrived))\n",
    "            \n",
    "            # Activate the customer's behavior\n",
    "            activate(c, c.behavior())\n",
    "            \n",
    "            # Count this new customer\n",
    "            nCustomersArrived += 1\n",
    "            \n",
    "            # Dummy yield hold statement\n",
    "            yield hold, self, 0"
   ]
  },
  {
   "cell_type": "markdown",
   "metadata": {},
   "source": [
    "* Note that processes in SimPy need at least 1 `yield` statement of some kind; hence the dummy `yield hold` statement above."
   ]
  },
  {
   "cell_type": "markdown",
   "metadata": {},
   "source": [
    "* Finally, let's create the `model()` function we customarily use to initialize SimPy, create any resources, levels, and monitors, and run the simulation.\n",
    "\n",
    "\n",
    "* Let's have the `model()` function take as input the seed we want to use to initialize the random number generator.\n",
    "\n",
    "\n",
    "* In addition, <span style=\"color:#d00000\">let's have the `model()` function output, or return, the resulting profit of the day.</span>"
   ]
  },
  {
   "cell_type": "code",
   "execution_count": null,
   "metadata": {
    "collapsed": false
   },
   "outputs": [],
   "source": [
    "def model(inputSeed):\n",
    "    # Initialize SimPy\n",
    "    initialize()\n",
    "    \n",
    "    # Initialize a seed for the random number generator\n",
    "    seed(inputSeed)\n",
    "\n",
    "    # Create level for cronuts\n",
    "\n",
    "    \n",
    "    # Activate the entrance\n",
    "    e = Entrance()\n",
    "    activate(e, e.behavior())\n",
    "    \n",
    "    # Run the simulation\n",
    "    simulate(until = inf)\n",
    "\n",
    "    # Compute profit\n",
    "\n",
    "    \n",
    "    # Return performance measure\n",
    "    return profit"
   ]
  },
  {
   "cell_type": "markdown",
   "metadata": {},
   "source": [
    "* A level is created by setting the level's variable name to a call of the `Level()` function.\n",
    "    - `initialBuffered` is the initial quantity of material in the level when it is created.\n",
    "    \n",
    "\n",
    "* Note that we don't have a predetermined time limit. On the other hand, by design, we have a finite number of customers based on `D.customersPerDay()`. \n",
    "\n",
    "\n",
    "* By using `until = inf` when calling `simulate()`, SimPy will instead terminate the simulation when there are no more customers to process.\n",
    "\n",
    "\n",
    "* Let's run the model and see what happens."
   ]
  },
  {
   "cell_type": "code",
   "execution_count": null,
   "metadata": {
    "collapsed": false
   },
   "outputs": [],
   "source": [
    "# Run the model once\n",
    "model(123)"
   ]
  },
  {
   "cell_type": "markdown",
   "metadata": {},
   "source": [
    "* Note that you can integrate levels with resources in a SimPy model to model complex situations where queueing and inventory interact."
   ]
  },
  {
   "cell_type": "markdown",
   "metadata": {},
   "source": [
    "## With a neighbor..."
   ]
  },
  {
   "cell_type": "markdown",
   "metadata": {},
   "source": [
    "* Implement a monitor called `M.satisfied` that records for each customer:\n",
    "    - 1 if the customer receives his/her entire order\n",
    "    - 0 otherwise.\n",
    "    \n",
    "    \n",
    "* Use this monitor to compute the fraction of customers that are left unsatisfied."
   ]
  },
  {
   "cell_type": "markdown",
   "metadata": {},
   "source": [
    "* First, establish a class `M` to hold our monitors and define a dummy variable for `M.satisfied`."
   ]
  },
  {
   "cell_type": "code",
   "execution_count": null,
   "metadata": {
    "collapsed": true
   },
   "outputs": [],
   "source": [
    "##### Declare dummy variables for new monitors #####\n",
    "class M:\n",
    "  "
   ]
  },
  {
   "cell_type": "markdown",
   "metadata": {},
   "source": [
    "* Redefine `model()` to activate the monitor."
   ]
  },
  {
   "cell_type": "code",
   "execution_count": null,
   "metadata": {
    "collapsed": false
   },
   "outputs": [],
   "source": [
    "##### Activate new monitors #####\n"
   ]
  },
  {
   "cell_type": "markdown",
   "metadata": {},
   "source": [
    "* Modify the customer behavior so that the monitor observes the appropriate values."
   ]
  },
  {
   "cell_type": "code",
   "execution_count": null,
   "metadata": {
    "collapsed": false
   },
   "outputs": [],
   "source": [
    "##### Change Customer process to record satisfaction (0 or 1) using newly activated monitors #####\n"
   ]
  },
  {
   "cell_type": "markdown",
   "metadata": {},
   "source": [
    "* Run the model and compute the desired performance measure."
   ]
  },
  {
   "cell_type": "code",
   "execution_count": null,
   "metadata": {
    "collapsed": false,
    "scrolled": false
   },
   "outputs": [],
   "source": [
    "# Run the model once\n",
    "model(123)"
   ]
  },
  {
   "cell_type": "code",
   "execution_count": null,
   "metadata": {
    "collapsed": false
   },
   "outputs": [],
   "source": [
    "##### Compute fraction of customers that are unsatisfied #####\n",
    "print(\"Fraction of customers unsatisfied = {0}\".format(1 - M.satisfied.mean()))"
   ]
  },
  {
   "cell_type": "markdown",
   "metadata": {},
   "source": [
    "## Optimizing cronut production"
   ]
  },
  {
   "cell_type": "markdown",
   "metadata": {},
   "source": [
    "* Finally, let's determine the number of cronuts the Simplex Bakery needs to produce to maximize its profits.\n",
    "\n",
    "\n",
    "* Before we begin, let's modify the `Customer` process so that it does not print all the details."
   ]
  },
  {
   "cell_type": "code",
   "execution_count": null,
   "metadata": {
    "collapsed": false
   },
   "outputs": [],
   "source": [
    "# Customer\n",
    "class Customer(Process):\n",
    "    def behavior(self):\n",
    "        # Customer arrives\n",
    "        # Customer determines how many cronuts she wants\n",
    "        cronutsWanted = D.cronutsPerCustomer()\n",
    "   \n",
    "        # Are there enough cronuts for this customer?\n",
    "        if cronutsWanted > L.cronuts.amount:\n",
    "            yield get, self, L.cronuts, L.cronuts.amount\n",
    "        else:\n",
    "            yield get, self, L.cronuts, cronutsWanted"
   ]
  },
  {
   "cell_type": "markdown",
   "metadata": {},
   "source": [
    "* Now, let's run the model for differing numbers of cronuts baked."
   ]
  },
  {
   "cell_type": "code",
   "execution_count": null,
   "metadata": {
    "collapsed": false
   },
   "outputs": [],
   "source": []
  },
  {
   "cell_type": "markdown",
   "metadata": {},
   "source": [
    "* Based on one replication, what is the optimal number of cronuts?"
   ]
  },
  {
   "cell_type": "markdown",
   "metadata": {},
   "source": [
    "*Write your notes here. Double-click to edit.*"
   ]
  }
 ],
 "metadata": {
  "kernelspec": {
   "display_name": "Python 3",
   "language": "python",
   "name": "python3"
  },
  "language_info": {
   "codemirror_mode": {
    "name": "ipython",
    "version": 3
   },
   "file_extension": ".py",
   "mimetype": "text/x-python",
   "name": "python",
   "nbconvert_exporter": "python",
   "pygments_lexer": "ipython3",
   "version": "3.4.3"
  }
 },
 "nbformat": 4,
 "nbformat_minor": 0
}
