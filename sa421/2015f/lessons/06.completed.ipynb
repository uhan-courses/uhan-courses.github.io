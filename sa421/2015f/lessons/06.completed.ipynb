{
 "cells": [
  {
   "cell_type": "markdown",
   "metadata": {},
   "source": [
    "# Lesson 6. Replicating simulations"
   ]
  },
  {
   "cell_type": "markdown",
   "metadata": {},
   "source": [
    "### SA421 Fall 2015"
   ]
  },
  {
   "cell_type": "markdown",
   "metadata": {},
   "source": [
    "* As usual, we begin with some setup code. \n",
    "\n",
    "\n",
    "* Note that we are now importing:\n",
    "    - the `mean`, `std` and `sqrt` functions from `numpy` and\n",
    "    - the `t` random variable object from `scipy.stats`."
   ]
  },
  {
   "cell_type": "code",
   "execution_count": 1,
   "metadata": {
    "collapsed": false
   },
   "outputs": [],
   "source": [
    "##### Setup #####\n",
    "# Import everything from SimPy\n",
    "from SimPy.Simulation import *\n",
    "\n",
    "# Import mean, std, sqrt functions from NumPy\n",
    "from numpy import mean, std, sqrt\n",
    "\n",
    "# Import seed initializer and random sampling functions from NumPy\n",
    "from numpy.random import seed, uniform, exponential\n",
    "\n",
    "# Import t random variable from scipy.stats\n",
    "from scipy.stats import t"
   ]
  },
  {
   "cell_type": "markdown",
   "metadata": {},
   "source": [
    "* Here's the SimPy simulation code for the original Fantastic Dan problem, with a monitor for the customer delay (i.e. time in queue).\n",
    "\n",
    "\n",
    "* The `print` statements have been omitted, since we will be running the simulation many times."
   ]
  },
  {
   "cell_type": "code",
   "execution_count": 2,
   "metadata": {
    "code_folding": [],
    "collapsed": false
   },
   "outputs": [],
   "source": [
    "##### Parameters #####\n",
    "class P:\n",
    "    # Customers arrive at the entrance with exponentially distributed\n",
    "    # interarrival times with mean 20\n",
    "    interarrivalTimeMean = 20\n",
    "    \n",
    "    # Service times are uniformly distributed between 15 and 25\n",
    "    serviceTimeMin = 15\n",
    "    serviceTimeMax = 25\n",
    "    \n",
    "    # One server: Fantastic Dan works by himself\n",
    "    nServers = 1\n",
    "    \n",
    "    # Shop is open for 6 continuous hours\n",
    "    simulationTimeMax =  6 * 60\n",
    "    \n",
    "\n",
    "##### Processes #####\n",
    "# Customer\n",
    "class Customer(Process):\n",
    "    def behavior(self):\n",
    "        # Customer arrives, joins queue\n",
    "        # Record customer arrival time\n",
    "        arrivalTime = now()\n",
    "        yield request, self, R.server\n",
    "        \n",
    "        # Customer is released from queue and starts service\n",
    "        # Observe customer delay using monitor\n",
    "        M.delay.observe(now() - arrivalTime)\n",
    "        serviceTime = uniform(low = P.serviceTimeMin, high = P.serviceTimeMax)\n",
    "        yield hold, self, serviceTime\n",
    "        \n",
    "        # Customer finishes service, leaves\n",
    "        yield release, self, R.server\n",
    "\n",
    "# Entrance\n",
    "class Entrance(Process):\n",
    "    def behavior(self):\n",
    "        # At the start of the simulation, no customers have arrived\n",
    "        nCustomers = 0\n",
    "        \n",
    "        # Customer arrivals\n",
    "        while True:\n",
    "            # Wait until the next arrival\n",
    "            interarrivalTime = exponential(scale = P.interarrivalTimeMean)\n",
    "            yield hold, self, interarrivalTime\n",
    "            \n",
    "            # Create a new customer using the template defined in the Customer class\n",
    "            c = Customer(name=\"Customer {0}\".format(nCustomers))\n",
    "            \n",
    "            # Activate the customer's behavior\n",
    "            activate(c, c.behavior())\n",
    "\n",
    "            # Count this new customer\n",
    "            nCustomers += 1\n",
    "\n",
    "            \n",
    "##### Resources #####\n",
    "class R:\n",
    "    # Server\n",
    "    server = None\n",
    "    \n",
    "    \n",
    "##### Monitors #####\n",
    "class M:\n",
    "    # Delay\n",
    "    delay = None\n",
    "\n",
    "\n",
    "##### Model #####\n",
    "def model():\n",
    "    # Initialize SimPy \n",
    "    initialize()\n",
    "\n",
    "    # Initialize a seed for the random number generator\n",
    "    seed(123)\n",
    "\n",
    "    # Create the server resource\n",
    "    R.server = Resource(capacity = P.nServers)\n",
    "    \n",
    "    # Create the monitor for customer delay\n",
    "    M.delay = Monitor()\n",
    "\n",
    "    # Activate the entrance (to generate customers)\n",
    "    e = Entrance()\n",
    "    activate(e, e.behavior())\n",
    "    \n",
    "    # Run the simulation\n",
    "    simulate(until = P.simulationTimeMax)"
   ]
  },
  {
   "cell_type": "markdown",
   "metadata": {},
   "source": [
    "* Instead of running the simulation just once, let's run it 50 times.\n",
    "\n",
    "\n",
    "* This way, we can get a better idea of what's going on at Fantastic Dan's shop when we sample other values for the interarrival and service times. \n",
    "\n",
    "\n",
    "* Note that the simulation output is always the same for a given seed! To get different outputs, we need to use different seeds.\n",
    "\n",
    "\n",
    "* We also need to be able to record the output from the different simulation replications.\n",
    "\n",
    "\n",
    "* To do this, let's modify the `model()` function to take a seed as input, and output the average delay. "
   ]
  },
  {
   "cell_type": "code",
   "execution_count": 3,
   "metadata": {
    "collapsed": false
   },
   "outputs": [],
   "source": [
    "##### Model #####\n",
    "def model(inputSeed):\n",
    "    # Initialize SimPy \n",
    "    initialize()\n",
    "\n",
    "    # Initialize a seed for the random number generator\n",
    "    seed(inputSeed)\n",
    "\n",
    "    # Create the server resource\n",
    "    R.server = Resource(capacity = P.nServers)\n",
    "    \n",
    "    # Create the monitor for customer delay\n",
    "    M.delay = Monitor()\n",
    "\n",
    "    # Activate the entrance (to generate customers)\n",
    "    e = Entrance()\n",
    "    activate(e, e.behavior())\n",
    "    \n",
    "    # Run the simulation\n",
    "    simulate(until = P.simulationTimeMax)\n",
    "\n",
    "    # Compute performance measure: average delay\n",
    "    avgDelay = M.delay.mean()\n",
    "    \n",
    "    # Return performance measure\n",
    "    return avgDelay"
   ]
  },
  {
   "cell_type": "markdown",
   "metadata": {},
   "source": [
    "* Now we're ready to replicate the simulation 50 times.\n",
    "\n",
    "\n",
    "* As seeds, let's just use multiples of 123 (i.e. 0, 123, 246, 369, ...)"
   ]
  },
  {
   "cell_type": "code",
   "execution_count": 4,
   "metadata": {
    "collapsed": false
   },
   "outputs": [
    {
     "name": "stdout",
     "output_type": "stream",
     "text": [
      "Observed average delay from all replications = [3.6789183539185712, 35.261587818047126, 16.87216575017206, 39.60902545745712, 46.17568216201532, 9.933433342891021, 8.466797143568746, 45.86623774393007, 63.21204718783098, 36.92265688539873, 20.41607502364714, 58.54995123685904, 13.795485558314104, 5.428505224453253, 20.039887068372174, 9.503698863331275, 52.23978364090359, 30.46999467869552, 16.920071942447787, 42.84188572294847, 12.063269371855252, 25.19124205356353, 9.142984722053724, 44.378396120184775, 55.58713779652265, 6.0413235018044364, 13.99359505440943, 42.01433775629554, 6.082691276264449, 50.82460696458097, 34.20221342593574, 65.53890582155756, 21.83662173569419, 27.193495296775104, 20.03374638100023, 31.59505860816319, 10.644622172958808, 23.098694529918898, 27.118307660150265, 30.140525229145407, 15.392623548149215, 39.06769687166434, 46.734325352516905, 40.35774803390669, 24.239986640788867, 53.00366333832998, 18.002896041837214, 9.409819885837821, 26.321378391252914, 24.387082149766513]\n"
     ]
    }
   ],
   "source": [
    "##### Experiment #####\n",
    "# Number of replications\n",
    "n = 50\n",
    "\n",
    "# Perform replications, and put average delay from each replication in one list\n",
    "avgDelayObs = [model(inputSeed = 123*i) for i in range(n)]\n",
    "\n",
    "# Print the list for examination\n",
    "print(\"Observed average delay from all replications = {0}\".format(avgDelayObs))"
   ]
  },
  {
   "cell_type": "markdown",
   "metadata": {},
   "source": [
    "* Now that we've gathered the average delay from 50 replications, we can compute the sample mean, sample standard deviation, and confidence intervals to estimate the true mean average delay.\n",
    "\n",
    "\n",
    "* `mean(x)` simply computes the arithmetic mean of the items in list `x`. [(documentation)](http://docs.scipy.org/doc/numpy/reference/generated/numpy.mean.html)\n",
    "\n",
    "\n",
    "* `std(x, ddof=k)` computes the standard deviation of the items in list `x`, with divisor $n - k$, where $n$ is the number of elements in `x`. [(documentation)](http://docs.scipy.org/doc/numpy/reference/generated/numpy.std.html)\n",
    "    - We will almost always use `ddof = 1`.\n",
    "\n",
    "\n",
    "* `t` is a random variable object from `scipy.stats` [(documentation)](http://docs.scipy.org/doc/scipy/reference/generated/scipy.stats.t.html)\n",
    "    - A random variable object comes with many methods, such as probability density functions, cumulative density functions, expected value, variance, etc.\n",
    "    - `t.ppf(q, df)` gives the value of the $(100 \\times q)$-th percentile for the $t$-distribution with $df$ degrees of freedom.   "
   ]
  },
  {
   "cell_type": "code",
   "execution_count": 5,
   "metadata": {
    "collapsed": false
   },
   "outputs": [
    {
     "name": "stdout",
     "output_type": "stream",
     "text": [
      "Average delay:\n",
      "  Sample mean: 28.596857730761734\n",
      "  Sample standard deviation: 16.847604839684355\n",
      "  95.0% confidence interval: [23.808821418978965, 33.3848940425445]\n"
     ]
    }
   ],
   "source": [
    "# Observed sample mean\n",
    "avgDelaySM = mean(avgDelayObs)\n",
    "\n",
    "# Observed sample standard deviation\n",
    "avgDelaySSD = std(avgDelayObs, ddof = 1)\n",
    "\n",
    "# Confidence level 0.05\n",
    "alpha = 0.05\n",
    "avgDelayCIL = avgDelaySM - t.ppf(1 - alpha/2, n - 1) * avgDelaySSD / sqrt(n)\n",
    "avgDelayCIR = avgDelaySM + t.ppf(1 - alpha/2, n - 1) * avgDelaySSD / sqrt(n)\n",
    "\n",
    "print(\"Average delay:\")\n",
    "print(\"  Sample mean: {0}\".format(avgDelaySM))\n",
    "print(\"  Sample standard deviation: {0}\".format(avgDelaySSD))\n",
    "print(\"  {0}% confidence interval: [{1}, {2}]\".format((1 - alpha)*100, avgDelayCIL, avgDelayCIR))"
   ]
  },
  {
   "cell_type": "markdown",
   "metadata": {},
   "source": [
    "## With a neighbor..."
   ]
  },
  {
   "cell_type": "markdown",
   "metadata": {},
   "source": [
    "Use 50 replications to obtain a point estimate (i.e. observed sample mean) and an interval estimate (i.e. confidence interval) of the time average number of customers in the queue for the Fantastic Dan problem. Give an interpretation of your confidence interval."
   ]
  },
  {
   "cell_type": "markdown",
   "metadata": {},
   "source": [
    "Let's start by modifying the `model()` function so that it\n",
    "\n",
    "* activates the built-in monitors for `R.server` (see `#1`)\n",
    "* computes and outputs the time average number of customers in the queue using `R.server.waitMon`\n",
    "\n",
    "All the other aspects of the model (i.e. parameters, processes, resources, etc.) can stay the same."
   ]
  },
  {
   "cell_type": "code",
   "execution_count": 6,
   "metadata": {
    "collapsed": false
   },
   "outputs": [],
   "source": [
    "##### Model #####\n",
    "def model(inputSeed):\n",
    "    # Initialize SimPy \n",
    "    initialize()\n",
    "\n",
    "    # Initialize a seed for the random number generator\n",
    "    seed(inputSeed)\n",
    "\n",
    "    # Create the server resource\n",
    "    R.server = Resource(capacity = P.nServers, monitored = True)    #1\n",
    "    \n",
    "    # Create the monitor for customer delay\n",
    "    M.delay = Monitor()\n",
    "\n",
    "    # Activate the entrance (to generate customers)\n",
    "    e = Entrance()\n",
    "    activate(e, e.behavior())\n",
    "    \n",
    "    # Run the simulation\n",
    "    simulate(until = P.simulationTimeMax)\n",
    "\n",
    "    # Compute performance measure: time average number of customers in the queue\n",
    "    tAvgCustQ = R.server.waitMon.timeAverage()\n",
    "    \n",
    "    # Return performance measure\n",
    "    return tAvgCustQ"
   ]
  },
  {
   "cell_type": "markdown",
   "metadata": {},
   "source": [
    "Now, let's perform 50 replications of the simulation and record the time average number of customers in the queue for each replication.\n",
    "\n",
    "Instead of using a list comprehension like above, we can build a list using the `.append()` method."
   ]
  },
  {
   "cell_type": "code",
   "execution_count": 7,
   "metadata": {
    "collapsed": false
   },
   "outputs": [
    {
     "name": "stdout",
     "output_type": "stream",
     "text": [
      "Observed time average number of customers in the queue from all replications = [0.14306904709683332, 2.068757607229012, 0.7030069062571691, 1.9908501697637524, 2.861249589035309, 0.3587073151599535, 0.3057454524066492, 2.446935944343226, 4.828090036161945, 1.9629602947946498, 0.8506697926519642, 3.7955031350364203, 0.4981703118280093, 0.3304961404756987, 0.8657313128359124, 0.36958828912954955, 3.2766523452901626, 1.5234997339347762, 0.7029414592759308, 2.4252226648745436, 0.50568260542766, 1.1533765967380325, 0.4571492361026862, 2.3919744650222032, 2.6458519004082226, 0.25172181257518483, 0.7573661927452396, 2.100716887814777, 0.27728654660518676, 3.461751298846052, 1.516339057639677, 4.109233620308379, 1.065098093069711, 1.359674764838755, 0.8577824266957933, 1.5765344849069876, 0.49908403315501065, 0.9193633873290052, 1.599549811291542, 1.8264394646045616, 0.6452322456094991, 2.524033228079168, 2.945311121673198, 2.1611071866090583, 1.0994418498076506, 3.3370146922090345, 0.9338296627524981, 0.5310447821189415, 1.7799906056118953, 0.9054763647375375]\n"
     ]
    }
   ],
   "source": [
    "##### Experiment #####\n",
    "# Number of replications\n",
    "n = 50\n",
    "\n",
    "# Perform replications, and put time average number of customers\n",
    "# from each replication in one list\n",
    "tAvgCustQObs = []\n",
    "for i in range(n):\n",
    "    tAvgCustQObs.append(model(inputSeed = 123*i))\n",
    "\n",
    "# Print the list for examination\n",
    "print(\"Observed time average number of customers in the queue from all replications = {0}\".format(tAvgCustQObs))"
   ]
  },
  {
   "cell_type": "markdown",
   "metadata": {},
   "source": [
    "With these observations in hand, we can compute point and interval estimates of the mean time average number of customers in the queue, using essentially the same code we wrote for average delay."
   ]
  },
  {
   "cell_type": "code",
   "execution_count": 8,
   "metadata": {
    "collapsed": false
   },
   "outputs": [
    {
     "name": "stdout",
     "output_type": "stream",
     "text": [
      "Time average number of customers in the queue:\n",
      "  Sample mean: 1.5700461194582926\n",
      "  Sample standard deviation: 1.1472859506589907\n",
      "  95.0% confidence interval: [1.2439910603549253, 1.89610117856166]\n"
     ]
    }
   ],
   "source": [
    "# Observed sample mean\n",
    "tAvgCustQSM = mean(tAvgCustQObs)\n",
    "\n",
    "# Observed sample standard deviation\n",
    "tAvgCustQSSD = std(tAvgCustQObs, ddof = 1)\n",
    "\n",
    "# Confidence level 0.05\n",
    "alpha = 0.05\n",
    "tAvgCustQCIL = tAvgCustQSM - t.ppf(1 - alpha/2, n - 1) * tAvgCustQSSD / sqrt(n)\n",
    "tAvgCustQCIR = tAvgCustQSM + t.ppf(1 - alpha/2, n - 1) * tAvgCustQSSD / sqrt(n)\n",
    "\n",
    "print(\"Time average number of customers in the queue:\")\n",
    "print(\"  Sample mean: {0}\".format(tAvgCustQSM))\n",
    "print(\"  Sample standard deviation: {0}\".format(tAvgCustQSSD))\n",
    "print(\"  {0}% confidence interval: [{1}, {2}]\".format((1 - alpha)*100, tAvgCustQCIL, tAvgCustQCIR))"
   ]
  },
  {
   "cell_type": "markdown",
   "metadata": {},
   "source": [
    "We are 95% <span style=\"color:#a00000;\">confident</span> that the true mean time average number of customers in the queue lies in the interval $[1.24, 1.90]$ (rounding the left endpoint down, rounding the right endpoint up): if we repeated this experiment many, many times, 95% of the resulting confidence intervals would contain the true mean time average number of customers in the queue."
   ]
  }
 ],
 "metadata": {
  "kernelspec": {
   "display_name": "Python 3",
   "language": "python",
   "name": "python3"
  },
  "language_info": {
   "codemirror_mode": {
    "name": "ipython",
    "version": 3
   },
   "file_extension": ".py",
   "mimetype": "text/x-python",
   "name": "python",
   "nbconvert_exporter": "python",
   "pygments_lexer": "ipython3",
   "version": "3.4.3"
  }
 },
 "nbformat": 4,
 "nbformat_minor": 0
}
