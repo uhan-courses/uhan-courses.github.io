{
 "cells": [
  {
   "cell_type": "markdown",
   "metadata": {},
   "source": [
    "# Lesson 3. Introduction to SimPy"
   ]
  },
  {
   "cell_type": "markdown",
   "metadata": {},
   "source": [
    "### SA421 Fall 2015"
   ]
  },
  {
   "cell_type": "markdown",
   "metadata": {},
   "source": [
    "## What is SimPy?"
   ]
  },
  {
   "cell_type": "markdown",
   "metadata": {},
   "source": [
    "* SimPy is a **process-based** discrete-event simulation language based on Python.\n",
    "\n",
    "\n",
    "* An **event-based simulation** models the operation of a system by describing what happens to the system as it encounters entities.\n",
    "    - e.g. how does the number of customers in the queue change when a customer arrives?\n",
    "\n",
    "\n",
    "* A **process-based simulation** models the operation of a system by describing what happens to each entity as it encounters the system.\n",
    "    - e.g. when a customer arrives, where does she go?\n",
    "\n",
    "\n",
    "* Each has its advantages and disadvantages, for example:\n",
    "    - The event-based view is very flexible and appealing from a mathematical perspective.\n",
    "    - The process-based view is usually easier to use and manage for typical simulation scenarios.\n",
    "\n",
    "\n",
    "* <span style=\"color:#a00000;\">**Note: we will be using SimPy 2.3 in this course, not SimPy 3.0!**</span>"
   ]
  },
  {
   "cell_type": "markdown",
   "metadata": {},
   "source": [
    "## The Fantastic Dan Problem in SimPy"
   ]
  },
  {
   "cell_type": "markdown",
   "metadata": {},
   "source": [
    "**Problem.** Customers visit the neighborhood hair stylist Fantastic Dan for haircuts. The customer interarrival time is exponentially distributed with mean 20 minutes. Each haircut takes Fantastic Dan anywhere from 15 to 25 minutes, uniformly distributed. This time also includes the initial greetings and the transaction of money at the end of the haircut.\n",
    "\n",
    "1. Simulate 1 day of Dan’s operations. Assume Dan works continuously for 6 hours a day.\n",
    "2. How many customers enter Dan's shop per day?\n",
    "3. How many customers does Dan serve per day?\n",
    "4. What is the average number of customers waiting to get a haircut? What is the maximum? \n",
    "5. What is the average time spent by a customer in the queue? What is the maximum?"
   ]
  },
  {
   "cell_type": "markdown",
   "metadata": {},
   "source": [
    "### Some preliminary steps"
   ]
  },
  {
   "cell_type": "markdown",
   "metadata": {},
   "source": [
    "* There are <span style=\"color:#a00000;\">a lot</span> of **libraries** (i.e. **packages**) you can use with Python\n",
    "    * For examples, take a look at the [Python Package Index (PyPI)](https://pypi.python.org/pypi)\n",
    "\n",
    "\n",
    "* Most libraries aren't available by default.\n",
    "\n",
    "\n",
    "* To access functions in these libraries, we need to use `from` and `import`.\n",
    "\n",
    "\n",
    "* These preliminary statements will often be at the top of our notebooks.\n",
    "\n",
    "\n",
    "* `SimPy.Simulation` is the SimPy library. For the sake of simplicity, we'll just import everything (`*`) from it. \n",
    "\n",
    "\n",
    "* `numpy.random` is a NumPy library for random sampling. Check out the documentation [here](http://docs.scipy.org/doc/numpy/reference/routines.random.html). "
   ]
  },
  {
   "cell_type": "code",
   "execution_count": 1,
   "metadata": {
    "collapsed": false
   },
   "outputs": [],
   "source": [
    "##### Setup #####\n",
    "# Import everything from SimPy\n",
    "from SimPy.Simulation import *\n",
    "\n",
    "# Import seed initializer and random sampling functions from NumPy\n",
    "from numpy.random import seed, uniform, exponential"
   ]
  },
  {
   "cell_type": "markdown",
   "metadata": {},
   "source": [
    "* A basic SimPy **model** consists of:\n",
    "    - Parameters\n",
    "    - Processes\n",
    "    - Resources\n",
    "\n",
    "\n",
    "* Once we have the model in hand, we can run **experiments** with the model to answer the questions above."
   ]
  },
  {
   "cell_type": "markdown",
   "metadata": {},
   "source": [
    "### Parameters"
   ]
  },
  {
   "cell_type": "markdown",
   "metadata": {},
   "source": [
    "* As good practice, we create **parameters** for values in our model that we might want to change later on. \n",
    "\n",
    "\n",
    "* For the Fantastic Dan problem, we can create parameters for\n",
    "    * the mean interarrival time\n",
    "    * the minimum service time\n",
    "    * the maximum service time\n",
    "    * the number of servers (barbers)"
   ]
  },
  {
   "cell_type": "code",
   "execution_count": 2,
   "metadata": {
    "collapsed": false
   },
   "outputs": [],
   "source": [
    "##### Parameters #####\n",
    "class P:\n",
    "    # Customers arrive at the entrance with exponentially distributed\n",
    "    # interarrival times with mean 20\n",
    "    interarrivalTimeMean = 20\n",
    "    \n",
    "    # Service times are uniformly distributed between 15 and 25\n",
    "    serviceTimeMin = 15\n",
    "    serviceTimeMax = 25\n",
    "    \n",
    "    # One server: Fantastic Dan works by himself\n",
    "    nServers = 1\n",
    "    \n",
    "    # Shop is open for 6 continuous hours\n",
    "    simulationTimeMax =  6 * 60"
   ]
  },
  {
   "cell_type": "markdown",
   "metadata": {},
   "source": [
    "* By putting all the parameters in one class `P`, we can access the parameters with a common syntax: for example, `P.interarrivalTimeMean`, `P.serviceTimeMax` and so on."
   ]
  },
  {
   "cell_type": "markdown",
   "metadata": {},
   "source": [
    "### Processes"
   ]
  },
  {
   "cell_type": "markdown",
   "metadata": {},
   "source": [
    "* A **process** is an active component of a simulation model.\n",
    "    - e.g. a customer that moves between the queue and the server in the shop.\n",
    "    - A process is sometimes referred to as an **entity**.\n",
    "\n",
    "\n",
    "* To define a process, we need to describe its behavior.\n",
    "    - e.g. what does a customer do when she enters the shop?"
   ]
  },
  {
   "cell_type": "markdown",
   "metadata": {},
   "source": [
    "#### The customer process"
   ]
  },
  {
   "cell_type": "markdown",
   "metadata": {},
   "source": [
    "* Let's start by defining a process that defines a customer's behavior in this system.\n",
    "\n",
    "\n",
    "* A customer's behavior:\n",
    "    * Customer arrives from entrance and joins queue.\n",
    "    * Customer is released from queue and starts haircut.\n",
    "    * Customer finishes haircut, and leaves."
   ]
  },
  {
   "cell_type": "code",
   "execution_count": 3,
   "metadata": {
    "collapsed": false
   },
   "outputs": [],
   "source": [
    "##### Processes #####\n",
    "# Customer\n",
    "class Customer(Process):\n",
    "    def behavior(self):\n",
    "        # Customer arrives, joins queue\n",
    "        print(\"Time {1}: {0} arrives and joins queue\".format(self.name, now()))\n",
    "        yield request, self, R.server\n",
    "        \n",
    "        # Customer is released from queue and starts service\n",
    "        print(\"Time {1}: {0} begins service\".format(self.name, now()))\n",
    "        serviceTime = uniform(low = P.serviceTimeMin, high = P.serviceTimeMax)\n",
    "        yield hold, self, serviceTime\n",
    "        \n",
    "        # Customer finishes service, leaves\n",
    "        print(\"Time {1}: {0} ends service and leaves\".format(self.name, now()))\n",
    "        yield release, self, R.server"
   ]
  },
  {
   "cell_type": "markdown",
   "metadata": {},
   "source": [
    "* `now()` gives the current time in the simulation.\n",
    "\n",
    "\n",
    "* `yield request` has the entity request a unit of a **resource**. \n",
    "    * More on this in a second.\n",
    "\n",
    "\n",
    "* `yield hold` has the entity pause for the specified amount of time.\n",
    "    * This is often used to simulate service time.\n",
    "\n",
    "\n",
    "* `uniform` is a random sampling function defined in the `numpy.random` module: \n",
    "    * `uniform(low, high)` generates a random sample from a uniform distribution on `[low, high]`\n",
    "\n",
    "\n",
    "* `self` refers to the generic entity we're defining.\n",
    "    * `self.name` refers to the name of the entity.\n",
    "    * We'll see how this name gets defined shortly."
   ]
  },
  {
   "cell_type": "markdown",
   "metadata": {},
   "source": [
    "#### The entrance process"
   ]
  },
  {
   "cell_type": "markdown",
   "metadata": {},
   "source": [
    "* We need to generate customers to enter the simulation model. \n",
    "\n",
    "\n",
    "* We can view the shop entrance as a process that generates customers."
   ]
  },
  {
   "cell_type": "code",
   "execution_count": 4,
   "metadata": {
    "collapsed": false
   },
   "outputs": [],
   "source": [
    "# Entrance\n",
    "class Entrance(Process):\n",
    "    def behavior(self):\n",
    "        # At the start of the simulation, no customers have arrived\n",
    "        nCustomers = 0\n",
    "        \n",
    "        # Customer arrivals\n",
    "        while True:\n",
    "            # Wait until the next arrival\n",
    "            interarrivalTime = exponential(scale = P.interarrivalTimeMean)\n",
    "            yield hold, self, interarrivalTime\n",
    "            \n",
    "            # Create a new customer using the template defined in the Customer class\n",
    "            c = Customer(name=\"Customer {0}\".format(nCustomers))\n",
    "            \n",
    "            # Activate the customer's behavior\n",
    "            activate(c, c.behavior())\n",
    "\n",
    "            # Count this new customer\n",
    "            nCustomers += 1"
   ]
  },
  {
   "cell_type": "markdown",
   "metadata": {},
   "source": [
    "* A process is passive when it is first created.\n",
    "\n",
    "\n",
    "* To activate a process's behavior, use `activate(entity, entity.behavior())`.\n",
    "\n",
    "\n",
    "* `exponential` is a random sampling function defined in the `numpy.random` module.\n",
    "    * `exponential(scale)` generates a random sample from an exponential distribution with mean `scale`.\n",
    "    * Check out the documentation [here](http://docs.scipy.org/doc/numpy/reference/generated/numpy.random.exponential.html#numpy.random.exponential)."
   ]
  },
  {
   "cell_type": "markdown",
   "metadata": {},
   "source": [
    "### Resources"
   ]
  },
  {
   "cell_type": "markdown",
   "metadata": {},
   "source": [
    "* A **resource** is something that processes an entity.\n",
    "\n",
    "\n",
    "* In SimPy, an entity requests a unit of a resource, holds it for some time, and then releases it.\n",
    "\n",
    "\n",
    "* A **queue** for the resource will form if the number of requests exceeds the number of resource units available.\n",
    "\n",
    "\n",
    "* This queue is automatically maintained by the resource in SimPy.\n",
    "\n",
    "\n",
    "* For now, we just create placeholders for all the resources we will need &ndash; in this case, a server (barber).\n",
    "\n",
    "\n",
    "* We will define the resource later."
   ]
  },
  {
   "cell_type": "code",
   "execution_count": 5,
   "metadata": {
    "collapsed": false
   },
   "outputs": [],
   "source": [
    "##### Resources #####\n",
    "class R:\n",
    "    # Server\n",
    "    server = None"
   ]
  },
  {
   "cell_type": "markdown",
   "metadata": {},
   "source": [
    "* As with the parameters, we put all the resources in 1 class, so that we can access them in a consistent way, e.g. `R.server`, etc. "
   ]
  },
  {
   "cell_type": "markdown",
   "metadata": {},
   "source": [
    "### Running the simulation model"
   ]
  },
  {
   "cell_type": "markdown",
   "metadata": {},
   "source": [
    "* With almost all of the simulation model components in place, we are ready to run the simulation model.\n",
    "\n",
    "\n",
    "* To do so, let's create a function that runs the model.\n",
    "\n",
    "\n",
    "* In particular, we need to \n",
    "    - initialize SimPy and the random number generator,\n",
    "    - define the server resource,\n",
    "    - activate the entrance process, and\n",
    "    - start the simulation."
   ]
  },
  {
   "cell_type": "code",
   "execution_count": 6,
   "metadata": {
    "collapsed": false
   },
   "outputs": [],
   "source": [
    "##### Model #####\n",
    "def model():\n",
    "    # Initialize SimPy \n",
    "    initialize()\n",
    "\n",
    "    # Initialize a seed for the random number generator (more on this later in the semester)\n",
    "    seed(123)\n",
    "\n",
    "    # Create the server resource\n",
    "    R.server = Resource(capacity = P.nServers)\n",
    "\n",
    "    # Activate the entrance (to generate customers)\n",
    "    e = Entrance()\n",
    "    activate(e, e.behavior())\n",
    "    \n",
    "    # Run the simulation\n",
    "    simulate(until = P.simulationTimeMax)"
   ]
  },
  {
   "cell_type": "markdown",
   "metadata": {},
   "source": [
    "* `Resource(capacity = n)` defines a resource that can process $n$ entities simultaneously.\n",
    "    - Note that resource definitions must occur *after* the `initialize()` statement."
   ]
  },
  {
   "cell_type": "markdown",
   "metadata": {},
   "source": [
    "Now, run the simulation model!"
   ]
  },
  {
   "cell_type": "code",
   "execution_count": 7,
   "metadata": {
    "collapsed": false
   },
   "outputs": [
    {
     "name": "stdout",
     "output_type": "stream",
     "text": [
      "Time 23.84544286962211: Customer 0 arrives and joins queue\n",
      "Time 23.84544286962211: Customer 0 begins service\n",
      "Time 30.58679252313273: Customer 1 arrives and joins queue\n",
      "Time 41.113957405264145: Customer 0 ends service and leaves\n",
      "Time 41.113957405264145: Customer 1 begins service\n",
      "Time 46.615466159426475: Customer 2 arrives and joins queue\n",
      "Time 57.617416875006015: Customer 3 arrives and joins queue\n",
      "Time 63.308647103119775: Customer 1 ends service and leaves\n",
      "Time 63.308647103119775: Customer 2 begins service\n",
      "Time 85.1569444889684: Customer 2 ends service and leaves\n",
      "Time 85.1569444889684: Customer 3 begins service\n",
      "Time 104.96626350381202: Customer 3 ends service and leaves\n",
      "Time 136.63705825130037: Customer 4 arrives and joins queue\n",
      "Time 136.63705825130037: Customer 4 begins service\n",
      "Time 146.5925322953354: Customer 5 arrives and joins queue\n",
      "Time 155.06883841280907: Customer 4 ends service and leaves\n",
      "Time 155.06883841280907: Customer 5 begins service\n",
      "Time 172.70893023548854: Customer 6 arrives and joins queue\n",
      "Time 173.93958622013648: Customer 7 arrives and joins queue\n",
      "Time 174.45456085960532: Customer 5 ends service and leaves\n",
      "Time 174.45456085960532: Customer 6 begins service\n",
      "Time 184.09101322440682: Customer 8 arrives and joins queue\n",
      "Time 188.12089843658043: Customer 9 arrives and joins queue\n",
      "Time 191.97929095327996: Customer 10 arrives and joins queue\n",
      "Time 196.83451491692568: Customer 6 ends service and leaves\n",
      "Time 196.83451491692568: Customer 7 begins service\n",
      "Time 207.1458677398556: Customer 11 arrives and joins queue\n",
      "Time 217.15279078789433: Customer 7 ends service and leaves\n",
      "Time 217.15279078789433: Customer 8 begins service\n",
      "Time 227.27022896512915: Customer 12 arrives and joins queue\n",
      "Time 240.64710872867224: Customer 8 ends service and leaves\n",
      "Time 240.64710872867224: Customer 9 begins service\n",
      "Time 253.05033903153384: Customer 13 arrives and joins queue\n",
      "Time 261.75734383544807: Customer 9 ends service and leaves\n",
      "Time 261.75734383544807: Customer 10 begins service\n",
      "Time 278.6849458281799: Customer 14 arrives and joins queue\n",
      "Time 279.98693297397983: Customer 10 ends service and leaves\n",
      "Time 279.98693297397983: Customer 11 begins service\n",
      "Time 287.6666616224202: Customer 15 arrives and joins queue\n",
      "Time 294.62136342340443: Customer 16 arrives and joins queue\n",
      "Time 297.2695652827694: Customer 11 ends service and leaves\n",
      "Time 297.2695652827694: Customer 12 begins service\n",
      "Time 313.19061468222014: Customer 12 ends service and leaves\n",
      "Time 313.19061468222014: Customer 13 begins service\n",
      "Time 314.55924206407445: Customer 17 arrives and joins queue\n",
      "Time 325.8319157582727: Customer 18 arrives and joins queue\n",
      "Time 332.5276264090154: Customer 13 ends service and leaves\n",
      "Time 332.5276264090154: Customer 14 begins service\n",
      "Time 339.4438450903997: Customer 19 arrives and joins queue\n",
      "Time 346.9307690444042: Customer 20 arrives and joins queue\n",
      "Time 351.7859293119737: Customer 14 ends service and leaves\n",
      "Time 351.7859293119737: Customer 15 begins service\n",
      "Time 358.0455311057541: Customer 21 arrives and joins queue\n"
     ]
    }
   ],
   "source": [
    "##### Experiment #####\n",
    "model()"
   ]
  },
  {
   "cell_type": "markdown",
   "metadata": {},
   "source": [
    "So far, based on our 1 simulation run, we can answer the following parts of the Fantastic Dan problem:\n",
    "\n",
    "* How many customers enter Dan's shop per day?\n",
    "\n",
    "* How many customers does Dan serve per day?"
   ]
  },
  {
   "cell_type": "markdown",
   "metadata": {},
   "source": [
    "22 customers enter the shop (Customers 0 to 21), and 15 get completely served (Customers 0 to 14). "
   ]
  },
  {
   "cell_type": "markdown",
   "metadata": {},
   "source": [
    "## SimPy resources"
   ]
  },
  {
   "cell_type": "markdown",
   "metadata": {},
   "source": [
    "* Links to the official SimPy documentation have been posted on the course webpage.\n",
    "    - The SimPy documentation has some nice tutorials.\n",
    "\n",
    "\n",
    "* In addition, links to the NumPy, SciPy, and Matplotlib documentation have been posted on the course webpage. We will use these packages often, for things like \n",
    "    * random sampling\n",
    "    * statistical testing\n",
    "    * graphs and plots"
   ]
  },
  {
   "cell_type": "markdown",
   "metadata": {},
   "source": [
    "## With a neighbor..."
   ]
  },
  {
   "cell_type": "markdown",
   "metadata": {},
   "source": [
    "Here is the entire Fantastic Dan simulation model in 1 cell, for your convenience."
   ]
  },
  {
   "cell_type": "code",
   "execution_count": 8,
   "metadata": {
    "collapsed": false
   },
   "outputs": [
    {
     "name": "stdout",
     "output_type": "stream",
     "text": [
      "Time 23.84544286962211: Customer 0 arrives and joins queue\n",
      "Time 23.84544286962211: Customer 0 begins service\n",
      "Time 30.58679252313273: Customer 1 arrives and joins queue\n",
      "Time 41.113957405264145: Customer 0 ends service and leaves\n",
      "Time 41.113957405264145: Customer 1 begins service\n",
      "Time 46.615466159426475: Customer 2 arrives and joins queue\n",
      "Time 57.617416875006015: Customer 3 arrives and joins queue\n",
      "Time 63.308647103119775: Customer 1 ends service and leaves\n",
      "Time 63.308647103119775: Customer 2 begins service\n",
      "Time 85.1569444889684: Customer 2 ends service and leaves\n",
      "Time 85.1569444889684: Customer 3 begins service\n",
      "Time 104.96626350381202: Customer 3 ends service and leaves\n",
      "Time 136.63705825130037: Customer 4 arrives and joins queue\n",
      "Time 136.63705825130037: Customer 4 begins service\n",
      "Time 146.5925322953354: Customer 5 arrives and joins queue\n",
      "Time 155.06883841280907: Customer 4 ends service and leaves\n",
      "Time 155.06883841280907: Customer 5 begins service\n",
      "Time 172.70893023548854: Customer 6 arrives and joins queue\n",
      "Time 173.93958622013648: Customer 7 arrives and joins queue\n",
      "Time 174.45456085960532: Customer 5 ends service and leaves\n",
      "Time 174.45456085960532: Customer 6 begins service\n",
      "Time 184.09101322440682: Customer 8 arrives and joins queue\n",
      "Time 188.12089843658043: Customer 9 arrives and joins queue\n",
      "Time 191.97929095327996: Customer 10 arrives and joins queue\n",
      "Time 196.83451491692568: Customer 6 ends service and leaves\n",
      "Time 196.83451491692568: Customer 7 begins service\n",
      "Time 207.1458677398556: Customer 11 arrives and joins queue\n",
      "Time 217.15279078789433: Customer 7 ends service and leaves\n",
      "Time 217.15279078789433: Customer 8 begins service\n",
      "Time 227.27022896512915: Customer 12 arrives and joins queue\n",
      "Time 240.64710872867224: Customer 8 ends service and leaves\n",
      "Time 240.64710872867224: Customer 9 begins service\n",
      "Time 253.05033903153384: Customer 13 arrives and joins queue\n",
      "Time 261.75734383544807: Customer 9 ends service and leaves\n",
      "Time 261.75734383544807: Customer 10 begins service\n",
      "Time 278.6849458281799: Customer 14 arrives and joins queue\n",
      "Time 279.98693297397983: Customer 10 ends service and leaves\n",
      "Time 279.98693297397983: Customer 11 begins service\n",
      "Time 287.6666616224202: Customer 15 arrives and joins queue\n",
      "Time 294.62136342340443: Customer 16 arrives and joins queue\n",
      "Time 297.2695652827694: Customer 11 ends service and leaves\n",
      "Time 297.2695652827694: Customer 12 begins service\n",
      "Time 313.19061468222014: Customer 12 ends service and leaves\n",
      "Time 313.19061468222014: Customer 13 begins service\n",
      "Time 314.55924206407445: Customer 17 arrives and joins queue\n",
      "Time 325.8319157582727: Customer 18 arrives and joins queue\n",
      "Time 332.5276264090154: Customer 13 ends service and leaves\n",
      "Time 332.5276264090154: Customer 14 begins service\n",
      "Time 339.4438450903997: Customer 19 arrives and joins queue\n",
      "Time 346.9307690444042: Customer 20 arrives and joins queue\n",
      "Time 351.7859293119737: Customer 14 ends service and leaves\n",
      "Time 351.7859293119737: Customer 15 begins service\n",
      "Time 358.0455311057541: Customer 21 arrives and joins queue\n"
     ]
    }
   ],
   "source": [
    "##### Setup #####\n",
    "# Import all simulation functions from SimPy\n",
    "from SimPy.Simulation import *\n",
    "\n",
    "# Import seed initializer and random sampling functions from NumPy\n",
    "from numpy.random import seed, uniform, exponential\n",
    "\n",
    "\n",
    "##### Parameters #####\n",
    "class P:\n",
    "    # Customers arrive at the entrance with exponentially distributed\n",
    "    # interarrival times with mean 20\n",
    "    interarrivalTimeMean = 20\n",
    "    \n",
    "    # Service times are uniformly distributed between 15 and 25\n",
    "    serviceTimeMin = 15\n",
    "    serviceTimeMax = 25\n",
    "    \n",
    "    # One server: Fantastic Dan works by himself\n",
    "    nServers = 1\n",
    "    \n",
    "    # Shop is open for 6 continuous hours\n",
    "    simulationTimeMax =  6 * 60\n",
    "    \n",
    "\n",
    "##### Processes #####\n",
    "# Customer\n",
    "class Customer(Process):\n",
    "    def behavior(self):\n",
    "        # Customer arrives, joins queue\n",
    "        print(\"Time {1}: {0} arrives and joins queue\".format(self.name, now()))\n",
    "        yield request, self, R.server\n",
    "        \n",
    "        # Customer is released from queue and starts service\n",
    "        print(\"Time {1}: {0} begins service\".format(self.name, now()))\n",
    "        serviceTime = uniform(low = P.serviceTimeMin, high = P.serviceTimeMax)\n",
    "        yield hold, self, serviceTime\n",
    "        \n",
    "        # Customer finishes service, leaves\n",
    "        print(\"Time {1}: {0} ends service and leaves\".format(self.name, now()))\n",
    "        yield release, self, R.server\n",
    "\n",
    "# Entrance\n",
    "class Entrance(Process):\n",
    "    def behavior(self):\n",
    "        # At the start of the simulation, no customers have arrived\n",
    "        nCustomers = 0\n",
    "        \n",
    "        # Customer arrivals\n",
    "        while True:\n",
    "            # Wait until the next arrival\n",
    "            interarrivalTime = exponential(scale = P.interarrivalTimeMean)\n",
    "            yield hold, self, interarrivalTime\n",
    "            \n",
    "            # Create a new customer using the template defined in the Customer class\n",
    "            c = Customer(name=\"Customer {0}\".format(nCustomers))\n",
    "            \n",
    "            # Activate the customer's behavior\n",
    "            activate(c, c.behavior())\n",
    "\n",
    "            # Count this new customer\n",
    "            nCustomers += 1\n",
    "\n",
    "##### Resources #####\n",
    "class R:\n",
    "    # Server\n",
    "    server = None\n",
    "\n",
    "\n",
    "##### Model #####\n",
    "def model():\n",
    "    # Initialize SimPy \n",
    "    initialize()\n",
    "\n",
    "    # Initialize a seed for the random number generator (more on this later in the semester)\n",
    "    seed(123)\n",
    "\n",
    "    # Create the server resource\n",
    "    R.server = Resource(capacity = P.nServers)\n",
    "\n",
    "    # Activate the entrance (to generate customers)\n",
    "    e = Entrance()\n",
    "    activate(e, e.behavior())\n",
    "    \n",
    "    # Run the simulation\n",
    "    simulate(until = P.simulationTimeMax)\n",
    "\n",
    "    \n",
    "##### Experiment #####\n",
    "model()"
   ]
  },
  {
   "cell_type": "markdown",
   "metadata": {},
   "source": [
    "See if you can figure out how to make the following modifications. You may need to look at the documentation, especially for different random sampling functions. \n",
    "\n",
    "For each modification, <span style=\"color:#a00000;\">start by copying and pasting the entire simulation model into a new cell</span>. Make the changes, and run the model. How do the number of customers that enter Dan's shop and the number of customers Dan serves per day change?"
   ]
  },
  {
   "cell_type": "markdown",
   "metadata": {},
   "source": [
    "**Modification.** The time between customer arrivals is still exponentially distributed, but now with a mean of 30 minutes. The time for each haircut is still uniformly distributed, but now between 25 and 35 minutes."
   ]
  },
  {
   "cell_type": "markdown",
   "metadata": {},
   "source": [
    "To make these changes, we need to change the parameters for the mean interarrival time and the minimum and maximum service time, like so:\n",
    "\n",
    "```python\n",
    "##### Parameters #####\n",
    "class P:\n",
    "    # Customers arrive at the entrance with exponentially distributed\n",
    "    # interarrival times with mean 30\n",
    "    interarrivalTimeMean = 30\n",
    "    \n",
    "    # Service times are uniformly distributed between 25 and 35\n",
    "    serviceTimeMin = 25\n",
    "    serviceTimeMax = 35\n",
    "    ...\n",
    "```"
   ]
  },
  {
   "cell_type": "code",
   "execution_count": 9,
   "metadata": {
    "collapsed": false
   },
   "outputs": [
    {
     "name": "stdout",
     "output_type": "stream",
     "text": [
      "Time 35.76816430443317: Customer 0 arrives and joins queue\n",
      "Time 35.76816430443317: Customer 0 begins service\n",
      "Time 45.8801887846991: Customer 1 arrives and joins queue\n",
      "Time 63.0366788400752: Customer 0 ends service and leaves\n",
      "Time 63.0366788400752: Customer 1 begins service\n",
      "Time 69.92319923913972: Customer 2 arrives and joins queue\n",
      "Time 86.42612531250903: Customer 3 arrives and joins queue\n",
      "Time 95.23136853793082: Customer 1 ends service and leaves\n",
      "Time 95.23136853793082: Customer 2 begins service\n",
      "Time 127.07966592377946: Customer 2 ends service and leaves\n",
      "Time 127.07966592377946: Customer 3 begins service\n",
      "Time 156.88898493862308: Customer 3 ends service and leaves\n",
      "Time 204.95558737695058: Customer 4 arrives and joins queue\n",
      "Time 204.95558737695058: Customer 4 begins service\n",
      "Time 219.8887984430031: Customer 5 arrives and joins queue\n",
      "Time 233.38736753845927: Customer 4 ends service and leaves\n",
      "Time 233.38736753845927: Customer 5 begins service\n",
      "Time 259.06339535323286: Customer 6 arrives and joins queue\n",
      "Time 260.9093793302048: Customer 7 arrives and joins queue\n",
      "Time 262.7730899852555: Customer 5 ends service and leaves\n",
      "Time 262.7730899852555: Customer 6 begins service\n",
      "Time 276.13651983661026: Customer 8 arrives and joins queue\n",
      "Time 282.18134765487065: Customer 9 arrives and joins queue\n",
      "Time 287.96893642991995: Customer 10 arrives and joins queue\n",
      "Time 295.15304404257586: Customer 6 ends service and leaves\n",
      "Time 295.15304404257586: Customer 7 begins service\n",
      "Time 310.71880160978344: Customer 11 arrives and joins queue\n",
      "Time 325.4713199135445: Customer 7 ends service and leaves\n",
      "Time 325.4713199135445: Customer 8 begins service\n",
      "Time 340.9053434476938: Customer 12 arrives and joins queue\n",
      "Time 358.9656378543224: Customer 8 ends service and leaves\n",
      "Time 358.9656378543224: Customer 9 begins service\n"
     ]
    }
   ],
   "source": [
    "##### Setup #####\n",
    "# Import all simulation functions from SimPy\n",
    "from SimPy.Simulation import *\n",
    "\n",
    "# Import seed initializer and random sampling functions from NumPy\n",
    "from numpy.random import seed, uniform, exponential\n",
    "\n",
    "\n",
    "##### Parameters #####\n",
    "class P:\n",
    "    # Customers arrive at the entrance with exponentially distributed\n",
    "    # interarrival times with mean 30\n",
    "    interarrivalTimeMean = 30\n",
    "    \n",
    "    # Service times are uniformly distributed between 25 and 35\n",
    "    serviceTimeMin = 25\n",
    "    serviceTimeMax = 35\n",
    "    \n",
    "    # One server: Fantastic Dan works by himself\n",
    "    nServers = 1\n",
    "    \n",
    "    # Shop is open for 6 continuous hours\n",
    "    simulationTimeMax =  6 * 60\n",
    "    \n",
    "\n",
    "##### Processes #####\n",
    "# Customer\n",
    "class Customer(Process):\n",
    "    def behavior(self):\n",
    "        # Customer arrives, joins queue\n",
    "        print(\"Time {1}: {0} arrives and joins queue\".format(self.name, now()))\n",
    "        yield request, self, R.server\n",
    "        \n",
    "        # Customer is released from queue and starts service\n",
    "        print(\"Time {1}: {0} begins service\".format(self.name, now()))\n",
    "        serviceTime = uniform(low = P.serviceTimeMin, high = P.serviceTimeMax)\n",
    "        yield hold, self, serviceTime\n",
    "        \n",
    "        # Customer finishes service, leaves\n",
    "        print(\"Time {1}: {0} ends service and leaves\".format(self.name, now()))\n",
    "        yield release, self, R.server\n",
    "\n",
    "# Entrance\n",
    "class Entrance(Process):\n",
    "    def behavior(self):\n",
    "        # At the start of the simulation, no customers have arrived\n",
    "        nCustomers = 0\n",
    "        \n",
    "        # Customer arrivals\n",
    "        while True:\n",
    "            # Wait until the next arrival\n",
    "            interarrivalTime = exponential(scale = P.interarrivalTimeMean)\n",
    "            yield hold, self, interarrivalTime\n",
    "            \n",
    "            # Create a new customer using the template defined in the Customer class\n",
    "            c = Customer(name=\"Customer {0}\".format(nCustomers))\n",
    "            \n",
    "            # Activate the customer's behavior\n",
    "            activate(c, c.behavior())\n",
    "\n",
    "            # Count this new customer\n",
    "            nCustomers += 1\n",
    "\n",
    "##### Resources #####\n",
    "class R:\n",
    "    # Server\n",
    "    server = None\n",
    "\n",
    "\n",
    "##### Model #####\n",
    "def model():\n",
    "    # Initialize SimPy \n",
    "    initialize()\n",
    "\n",
    "    # Initialize a seed for the random number generator (more on this later in the semester)\n",
    "    seed(123)\n",
    "\n",
    "    # Create the server resource\n",
    "    R.server = Resource(capacity = P.nServers)\n",
    "\n",
    "    # Activate the entrance (to generate customers)\n",
    "    e = Entrance()\n",
    "    activate(e, e.behavior())\n",
    "    \n",
    "    # Run the simulation\n",
    "    simulate(until = P.simulationTimeMax)\n",
    "\n",
    "\n",
    "##### Experiment #####\n",
    "model()"
   ]
  },
  {
   "cell_type": "markdown",
   "metadata": {},
   "source": [
    "With these modifications, 13 customers enter the shop (Customers 0 to 12), and 9 get completely served (Customers 0 to 8)."
   ]
  },
  {
   "cell_type": "markdown",
   "metadata": {},
   "source": [
    "**Modification.** The haircut time instead follows a Gamma distribution with shape parameter 3 and scale parameter 10. [Hint.](http://docs.scipy.org/doc/numpy/reference/routines.random.html) Also, remember to `import` the function you want to use."
   ]
  },
  {
   "cell_type": "markdown",
   "metadata": {},
   "source": [
    "To make this change, we need to use the `gamma` function from `numpy.random`. So, first we modify the `from/import` statement in the setup:\n",
    "\n",
    "```python\n",
    "# Import seed initializer and random sampling functions from NumPy\n",
    "from numpy.random import seed, uniform, exponential, gamma\n",
    "```\n",
    "\n",
    "Next, we need to change the parameters to reflect the change in the service time distribution, like so:\n",
    "\n",
    "```python\n",
    "##### Parameters #####\n",
    "class P:\n",
    "    ...\n",
    "    # Service times follow a Gamma distribution with shape 3 and scale 10\n",
    "    serviceTimeShape = 3\n",
    "    serviceTimeScale = 10    \n",
    "    ...\n",
    "```\n",
    "\n",
    "Finally, we need to change the definition of the customer process to reflect this change in the service time distribution.\n",
    "\n",
    "```python\n",
    "##### Processes #####\n",
    "# Customer\n",
    "class Customer(Process):\n",
    "    def behavior(self):\n",
    "        ...\n",
    "        # Customer is released from queue and starts service\n",
    "        print(\"Time {1}: {0} begins service\".format(self.name, now()))\n",
    "        serviceTime = gamma(shape = P.serviceTimeShape, scale = P.serviceTimeScale)\n",
    "        yield hold, self, serviceTime\n",
    "        ...\n",
    "```"
   ]
  },
  {
   "cell_type": "code",
   "execution_count": 10,
   "metadata": {
    "collapsed": false
   },
   "outputs": [
    {
     "name": "stdout",
     "output_type": "stream",
     "text": [
      "Time 23.84544286962211: Customer 0 arrives and joins queue\n",
      "Time 23.84544286962211: Customer 0 begins service\n",
      "Time 30.58679252313273: Customer 1 arrives and joins queue\n",
      "Time 41.58874323871227: Customer 2 arrives and joins queue\n",
      "Time 55.40519122403728: Customer 0 ends service and leaves\n",
      "Time 55.40519122403728: Customer 1 begins service\n",
      "Time 64.26210461737892: Customer 1 ends service and leaves\n",
      "Time 64.26210461737892: Customer 2 begins service\n",
      "Time 67.68943131453943: Customer 2 ends service and leaves\n",
      "Time 120.60838461500663: Customer 3 arrives and joins queue\n",
      "Time 120.60838461500663: Customer 3 begins service\n",
      "Time 140.8662614272006: Customer 3 ends service and leaves\n",
      "Time 146.72478255515978: Customer 4 arrives and joins queue\n",
      "Time 146.72478255515978: Customer 4 begins service\n",
      "Time 147.95543853980772: Customer 5 arrives and joins queue\n",
      "Time 151.81383105650724: Customer 6 arrives and joins queue\n",
      "Time 166.98040784308287: Customer 7 arrives and joins queue\n",
      "Time 182.15878078846833: Customer 8 arrives and joins queue\n",
      "Time 202.2831420137419: Customer 9 arrives and joins queue\n",
      "Time 205.91224240087058: Customer 4 ends service and leaves\n",
      "Time 205.91224240087058: Customer 5 begins service\n",
      "Time 223.44718570810224: Customer 5 ends service and leaves\n",
      "Time 223.44718570810224: Customer 6 begins service\n",
      "Time 240.14992405291898: Customer 10 arrives and joins queue\n",
      "Time 249.13163984715925: Customer 11 arrives and joins queue\n",
      "Time 254.31387504201692: Customer 12 arrives and joins queue\n",
      "Time 261.2685768430012: Customer 13 arrives and joins queue\n",
      "Time 281.2064554836712: Customer 14 arrives and joins queue\n",
      "Time 282.75801456756426: Customer 6 ends service and leaves\n",
      "Time 282.75801456756426: Customer 7 begins service\n",
      "Time 283.1389850774034: Customer 15 arrives and joins queue\n",
      "Time 294.41165877160165: Customer 16 arrives and joins queue\n",
      "Time 308.0235881037286: Customer 17 arrives and joins queue\n",
      "Time 319.12019340085453: Customer 18 arrives and joins queue\n",
      "Time 323.5686136131868: Customer 7 ends service and leaves\n",
      "Time 323.5686136131868: Customer 8 begins service\n",
      "Time 326.60711735485904: Customer 19 arrives and joins queue\n",
      "Time 340.54366326791944: Customer 20 arrives and joins queue\n"
     ]
    }
   ],
   "source": [
    "##### Setup #####\n",
    "# Import all simulation functions from SimPy\n",
    "from SimPy.Simulation import *\n",
    "\n",
    "# Import seed initializer and random sampling functions from NumPy\n",
    "from numpy.random import seed, uniform, exponential, gamma\n",
    "\n",
    "\n",
    "##### Parameters #####\n",
    "class P:\n",
    "    # Customers arrive at the entrance with exponentially distributed\n",
    "    # interarrival times with mean 20\n",
    "    interarrivalTimeMean = 20\n",
    "    \n",
    "    # Service times follow a Gamma distribution with shape 3 and scale 10\n",
    "    serviceTimeShape = 3\n",
    "    serviceTimeScale = 10\n",
    "    \n",
    "    # One server: Fantastic Dan works by himself\n",
    "    nServers = 1\n",
    "    \n",
    "    # Shop is open for 6 continuous hours\n",
    "    simulationTimeMax =  6 * 60\n",
    "    \n",
    "\n",
    "##### Processes #####\n",
    "# Customer\n",
    "class Customer(Process):\n",
    "    def behavior(self):\n",
    "        # Customer arrives, joins queue\n",
    "        print(\"Time {1}: {0} arrives and joins queue\".format(self.name, now()))\n",
    "        yield request, self, R.server\n",
    "        \n",
    "        # Customer is released from queue and starts service\n",
    "        print(\"Time {1}: {0} begins service\".format(self.name, now()))\n",
    "        serviceTime = gamma(shape = P.serviceTimeShape, scale = P.serviceTimeScale)\n",
    "        yield hold, self, serviceTime\n",
    "        \n",
    "        # Customer finishes service, leaves\n",
    "        print(\"Time {1}: {0} ends service and leaves\".format(self.name, now()))\n",
    "        yield release, self, R.server\n",
    "\n",
    "# Entrance\n",
    "class Entrance(Process):\n",
    "    def behavior(self):\n",
    "        # At the start of the simulation, no customers have arrived\n",
    "        nCustomers = 0\n",
    "        \n",
    "        # Customer arrivals\n",
    "        while True:\n",
    "            # Wait until the next arrival\n",
    "            interarrivalTime = exponential(scale = P.interarrivalTimeMean)\n",
    "            yield hold, self, interarrivalTime\n",
    "            \n",
    "            # Create a new customer using the template defined in the Customer class\n",
    "            c = Customer(name=\"Customer {0}\".format(nCustomers))\n",
    "            \n",
    "            # Activate the customer's behavior\n",
    "            activate(c, c.behavior())\n",
    "\n",
    "            # Count this new customer\n",
    "            nCustomers += 1\n",
    "\n",
    "##### Resources #####\n",
    "class R:\n",
    "    # Server\n",
    "    server = None\n",
    "\n",
    "\n",
    "##### Model #####\n",
    "def model():\n",
    "    # Initialize SimPy \n",
    "    initialize()\n",
    "\n",
    "    # Initialize a seed for the random number generator (more on this later in the semester)\n",
    "    seed(123)\n",
    "\n",
    "    # Create the server resource\n",
    "    R.server = Resource(capacity = P.nServers)\n",
    "\n",
    "    # Activate the entrance (to generate customers)\n",
    "    e = Entrance()\n",
    "    activate(e, e.behavior())\n",
    "    \n",
    "    # Run the simulation\n",
    "    simulate(until = P.simulationTimeMax)\n",
    "\n",
    "    \n",
    "##### Experiment #####\n",
    "model()"
   ]
  },
  {
   "cell_type": "markdown",
   "metadata": {},
   "source": [
    "With these changes, 21 customers enter the shop (Customers 0 to 20), and 8 get served completely (Customers 0 to 7)."
   ]
  },
  {
   "cell_type": "markdown",
   "metadata": {},
   "source": [
    "**Modification**. Customers arrive at Dan's shop in pairs. The interarrival time for pairs of customers is still exponentially distributed with a mean of 20 minutes. "
   ]
  },
  {
   "cell_type": "markdown",
   "metadata": {},
   "source": [
    "Here, we need to change how customers are generated at the entrance: in particular, instead of initializing and activating just 1 customer at a time, we can initialize and activate 2 customers at a time:\n",
    "\n",
    "```python\n",
    "# Entrance\n",
    "class Entrance(Process):\n",
    "    def behavior(self):\n",
    "        # At the start of the simulation, no customers have arrived\n",
    "        nCustomers = 0\n",
    "        \n",
    "        # Customer arrivals\n",
    "        while True:\n",
    "            # Wait until the next arrival\n",
    "            interarrivalTime = exponential(scale = P.interarrivalTimeMean)\n",
    "            yield hold, self, interarrivalTime\n",
    "            \n",
    "            # Create a new customer using the template defined in the Customer class\n",
    "            c = Customer(name=\"Customer {0}\".format(nCustomers))\n",
    "            \n",
    "            # Activate the customer's behavior\n",
    "            activate(c, c.behavior())\n",
    "\n",
    "            # Count this new customer\n",
    "            nCustomers += 1\n",
    "            \n",
    "            # At the same time, create another new customer using the template \n",
    "            # defined in the Customer class (since they come in pairs)\n",
    "            c2 = Customer(name=\"Customer {0}\".format(nCustomers))\n",
    "            \n",
    "            # Activate the customer's behavior\n",
    "            activate(c2, c2.behavior())\n",
    "\n",
    "            # Count this new customer\n",
    "            nCustomers += 1\n",
    "```"
   ]
  },
  {
   "cell_type": "code",
   "execution_count": 11,
   "metadata": {
    "collapsed": false
   },
   "outputs": [
    {
     "name": "stdout",
     "output_type": "stream",
     "text": [
      "Time 23.84544286962211: Customer 0 arrives and joins queue\n",
      "Time 23.84544286962211: Customer 0 begins service\n",
      "Time 23.84544286962211: Customer 1 arrives and joins queue\n",
      "Time 30.58679252313273: Customer 2 arrives and joins queue\n",
      "Time 30.58679252313273: Customer 3 arrives and joins queue\n",
      "Time 41.113957405264145: Customer 0 ends service and leaves\n",
      "Time 41.113957405264145: Customer 1 begins service\n",
      "Time 46.615466159426475: Customer 4 arrives and joins queue\n",
      "Time 46.615466159426475: Customer 5 arrives and joins queue\n",
      "Time 57.617416875006015: Customer 6 arrives and joins queue\n",
      "Time 57.617416875006015: Customer 7 arrives and joins queue\n",
      "Time 63.308647103119775: Customer 1 ends service and leaves\n",
      "Time 63.308647103119775: Customer 2 begins service\n",
      "Time 85.1569444889684: Customer 2 ends service and leaves\n",
      "Time 85.1569444889684: Customer 3 begins service\n",
      "Time 104.96626350381202: Customer 3 ends service and leaves\n",
      "Time 104.96626350381202: Customer 4 begins service\n",
      "Time 123.88743868575352: Customer 4 ends service and leaves\n",
      "Time 123.88743868575352: Customer 5 begins service\n",
      "Time 136.63705825130037: Customer 8 arrives and joins queue\n",
      "Time 136.63705825130037: Customer 9 arrives and joins queue\n",
      "Time 142.31921884726222: Customer 5 ends service and leaves\n",
      "Time 142.31921884726222: Customer 6 begins service\n",
      "Time 161.70494129405847: Customer 6 ends service and leaves\n",
      "Time 161.70494129405847: Customer 7 begins service\n",
      "Time 162.75345619145352: Customer 10 arrives and joins queue\n",
      "Time 162.75345619145352: Customer 11 arrives and joins queue\n",
      "Time 172.90488319572387: Customer 12 arrives and joins queue\n",
      "Time 172.90488319572387: Customer 13 arrives and joins queue\n",
      "Time 177.30172026015416: Customer 7 ends service and leaves\n",
      "Time 177.30172026015416: Customer 8 begins service\n",
      "Time 194.12663756468916: Customer 8 ends service and leaves\n",
      "Time 194.12663756468916: Customer 9 begins service\n",
      "Time 199.69274799574134: Customer 14 arrives and joins queue\n",
      "Time 199.69274799574134: Customer 15 arrives and joins queue\n",
      "Time 210.8811551261641: Customer 9 ends service and leaves\n",
      "Time 210.8811551261641: Customer 10 begins service\n",
      "Time 214.85932478231697: Customer 16 arrives and joins queue\n",
      "Time 214.85932478231697: Customer 17 arrives and joins queue\n",
      "Time 231.19943099713277: Customer 10 ends service and leaves\n",
      "Time 231.19943099713277: Customer 11 begins service\n",
      "Time 234.98368600759053: Customer 18 arrives and joins queue\n",
      "Time 234.98368600759053: Customer 19 arrives and joins queue\n",
      "Time 254.69374893791067: Customer 11 ends service and leaves\n",
      "Time 254.69374893791067: Customer 12 begins service\n",
      "Time 260.7637960739952: Customer 20 arrives and joins queue\n",
      "Time 260.7637960739952: Customer 21 arrives and joins queue\n",
      "Time 275.8039840446865: Customer 12 ends service and leaves\n",
      "Time 275.8039840446865: Customer 13 begins service\n",
      "Time 286.39840287064123: Customer 22 arrives and joins queue\n",
      "Time 286.39840287064123: Customer 23 arrives and joins queue\n",
      "Time 294.03357318321827: Customer 13 ends service and leaves\n",
      "Time 294.03357318321827: Customer 14 begins service\n",
      "Time 295.3801186648815: Customer 24 arrives and joins queue\n",
      "Time 295.3801186648815: Customer 25 arrives and joins queue\n",
      "Time 302.33482046586573: Customer 26 arrives and joins queue\n",
      "Time 302.33482046586573: Customer 27 arrives and joins queue\n",
      "Time 311.31620549200784: Customer 14 ends service and leaves\n",
      "Time 311.31620549200784: Customer 15 begins service\n",
      "Time 322.27269910653575: Customer 28 arrives and joins queue\n",
      "Time 322.27269910653575: Customer 29 arrives and joins queue\n",
      "Time 327.2372548914586: Customer 15 ends service and leaves\n",
      "Time 327.2372548914586: Customer 16 begins service\n",
      "Time 333.6453666393137: Customer 30 arrives and joins queue\n",
      "Time 333.6453666393137: Customer 31 arrives and joins queue\n",
      "Time 346.54588252475503: Customer 16 ends service and leaves\n",
      "Time 346.54588252475503: Customer 17 begins service\n",
      "Time 347.25729597144067: Customer 32 arrives and joins queue\n",
      "Time 347.25729597144067: Customer 33 arrives and joins queue\n",
      "Time 354.7442199254452: Customer 34 arrives and joins queue\n",
      "Time 354.7442199254452: Customer 35 arrives and joins queue\n"
     ]
    }
   ],
   "source": [
    "##### Setup #####\n",
    "# Friendly floating-point division\n",
    "from __future__ import division\n",
    "\n",
    "# Import all simulation functions from SimPy\n",
    "from SimPy.Simulation import *\n",
    "\n",
    "# Import seed initializer and random sampling functions from NumPy\n",
    "from numpy.random import seed, uniform, exponential\n",
    "\n",
    "\n",
    "##### Parameters #####\n",
    "class P:\n",
    "    # Customers arrive at the entrance with exponentially distributed\n",
    "    # interarrival times with mean 20\n",
    "    interarrivalTimeMean = 20\n",
    "    \n",
    "    # Service times are uniformly distributed between 15 and 25\n",
    "    serviceTimeMin = 15\n",
    "    serviceTimeMax = 25\n",
    "    \n",
    "    # One server: Fantastic Dan works by himself\n",
    "    nServers = 1\n",
    "    \n",
    "    # Shop is open for 6 continuous hours\n",
    "    simulationTimeMax =  6 * 60\n",
    "    \n",
    "\n",
    "##### Processes #####\n",
    "# Customer\n",
    "class Customer(Process):\n",
    "    def behavior(self):\n",
    "        # Customer arrives, joins queue\n",
    "        print(\"Time {1}: {0} arrives and joins queue\".format(self.name, now()))\n",
    "        yield request, self, R.server\n",
    "        \n",
    "        # Customer is released from queue and starts service\n",
    "        print(\"Time {1}: {0} begins service\".format(self.name, now()))\n",
    "        serviceTime = uniform(low = P.serviceTimeMin, high = P.serviceTimeMax)\n",
    "        yield hold, self, serviceTime\n",
    "        \n",
    "        # Customer finishes service, leaves\n",
    "        print(\"Time {1}: {0} ends service and leaves\".format(self.name, now()))\n",
    "        yield release, self, R.server\n",
    "\n",
    "# Entrance\n",
    "class Entrance(Process):\n",
    "    def behavior(self):\n",
    "        # At the start of the simulation, no customers have arrived\n",
    "        nCustomers = 0\n",
    "        \n",
    "        # Customer arrivals\n",
    "        while True:\n",
    "            # Wait until the next arrival\n",
    "            interarrivalTime = exponential(scale = P.interarrivalTimeMean)\n",
    "            yield hold, self, interarrivalTime\n",
    "            \n",
    "            # Create a new customer using the template defined in the Customer class\n",
    "            c = Customer(name=\"Customer {0}\".format(nCustomers))\n",
    "            \n",
    "            # Activate the customer's behavior\n",
    "            activate(c, c.behavior())\n",
    "\n",
    "            # Count this new customer\n",
    "            nCustomers += 1\n",
    "            \n",
    "            # At the same time, create another new customer using the template \n",
    "            # defined in the Customer class (since they come in pairs)\n",
    "            c2 = Customer(name=\"Customer {0}\".format(nCustomers))\n",
    "            \n",
    "            # Activate the customer's behavior\n",
    "            activate(c2, c2.behavior())\n",
    "\n",
    "            # Count this new customer\n",
    "            nCustomers += 1\n",
    "\n",
    "##### Resources #####\n",
    "class R:\n",
    "    # Server\n",
    "    server = None\n",
    "\n",
    "\n",
    "##### Model #####\n",
    "def model():\n",
    "    # Initialize SimPy \n",
    "    initialize()\n",
    "\n",
    "    # Initialize a seed for the random number generator (more on this later in the semester)\n",
    "    seed(123)\n",
    "\n",
    "    # Create the server resource\n",
    "    R.server = Resource(capacity = P.nServers)\n",
    "\n",
    "    # Activate the entrance (to generate customers)\n",
    "    e = Entrance()\n",
    "    activate(e, e.behavior())\n",
    "    \n",
    "    # Run the simulation\n",
    "    simulate(until = P.simulationTimeMax)\n",
    "\n",
    "    \n",
    "##### Experiment #####\n",
    "model()"
   ]
  },
  {
   "cell_type": "markdown",
   "metadata": {},
   "source": [
    "In this case, 36 customers enter the shop (Customers 0 to 35), and 17 get served completely (Customers 0 to 16)."
   ]
  }
 ],
 "metadata": {
  "kernelspec": {
   "display_name": "Python 3",
   "language": "python",
   "name": "python3"
  },
  "language_info": {
   "codemirror_mode": {
    "name": "ipython",
    "version": 3
   },
   "file_extension": ".py",
   "mimetype": "text/x-python",
   "name": "python",
   "nbconvert_exporter": "python",
   "pygments_lexer": "ipython3",
   "version": "3.4.3"
  }
 },
 "nbformat": 4,
 "nbformat_minor": 0
}
