{
 "cells": [
  {
   "cell_type": "markdown",
   "metadata": {},
   "source": [
    "# Lesson 18. SimPy &mdash; queueing networks"
   ]
  },
  {
   "cell_type": "markdown",
   "metadata": {},
   "source": [
    "### SA421 Fall 2015"
   ]
  },
  {
   "cell_type": "markdown",
   "metadata": {},
   "source": [
    "## A system with connected queues"
   ]
  },
  {
   "cell_type": "markdown",
   "metadata": {},
   "source": [
    "**Problem.** The Simplex Company maintains a repair facility that reconditions their broken tablet computers.\n",
    "The repair facility consists of a repair station, an inspection station and a combined repair-and-inspection station.\n",
    "\n",
    "Tablets arrive at the repair station according to an exponential interarrival time distribution with a mean of 15 minutes.\n",
    "The repair station makes the first attempt to repair a tablet: the repair times are exponentially distributed with a mean of 85 minutes.\n",
    "\n",
    "The tablet then moves to the inspection station to verify that the repairs have been successful: the inspection times are exponentially distributed with a mean of 35 minutes, and 7% of tablets fail this first inspection.\n",
    "Tablets that pass inspection are shipped back to their owner.\n",
    "\n",
    "Tablets that fail inspection move to the combined repair-and-inspection station where they are repeatedly repaired and inspected until they work properly: the time for one repair plus inspection at this station is exponentially distributed with mean 130 minutes.\n",
    "3% of tables fail these subsequent inspections.\n",
    "\n",
    "Each station can process 4 tablets simultaneously."
   ]
  },
  {
   "cell_type": "markdown",
   "metadata": {},
   "source": [
    "<span style=\"color:#d00000;\">Execute the code cell below to see a diagram of how tablets move through the repair facility.</span>"
   ]
  },
  {
   "cell_type": "code",
   "execution_count": null,
   "metadata": {
    "collapsed": false
   },
   "outputs": [],
   "source": [
    "# Execute this code cell to see the diagram\n",
    "from IPython.display import SVG; SVG(data=\"\"\"<svg version=\"1.1\" id=\"Layer_1\" xmlns=\"http://www.w3.org/2000/svg\" xmlns:xlink=\"http://www.w3.org/1999/xlink\" x=\"0px\" y=\"0px\" width=\"100%\" height=\"100%\" viewBox=\"0 0 1655 507\" enable-background=\"new 0 0 1655 507\" xml:space=\"preserve\">  <image id=\"image0\" width=\"1655\" height=\"507\" x=\"0\" y=\"0\" xlink:href=\"data:image/png;base64,iVBORw0KGgoAAAANSUhEUgAABncAAAH7CAQAAAC0gAJVAAAABGdBTUEAALGPC/xhBQAAACBjSFJN AAB6JgAAgIQAAPoAAACA6AAAdTAAAOpgAAA6mAAAF3CculE8AAAAAmJLR0QA/4ePzL8AAAAJcEhZ cwAAASwAAAEsAHOI6VIAAAAHdElNRQffCwYLJRX0fLF6AABcFUlEQVR42u3dv246Tx/o9/ccPc0p UuyvSIp060jpEuWs+zRrKWUUCef0UdaXADcQabkEuIPAJUCTLpGgThNQpOhIUQpTnnJS7IL5ay82 sBi/X6vn+drL7jAMrH/7YWY+EyKSJEmS9Ij+TdsVkCRJkqTr+FfbFZC+K+Rt1+CPWsV521XQrYWM pO06qDXLuGy7CpL0fcHBbPqt/PC2ZBpf2q6Cbi1M8OuFv6sfe21XQZK+z94d/WYr7Ge4NW96/65p 2xVQC1LStqsgST9juKPfbG4/w63Zp/Z3ebX9RaGk23YdJOlnTFUgSZIk6UEZ7kiSJEl6UIY7kiRJ kh6U4Y4kSZKkB2W4I0mSJOlBGe5IkiRJelCGO5IkSZIelOGOJDUUklCGpO1aSJKk5r4d7oQ0DIJr LUv6M0LOhC5Z2/WQJEnN/evbZxYUwFvbL0CSri1kZHTI266HJEk61/cHs3Xq/11ZSEIZRuFHz3SJ MiT9RSEPMURmdJm3XRdJknS+b/buhA4pkIROHF+5hl26QCe8xGmrZUj6i+a8AMu4hNBtuzKSJOlc 3+3dyff+vZ51n8xPnukSZUj6g+IqTuM0LtuuhyRJ+p7vhjudvX+vZ7r3b1tlSJIkSfplvjWYLXRI 6NMFklDE4VVr2GNFyvhHw9AuUYYkSZKkX+Z7c3dyxgzp1j9fNdyJK3r3UIYkSZKk3+Z7g9k6TOOy zlPUcdE9SZIkSffoG+FOKEgYA+ucbCZ4liRJknSHvtO7kzOOK9gMYjPfmSRJkqQ7dPbcnZDQ4Q0g rsK4Wmw0JHH16RkZVGkCqp+Zbx//1eMQMpL9fWfX+2gZIf94tvq5+SqhQUhJgVWcb34vyFjRjy5D KEmSJN2R81MVdFhtcrFN64FsnePpCsJoa6BbgFBSMCUlDa9x2uDxgsHm8Zd1GumQUe49UW8TepRV yFKJLyfLGFBs7w0pXXLmQB4ShvSOB1chp0vOFEhDwpA+XTr0WTIg55+rv1+SJEmSGjs/3Mk3c3Zg XIcSxYnsbFOWJOvAIgyAJzImwIh/Gjy+pA8U7CZDWDEHOqT1c8z5CE2WZPXgujHLes+xMub0t545 Y0QvvgGEhAkFWXg5DHhCSZc5z1VwFQZ0KRjHp7qXyJQNkiRJ0n2JZ20kRDpbv4/qH9JPzpkRieSM IhG61e4zHi+rx/dKTfeP2ymv2Nt3vIxqb4cZ2dbeDpFI96DcqmbZ3jPNNo92Duvids2NyKTtOvy9 7S+3ev1P3m4tWnrtk2N/bd0ef6MkUrZdCzc3N7efbOemKuiwiuOt36eb/adVx5T12jdDlkD/jMeP h2nLqpcpFAcPrRietfRpwXB71k39+vYSMISELjDfmZ8zBrKqBrG/0y6SJEmSWnduuFOwc1Mfh/VA sq+TUS/jEiCu4lMMsXf244eGx545JORfB0s70qPBUbr3e4cE6gFya/OGr12SJElSC84Kd0JKxn7e sir8yUL6xclfZS07O6tZnLIE8r1nLpjG5VkFHc/Elh79/VjJJuKWJEmS7tJ5vTv7Q9mg2XA2uEK4 w7p/Z3c4217/UwM/SnDN8RBIkiRJUuvOy8zWgTA58Vhx5hCySxhSAgWboW8hh7Pm7TQ3pgvbaa43 pucWJUmSJOkWzgh3Qkp2IqTJgTRkt15mM67CkIIkFJsQp3N2307T55qHKTnZzpKq1TC264RXkiRJ kn7onN6dDstjKQRCxqx+/MbhDjCmYLPMaUgoeLrac/WYkNBd9yWFjALo3zrIkyRJktTMOeHOiVkx cR6WpECHJvnULipOw5KUPKRxWdXwzDQF51iyBLqhGr6WUgJvVxo6p5sJKZ+l2Vhe8RMl/TEhO7Ec 88qvjSRJ19I43AkZ6cmBYtW8lhaGs7E7f6e4asBVMI290CGnC0CfYfxpmgO1r6jfzxMCjJkyvs/3 OiR0SRm76pN+hfJEJsspL21X7da8diXpVppnZuvsLbG5bbw55vaqlX+KOk3BNf/DkQPEcXyLL/El vsT+fd4A6zyxF0MMPG0+xf0Y1htPvNAnZ8AilG3X9KguXTqMgunQ9QvElxhi4HmT4GXKcwwxxD8X 7OC1K0k3c064czKUiPM6GXML4U5cMQaSUFwvTYEeX1xuUk5Mt/fGaezxxJSEbpiE5FuFX9P6mvOW 6WpCHvKQh24Y1TvKUNb7vlptTEfF+eZv9fDRB7GF4uSnxGtXkm6kYbgTctJPExFU//FKQzv9OwAd iqvnSCtC9vNC9NvEFa/VkrbcX8Az3ftXlzdhwoSSDjBlRUa33lf8uOy/aj0j7vF7yAcn5wZ67UrS jTSauxMyRkD+yZ/laT3/IT/Sw/LVN6DNviE9eZsZ52FORt4gTcHPblXH5MzCdhssWbG811kdupy4 Cn0GQPaRme9O9FiRMo7eMl1NDG3XQA/Ja1eSbuSLcCdkZGR0SIBuSJgy3b25DxkJ+aZbvgjV95+r OK8fy+qu+jIMWQLzj/MbPZ7Wj3dDwnL70S1DBnB8KNvxMuq9Va3zULBkFechIWMztCCUTLfrE4ch p3Nk4MEgDOmbv+vBrW9JrpsO42xxdV/1kfThs3k5XruSdDPx043Jwa785BHvvG9+npw4e+f8bzye H61lwjuLc17Bkb2TCPln9SFnxHs9iGW9rV/xO9nnLel2+Y36c3ah0tbvfn7y2T59/K9sl211t9+y MSFesLQvrrZH2Sh//2ukJFK2XQs3Nze3n2xf9O58nS/nsyO+Ovunj2+OW4U3lueUcWLvlJPDVkJJ lyFP+71LIaWgIGF0xQVOJUm/TxuzWSVJe5pnZrtrcXzd/D6hQ5d5fDscSheXsccLkJpO9JFtpShw 2KKkBkLZcGaqJOmqGi8z+scV8Fki7jAl/zSVg367dTA7PD1LK2TkJMCS6eFR9cywei5Yvbr88rM5 XyElr2+XPg3nQ0ayP6uterZqEvTuM0v3LuR8XCnVp5fTE/pDXl+dK8ZxGRI6cSdH5/lXXn3cJ1fz puS8qh3z/VmtELqfL2C8qc2JK3Or9OmpV39eS0nSX/UgvTs34bf6f1k1KOXk5OLQCQsmpCyBDosw +OgPCqMQQ6znfWUQyrBgRJcBi7AIR2+JQhIGTEhZsSRhFhaHSd5DUa2Gyqwq98izAaFkQUHJwv5H 3bcwqD/R6yslDQNmFBSMQty+pjZndMM7HZZMmQKDMGDCYPPoN648+Pxq3hyThAHvrBcfLliEcn1U SEMZFpvHyjBZb5uzj167W6WnYcA7Har/7gzC++4yx+e3lCT9aW1PHvodGwMig5OPJrzz6yek3ttG +uURN0tVQEEksjiVkIKSyOyjxhREFuvfKSgZ1A91mDHaPJKzIDLbL5eEd7pbv2e8c/AJJKekrNNl 5FvPvXm2CAMGJPVre79IO5mq4AG3BlfbDVIV7FwpORkLOvUjCTMiM5Kd48v9JDGUxI96nn/lbco4 eTXX++or8qM+pIyYbX4uKSlZEIkM6t/Kjwn/x6/dzaMd3nf/2tDdffXnttSP3itTFbi5uf36rfUK /I6tDmiKE49+Ggy5fbPNJx83JyeOuEm4Q1rfVpSnbiAoibzv3Q6NiOubn83riUTedz9FJCw4yOzH gPftW6lN7coTz35Y61m1l1GkvlmKl7ldvWyru93HRsnk8y9sbpeZrf5Ed3aDETpE4s6XAClHrojD ep5z5TW7mo99/UDB+279Ns98sl1PXLudwxrU1/D7QbjXqKV+/Nkw3HFzc/vlm4PZGokrnpkzCIOw N/U05GFGQT++tV3HB1QNI7n1ZN9OKOttFCZhwYKMHk+xd2KEfYcuh3N6hkAWiq091eyb8e68grji DUjYHX5SkFCwNXwlTplTzSFrphq/X9aD76o1rfo3bkn9JjmTMLmjAY8Fw+0Za3Fc13L7CDi8Jg/n WJ5x5TW5mkPCiORgYOuAZK9+3xJSBkBvf75Q7DMlYfStlpKkP85wp6G4jM+8kbIIs83t8CAsGDHn Jbpc3LUULMIk3DKdazUPYMqUIVOWQELyycTmKigZ7u6MU1Ycu+U4uBmL1ayD7Mi05t1AbwokZ96O 1hOy4yo+xeCnVF/ImYRFKO5i5kcah8f2fvH76TmWza68JldzlxQY7n39sdr6/58oSTieGGdMtSj2 91pKkv4ww50zxGF84Z+t7/TmvMV/4puZcK4sZxQWobxRP888TjdbP77wRko3zEJ27ODQIeV4nqc5 TVfdqG5ttm9j+nySFuGc13KTFtMjSRmwCIPjn/cbOv5Xdf9vQPGRIKA2P+O62bvyGl7NxdH6vTFl /NNrNqR0OJVFsXrG7on9X7WUJP1hhjtniqs4jb16Gxro3ExKl0WYhe6tB7fFIT0gY3T0O+/qpvDY N8pzgEY3jdWnaKvnJvZiiP8cTT593qs33NF3JBTMwiKULQY9X/eTVH0aXRZhELrrqyeuYvNBm/tX XoOrOVTpqQ/SPcdxfImvX6W3/tI6A+QRddnpwXtignlJ+oLr7txIyCh/Xsqf8t8c2ZeRUYY5U5a3 W+Uo9kNBSkrJ4Qyt6tYjDeWJRxoMC4rLUP1wZOWmevWPjHWgcw/f2f7nHwl19SD+iyP7Urp0w5Ip 83sMnOMyvDGgCs6AANP9GTpfllD9sL7ymlzN150TU5X+eWtnLbwb/2XoxPHPi5Gkdhju3Eri1NGL yUiZ3vTGf0oBdDiVkOL498FzmvavzA/X3ggpBQUJY+b0WVJ8vWjhjfxbP8t/SErBlJR/23ZFDsVh WFFu/SXIyUPByxkL6h658hpdzW3267fxlcd/x38fxocJFCTpdzDcuZU5L21X4Zfp8++O7F0yZlwN 8wq3u/2vbp+SkJ8Yvjj/YRqAg9uzUNIFtm4wws1e7Jf+A/9z21XQhf1P/Psje1eMmVbf6t9nj14c Mw4dMjKyuic1Y8Jz4wKOBUY/vZof0f/Of02HPAxtG0m/keHOjcRVq98H/kLhfW/HVqDTmlPfq/50 hsNeb0kY0QHezhmYc0P/0Tlrj+Yg49+KIdPf8T7HcZVyIGR0KEjIQrfx/J1j/ZRNruZv9W+GlLzR Nf35ENg25ur8H/wPlBR0QweT80j6dUxVoN9gzGt8ir2Wg51j4c4FarRJgVDfRISSDpw3C0G6mCrj ZO/eb2pDudu/G+exxzNLGgcj+1deo6t5unfuOdIvczXO6+O+PubG4iq+8cKSlEkY3UWqcklqzHBH 921Fn6f4eifTZA+/9/10Sb/QaXRbUGdj2txeVoluP/l+OpTBxBe6hiHP8fmXBNrZ4fUYl/Ro3vey f+U1uJrrNXhOHBWyHwYCVQ2Ohjt1D9yyvTA0TuMTfVZ0WNxwKLEk/Zjhju5XFerc0/TY7fXX05BA nFff9h5bCDUk9UrrX6nOrW8xN4lu97/D9ftUXdeQp/jWeg/qOY59nTDl9FKjB+fXr7vW8Gqujs+P HjP72XVa1yA9mm6/Cu5a/uIn9nhmTEIZZmcueixJrTHc0b0a8hR7Z+RYuqb1LeD2t8mD+rc3Vuwu ErrWZX4Qqh3cIIScHJjz1WwDby10PVOe4tsdfbHQ1OF1l3A8b1qzK6/J1dxnCRRHQpIu05023A8d swaBWK8uab+2VbrtO0ijEJfxlVeWZEwOFnmVpLtkuKM7Fcc3DnWSvX+3rQewbE/pTqt96+Ez+8PL QkZxJHF1sbtIYEgYACve1q92PVhm95vT0N35Vvdw5Y39Wt/D+jz6NeL0xqHO+ir46ee0e3C7XXC8 B+TLKw+aXc1xxSsr2F94OGQU7AYj+4Pj8qPzbnZKiXPegOKg56QkZXUyFf6NxTHP9KkWeS1+XJwk XVt0c/ulG5HJBUpJycnpMqt3zOiSk5PuHFXUPwzq33MWW492eCdSkmz2dFmQ7ZRQEol0WZBv9mXM iMz2juwQiSw+akCXWYRJtXf93GTkFHW9ZxTkJPXeLu9be/OPet1Lq7v9to0J8QKlZPXV9l7vWNRX W7Z5tGBBZP3ZzWK1ZlleXz+Rcv2Jrq+H2faVSodIufecja+8TRlfX80ZC+L2c5PzTnFQ1ojIe/3q io+/Gcev3b0adDe/Jwx2a3teS/3wPSsP27R+JGVCJDI51o5ubm5u97O1XgE3t+9uXCbcKTc/vjPZ 3IYd3jQV9WOd+tams/NowoB33plQMuKdyW64tHmenJQJM0pKRkQWHzc1W8dm9W3SgJKSRXXrRVLf HtW3XvWtxvaWH90bP27z7qXV3X7bdqFw5+PTuXu1TfYe3dpPfqSgPMKIGQkdFowoKSmZsTgScpxx 5dVnfHk1R0goeScyoWTA4vgtPwkl1ZU8Woc9J15pfrQGI8o6rNup7Xkt9cP37GS4E9mEZjvhoZub m9u9bSG23b0EQMjI6mENGV+mGw4ZaT0YosHRelQhMo03XLw1JNW3sKRMGR7LjxRyMhLmR+bsrBcO fYnTav0NUpbMT396Q0JWzy2Yfgy3CdmRJAY3detW130IE/J4R2vdQsiZx/XAzxxOXU/nXnlb5Z+8 mveOWfLJYMCQkpGx5OzhuZvSG9T2ekJJl/7pOUMhoUsXWNK7kwyakrTnXsKdydb45pevEm2ed7Qe 1e+68d6+6frNfler61LuL9xpXPMHufLa8lW4AxAySnJgym9MeCHp4d1JqoL4EkM9/bPp0c/tLLYm SZI+xHl8oceKnIXZ2iTdnwuFO6EIP84EFcec8e3beoWEdussSZJinyeGQBdX5JF0Zy7VuzO4SOLb 23aCX6bOkiT9eXEV33hhTsokjPw6UdL9uJPBbNLD8z/+Uhu88m4oTuMzPVZ0mO2vXiRJbfnXJQr5 jR3Xv7HO+p1CRkJap9fohoQVS6fzStfmldeO2A9jSjp0Q07PFBGS2neZ3p3fGDr8xjrrdyqZMKjX Ts8ZMcF1yKXr88prSVzGV15YkjEJA1MXSGrbZcKdTtsv44/UWb9SfIlhb+v9vFRJn/PKa1Ocxif6 QMEidNuujaS/7QLhTih/39jo31hnSZJ+j9jjiSkJZZiFrO3aSPq7fjx3J1TrKX91VLWWNcC46frQ ISOB7421Dhl5dfax1a6b1LlepxtWjOMyJHTi8KdtJUnS3xGXvIQOJRmz0KcfG66uJ0mX9IPenZCG MixY514pw2S97R2XhAETUlYsSZiFRfhiIFlI6pI7dFmERThrvHXohAUTUpZAh8X2yOFmdQ7d8E6H JVOmwCAMmDC45tsgSdIjimOe6QNdzvyvuSRdxk97d8ZAhxSYc/Rbm5CwoB+fNr8PmTAKw/h2ssyU kinP1bdAIaFkEApem/XyhJIuc17WR4eCAXl42Tr7izqHkoKXTR/UlH4osRtekqRviCt6YUxJziB0 eDM/nqQbiz/emBCJ5CceHfDOgGRrT04kUh45tqx/KA7KiLyTHT06P9j3Trqzb0Rk1rTOpMfqxoT4 85Zyu+xGZNJ2Hf7eZqv/zc2/gX91o+Tof6+/VVbBO5FIuX1P4Obm5nbt7frLjBYkFGwtNxanzOGT hKD9g1kyPZYkXw8nCx26wHDvm6MhkDXuQi/gSJ/P+OrtJEnSA4tDnuphbbOvBrVL0uVcP9yp7OZB mwLJyYU+DxYli6s6ZPlqjebq8b1gKU5Zcd46O4dZ2+x6lyTpR+Iq9nhmTsooTIIZUiXdxPXDnT6w 4qerHVQh0Kc9NKGaj3Msk9uc89bZKUK5tzDa/MevQJKkPy/O4zM9VuTMvvwSU5Iu4OrhTuzFEP85 mnz6jO916vNP9wgBdTqBY/0wc4CGWf+rvqEuizAI3fXzxVXsX7ulJEn6C2KfJ4YkdMMinDP2QpK+ 4cfr7jRXr4WTsQ50zuvGXpEA+eFQt40qnEmPfFtUPZLQQFyGNwZAUvUlBZgyds0dSZIuJa54C2MG pEzCmDdX5JF0PTeZuxPSUIZ3ZmSs6PP2rYn/DRcnPdG706fftIQ45HWnlJxBmIVGwZIkSWoiTuMT fVZ0WIQGC5ZL0vfcoHcnlHSBMb3NWjjXfLp5/PEsmzhmHDpkZGR1n1DGhOfrt5UkSX9H7IUhJR3K 0KEXpz8vUZL2XaF3J6TbSZ/DiC7wFhsuE3pS04U+v7Ug6G6dAeI49uJL/Idn+qyAzO+eJEm6rLiM r7ywJGMSBo6kkHR51xjMln5kQQslHbjI3JfqT+Bn3/w0He72aZ1DuRvWxHns8cyS81JZS5KkRuKU Z/pAwaLxKnmS1NC15+5Uf7Y+yWoWyiaJKOusaqtPO7qrGUEngpLQafidUXbYPxSX9DDckSTpKuIq 9nhiSsIgTBpmUpWkRq4a7oS86pM5SEN9fmd1FWp82kcU51Xfz7G1mkPCoPGzHguMprjUqCRJVxOX 8YXX9Yo8DmuTdCmXCHf2g5nsy8AgP/vRgiq/2ufeWHF8MdIu8525Q5/X+bCEhM8H0kmSpB+KY57o A11m4ZzlwSXppEuEO/uDyPJ1MBGnrAB2FxEL3Z1E1Nle6LGk2O/GDgNSVify8m+t3rMedLY/PC5k FLw1qzMA3YNvlYrNOZIk6UriKvZ4ZkrKKEzCeSv0SdIRFwh34pwxrIOUUJBuJSaogozBxx+s0KUT e0yBTkhDThp3w4geL4w+AqSQhAEFc14+hsSFLOShqIOVInRCvi4/DnllRXe7Gzx0GfGymxfu0zrD ip0/saFDl74JMiVJur44jy+8sSJn4bA2ST91mXV33ljSZRLGJOS8fDwQx+GZLh1mYcwK6DDmBXhl QsaCJa87JU3jGMIrZSiZAgkdVvTi7jC2cqtfJmME9OltnnFKSUER5sxJyZnvBzuf1nnFnBdyJmFe D3DLSXi7QG45SZLUSByGMSUFXTrhzS8cJX1fiJcqKCUjY8n4cMhZSMjIgTnTj0dDdiSJAVuPZqQs mcdvJZgOORkJ8705O1/WOeTM43oIXg7fr4GuLUSm8eXn5egctvrfFCbk8aorROs+hZIu/Z8v3/3t 588pydhZqlySznOxcEe6NW+822Cr/02GO39V2+EOQOjSJWHFsN16SPqtrr3ujiRJ0rfFPs+MSeiG WXAFPElnM9yRJEl3LC7jKy8syZiEgakLJJ3HcEeSJN25OI1P9FlRsAjdtmsj6Tcx3JEkSb9AvSJP Qhlm+yv03YuQhzKUoXuv9ZP+IsMdSZL0K8RlfOGVJRmz+1uRJ3TDggldOuSMwsSZRtJ9MNyRJEm/ RhzzTB/osghF27VZC2mYUZIy5yU+xZf4RJ/B/dRP+ssMdyRJ0i8SV5thbYMwuYdhYyFjRgYM4/N6 SdQ45ZnSgEdqn+GOJEn6ZeI8vvDGirz9YW0hY0ICTOPbTh1X9ChD2mpDSTLckSRJv1Ec8lQPa5uF Tlu1CEkd7Kx4PXhwTIL9O1LL/tV2BaQfSJwIKt2KV9ufdGfJAPbFFb0wZkDGKEx5i8sWKjGqW+k1 rg7rF8ArR2qZ4Y5+s4xJ21WQ/gyvNt2lOOc5dOmSMwvD2Lvts4eyDmf66zk7O48mwB3MLZL+thDb roH0TaFsuwZ/1DIO266Cbi0U/OX5B/8j/y//W9uVaNH02I38vQkJJQWw5O129Q0pMxJgyfNh3w6E DiOIoe3Wkf42wx1Jkj4RItP40nYt9LWQMyAFxvRuM6wtTOq+ndc4Pvr4gMJwR2qbqQokSdIDiNP4 RJ8VHWahe/3nC5062JmeCHZSCuAX9I1Jj81wR5IkPYjY45kxCWWYXT29xnpI9duJx6uQa952m0h/ neGOJEl6GHEZX3lhScYkDK63Is9mRlv/+MC5um/HcEdqneGOJEl6KHHKM32gYBGute5N1XezpH/i 8UH1+PGBbpJux3BHkiQ9mLiKPZ6YkjAIk3DxZNChs+nbWR19PK/n9RjsSK0z3JEkSQ8oLuMLryzJ mYXywsPa1kkKTiXmr/p2Vif7fiTdjOGOJEl6UHFcD2vrsgidCxZclXUimAll3fczPN73I+mWXHdH kqRPuO7O7xcySnJgytslVuQJKQtgGZ9OPFotPrriqUm4E1JyUmDF+DbrBUl/i707kiTpocV5fOGN FTmLiwxrq+ftnHh0QPUMb18HOyEPExYM6NKlZBEmV0+fLf05hjuSJOnhxSFPDIEul1qR5/jiol8s Prp1ZBIGTMiBFW/8EwP/MGZ0tVxy0h9luCNJkv6AuIpvvDAnZRJGIf1hcctjfTch2SQpePuyhMFm ZZ6nOIwriKs45IWBAY90SYY7kiTpj4jT+EyPFR1mofx2MXPg+CybUT2QrffVLJxQ1ukOVrxsB05x zpBL55GT/jTDHUmS9IfEPk+MSeiGxfeGtcUVY46s5RPKeiDb8GSC6vWRab1MKbwe9BJNSbB/R7oY wx1JkvSnxFV85YUlKZMw+FZPypBkP1QKnTqEmcavB7Ktg51xnB48tmK9ro+kCzDckSRJf06cxif6 rChYhO75Z9PfHXIWOvWsnTGvDQqoem+Oz/D56awiSTsMdyRJ0p8UezwzJaEMs5Cdfe6USbV0acjC oJ6104+vTdJP1z8cX4Y0B5y7I12M4Y4kSfqj4jK+8MqSjNm5K/LEHj2KEENkRgGMeY69RqdWodXy 2NEhpUM1oE3SRRjuSJKkPyyOeaYPdFmclwI6TuML//DCCy/8E1/jvOGJVVh1PJ1BVYNlw5Ikfelf bVdAkiSpTXFFLwwZkDMIHXqNw5bq3Gnzo2tV382RZUhDeizcCQlFnbxgzjSe/3zSn2bvjiRJ+vPi Mr7wxor8/GFtZ5tWz3jkkW7d87MVCoWMBQVj+vSBQZh8L3229FcZ7kiSJAFxyFM9rG1WJSH4vlCE 9xCPL2Ua58cHq4W87tuZfoRCIWFCQgpxGqexF5+YMjo/l5z0dxnuSJIkARBXscczc1JGYRJ+khK6 JAG6JzK+jWG/9JAy+nh0o6j7ezYBTuzzSnk8kJJ0yHBHkiRpI87jM731sLZvF5Ps/bv7HD3m7JQd sjqVNSzjdhKD+d6/QJwyp+uQNqkZwx1JkqQdsc8TQxK6YfHNsKIPwPxkYoEX0jBYzxEKBSOynTPX NZnSY8l4b0HSKdTLmkr6Qoht10CSpDsWItP40nYt1IaQU5IBY3rx7NTQISPZDnZCQpfVx9KiIaFL wRxIGZNs5u00+LSFER3g+ZwcctJfZbgjSdInDHf+tlBSkLCiH/s/LGlCDozj687eDOI8ZMzqHQ1C mJCwIAF6P62T9Bc4mE2SJOmE2OOZMQllmP1ktkzI6pVz9hIUxHmch2QzMK3fqL+my3UTZUsPxXBH kiTppLiMr7ywJGPyMdvmbOswZ3jksbKetzONva8LCvkmS5sLjkoNGO5IkiR9Kk55pg8ULL655s2K JU88x4NwJ3TrWTtzXr8uJmSbdNVTZ+5ITRjuSJIkfSGuYo8npiSUYXJiNZ3Pzp8CncMAJXTrhNRz XtZJDHYfD5OPQXShw6QeyNYoOJIE/2q7ApIkSb9BXPISOpTkzEKf/rHw5BOvTALbyQVCwoAOAGPe jpcW+2HFKCyZAp3NkLgpr2c+u/RnmZlNkqRPmJlNu0JCly6w4i2OzzozY8KcIdO4Cjk5BQl8nfWt DovmZMCcOePorB2pMcMdSZI+YbijQyGjJAemvJ2zIk+91s5HuoM544+VeNbHHB3UNmMe3758AkkH DHckSfqE4Y6OCwUlCXD2sLaQk5AyZ7kfKoWMCQlzXg8e6TCi3yRzm6RdhjuSJH3CcEenhISSAljS O29Y28kSJ/XqPHuLkUJIWQD/OGNHOpeZ2SRJkr4hruIbL8xJGYVRSH9a3mYpUk4uI1q0/Zql38dw R5Ik6ZviND7TY0WHWSh/WNhHkHO4GGmV+rrT9uuVfh/DHUmSpB+IfZ4Yk9ANi481cr7plT6vR4bG VeWevd6PJOfuSJL0CefuqJmQMyAFhvS+N8MmZMx4OpbprZ65A8TQ9uuUfht7dyRJkn4sTuMTfVYU LEL3WyXMWZ6YnbMu74yk15IqhjuSJEkXEXs8MyahDLNvDWvrURymPAidTRDk8qLS2Qx3JEmSLiQu 4yuvLMmYhDIkZ549Zsxo96yQMdj80m/79Um/j+GOJEnSBcUxz/SBLotwburoHismYZOSIORMNhnb +tHBbNLZTFUgSdInTFWg7wkpA3JgSi/OzzqzpMuQFfCxEg/0Y6/t1yT9RoY7kiR9wnBH3xcKShKg T/+cbG0hp9hZY2dKPzpvR/oWwx1Jkj5huKOfCAldusCS3pHVdD4/s+rbmTN3EJv0fYY7kiR9wnBH PxUyynpY25uBi3RrpiqQJEm6ojiPL/RYkbMIZdu1kf4awx1JkqQri32eGALdsPjWijySvslwR5Ik 6eriKr7xwpyUSRgdLiYq6TqcuyNJalFIyKnWGJl+L/PUVyWEgi7P52TF2jvfuTu6qFBSkLCiH100 VLoBwx1JUktCQpeCOVOWZHTgG7mrviwhlHSBOScDns+DGcMdXVpIKekAc3qml5auzXBHktSKkDAh 4y0ON7+XFAzj22VLCBM+nymxjE+fPovhjq4g5AxIgSG97/c9Svqac3ckSe0YkdFfhyr1zIY5Rehe uISv5kg0Dq+ky4nT+EQfKFic8ZmXdDZ7dyRJLQgFA1Y87X6vHTqMgKcma5M0LSFE5pwaMNSlH3tf PI+9O7qakDKoV+TpxXnbtZEek+GOJKkFYUF6bOBaeCdpNqCtWQkhZ8I/xwcLhRFpfP7yeQx3dFWh Q0kK9Ok7rE26PAezSZJuLnRIgWN9OHOgc8ESEqYngp2CnNe2W0KKY57pA10WocFnX9J5DHckSbdX JQ84NnhnDiQNbvqalpAdPabKjdVrMmhOura4ij2emZIwChNX5JEuy3BHknR7X60qn12shFPzdkZM P5IcSG2L8/jCGytyFqEMSdv1kR6H4Y4k6faq769Pz1P4OtxpWEIcH116tCQxI5vuTRzyVA9rmzms TboUwx1J0o2Fumfmk0xUyTVLCDld3pwUrvsTV7HHC3NSRmHksDbpEgx3JEn35+venZ+UMGDoWva6 V3Ean+mxosMslG3XRvr9DHckSX9KKEnpt10L6TOxzxNjErphEb6apybpU4Y7kqRbu27fzadCSsHQ jGy6d3EVX3lhScokjExdIH2f4Y4k6dZ+fuv2/RK6JDiQTb9CnMYn+qzosAjdtmsj/VaGO5KkPyOk FGC4o98j9nhmTEIZZg5rk77DcEeSdGvz1koogLk52fSbxGV85ZUlGRNX5JHOZ7gjSbq1n4cb3y2h wyWCLenG4pjnekWeRSjaro30uxjuSJJa8sn31A3DmfNKCB3S5mVL9ySuYo8npiQMwiT8PN2H9GcY 7kiSbm2dF+30LdtXPTDfKyHbOVf6ZeIyvvDGipyZw9qkpgx3JEk31iAN9PIqJXSalC3dszjkqR7W Ngudtmsj/QaGO5Kk2zudGy0FmoQkZ5cQ0voR6VeLq9jjmSkpozAJfqqlLxjuSJJurwpWjqXVrQbo jK9QgreFehhxHl/osSJnEcq2ayPdN8MdSdLtVcHIsbkHOTDfHawWklAcTM0+q4TNfulhxD5PDIFu WLgij3Sa4Y4k6ebikiHruTRb6rkIw519CQsGzHa/wz6nhL3ndpFRPYi4im+8MCdlEkYOa5OOM9yR JLWhx4rkYAWRApjG4d6+ZPPY90qomLpXDyhO4zM9VnT2vxKQVDHckSS1IK54BcrtQWqhIGfO696h y71/zy9BemixzzNjErph5rA2aZ/hjiSpFXHKMysmoRsSCFkYMGDKS9xbBjSO6QNL3r5bQs0E1HpY cRlfeWFJxiQMXJFH2hZi2zWQJP1hoSAnJWPKkvF35tU0LSGkDEjpx+E5pUOITONL2+0kNRFKusCK fuy3XRfpXhjuSJL0CcMd/SYhZUAOTOnFedu1ke6Bg9kkSZIeRFzGF15ZkjMLpcPaJMMdSZKkhxLH PNMHuiwOchdKf47hjiRJ0kOJq9jjmSkJgzBxRR79bYY7kiRJDyfO4wtvrMhZOKxNf5nhjiRJ0kOK Q57qYW2z0Gm7NlI7DHckSZIeVFzFHi/MSRmFkcPa9BcZ7kiSJD2wOI3P9FjRYRbKtmsj3ZrhjiRJ 0oOLfZ4YktANi5C3XRvplgx3JEmSHl5cxTdeWJIyCSNTF+jvMNyRJEn6E+I0PtFnRYdF6LZdG+k2 DHckSZL+jNjjmTEJZZg5rE1/geGOJEnSHxKX8ZVXlmRMXJFHj89wR5Ik6Y+JY57rFXkWoWi7NtI1 Ge5IkiT9OXEVezwxJWEQJiFruz7StRjuSJIk/UlxGV94ZUXOzGFtelSGO5IkSX9WHPNUD2ubhU7b tZEuz3BHkiTpD4ur2OOZKSmjMAlp2/WRLstwR5Ik6Y+L8/hCjxU5C4e16bEY7kiSJInY54kh1bA2 V+TRwzDckSRJEhBX8Y0X5qRMwshhbXoMhjuSJEmqxWl8pseKDrNQtl0b6ecMdyRJkrQl9nlmTEI3 OKxNv57hjiRJknbEZXzlhSUZkzAwdYF+M8MdSZIkHYjTWK3IU7AI3bZrI32X4Y4kSZKOij2emJJQ hlnI2q6N9B2GO5IkSTohLuMLryzJmLkij34jwx1JkiR9Io55pg90WYSi7dpI5zHckSRJ0qfiKvZ4 ZkrCIExckUe/ieGOJEmSvhTn8YU3VuQsHNam38NwR5IkSY3EIU/1sLZZ6LRdG6kJwx1JkiQ1VA9r m5MyclibfgPDHUmSJJ0hzuMzPVbkzELZdm2kzxnuSJIk6UyxzxNDErphEfK2ayOdFmLbNZAk6c6E nI/bty7/N//r5rd+XLVdO+l+hJwBKTDmzWtD98lwR5KkPSFlcfSBaXxpu27SvQklBQkr+rHfdl2k Qw5mkyRpT1wyPPqAN3PSgdjjmTEJZZg5rE33x94dSZIOHO3fsW9HOmkzrG1Iz2Ftuif27kiSdOBo /459O9JJccozfaBgEYq2ayN9sHdHkqQjDvp35vG57TpJ9y6kDMiBKb04b7s2Eti7I0nSUXHJeGfH 8JsFSX9IXMYXXtcr8oSk7fpIhjuSJJ2yHe6s9oIfSSfEMU/0gS6z0Gm7NpLhjiRJR8Uxy80vQydf S03FVezxzJSUUZiEtO366G8z3JEk6ZTxkZ8kNRDn8YU3VuQsHNamNpmqQJKkE0LGDIBlfGq7LtJv FBJKCmDJW5y2XRv9TfbuSJJ0QpzXw9ns25G+Ja7iGy/MSZmE0f6wtpCHUds11OMz3JEk6bTx1v9L +oY4jc/0WNFhFsqdh0o6IW+7fnp0hjuSJJ02BpauHyL9TOzzzJiEbpitA5xQkgGDtuumR2e4I0nS SXEOOONA+rG4jK+8sCRjEgYhCSkFAOlej490YaYqkCTpE2HCOLrEqHQhoaQgYcX/w3+12flsD6qu x94dSZI+M7d3R7qcekWeZCvYgZGJqnU99u5I0g2FnEnbdZAe3jS+tF0FfSYk/J/8Zzu7xvG17Vrp Udm7I0mSpFvq7gU70AndtiulR/WvtisgSX+O3zxLV+TAlXsXUo6FNmWYuxCprsHeHUmSJN3OqdTT o5C1XTU9IsMdSZIk3UjocGph0cSUBboGB7NJkiTpRuKYACEhA3ISUjLWQU7KJLzEVdt11GMx3JEk SdJNxRVTNkv4hpScrN4MeHRhhjuSJElqUVwyhDrsyQ14dFmGO5IkSboDccmQofN3dFmGO5IkSbob 9uzosszMJkmSJOlBGe5IkiRJelCGO5IkSZIelHN3JEmS9CeFjIwUgIxenDc4PiVrfvy9+K31bvz6 ErJ6+dqUaRzuPmq4I0mSpLsVJvWNbHPj+NrwyHKr7CYZ4c49/l6cXe+Q0CVlHMdtV72RjMnm5+X+ g4Y7kiRJul/V7fmSMcvNrWxOt/7pbbMvI6FDyhmBSHyB0GHQ9Iz4AiFjUPeU/BrfqHeXLtAJL3Ha du0bvL4pIaR0KY49argjSZKk+5UBvdjf2TcNVbizPXBpCvTC4Pgt72lxHDp0zjh+HqY/CXdCwTQu v3/+d51Z73WL5PyCcAcgLsP4+HtvqgJJkiTds/FesPOJ+Mb5wchtg49BPVvovk33/v3F7N2RJEnS nQoJcN78kfHZc310qMeKlPFvGMr2FcMdSZIk3asMzpwuf9c36OGXhGJxRa/tOlyKg9kkSZJ0v85M mxyXEO43lcAvCXceieGOJEmS7lXC6uxzpnecJPqMpAi6DMMdSZIk3avs3N6dexbKX5Gm4ME4d0eS JEn3aviNc3ofPUIhJa9DjHFsFDiFjARYfi9ZdMjIq/MP002H7ma1oM9KyOsBbyvGcRkSOrFxG5xz bkiqDHankxGEjIR5XB09r97/VWudd3STVjx4xXyUf5y9O5IkSbpT8RthR5xX54QkDJiQsmJJwiws wqdDyUISyrCgpEOXRViEM1fwCZ2wYELKEuiwCINQD6oLaV1ypQyT9bZXQje802HJlCkwCAMmDBo+ +xnnhiQMmFFQMArxo571o0WIIYbIjMl2Uu8wCjFE3plU+0MZFozoMmARFmEvlDvv6CatuHdcHkYh 1u/WLAzCyX4ze3ckSZL0cELCgn582vw+ZMIoDOPbiRNSSqY81/0QCSWDUPDaNNwKJV3mvKyPDwUD 8rD5nTHQIQXmx+cjhZKCl00f1JR+KJuuIXTOuSFjRK9qh5AwoSALL1v9I0v6QHEwA2rKkqReyjMJ M5brVxtyBpShw9tWD9p5RzdtxfV7O6DDnKfNcV0mJ3sCo5ubm5vbzTZyIpO2a+Hm9sgbXmN/Yqv/ +eS9ZsA7A5KtPTmRSHlwZFn/UByUEHknO3F8frDvnXRn34jIbGfP5PDMzWPp0bpNiA1ao9G5db07 LLZfEx0ikW6TV7n1Gt53W4uExbHWOvPoZq2YMDt878nqHw7awcFskiRJejwFCcVmABkQp8yBU0PU +gfzXHosSZoMJgsdusBwrydoCGSNh8QVcKTXp9maQ+ecW9Lf7lWpVzVqniC7One821pxxRuQsD/0 7IyjG7fiiIwVr7vVinP6xytsuCNJkqRHtTujYwokJ5b6PJiyH1f1rXbJV6oj9sKlOGXFeSvtHM4/ aT5zqfG5R9MXnJsx7iCUitWcoexoOoZmRzdqxVCQA8MjyQlOJF0w3JEkSdLj6QMrej8qo7qB/qJ/ JlQzco4lVZhz3ko7RSgPekeavoKm5x4PCi6RIHvcpLVOHd24FbufvIqjDHckSZL0cGIvhvjP0eTT jW/t67NP9QetVSkBjvWlzAFCs3QDVa9Gl0UYhO76GeMq9i987vnLtjY1bdRap45u1Iohq969eEa4 Y2Y2SZIkPbB6FZeMdaBzTk/GigTIP+1NqG7U0yOD3qpHEhqIy/DGANbZzAJM9+e8XOPcy4nLUP2Q N+l7OTi6WSue01dWs3dHkiRJDymkoQzvzMhY0eet4cT/bY2WJgVO9Uv06TctIw553SklZxBmoVmw 9INzL6h5a506ulkrntG3Y++OJEmSHlIo6QJjepvVWa75dPP4s3lCQBwzDh0yMrK6NyNjwvO1z72Y 8wbKHTv6Aq24z3BHkn6hkH46GOMbq5DruJCdGIayiud9iynpxsKIDvD2wyFdDZf5POvIjzqm5Pv1 i+OqDypkdChIyEK30fydH557EedkoTt+dLNWPCuxguGOJP1GxdFUnxsBxkwZx+tNSf2BkNAlZRzP H1ZyeyWnUta+tF212/pV75pEKOnABeavVF94fD54an7mbf6HlM468XIo2UktEOfMw5AJKTlfhCw/ OfdyNkPnGg01Ozi6WSvO63Y7g3N3JOkXir0YYuBpMw69H8N644kX+uQMWDRYLaINXbp0GDXM3tOq +BJDDDxv/oM85TmGGOIfC3b4Ve+axDrB8Se3+qH8+i9knVNt9UUesE8X6gydhjNossOejbikR5M+ k5+cezmdRq116uhGrRjH1RC4cEbAY7gjSb9WXG6WY5tu743T2OOJKQndMLn5VNWvrTPr/Job5zjf BJbDxx7EFoqTNxG/7l3TXxbyqlfm4Ho99+9h9Xn/oocozqu/weFI1rCQMGj8rMcCoynNlhr9ybmX 0mnSWqeObtyK1Rln/CUy3JGkhxRXdZaenPsLeKZ7/17RxV77+pbhLocHXtDg5CCRG75r0tXkZz5W UOUF+8obK44vsNllvjWbcj/8yvbCkcMSEppedT8593wHrRVy8pOt1ezoZq3YZwVHB3SfSFJtuCNJ Dyqu6v+MZJ/P82lBjz5jXs9ZJu57woBZ2y/2YdzsXZPOcOILjTithzzt3GaH7k4i6mwn+FhS7C8H GgakrHg7MQty66uB9cCx/eFxIaPgbWvH/oCtfC8A6h58RVNszvrKT849u4X3WyskDOBkazU6ulkr xhUvrA7X5wlFHe4cJjuIbm5ubm4328iJTC5cXiSSH300rX94b/t1t9beE+ItWvpRNvJHeIVc9Bpz u6eNvN5KJpudI7r13mzn2A6RyIJ0s6fLrPqrwIKUnMXmkZJIh4zFx+efhAGR2V6pGTkFMyKRGR3y rfI7vBMpSbaecbF7foQRkfdqL8VHHTY1m32UWL+KskHLfHFuXe9FXe+iai2SujWrg0pycpKDV1lU e3daK9Ldaa2M2WFrnX9041bMqqO29nRZ0N16JVtntP7BdXNzc/tL223Dna0/8r/+Fvab7WO4c96r LB/hFWK487Db3q+T+oZ88/ve0VkdWgwoKVlUt9Ak9Vlbt9CU1blkTJhRUjLgnQXdgxpMDiq1fcud MOCddyaUjHhnsh1+bI4p61qN1mFP/ciIGQkdFowoKSmZsaBo1DJfnHuk3pOtv2vbW3706K2/C3UA k5NuWmtEPNZa5x/dtBXrdnxnUb/aBQOSndez9WkI8Yc9XJKk5kLOhOnlsnqFnAkAL8eHGG3+yL/8 zSFIYUIeL7Ku4Fct/RjCgvT3v8IQL3mN6XcLCVk9R2T6MWwqZEeSGHw8lpGyZP7dtCQhJyNhvjNn Z/eIlIyM5e5iASFnHtdD8HI4pw4/Offs11ct3voSp9W6QZ+31nlHn9OKO0dN4wpCSqceHDjfblnX 3ZGkh7U1jttlR/WlUJ63loV0/+KK6eFk/c9utuOcH4YJcfpVeoC4ZHk4p+bji4avS7jkuT96rcvG edjOPLrZ69g9Ki6PJ5Uw3JGkx7WeDjs8/e1YyKgSti6ZHh4VEjI235OFrDry0+/aqm/vAMaf3VKE jGT3+7f1s1X/2d595nsX8q1WqmrO6T6S+ttXWDGOy5DQ2V4I8fw2r4/75H3cKjuvp/HufNcNELpf p7Q49q4dKXv66Ws/o6Uk6efMzCZJj6texI3e8YdDJyyYkLIEOizC4KM/KIxCDJF3JkzIIJRhwYgu AxZhEY7eGIckDJiQsmJJwiwsDtdPCEW1GiqzqtwjzwaEkgUFJYv7XtQyDOpXs26lNAyYUVAwCnG7 PTdndMM7HZb1N86DMGDC4Ptt/tX7uPfuvLPOZVSwCGV1XEhDGRabR8owWW+fv2tbZadhwDsdqn7E QXg/yJl0dktJ0mXYuyNJD6pOyrnk9cS38SVd5rys+wJCwYA8rH+fsiSp1z9Iwozl+siQM6AMHd52 e29CwoJ+fNr8PmTCKAzj287TVoMNir3kptvPRhgAT2RMgBH/tN2Sn5jT36p3xohe9XpDwoSCLLzs jM0vKXjZtNuUfii3woez27zB+8imbhMShvTW9QkpJROe6wPGQIcUmB9ZW+j4u7Yuu8OAFc+buvVC lzLkbL/2M1tKjyx0Sej7futm2s6x4ebm5vaXtltlZiNlQGQnmefeEVVuoJ18N4yIzHb2VPl53ndz A5GwIO7mFIow4J3BTrrSqnbliWc/rHWVLylnFImsU4r+qH1ukpmtfjWd3bSqdRrcrexDpMdaY7+O 57R54/exSto62NlX8L5Xv8mpV/jpu9Y5rEH97r3vf/qattQP3yszs935Vn9qT/51crvvjRGRxjkc zzv6OpuD2STpEXRCWW+jMAkLFmT0eIq9Ez07HboczukZAlnYXtG6+r5+HHeml8YVb0DC7hCkgoSC rUFMccqc4ytkH1fN4SjrwXdDltBgNfN7UTDc7nuJ+8sJVi1x+H7sT1g+o82bvY8hYURyMKhxQMLn a8w3EFIGQG9/vlDsMyVh9M2W0uNL6LIIZTA9xi8SspCHor5Wu6ET8s/ev/OOvibDHUl6BNVckClT hkxZAgnJJ9Pbq6BkL0dOvQ754W3nsQxCUyA7Mrl99z9nUyA5c/5NPS0/ruJTDLF31rltSuOxnEPp F7+fyprXrM2bvY9dUmC4F/qutv7/+0oSjq/bPgbycCzYbdZSenxVyDMJzb8SUbtKJvUXJZAzYvLp 11nnHX1FhjuS9AjmcbrZ+vGFN1K6YRayYweHao7GsWxfc9YJDr5S3eBu/8erzydpEc55LbduvAs5 nl9s/ya+WCcI2Hq9Tdtsr80bv4/F0fq9MWX8s/crpHQ4lT+ver7uyUe+ain9FTmD8B4GodlfHrUo vsSwt/UudfQ1mapAkh5QHIaEkoxReD5yK1oFQcd6FebkELIGy9NVt6xJyNdphGPv5K3zeTey3wh3 TvYfJZ88dukk11+XNqQLdCnCmCXzquXiqvGAvf02b/Q+hipB9UG65zg+2idznnXuvyPiMgCkRz5N 15+i/s9+Zjjdlf/2YE9CQRFWjJlfb3lM/VWGO5L0kGI/FKSklLwdPFjdJqdHbgmrRxokBa5vZiE/ /K6+XgMmYx3oXPl7+zD6tEdqcmL/fJOV7EbiMrwxgHWGsgDT/Tk6X5xf/bBu82bv4zXnxFRlf35z mrXQX/fP12sI6Q6tr4wxb+Zt0+UY7kjSo5pSAJ0j4U7leK/AnKb9K/PDFVhCSkFBwpg5fZYUN7nt 7HNqllKH9GTfSQvfIMdhWFFuhX85eShonoL5SJs3fB/bW8qzjUFq/4H/ubXXq6/9T/z7o/vnjNe9 ntLlGO5I0qOqbqG3hpvtmf9wHPXBLXoo6QLjjzxd4SYvNM5PhS4hI72vZAdxzDh0yMjI6t6XbGv1 m68cC4t++j4+ov/oLfM9OzLAdM6Y8SfJVaQfMNyRpEd36tv17KxSDu3dstRDyt6aD876q9azZkJG h4KELHRjs/k7xwamNXsfvzGkLaTkjd7Nzwc/OihJn1kxPEilLl2Umdkk6dEdhjsXGMa1yS5Wf4se SjpwzkyUvyeUYWdoX5zHHs8saRiM7Ld5w/dxund2c+mXWfrm9XFfHyMdWvLGU+wZ7Oi6DHck6dEd fvv/6bKOodPoxrjOybUZNFQlO/6kjyKUfz5bVnb4XsQlPZr2vey3eaP3sV6F58RxIftGGPShqsHR cKcesLR0WJmOWvIWn+LQlAS6PsMdSXp0W7ezIQ0JxHn1jf+xdS5CslkW7nPVuXVfzibZ8f43+T+5 lX5Ex0LJKdDs2+2dNj/jfazOyI8eNfvJe1TXID26VnoV2v082bUeTx3qtF0N/RWGO5L0qNahx3aP wqD+7Y0VHF3husv8YGjJwY1yyMmB+ZcrxlwzCfLvdNjmCcfypjVr82bvY5W5rjgSlHSZbr3b+8Fq 1iAM69Xl7Ne2SilsGgUdEYeGOrolwx1J+s2SvX+3rQcxbedBSqt96yFU+8PLQkZxJHF1EXYGYYWE AbD6WBtjPWBqN+NS6O58t3+4/sp+rdtIWdzUugV+WsfuQf9OwbE+kC/bHJq+j3HFKytgtPvcIaPY WRp2f3BcfnTezU4Zcc4bUBzk2ipJWZ1Mgi5JtxPd3Nzc3G62kROZXKCclJycLrN6x4wuOTnpzlFF /cNg8+yLrUc7vBMpSTZ7uizIdkooiUS6LMg3+zJmRGZ7R3aIRBYfNaDLLMKk2rt+bjJyirreMwpy knpvl/etvflHvX7QThPiD0vI6pZ+r3cs6pbOtl7NYqveWYSEnLxuu0i5fjV1W8y23yU6RMrvtXnz 9zFCxoK4/dzkvFPsHTUi8l6/tuLj03L8XdurQXfze8Jgv7bntdQP37OLXGNubm6PsrVeATc3N7e/ tF0s3Ck3P74z2dyK7904Ryjqxzr17W1n59GEAe+8M6FkxDuT3XBp8zw5KRNmlJSMiCw+bm23js3q m+UBJSWL6gacpL5Jrm/AmRycmB/dGz9u9n/QTj8Pdz5qttvSkxOvZlK/y8de5YgZCR0WjCgpKZmx OAg5zmjzpu9jfVTJO5EJJQMWTA6DJxLK+j0crcOe0+/akRqMKOugbq+257XUD98zwx03N7etLcS2 u5ck6Q8JOROm8eWGz5hU38WTMmV4LEtWyMlImB+Zs7NeOPQlTqtVWEhZMo/zT54tq2eYTD8GXYXs SBKD27z6CXm8zVqnTWqTM4/rQX85HG/Lc9t8q/ST7+PBUcudOTu7R6RkZCwZn5sza1N2g9peU4i3 vcbUrpCR1YNMM3q3/Oy198w6j+GOJN3Q7cOdH9Z369b7N7qvcKdhnX95m7fPcOdvCZOt+WY3vW7a e2adx1QFkiRJ+qXiSwx1Mo4/88w6z7/aroAkSVfTu+tsb/rTQkJeZ/ybfqdn4OvzQ0GX57+wkGcc hw6dn5fT9jOH4vQwU32f4Y4k6WHFOY6n1x0KCV0K5kxZkjEI0ItnLMkaErp0WTIGEiZhyduRkCcl 5T3MT/c/PNCgv/aChEs+84CXFl/JwzLckSSdZt/I7dnmDy8kTMh4qxfbHIc+JaMwjA3XKQoZI1I2 x4c+Iybh7WDxzmzr/4/xxlp/guGOJOmIkJGQ1hNxuyFhxdJBFtdlm/8ZIzL6H8FJXPEWMoqwjP2v Tw4JExKmH8FRXIY3ZgzCcq+H56vQ2WVg78rBYr26EMMdSdIx5VbOoSptcp9e25V6cLb5nxAKclbs BzZ9RpRh3CDAHZGwF6rEeRhSMOBp58iUOadmBXXpm0vszhjuXInhjiTpiAca0/9r2OZ/RBcOVzWK 47AioftVj0soqpWtDsKiKQVpKD76jEIOvBxPVBBGzKOh9L1pJdnCX2AiakmSpBsJHVKOz5qZ0+SG twA40mcz33q0kmwv9rtTh4Kc17ZbQrtC6by9a7F3R5Ik6VaqAUvHMgbOyUlC54sMbScSD8RlAMhC uun3yY7nJQwpJb3HnhUWMhL4fO5bSMnrAGMcv8jguJX0e34qiPxhjbt0Gx33w/Tllyrj0/Kr/sdV /VwZwOfPEzLy6h07noi7KqUqoy5xfs67YLgjSZJ0K1/Nz8j4JNxpMJk9Zz2c7VQC6hHTgxxuDyMk dOmwZElKHpbbKSF2jirJGbNiRcYsLE8nAg8JJUWd9BsKBmFI//TNdsgod3b0Pg+mQkpBZ9OzU4ZN yfvDW0NKl4Jx/eoGIWF47pDEz8s4qDv0YG9fPQwylDuhdy/Ow2Crd/GFaUjpkjMH8pAwpHes1UKH koQxc1I6DMLOcWG01eMZIJQUTElJw2vzUM1wR5Ik6Vaq29rT30xnTQv6tHzg+O17KEkeOCNbSsl0 vbRqSCgZhILX3R6DkLCgHzdpHcKQyalE4CFjws6tekgpmfB8sg4rPoLaMUua9EKMoQ55Tq6SFDoM WPG8CZ56oUsZ8lPzs75Vxoo5UJAAMGTFCrb2rRhuBmIuyTZ9ldP6uD7JOuQJGSN6VZuGhAkFWTio ayjpMudl/Q6FggF52PzOlOVWmQPgiYwJMOKfpq+b6Obm5uZ2s42cyKTtWri5PfLGHV9j5NUPRx8r iURmTc6nPPq641evnZxI3nYrXKVly/qHYm//gMg72d6+dwYkB+160KpkvBMZ7OwreCfS3XvmrVYl JRIZkJ71Cib75ew82iHyvl8iXSLv26/k02doWAbF4Sep3rfXQgz2W2fTHh1m261Oh7jdalvH7tWI EQdXAbOqbRhtahyPX0XHN1MVSJIk3YvPe3d+OuNmwPCh008fDl3rsSRhsLOvIKHYHqIVp3UPxo6Q MCJhtZcOfkDC54MSO6x4jW+Xmx8VUgZwOOMq9pmSMLpsGXHIir1PYr0v2St0yvLE4rgFw+1BfHVf 406rhQ5dYLhXoyGQhWLveQDK+p2oepgarFG1ZrgjSZL0K8TllwHPJ+FSKEnPuUn8hQ5Cubiqb5/L g2PTgzOTvblRXVJguDcAa7X1/0eEkoKXLxJOnKskgaOzusZAvhcc/LyMMZCE3TyBUw4zB+YnZ5ql R+eH7bZ59Z7sHRenO8MBt9WpJ+IqPsVwzqwlwx1JkqTb+OnMnPXt6kHK4s2NenLqxJBSHHyT/hdU IdD2zXwfDvpsjjme9PuNKeNTZ4cB+dbcmIsIKR1O5SKravdlVrczy6j2bIUcIaEDJHuBVYdTSS+O 9yFufW7XKdmPfCJPpWT/dqsa7kiSJN1G8uMSqtvLw7Dp65xtXRIeeSDbCXXosdVzE3sxxH+OhiTb t+NVauSDFMpxHF/i6/F0yWHGWakDGqpu/Y+WWtcjDV8F0meVEccsgSIkW+dX+7ZDoOKTVN9ft0H1 bKdWoOLIK/p2uGNmNkmSpF8iLkOfLmnIt2/DQ0LO9LOQJ6QU8BfDHWBVz7Y5ePX1ei8Z60Bnu9fs 6wByt6yUUV3SRft2+Gytpg/ZF4+fW8aYLtu9NzlTlnTphGQTzuX8ZMheFc6kR4YZVo/8/KuBDXt3 JEmSbuMCN8KxxxAow/btYLmZk3MqoCk4c2nGB3Kk1UMayvDOjIwVfd5O3rg3DRAzZvWxg3DBG/XG 0p8XsVPGTmqBkJIzrkOfephZSOj8KNypHO/d6dO/ZNBo744kSdJtXCTciG9hRZdJ6MVpvTTkPI6/ mK7e4SLB1mMIJV1g/JGnLPy0yC69OAzQJaPbYF7QnYvzsCSlE9K4BDqM44pVmJNRbMKe8QVmgs3P XSj1O+zdkSRJuqlPvv9vFBDFHk9M6YYYIl36scd6CNDRkKaeFv43+3YOZjqFEV3g7fgMnD1Nh7S9 xCHEHlOgGzoNz/pESPcC2M/7jJq9t+eUsd2X06l7rsZAFtKdfT/z8+QdDRjuSJIk3cb69vr0TV7D Hpi4jL34EkMM8bWexZN8cv7paeF/QdUy9c15KOkA4zj84qz18Y2Gpm0SH7yy4jID2tJNdrJ5/ftn vvrcnF9GNVCtAyElrRNrD7f2/Wzmzk37Gg13JEmSbqJBb8I3Q5KwvpE9/o175ydl/251hq/VJrVD 1WfyyfpDoQzlZv2XE/07ITse0MQVb9B06c+GTiQfh00C8uWXi8eeXUZcMqfqy1kPXyOuGNct2DlY j+h7r+pE71noXHIGlOGOJEnSrZy+La1uRb8bklS3jeNjt6AhvchE9t+qapn6hn2TXnq/b+HYzfVw 6/wdIWF2amBYrKb05+HLtXCainOmQBqOvYtVMPdlP8u3yqhef7GTkqAqJfv5ULa6Rhwb+BcSBmZm kyRJ+o0OFnDcqG7vvrxxDVkoj6QlqG5Zjw/Q+jvBzrF2LahyfZ1/Zr9efeaw/bpMP+mp67ECyi/X wtm1H4BlW6Fvr37WPSGpM+41me5/fhnjdft9BIdxWL22zfC2n3hjxe4CsGtd5pdcENdwR5Ik6Vaq m8Rj31znsH+TF5JQ7N40h4QJXQa7AU+95v30xJCmM1eQ+bWWFPshRhiQsuJt3eu1HqIWdtokdHfC zHr9mbiqZ+KMdgdWhYxiK/faQTAUV3XYOTprQNb+4K78IwCKc96AIuy/k2X16poUf34Z9dC1ZC8E H/PTFXfW5S/pAfn+yjsho9irz08D9ujm5ubmdrONnMik7Vq4uT3yxp1fYwyIvB/s7RCJFDv7Et6J RMqtfXn9Q7lzZEnknfTEM5bVD22/8qu2akmkQ8aCfKv9BkRmZEdaevHRWnSZRZhUe8lZbB2dsSAy 2zo65716n8jI6dbv0YicnKQ+YlYf/E53vbfBaxgRea9qS7Fdi7re70S6n7+6L57hzDIoiMTdz1Xd fkfOICOnYEEkMqMgJ4uQkJOvP4OUH+20VaNya0+XxUfpO21cldm4Pbdq1vbH083Nze0vbYY7bm7X 3rjza6wOYoq9vZPDetOtf3jfObv6Id/alxGJdE4+46T6oe1XftVWLavWI2PCjJKSAe8sPm7td9qr CiwGlJQsqpttkjpIWeyFRwkl70QmlAxYMFk/vm7XrS2vP4FH9jb6ZJR1vUbrsGfv8QHvvDOirIOz brOSv18G78wO9i32Q7GT7THZCtBPtMimRhNKRrwz2Q6vjpTZuD0/thB/3hclSWoo5EyYxpe26yE9 rhDv/RoLORNWvHzMiAgFA+a87CYaCJ06v9c8Pm/tHZGytWJMyBmR8HY6sXKYVEOk4o/X0vwdQkZG ypJ5PJnsOCRk1fBBph+tHrIjSQyqR3IyEpafztm5RN1TMjKWx5NO7NTkk1f35bM0LiN0WO4fc2zf j193VaP5ZefsbEo33JGk2zHcka7t/sMdCBkjEvoM4ypkFBRMeT28wQ0lXZa8bt9choQJCeMqRxY5 Hea8fXb7GQbVdPC/Eu5Iuwx3JOmGDHeka/sN4Q5AKMhJyZiyZPzluimH5ybkTFky/SpHVkgZkNL/ cmFN6SEZ7kjSDRnuSNf2W8IdSbdhImpJkiRJD8pwR5IkSdKDMtyRJEmS9KAMdyRJkiQ9KMMdSZIk SQ/KcEeSJEnSgzLckSRJkvSg/tV2BSTpz8ld8kySpNsw3JGkW1px1trp+sR/yv/XdhUu6j/h3/F/ 8R/arsZDmLddAUn3w68YJUm/TsgZ8BYfKnQMJV3gLQ7brokkPRLn7kiSfpWQhhET5o8V7EDsMQQG oWi7JpL0SOzdkST9GiGlSwGseIqrtmtzhdc3oABe47jtmkjSo7B3R5L0K4Q0DFhQ9X0MHzHYgfhW 9/BkbddEkh6FvTuSpLsXOhTkm18ftG+nfq0DCla8RKfbS9IFGO5Iku5YSOlQkO7s7Mde2/W66mue kDPn5XFDOkm6HcMdSdJdChkdcg6HdT103w5ASJiQGfBI0iU4d0eSdJ8yuhybw/Kg83Y+xBUvLMkY tF0TSfr97N2RJN2pUBy94f/n0cMdgJAxIWEY39quiST9bvbuSJLuVBxyeLP/8H079Wuf88KKIpRt 10SSfjfDHUnS3ToS8AzbrtPNXvucHtB12VFJ+gnDHUnSPdudvTP/S+mZ62BvEDpt10SSfi/DHUnS 3arXoPlfNjvGbdfotuKQPi47Kkk/YKoCSdKd+lhwc5O04Cku265VK60wj89t10OSfid7dyRJdykU FMBrnG+Gdc3/XrAD9FiSmbJAkr7nX21XQJKkQ3V/zlucVr/HYYCk7Vq1Ia7CKzO6YR7/2FA+SboE B7NJku5OvepML/bbrsl9CF1KVjz/yd4tSfoRwx1J0p1xic1DYUTHGTySdD7n7kiS7kpIGJEwNtjZ 8eYMHkn6Dnt3JEl3JCRMyJjzEldt1+W+hJwJ8LKezSRJasLeHUnSPRmQsTTYORSn9IFR+JMJGyTp uwx3JEl3IwzosOLVYOeY2GNKwqjtekjSb2K4I0m6E6GzXla07ZrcrVdW5M7gkaTmDHckSXchpAyA vsHOaXHFG9ANWds1kaTfwnBHknQfBiSMXWnnc3HsDB5JOofhjiTpDoSSnKrvQp+KPeakdNuuhyT9 DiailiS1LmTMMMlyQyFnwoonEzpI0tfs3ZEktSxU2cb6BjvNxClTEkxYIEkN2LsjSWpZGFAwj89t 1+P3CCkL4Cku266JJN07e3ckSa0KBYWzds4TlwzB/h1J+pq9O5KkFoWUGQk9M7KdJyQsSJztJElf sXdHktSmkemnvyOuGIL52STpK/buSJJaE0q6LHk2x9j56v6d1zhuuyaSdM8MdyRJLakn3Dsg65tC wYBlfGq7HpJ0zxzMJklqSxcYGux8VxyyJA0OaJOkT9i7I0lqRUhZsOLZZMrf54KjkvQVe3ckSe0Y AEODnZ+oFxzttF0PSbpfhjuSpBaEnJwVZmT7qTFQtF0JSbpfhjuSpDZU83YchPVDcciKLKRt10OS 7pXhjiTp5uzbuaAxOJxNkk4x3JEk3Z59O5czxXBHkk4yM5sk6cbMJ3ZZ4Z2EJ5M+SNIx9u5Ikm7N vp3LGmK6Akk6wd4dSdJN2bdzaSFjxjI+tV0PSbpH9u5Ikm6rA/QNdi4nzlmShqztekjSPTLckSTd Vocqm5gux+xsknSC4Y4k6YZCTsLcafUXZrgjSScY7kiSbimnSp2sC6qHsyVt10OS7o/hjiTplhzK dh1LwNk7knTAcEeSdDMhJWUZ523X4wHNgbTtSkjS/THckSTdTgeHsl2P4Y4kHTDckSTdjjN3rmUK OHdHkg4Y7kiSbiQk5BCduXMt9u5I0gHDHUnSrZim4GriFFMVSNIRhjuSpFtJqTKI6RpWDmaTpEOG O5KkWzLcuZY5hLztSkjSvTHckSTdSoLhzvXYspJ0hOGOJOlWnEp/TbauJB1huCNJkiTpQRnuSJJu KLrqzrUktq4kHQqx7RpIkv6I8E4SQ9u1eFQhgq0rSfvs3ZEk3YqJkq9r1XYFJOn+GO5Ikm7HG/Ir CRkwb7sWknR/DHckSbdj/8612LKSdJThjiTpVuZ1L4Suw94dSTpguCNJupUlrg5zLXnbFZCk+2S4 I0m6lSVg78515Ni7I0lHGO5Ikm5liuHOVYSMjGUct10PSbo/hjuSpFtxMNu1dACDHUk6wmVGJUk3 E95J+CeajvrCwoKU5+hgNkk6YO+OJOl25jic7eJCRsrSYEeSjjHckSTdzpxq4JUuyaFsknSSg9kk STcTUhbAU1y2XZNHEt5JHMomScfZuyNJupm4ZAgUbdfjkYSChLnBjiQdZ++OJOmGQsaMFU+mK7iM kLAg4S0O266JJN0ne3ckSTcU50xJ6LZdj4dRkjA12JGkU+zdkSTdVMiZsIxPbdfjEYScCSuenQsl SafYuyNJuqk4ZU4anL/zYyFhAAwNdiTpNMMdSdKtDYEyJG1X49frkjKPvbarIUn3zMFskqSbCzMy pvGl7Xr8ZiFjBiaglqTP2bsjSbq9F1bkoWy7Gr9XPZCtb7AjSZ+zd0eS1IKQMwFe47jtmvxGIWFC xpwXE3pL0ufs3ZEktSBO6QGDkLVdk9/HYEeSmrN3R5LUkjCi4037uepgx6VaJakRe3ckSW15Y06G M3jOUwU7BomS1IjhjiSpJXHFGyuKMDEpdVNhUAc7piiQpEYczCZJalHImJA4pK2JkFBSGOxI0jns 3ZEktSjOeWZOxsKkBZ8LGRODHUk6l+GOJKlVcckLcxImodN2Xe5X6DKrs7EZ7EjSGQx3JEkti6v4 zJCEUSjarss9CkkYUQJDgx1JOpdzdyRJdyGUdIE+fWfxbAsZI1JWvLkkqySdz3BHknQnQsEAvLHf VgeBc17jsu26SNJv5GA2SdKdiEOemJIwCpOQtl2b9oU8TKoer/hssCNJ32PvjiTproSCkoQVw9hr uy4ttkJGSQ4seYvTtmsjSb+X4Y4k6c7U68vAnN5fvNUPKV0KYMXQmUyS9DOGO5KkOxRyBqTAkPFf CnlCQpcuYNIGSboIwx1J0p2qp+nDlP5fCHlCQpeCBBjSd7aOJF2C4Y4k6W5tBQBL+nHYdn2u+Eoz CjokwJSeq+tI0qUY7kiS7lpIKChIgSVDho82wCskdCjIABgz/Av9WJJ0O4Y7kqRfIBR0Samm748f pfdjq09nxZChA9gk6dIMdyRJv0TI6ZIDsGT8u4OekJJv+nSmjB95oJ4ktclwR5L0i4SMDh2qRUh/ ZdATMjrkdaBjn44kXZnhjiTp1zkIeqb3P+MlJOTk9dA1WDFlap+OJF2b4Y4k6ZfaCXpgypw50/tL ZRAycvJ6GB7Mmf6G8EySHoPhjiTpVwsZHbJNMFGFE3cQ9oSMjHSnZmPmjB26Jkm3ZLgjSXoIISff CS6WzFmyZHnLnpQjQU4dgMVx2y0kSX+R4Y4k6aGErA57kq2dS5bMWTFnftlen5CQkZDB5t+1OXOW zB22JkltMtyRJD2kkJKSk5CS7YQ+sGIOrFh+/PxVfrfwEcqsS9sPbyoGOZJ0Vwx3JEkPLyRkdXiS blIbXMaSJUtW9bA55+VI0p0x3JEk/TmhCnqq/0/qACj/5IQl60BmvrXH8EaS7p7hjiRJkqQH9W/a roAkSZIkXYfhjiRJkqQHZbgjSZIk6UEZ7kiSJEl6UIY7kiRJkh6U4Y4kSZKkB2W4I0mSJOlBGe5I kiRJelCGO5IkSZIelOGOJEmSpAf1r7YrIEnS9YWEnAyAaZxe8/yQkZNURzKPq7ZfuST9bfbuSJIe XEhCyYKCFXNgEBahc53zQx4WjEgBSJmwCIOQtP36JekvC7HtGkiSdEUhYULGWxxufi8pGMa3S58f Sjr04njze84EWPES5223giT9VYY7kqSHFibk9GNvZ9+MjF7sX/L80KHkeXfwWijpAiueHNQmSe1w MJsk6YGFgpwV+4FNHyhDetHzS1JmodjZV/X0JHTbbgdJ+qsMdyRJj6wLjPf7VuKYVf3Yhc4PCSmQ Mtg5bj2ILWu7GSTprzLckSQ9rNAhBZZHHpoDXyYs+On5kqS2Ge5Ikh5XDlShyb45kHyZoa3x+XFF lcpgdz7POiubM3ckqSWGO5Kkx5V/8fhXg8zOOD++8czTbkqDzePfWOlHknQJLjMqSXpcVTKB030r X4U7Z51/JN10FS4t10msJUm3Zu+OJOlBhbpv5pNVb5Krnp9Q5WlruMKPJOnyDHckSX/XTzOmfX5+ ScKKt+hQNklqjeGOJEkXF7IwomDKiwPZJKlNzt2RJD2q6/bdnBDeN0PcxvTi8jtlSJIuxd4dSdKj Sto4P/4TQww88UbGIkyCS4xKUosMdyRJuri4jEOemZMzC0XbtZGkv8twR5L0qObtnh9XVKvwDL5c zlSSdCWGO5KkR7Vq+XzitA6ZBuGnA+skSd9iuCNJenCfhBqNApofnV8loV6vwCNJujHDHUnSo1pn RTudLGB+1fPhIyDK224MSfqbDHckSQ+qQRLo5aXOD0V4D++hPDhiHRAZ7khSKwx3JEmPa3rykRT4 Itxpfn5IGZCQ0D2ZdvrH84AkSd9huCNJelxVuHKsZ6WajzO+0PnpZn+6d9z63J9miZMkfYvhjiTp cVXhyLFUAzkw3x2uFpJQ7PXOND1//e/qZFhzup9IknRFhjuSpIcVlwyBg1Vv6nVwhjv7EhYMmG3P v2l6flyyZEWfl4P5PtWRq93nkiTdiuGOJOmR9ViRhP000AUwjcO9fcnmsfPPfyNhGff6dkKnHtz2 Fp27I0mtMNyRJD2wuOIVKLcHqYWCnDmve4fuD0w76/w45Y1BKLfX6AkZAwDe4ldzhCRJVxJi2zWQ JOmqQsaIhD7DuAoZBQVTXg/7W0JJlyWvB300Tc/PGZAwZs4SyClIWPIWnbcjSa0x3JEk/QGhICcl Y8qS8fkBSNPzQ4eMjAyYs2Rqv44ktctwR5IkSdKDcu6OJEmSpAdluCNJkiTpQRnuSJIkSXpQhjuS JEmSHpThjiRJkqQHZbgjSZIk6UEZ7kiSJEl6UIY7kiRJkh6U4Y4kSZKkB2W4I0mSJOlBGe5IkiRJ elCGO5IkSZIe1P8PfuYFPwfdF6gAAAAldEVYdGRhdGU6Y3JlYXRlADIwMTUtMTEtMDZUMTE6Mzc6 MjEtMDU6MDDuliCYAAAAJXRFWHRkYXRlOm1vZGlmeQAyMDE1LTExLTA2VDExOjM3OjIxLTA1OjAw n8uYJAAAABR0RVh0cGRmOlZlcnNpb24AUERGLTEuNSAFXAs5AAAAAElFTkSuQmCC\" /> </svg>\"\"\")"
   ]
  },
  {
   "cell_type": "markdown",
   "metadata": {},
   "source": [
    "Simulate this system for 12 hours. Based on 1 replication:\n",
    "\n",
    "\n",
    "* What is the **average transit time** (total time in system) for tablets?\n",
    "* What is the time average number of tablets in the system?"
   ]
  },
  {
   "cell_type": "markdown",
   "metadata": {},
   "source": [
    "* Let's take a look at some SimPy code that simulates this system."
   ]
  },
  {
   "cell_type": "markdown",
   "metadata": {},
   "source": [
    "* First, some setup code."
   ]
  },
  {
   "cell_type": "code",
   "execution_count": null,
   "metadata": {
    "collapsed": true
   },
   "outputs": [],
   "source": [
    "##### Setup #####\n",
    "# Import everything from SimPy\n",
    "from SimPy.Simulation import *\n",
    "\n",
    "# Import bisect_left from bisect\n",
    "from bisect import bisect_left\n",
    "\n",
    "# Import various functions from NumPy\n",
    "from numpy import inf\n",
    "\n",
    "# Import seed initializer and random sampling functions from NumPy\n",
    "from numpy.random import seed, rand, exponential"
   ]
  },
  {
   "cell_type": "markdown",
   "metadata": {},
   "source": [
    "* To make our lives a bit easier, let's assign each station an index:\n",
    "    - Station 0 = Repair Station\n",
    "    - Station 1 = Inspection Station\n",
    "    - Station 2 = Repair + Inspection Station\n",
    "\n",
    "\n",
    "* Let's also include a <span style=\"color:#d00000\">dummy station</span> &mdash; Station 3 &mdash; representing tablets being shipped back to their owners.\n",
    "\n",
    "\n",
    "* Based on this, the code below sets up some parameters for the problem."
   ]
  },
  {
   "cell_type": "code",
   "execution_count": null,
   "metadata": {
    "collapsed": true
   },
   "outputs": [],
   "source": [
    "##### Parameters #####\n",
    "class P:\n",
    "    # Number of stations (aside from \"shipped back to customer\")\n",
    "    nStations = 3\n",
    "    \n",
    "    # Station capacity: each station has capacity 4\n",
    "    stationCapacity = 4\n",
    "    \n",
    "    # Tablets arrive at the entrance with exponentially distributed\n",
    "    # interarrival times with mean 15\n",
    "    interarrivalTimeMean = 15\n",
    "\n",
    "    # Simulation time: 12 hours\n",
    "    simulationTimeMax = 12 * 60\n",
    "    \n",
    "    # Service times at the three stations: exponentially distributed with some mean\n",
    "    serviceTimeMean = [85, 35, 130]\n",
    "    \n",
    "    # Transition matrix between stations\n",
    "    #   i.e. P.transition[i] is the list of transition \n",
    "    #   probabilities **from** station i\n",
    "    transition = [[0, 1, 0, 0], [0, 0, 0.07, 0.93], [0, 0, 0.03, 0.97], [0, 0, 0, 1]]"
   ]
  },
  {
   "cell_type": "markdown",
   "metadata": {},
   "source": [
    "* <span style=\"color:#004276;\">**Quick check.**</span> How can we access the mean service time at the inspection station?"
   ]
  },
  {
   "cell_type": "code",
   "execution_count": null,
   "metadata": {
    "collapsed": false
   },
   "outputs": [],
   "source": [
    "# Mean service time at the inspection station\n"
   ]
  },
  {
   "cell_type": "markdown",
   "metadata": {},
   "source": [
    "* <span style=\"color:#004276;\">**Quick check.**</span> How can we access the transition probabilities from the combined repair and inspection station?"
   ]
  },
  {
   "cell_type": "code",
   "execution_count": null,
   "metadata": {
    "collapsed": false
   },
   "outputs": [],
   "source": [
    "# Transition probabilities from the combined repair and inspection station\n"
   ]
  },
  {
   "cell_type": "markdown",
   "metadata": {},
   "source": [
    "* Next, we define a function `D.nextStation()` that randomly generates where the tablet moves next, <span style=\"color:#d00000\">based on where it is currently located</span>."
   ]
  },
  {
   "cell_type": "code",
   "execution_count": null,
   "metadata": {
    "collapsed": true
   },
   "outputs": [],
   "source": [
    "##### Distributions #####\n",
    "class D:\n",
    "    # Next station\n",
    "    # Based on transition matrix defined above\n",
    "    def nextStation(currentStation):\n",
    "        # List of possible values, including -inf\n",
    "        a = [-inf, 0, 1, 2, 3]\n",
    "\n",
    "        # cdf at above values\n",
    "        # list[i:j] = [list[i], list[i+1], ..., list[j-1]]\n",
    "        pmf = P.transition[currentStation]\n",
    "        cdf = [0, sum(pmf[0:1]), sum(pmf[0:2]), sum(pmf[0:3]), sum(pmf[0:4])]\n",
    "\n",
    "        # Generate variate\n",
    "        u = rand()\n",
    "        i = bisect_left(cdf, rand())\n",
    "        variate = a[i]\n",
    "\n",
    "        # Return variate\n",
    "        return variate    "
   ]
  },
  {
   "cell_type": "markdown",
   "metadata": {},
   "source": [
    "* <span style=\"color:#004276\">**Quick check.**</span> What does the variable `cdf` look like when `currentStation` is equal to 2?"
   ]
  },
  {
   "cell_type": "code",
   "execution_count": null,
   "metadata": {
    "collapsed": true
   },
   "outputs": [],
   "source": [
    "# cdf when currentStation == 2\n"
   ]
  },
  {
   "cell_type": "markdown",
   "metadata": {},
   "source": [
    "* Since we will have tablets located at different stations/resources, it will be useful to use a **global variable** to keep track of the total number of tablets in the system.\n",
    "\n",
    "\n",
    "* Like we have done in this class with parameters, resources, monitors, distributions, and streams, we will also put all global variables in a common class for organizational purposes."
   ]
  },
  {
   "cell_type": "code",
   "execution_count": null,
   "metadata": {
    "collapsed": true
   },
   "outputs": [],
   "source": [
    "##### Global variables #####\n",
    "class G:\n",
    "    # Current number of tablets in the system\n",
    "    nTabletsCurrent = None"
   ]
  },
  {
   "cell_type": "markdown",
   "metadata": {},
   "source": [
    "* Before we inspect the processes defined in this SimPy simulation, let's look at how the resources and monitors are defined.\n",
    "\n",
    "\n",
    "* Pay special attention to how the resources are activated in `model()`."
   ]
  },
  {
   "cell_type": "code",
   "execution_count": null,
   "metadata": {
    "collapsed": true
   },
   "outputs": [],
   "source": [
    "##### Resources #####\n",
    "class R:\n",
    "    # Server\n",
    "    station = None\n",
    "    \n",
    "    \n",
    "##### Monitors #####\n",
    "class M:\n",
    "    transit = None\n",
    "    tablets = None\n",
    "    \n",
    "\n",
    "##### Experiment #####\n",
    "def model():\n",
    "    # Initialize SimPy \n",
    "    initialize()\n",
    "\n",
    "    # Initialize seed\n",
    "    seed(421)\n",
    "\n",
    "    # Create a **list** of resources for the 3 stations\n",
    "    # R.station[0] = repair\n",
    "    # R.station[1] = inspection\n",
    "    # R.station[2] = combined repair + inspection\n",
    "    R.station = []\n",
    "    for i in range(P.nStations):\n",
    "        R.station.append(Resource(capacity = P.stationCapacity))\n",
    "    \n",
    "    # Create monitors\n",
    "    M.transit = Monitor()\n",
    "    M.tablets = Monitor()\n",
    "    \n",
    "    # Initialize values of global variables\n",
    "    G.nTabletsCurrent = 0\n",
    "\n",
    "    # Activate the entrance (to generate customers)\n",
    "    e = Entrance()\n",
    "    activate(e, e.behavior())\n",
    "    \n",
    "    # Run the simulation\n",
    "    simulate(until = P.simulationTimeMax)"
   ]
  },
  {
   "cell_type": "markdown",
   "metadata": {},
   "source": [
    "* Now we're ready to look at the processes defined in this SimPy simulation. \n",
    "\n",
    "\n",
    "* We have two processes:\n",
    "    - `Tablet` represents how a tablet moves through the facility.\n",
    "    - `Entrance` generates tablets entering the facility.\n",
    "    \n",
    "\n",
    "* Let's look at the `Tablet` process first. The comments are missing &mdash; let's see if we can decipher what's going on."
   ]
  },
  {
   "cell_type": "code",
   "execution_count": null,
   "metadata": {
    "collapsed": true
   },
   "outputs": [],
   "source": [
    "##### Processes #####\n",
    "# Tablet\n",
    "class Tablet(Process):\n",
    "    def behavior(self):\n",
    "        G.nTabletsCurrent += 1\n",
    "        M.tablets.observe(G.nTabletsCurrent)\n",
    "        \n",
    "        currentStation = 0\n",
    "        \n",
    "        start = now()\n",
    "        \n",
    "        while True:\n",
    "            yield request, self, R.station[currentStation]\n",
    "\n",
    "            serviceTime = exponential(scale = P.serviceTimeMean[currentStation])\n",
    "            yield hold, self, serviceTime\n",
    "\n",
    "            yield release, self, R.station[currentStation]\n",
    "\n",
    "            currentStation = D.nextStation(currentStation)\n",
    "            \n",
    "            if currentStation == 3:\n",
    "                break\n",
    "        \n",
    "        stop = now()\n",
    "        M.transit.observe(stop - start)\n",
    "        \n",
    "        G.nTabletsCurrent -= 1\n",
    "        M.tablets.observe(G.nTabletsCurrent)"
   ]
  },
  {
   "cell_type": "markdown",
   "metadata": {},
   "source": [
    "* The `Entrance` process looks like the entrance processes we've used in the past."
   ]
  },
  {
   "cell_type": "code",
   "execution_count": null,
   "metadata": {
    "collapsed": true
   },
   "outputs": [],
   "source": [
    "# Entrance\n",
    "class Entrance(Process):\n",
    "    def behavior(self):\n",
    "        # At the start of the simulation, no customers have arrived\n",
    "        nTablets = 0\n",
    "        \n",
    "        # Customer arrivals\n",
    "        while True:\n",
    "            # Wait until the next arrival\n",
    "            interarrivalTime = exponential(scale = P.interarrivalTimeMean)\n",
    "            yield hold, self, interarrivalTime\n",
    "            \n",
    "            # Create a new tablet\n",
    "            t = Tablet(name=\"Tablet {0}\".format(nTablets))\n",
    "            \n",
    "            # Activate the tablet's behavior\n",
    "            activate(t, t.behavior())\n",
    "\n",
    "            # Count this new tablet\n",
    "            nTablets += 1     "
   ]
  },
  {
   "cell_type": "markdown",
   "metadata": {},
   "source": [
    "* Now that we have a good feel for what the code does, let's run the model."
   ]
  },
  {
   "cell_type": "code",
   "execution_count": null,
   "metadata": {
    "collapsed": false
   },
   "outputs": [],
   "source": [
    "# Run the model!\n",
    "model()"
   ]
  },
  {
   "cell_type": "markdown",
   "metadata": {},
   "source": [
    "* To compute the average transit time:"
   ]
  },
  {
   "cell_type": "code",
   "execution_count": null,
   "metadata": {
    "collapsed": false
   },
   "outputs": [],
   "source": [
    "# Compute average transit time\n"
   ]
  },
  {
   "cell_type": "markdown",
   "metadata": {},
   "source": [
    "* To compute the time average number of tablets in the system:"
   ]
  },
  {
   "cell_type": "code",
   "execution_count": null,
   "metadata": {
    "collapsed": false
   },
   "outputs": [],
   "source": [
    "# Compute time average number of tablets in the system\n"
   ]
  },
  {
   "cell_type": "markdown",
   "metadata": {},
   "source": [
    "## If we have time &mdash; with a neighbor..."
   ]
  },
  {
   "cell_type": "markdown",
   "metadata": {},
   "source": [
    "The Simplex Company is considering eliminating the combined repair-and-inspection station and instead sending tablets that fail inspection back to the primary repair station. The service times and failure rates remain the same.\n",
    "\n",
    "Simulate this proposed system. Based on 1 replication:\n",
    "\n",
    "\n",
    "* What is the average transit time (total time in system) for tablets?\n",
    "* What is the time average number of tablets in the system?"
   ]
  },
  {
   "cell_type": "code",
   "execution_count": null,
   "metadata": {
    "collapsed": false
   },
   "outputs": [],
   "source": []
  }
 ],
 "metadata": {
  "kernelspec": {
   "display_name": "Python 3",
   "language": "python",
   "name": "python3"
  },
  "language_info": {
   "codemirror_mode": {
    "name": "ipython",
    "version": 3
   },
   "file_extension": ".py",
   "mimetype": "text/x-python",
   "name": "python",
   "nbconvert_exporter": "python",
   "pygments_lexer": "ipython3",
   "version": "3.4.3"
  }
 },
 "nbformat": 4,
 "nbformat_minor": 0
}
