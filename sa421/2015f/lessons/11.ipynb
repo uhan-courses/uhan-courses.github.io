{
 "cells": [
  {
   "cell_type": "markdown",
   "metadata": {},
   "source": [
    "# Lesson 11. Random variate generation"
   ]
  },
  {
   "cell_type": "markdown",
   "metadata": {},
   "source": [
    "### SA421 Fall 2015"
   ]
  },
  {
   "cell_type": "markdown",
   "metadata": {},
   "source": [
    "## NumPy's pseudo-random number generator"
   ]
  },
  {
   "cell_type": "markdown",
   "metadata": {},
   "source": [
    "* The **`rand`** function from `numpy.random` is a pseudo-random number generator: it outputs random samples from a uniform distribution on $[0,1]$.\n",
    "    \n",
    "    \n",
    "* `rand()` (without any arguments) outputs 1 sample.\n",
    "\n",
    "\n",
    "* We could also generate pseudo-random numbers using `uniform(low = 0, high = 1)` from `numpy.random`, like we did earlier to generate random samples from uniform distributions."
   ]
  },
  {
   "cell_type": "code",
   "execution_count": null,
   "metadata": {
    "collapsed": false
   },
   "outputs": [],
   "source": [
    "# Import pseudo-random number generator from numpy.random\n",
    "from numpy.random import rand"
   ]
  },
  {
   "cell_type": "markdown",
   "metadata": {},
   "source": [
    "## The inverse transform method: the discrete case"
   ]
  },
  {
   "cell_type": "markdown",
   "metadata": {},
   "source": [
    "* Let's implement the pseudocode for the inverse transform method in the discrete case.\n",
    "\n",
    "\n",
    "1. Generate pseudo-random number $u$\n",
    "2. Find $a_i$ such that $F_X(a_{i-1}) < u \\le F_X(a_i)$\n",
    "3. Set $x \\leftarrow a_i$\n",
    "4. Output $x$, random variate of $X$"
   ]
  },
  {
   "cell_type": "markdown",
   "metadata": {},
   "source": [
    "* To \"Find $a_i$ such that $F_X(a_{i-1}) < u \\le F_X(a_i)$\", we can write an `if` statement nested in a `for` loop (try this on your own).\n",
    "\n",
    "\n",
    "* A better way: we can use **`bisect_left`** from **`bisect`**. [(Documentation for the `bisect` package)](https://docs.python.org/2/library/bisect.html)\n",
    "\n",
    "\n",
    "* `bisect_left(b, x)` returns the index of the first item greater than or equal to `x` in the <span style=\"color:#a00000;\">sorted</span> list `b`.\n",
    "\n",
    "\n",
    "* Careful! `b` must be sorted!\n",
    "\n",
    "\n",
    "* Let's try a few examples:"
   ]
  },
  {
   "cell_type": "code",
   "execution_count": null,
   "metadata": {
    "collapsed": true
   },
   "outputs": [],
   "source": [
    "# Import bisect_right from bisect\n",
    "from bisect import bisect_left\n",
    "\n",
    "# Here's a sorted list of values\n",
    "b = [0, 0.125, 0.5, 0.875, 1]"
   ]
  },
  {
   "cell_type": "code",
   "execution_count": null,
   "metadata": {
    "collapsed": false
   },
   "outputs": [],
   "source": [
    "# Let's try bisect_left for different values of x\n",
    "# Guess the output before running this cell!\n",
    "print(\"bisect_left(b, 0.2) = {0}\".format(bisect_left(b, 0.2)))"
   ]
  },
  {
   "cell_type": "code",
   "execution_count": null,
   "metadata": {
    "collapsed": false
   },
   "outputs": [],
   "source": [
    "# Let's try bisect_left for different values of x\n",
    "# Guess the output before running this cell!\n",
    "print(\"bisect_left(b, 0.1) = {0}\".format(bisect_left(b, 0.1)))"
   ]
  },
  {
   "cell_type": "code",
   "execution_count": null,
   "metadata": {
    "collapsed": false
   },
   "outputs": [],
   "source": [
    "# Let's try bisect_left for different values of x\n",
    "# Guess the output before running this cell!\n",
    "print(\"bisect_left(b, 0.9) = {0}\".format(bisect_left(b, 0.9)))"
   ]
  },
  {
   "cell_type": "markdown",
   "metadata": {},
   "source": [
    "* Before we try to implement a random variate generator, it will be useful to have an \"infinity\" value\n",
    "\n",
    "\n",
    "* Luckily, NumPy provides such an object:"
   ]
  },
  {
   "cell_type": "code",
   "execution_count": null,
   "metadata": {
    "collapsed": true
   },
   "outputs": [],
   "source": [
    "# Import infinity from numpy\n",
    "from numpy import inf"
   ]
  },
  {
   "cell_type": "markdown",
   "metadata": {},
   "source": [
    "**Example.** Using the inverse transform method, generate 50 random variates from a discrete random variable $X$ with cdf\n",
    "\n",
    "$$F_X(a) = \\begin{cases}\n",
    "    0 & \\text{if } a < 2\\\\\n",
    "    0.3 & \\text{if } 2 \\le a < 4\\\\\n",
    "    0.8 & \\text{if } 4 \\le a < 7\\\\\n",
    "    1 & \\text{if } a \\ge 7\n",
    "\\end{cases}$$"
   ]
  },
  {
   "cell_type": "code",
   "execution_count": null,
   "metadata": {
    "collapsed": false
   },
   "outputs": [],
   "source": [
    "# Number of random variates desired\n",
    "nVariates =\n",
    "\n",
    "# Sorted list of values that X can take, including -inf\n",
    "a =\n",
    "\n",
    "# cdf at each value that X can take\n",
    "cdf =\n",
    "\n",
    "# List of random variates\n",
    "variates = []\n",
    "for k in range(nVariates):\n",
    "    # Generate pseudo-random number\n",
    "    u = \n",
    "    # Find a[i] such that F_X(a[i-1]) < u <= F_X(a[i])\n",
    "    x = \n",
    "    \n",
    "    # Add random variate to list of variates\n",
    "    variates.append(x)\n",
    "\n",
    "# Print list of variates\n",
    "print(\"variates = {0}\".format(variates))"
   ]
  },
  {
   "cell_type": "markdown",
   "metadata": {},
   "source": [
    "## The inverse transform method: the continuous case"
   ]
  },
  {
   "cell_type": "markdown",
   "metadata": {},
   "source": [
    "* Now, let's implement the pseudocode for the inverse transform method in the continuous case.\n",
    "\n",
    "\n",
    "1. Generate pseudo-random number $u$\n",
    "2. Set $x \\leftarrow F_X^{-1}(u)$\n",
    "3. Output $x$, random variate of $X$\n",
    "\n",
    "\n",
    "\n",
    "* **Pro tip.** Random variable objects from `scipy.stats` have a built-in method for inverse cdfs: **`.ppf()`**.\n",
    "    - So, for example, to get the inverse cdf of an exponential random variable, we can use `expon.ppf()`.\n",
    "    - [Here](http://docs.scipy.org/doc/scipy/reference/generated/scipy.stats.expon.html) is the documentation for `expon` in `scipy.stats`."
   ]
  },
  {
   "cell_type": "markdown",
   "metadata": {},
   "source": [
    "**Example.** Using the inverse transform method, generate 50 random variates from a continuous random variable $X$ with cdf\n",
    "\n",
    "$$F_X(a) = \\begin{cases}\n",
    "    0 & \\text{if } a < 0\\\\\n",
    "    a^2 & \\text{if } 0 \\le a < 1\\\\\n",
    "    1 & \\text{if } a \\ge 1\n",
    "\\end{cases}$$"
   ]
  },
  {
   "cell_type": "code",
   "execution_count": null,
   "metadata": {
    "collapsed": false
   },
   "outputs": [],
   "source": [
    "# Import square root from numpy\n",
    "from numpy import sqrt\n",
    "\n",
    "# Number of random variates desired\n",
    "nVariates =\n",
    "\n",
    "# List of random variates\n",
    "variates = []\n",
    "for k in range(nVariates):\n",
    "    # Generate pseudo-random number\n",
    "    \n",
    "    # Compute random variate\n",
    "    \n",
    "    # Add random variate to list of variates\n",
    "\n",
    "# Print list of variates\n",
    "print(\"variates = {0}\".format(variates))"
   ]
  }
 ],
 "metadata": {
  "kernelspec": {
   "display_name": "Python 3",
   "language": "python",
   "name": "python3"
  },
  "language_info": {
   "codemirror_mode": {
    "name": "ipython",
    "version": 3
   },
   "file_extension": ".py",
   "mimetype": "text/x-python",
   "name": "python",
   "nbconvert_exporter": "python",
   "pygments_lexer": "ipython3",
   "version": "3.4.3"
  }
 },
 "nbformat": 4,
 "nbformat_minor": 0
}
