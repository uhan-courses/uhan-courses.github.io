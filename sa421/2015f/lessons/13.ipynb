{
 "cells": [
  {
   "cell_type": "markdown",
   "metadata": {},
   "source": [
    "# Lesson 13. SimPy &mdash; balking and reneging"
   ]
  },
  {
   "cell_type": "markdown",
   "metadata": {},
   "source": [
    "### SA421 Fall 2015"
   ]
  },
  {
   "cell_type": "markdown",
   "metadata": {},
   "source": [
    "## Setup"
   ]
  },
  {
   "cell_type": "markdown",
   "metadata": {},
   "source": [
    "* Nothing new here today!"
   ]
  },
  {
   "cell_type": "code",
   "execution_count": null,
   "metadata": {
    "collapsed": false
   },
   "outputs": [],
   "source": [
    "##### Setup #####\n",
    "# Import RandomState and rand from NumPy\n",
    "from numpy.random import RandomState, rand\n",
    "\n",
    "# Import everything from SimPy\n",
    "from SimPy.Simulation import *\n",
    "\n",
    "# Import plot function from Matplotlib\n",
    "from matplotlib.pyplot import plot\n",
    "\n",
    "# Run Matplotlib magic to show plots directly in the notebook\n",
    "%matplotlib inline\n",
    "\n",
    "# Make Matplotlib plots display as SVG files, which are cleaner\n",
    "from IPython.display import set_matplotlib_formats\n",
    "set_matplotlib_formats('svg')"
   ]
  },
  {
   "cell_type": "markdown",
   "metadata": {},
   "source": [
    "## Deterministic balking"
   ]
  },
  {
   "cell_type": "markdown",
   "metadata": {},
   "source": [
    "**Problem.** Customers visit the neighborhood hair stylist Fantastic Dan for haircuts. The customer interarrival time is exponentially distributed with mean 20 minutes. Each haircut takes Fantastic Dan anywhere from 15 to 25 minutes, uniformly distributed. This time also includes the initial greetings and the transaction of money at the end of the haircut.\n",
    "\n",
    "<span style=\"color:#a00000\">Suppose Fantastic Dan's shop only has 3 seats for waiting customers. Any customers who arrive when the shop is full simply leave: that is, they **balk**.</span>\n",
    "\n",
    "<span style=\"color:#a00000\">How many customers balked? What fraction of customers balked? Assume an 8 hour day.</span>"
   ]
  },
  {
   "cell_type": "markdown",
   "metadata": {},
   "source": [
    "* **Balking** occurs when potential customers arriving at a queueing system choose not to enter it.\n",
    "\n",
    "\n",
    "* Below is SimPy code for the original Fantastic Dan problem:\n",
    "    - The built-in monitors for `R.server` have been set up.\n",
    "    - Interarrival times and service times are generated from separate streams.\n",
    "    - No performance measures are computed."
   ]
  },
  {
   "cell_type": "code",
   "execution_count": null,
   "metadata": {
    "collapsed": false
   },
   "outputs": [],
   "source": [
    "##### Parameters #####\n",
    "class P:\n",
    "    # Customers arrive at the entrance with exponentially distributed\n",
    "    # interarrival times with mean 20\n",
    "    interarrivalTimeMean = 20\n",
    "    \n",
    "    # Service times are uniformly distributed between 15 and 25 minutes\n",
    "    serviceTimeMin = 15\n",
    "    serviceTimeMax = 25\n",
    "    \n",
    "    # One server: Fantastic Dan works by himself\n",
    "    nServers = 1\n",
    "    \n",
    "    # Shop is open for 8 continuous hours\n",
    "    simulationTimeMax = 8 * 60\n",
    "    \n",
    "    \n",
    "##### Streams #####\n",
    "class S:\n",
    "    inter = RandomState()\n",
    "    serve = RandomState()\n",
    "    \n",
    "    \n",
    "##### Processes #####\n",
    "# Customer\n",
    "class Customer(Process):\n",
    "    def behavior(self):\n",
    "        # Customer arrives, joins queue\n",
    "        yield request, self, R.server  \n",
    "        \n",
    "        # Customer is released from queue and starts service\n",
    "        serviceTime = S.serve.uniform(low = P.serviceTimeMin, high = P.serviceTimeMax)\n",
    "        yield hold, self, serviceTime\n",
    "        \n",
    "        # Customer finishes service, leaves\n",
    "        yield release, self, R.server\n",
    "\n",
    "# Entrance\n",
    "class Entrance(Process):\n",
    "    def behavior(self):\n",
    "        # At the start of the simulation, no customers have arrived\n",
    "        nCustomers = 0\n",
    "        \n",
    "        # Customer arrivals\n",
    "        while True:\n",
    "            # Wait until the next arrival\n",
    "            interarrivalTime = S.inter.exponential(scale = P.interarrivalTimeMean)\n",
    "            yield hold, self, interarrivalTime\n",
    "            \n",
    "            # Create a new customer using the template defined in the Customer class\n",
    "            c = Customer(name = \"Customer {0}\".format(nCustomers))\n",
    "            \n",
    "            # Activate the customer's behavior\n",
    "            activate(c, c.behavior())\n",
    "\n",
    "            # Count this new customer\n",
    "            nCustomers += 1\n",
    "\n",
    "            \n",
    "##### Resources #####\n",
    "class R:\n",
    "    # Server\n",
    "    server = None\n",
    "\n",
    "\n",
    "##### Model #####\n",
    "def model(interSeed, serveSeed):\n",
    "    # Initialize SimPy \n",
    "    initialize()\n",
    "\n",
    "    # Initialize seeds for interarrival and service time streams\n",
    "    S.inter.seed(interSeed)\n",
    "    S.serve.seed(serveSeed)\n",
    "\n",
    "    # Create the server resource\n",
    "    R.server = Resource(capacity = P.nServers, monitored = True)\n",
    "\n",
    "    # Activate the entrance (to generate customers)\n",
    "    e = Entrance()\n",
    "    activate(e, e.behavior())\n",
    "    \n",
    "    # Run the simulation\n",
    "    simulate(until = P.simulationTimeMax)"
   ]
  },
  {
   "cell_type": "markdown",
   "metadata": {},
   "source": [
    "* To modify customer behavior so that it includes the possibility of balking, we need to do several things.\n",
    "\n",
    "\n",
    "* First, let's create a new parameter for the queue capacity. "
   ]
  },
  {
   "cell_type": "code",
   "execution_count": null,
   "metadata": {
    "collapsed": false
   },
   "outputs": [],
   "source": [
    "P.queueCapacity = 3"
   ]
  },
  {
   "cell_type": "markdown",
   "metadata": {},
   "source": [
    "* Since we are interested in the number and fraction of balking customers, we need to set up a monitor to keep track of the number of customers who balk."
   ]
  },
  {
   "cell_type": "code",
   "execution_count": null,
   "metadata": {
    "collapsed": false
   },
   "outputs": [],
   "source": [
    "##### Monitors #####\n",
    "\n",
    "\n",
    "##### Redefine model() to include monitors #####\n",
    "def model(interSeed, serveSeed):\n",
    "    # Initialize SimPy \n",
    "    initialize()\n",
    "\n",
    "    # Initialize seeds for interarrival and service time streams\n",
    "    S.inter.seed(interSeed)\n",
    "    S.serve.seed(serveSeed)\n",
    "\n",
    "    # Create the server resource\n",
    "    R.server = Resource(capacity = P.nServers, monitored = True)\n",
    "\n",
    "    # Activate the entrance (to generate customers)\n",
    "    e = Entrance()\n",
    "    activate(e, e.behavior())\n",
    "    \n",
    "    # Run the simulation\n",
    "    simulate(until = P.simulationTimeMax)"
   ]
  },
  {
   "cell_type": "markdown",
   "metadata": {},
   "source": [
    "* Now we're ready to change the SimPy code that defines the customer's behavior so that it includes balking.\n",
    "\n",
    "\n",
    "* SimPy automatically maintains two lists for each resource:\n",
    "    - `R.server.waitQ`, the list of customers in the queue waiting for `R.server` at any given time.\n",
    "    - `R.server.activeQ` is a list of customers being served by `R.server` at any given time.\n",
    "\n",
    "\n",
    "* So, before the customer joins the queue, we can insert an `if` statement that checks whether there is room in the queue:\n",
    "    * If there is room in the queue, we have the balking monitor observe a value of \"0\", and we have the customer join the queue and get served, just like before. \n",
    "    * If the queue is full, we have the balking monitor observe a value of \"1\", and have the customer do nothing to represent him or her not entering the queue.\n",
    "\n",
    "\n",
    "* Let's also add some `print` statements so that we can make sure the simulation is behaving as we expect."
   ]
  },
  {
   "cell_type": "code",
   "execution_count": null,
   "metadata": {
    "collapsed": false
   },
   "outputs": [],
   "source": [
    "##### Redefine Customer() to include deterministic balking #####\n",
    "class Customer(Process):\n",
    "    def behavior(self):\n",
    "        # Customer arrives, joins queue\n",
    "        yield request, self, R.server  \n",
    "        \n",
    "        # Customer is released from queue and starts service\n",
    "        serviceTime = S.serve.uniform(low = P.serviceTimeMin, high = P.serviceTimeMax)\n",
    "        yield hold, self, serviceTime\n",
    "        \n",
    "        # Customer finishes service, leaves\n",
    "        yield release, self, R.server"
   ]
  },
  {
   "cell_type": "markdown",
   "metadata": {},
   "source": [
    "* Now, let's run the simulation once."
   ]
  },
  {
   "cell_type": "code",
   "execution_count": null,
   "metadata": {
    "collapsed": false
   },
   "outputs": [],
   "source": [
    "model(interSeed = 123, serveSeed = 123)"
   ]
  },
  {
   "cell_type": "markdown",
   "metadata": {},
   "source": [
    "* What does the `M.balk` monitor look like?"
   ]
  },
  {
   "cell_type": "code",
   "execution_count": null,
   "metadata": {
    "collapsed": false
   },
   "outputs": [],
   "source": [
    "print(\"M.balk = {0}\".format(M.balk))"
   ]
  },
  {
   "cell_type": "markdown",
   "metadata": {},
   "source": [
    "* Using the built-in methods for a monitor, we can compute the number of customers who balked, and the fraction of customers who balked."
   ]
  },
  {
   "cell_type": "code",
   "execution_count": null,
   "metadata": {
    "collapsed": false
   },
   "outputs": [],
   "source": [
    "print(\"Number of customers who balked = {0}\".format(M.balk.total()))\n",
    "print(\"Fraction of customers who balked = {0}\".format(M.balk.mean()))"
   ]
  },
  {
   "cell_type": "markdown",
   "metadata": {},
   "source": [
    "* With this simulation in hand, you could then perform many replications and compute both point and interval estimates of the mean fraction of customers who balked."
   ]
  },
  {
   "cell_type": "markdown",
   "metadata": {},
   "source": [
    "## Probabilistic balking"
   ]
  },
  {
   "cell_type": "markdown",
   "metadata": {},
   "source": [
    "* Now let's go back to assuming that Fantastic Dan's shop does not have a queue capacity.\n",
    "\n",
    "\n",
    "* Suppose instead that a customer balks **probabilistically:** in particular, the probability that a customer balks grows as the length of the queue grows.\n",
    "    \n",
    "    \n",
    "* For instance, suppose that if $x$ is the current number of customers in the queue, the probability that a customer balks is $\\frac{x}{x+1}$.\n",
    "\n",
    "\n",
    "* Let's plot this balking probabillity as a function of the number of customers in the queue, just to get an idea of what's going on."
   ]
  },
  {
   "cell_type": "code",
   "execution_count": null,
   "metadata": {
    "collapsed": false
   },
   "outputs": [],
   "source": [
    "# List of values of x to plot\n",
    "x = \n",
    "\n",
    "# List of values of x/(x+1) to plot\n",
    "y = \n",
    "\n",
    "# Plot x vs. y\n",
    "plot(x, y)"
   ]
  },
  {
   "cell_type": "markdown",
   "metadata": {},
   "source": [
    "* How can we make sure that customers balk according to this probability?"
   ]
  },
  {
   "cell_type": "markdown",
   "metadata": {},
   "source": [
    "**Example.** Modify the `Customer` process so that customers balk with probability $\\frac{x}{x+1}$, where $x$ is the current number of customers in the queue. Run the simulation once and compute the number of customers who balked, and the fraction of customers who balked.\n",
    "\n",
    "\n",
    "*Hint.* How can you use a Uniform[0,1] random variable (i.e., a random number generated by `rand()`) to make sure something happens 90% of the time? 30% of the time? $\\frac{x}{x+1}$ of the time?"
   ]
  },
  {
   "cell_type": "code",
   "execution_count": null,
   "metadata": {
    "collapsed": false
   },
   "outputs": [],
   "source": [
    "##### Redefine Customer() to include probabilistic balking #####\n"
   ]
  },
  {
   "cell_type": "code",
   "execution_count": null,
   "metadata": {
    "collapsed": false
   },
   "outputs": [],
   "source": [
    "# Run model\n",
    "model(interSeed = 123, serveSeed = 123)\n",
    "\n",
    "# Performance measures\n",
    "print(\"Number of customers who balked = {0}\".format(M.balk.total()))\n",
    "print(\"Fraction of customers who balked = {0}\".format(M.balk.mean()))"
   ]
  },
  {
   "cell_type": "markdown",
   "metadata": {},
   "source": [
    "## Reneging"
   ]
  },
  {
   "cell_type": "markdown",
   "metadata": {},
   "source": [
    "* Let's forget about balking customers.\n",
    "\n",
    "\n",
    "* Instead, let's now focus on **reneging**.\n",
    "\n",
    "\n",
    "* **Reneging** occurs when customers in a queueing system choose to leave the system prior to receiving service.\n",
    "\n",
    "\n",
    "* Suppose that customers will wait at most 30 minutes in the queue. If they're not served by then, they simply leave the shop.\n",
    "\n",
    "\n",
    "* Let's compute the number and fraction of reneging customers.\n",
    "\n",
    "\n",
    "* To modify customer behavior so that it includes the possibility of balking, we need to do several things.\n",
    "\n",
    "\n",
    "* First, let's create a new parameter for the maximum time a customer is willing to wait before he/she reneges."
   ]
  },
  {
   "cell_type": "code",
   "execution_count": null,
   "metadata": {
    "collapsed": false
   },
   "outputs": [],
   "source": [
    "P.renegeTime = 30"
   ]
  },
  {
   "cell_type": "markdown",
   "metadata": {},
   "source": [
    "* Let's also create a new monitor that records whether a customer reneges or not."
   ]
  },
  {
   "cell_type": "code",
   "execution_count": null,
   "metadata": {
    "collapsed": false
   },
   "outputs": [],
   "source": [
    "# Add monitor to class M, already defined above\n",
    "\n",
    "\n",
    "##### Redefine model() to include monitors #####\n",
    "def model(interSeed, serveSeed):\n",
    "    # Initialize SimPy \n",
    "    initialize()\n",
    "\n",
    "    # Initialize seeds for interarrival and service time streams\n",
    "    S.inter.seed(interSeed)\n",
    "    S.serve.seed(serveSeed)\n",
    "\n",
    "    # Create the server resource\n",
    "    R.server = Resource(capacity = P.nServers, monitored = True)\n",
    "\n",
    "    # Activate the entrance (to generate customers)\n",
    "    e = Entrance()\n",
    "    activate(e, e.behavior())\n",
    "    \n",
    "    # Run the simulation\n",
    "    simulate(until = P.simulationTimeMax)"
   ]
  },
  {
   "cell_type": "markdown",
   "metadata": {},
   "source": [
    "* Now we're ready to change the SimPy code that defines the customer's behavior so that it includes reneging.\n",
    "\n",
    "\n",
    "* We model reneging through the `yield` statement: when the customer joins the queue, the customer waits for the server to be free, or the maximum wait time to elapse.\n",
    "\n",
    "\n",
    "* So instead of\n",
    "```\n",
    "yield request, self, R.server\n",
    "```\n",
    "like we would ordinarily have, we write\n",
    "```\n",
    "yield (request, self, R.server), (hold, self, P.renegeTime)\n",
    "```\n",
    "\n",
    "* We can detect whether a customer acquires service through the function `self.acquired(R.server)`:\n",
    "    - If `self.acquired(R.server) == True`, then the customer is served.\n",
    "    - If `self.acquired(R.server) == False`, the customer reneges.\n",
    "\n",
    "\n",
    "* Let's also print the time the customer spends in the queue to make sure the simulation behaves as we expect."
   ]
  },
  {
   "cell_type": "code",
   "execution_count": null,
   "metadata": {
    "collapsed": false
   },
   "outputs": [],
   "source": [
    "##### Redefine Customer() to include reneging #####\n",
    "class Customer(Process):\n",
    "    def behavior(self):\n",
    "        # Record time customer arrives\n",
    "        arrivalTime = now()\n",
    "        \n",
    "        # Customer arrives, joins queue and waits for server to become available, or leaves\n",
    "        yield (request, self, R.server), (hold, self, P.renegeTime)\n",
    "        \n",
    "        # Record time customer leaves queue\n",
    "        leaveQTime = now()\n",
    "        print(\"Time {0}: {1} leaves queue after waiting {2} minutes\".format(now(), self.name, leaveQTime - arrivalTime))\n",
    "        \n",
    "        # Customer is released from queue and starts service OR ...\n",
    "        if self.acquired(R.server):\n",
    "            # Customer doesn't renege\n",
    "            print(\"Time {0}: {1} starts service\".format(now(), self.name))\n",
    "            M.renege.observe(0) \n",
    "            serviceTime = S.serve.uniform(low = P.serviceTimeMin, high = P.serviceTimeMax)\n",
    "            yield hold, self, serviceTime\n",
    "        \n",
    "            # Customer finishes service, leaves\n",
    "            yield release, self, R.server\n",
    "        \n",
    "        # ... customer reneges\n",
    "        else:\n",
    "            # Customer reneges\n",
    "            print(\"Time {0}: {1} reneges\".format(now(), self.name))\n",
    "            M.renege.observe(1)"
   ]
  },
  {
   "cell_type": "markdown",
   "metadata": {},
   "source": [
    "* Now let's run the simulation once."
   ]
  },
  {
   "cell_type": "code",
   "execution_count": null,
   "metadata": {
    "collapsed": false
   },
   "outputs": [],
   "source": [
    "model(interSeed = 123, serveSeed = 123)"
   ]
  },
  {
   "cell_type": "markdown",
   "metadata": {},
   "source": [
    "* Finally, let's compute the number and fraction of customers that reneged."
   ]
  },
  {
   "cell_type": "code",
   "execution_count": null,
   "metadata": {
    "collapsed": false
   },
   "outputs": [],
   "source": [
    "print(\"Number of customers who reneged = {0}\".format(M.renege.total()))\n",
    "print(\"Fraction of customers who reneged = {0}\".format(M.renege.mean()))"
   ]
  },
  {
   "cell_type": "markdown",
   "metadata": {},
   "source": [
    "## If we have time... with a neighbor"
   ]
  },
  {
   "cell_type": "markdown",
   "metadata": {},
   "source": [
    "**Problem.** Fantastic Dan has decided to add two more seats in the waiting area of his shop, raising the total number of seats in the waiting area to 5. Any customers who arrive when the shop is full still leave without receiving service. In addition, with your help, Fantastic Dan has determined that the customer reneging time is not deterministic; instead, it can be modeled as an exponential random variable with mean 22 minutes.\n",
    "\n",
    "Modify the SimPy code below to reflect these changes in Fantastic Dan's shop. Assume an 8 hour day. Run your simulation once. What fraction of customers balked? What fraction of customers reneged? Compare your numbers to the ones we obtained above in the earlier simulations. Do they make sense?"
   ]
  },
  {
   "cell_type": "code",
   "execution_count": null,
   "metadata": {
    "collapsed": true
   },
   "outputs": [],
   "source": []
  }
 ],
 "metadata": {
  "kernelspec": {
   "display_name": "Python 3",
   "language": "python",
   "name": "python3"
  },
  "language_info": {
   "codemirror_mode": {
    "name": "ipython",
    "version": 3
   },
   "file_extension": ".py",
   "mimetype": "text/x-python",
   "name": "python",
   "nbconvert_exporter": "python",
   "pygments_lexer": "ipython3",
   "version": "3.4.3"
  }
 },
 "nbformat": 4,
 "nbformat_minor": 0
}
