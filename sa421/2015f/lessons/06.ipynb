{
 "cells": [
  {
   "cell_type": "markdown",
   "metadata": {},
   "source": [
    "# Lesson 6. Replicating simulations"
   ]
  },
  {
   "cell_type": "markdown",
   "metadata": {},
   "source": [
    "### SA421 Fall 2015"
   ]
  },
  {
   "cell_type": "markdown",
   "metadata": {},
   "source": [
    "* As usual, we begin with some setup code. \n",
    "\n",
    "\n",
    "* Note that we are now importing:\n",
    "    - the `mean`, `std` and `sqrt` functions from `numpy` and\n",
    "    - the `t` random variable object from `scipy.stats`."
   ]
  },
  {
   "cell_type": "code",
   "execution_count": null,
   "metadata": {
    "collapsed": false
   },
   "outputs": [],
   "source": [
    "##### Setup #####\n",
    "# Import everything from SimPy\n",
    "from SimPy.Simulation import *\n",
    "\n",
    "# Import mean, std, sqrt functions from NumPy\n",
    "from numpy import mean, std, sqrt\n",
    "\n",
    "# Import seed initializer and random sampling functions from NumPy\n",
    "from numpy.random import seed, uniform, exponential\n",
    "\n",
    "# Import t random variable from scipy.stats\n",
    "from scipy.stats import t"
   ]
  },
  {
   "cell_type": "markdown",
   "metadata": {},
   "source": [
    "* Here's the SimPy simulation code for the original Fantastic Dan problem, with a monitor for the customer delay (i.e. time in queue).\n",
    "\n",
    "\n",
    "* The `print` statements have been omitted, since we will be running the simulation many times."
   ]
  },
  {
   "cell_type": "code",
   "execution_count": null,
   "metadata": {
    "code_folding": [],
    "collapsed": false
   },
   "outputs": [],
   "source": [
    "##### Parameters #####\n",
    "class P:\n",
    "    # Customers arrive at the entrance with exponentially distributed\n",
    "    # interarrival times with mean 20\n",
    "    interarrivalTimeMean = 20\n",
    "    \n",
    "    # Service times are uniformly distributed between 15 and 25\n",
    "    serviceTimeMin = 15\n",
    "    serviceTimeMax = 25\n",
    "    \n",
    "    # One server: Fantastic Dan works by himself\n",
    "    nServers = 1\n",
    "    \n",
    "    # Shop is open for 6 continuous hours\n",
    "    simulationTimeMax =  6 * 60\n",
    "    \n",
    "\n",
    "##### Processes #####\n",
    "# Customer\n",
    "class Customer(Process):\n",
    "    def behavior(self):\n",
    "        # Customer arrives, joins queue\n",
    "        # Record customer arrival time\n",
    "        arrivalTime = now()\n",
    "        yield request, self, R.server\n",
    "        \n",
    "        # Customer is released from queue and starts service\n",
    "        # Observe customer delay using monitor\n",
    "        M.delay.observe(now() - arrivalTime)\n",
    "        serviceTime = uniform(low = P.serviceTimeMin, high = P.serviceTimeMax)\n",
    "        yield hold, self, serviceTime\n",
    "        \n",
    "        # Customer finishes service, leaves\n",
    "        yield release, self, R.server\n",
    "\n",
    "# Entrance\n",
    "class Entrance(Process):\n",
    "    def behavior(self):\n",
    "        # At the start of the simulation, no customers have arrived\n",
    "        nCustomers = 0\n",
    "        \n",
    "        # Customer arrivals\n",
    "        while True:\n",
    "            # Wait until the next arrival\n",
    "            interarrivalTime = exponential(scale = P.interarrivalTimeMean)\n",
    "            yield hold, self, interarrivalTime\n",
    "            \n",
    "            # Create a new customer using the template defined in the Customer class\n",
    "            c = Customer(name=\"Customer {0}\".format(nCustomers))\n",
    "            \n",
    "            # Activate the customer's behavior\n",
    "            activate(c, c.behavior())\n",
    "\n",
    "            # Count this new customer\n",
    "            nCustomers += 1\n",
    "\n",
    "            \n",
    "##### Resources #####\n",
    "class R:\n",
    "    # Server\n",
    "    server = None\n",
    "    \n",
    "    \n",
    "##### Monitors #####\n",
    "class M:\n",
    "    # Delay\n",
    "    delay = None\n",
    "\n",
    "\n",
    "##### Model #####\n",
    "def model():\n",
    "    # Initialize SimPy \n",
    "    initialize()\n",
    "\n",
    "    # Initialize a seed for the random number generator\n",
    "    seed(123)\n",
    "\n",
    "    # Create the server resource\n",
    "    R.server = Resource(capacity = P.nServers)\n",
    "    \n",
    "    # Create the monitor for customer delay\n",
    "    M.delay = Monitor()\n",
    "\n",
    "    # Activate the entrance (to generate customers)\n",
    "    e = Entrance()\n",
    "    activate(e, e.behavior())\n",
    "    \n",
    "    # Run the simulation\n",
    "    simulate(until = P.simulationTimeMax)"
   ]
  },
  {
   "cell_type": "markdown",
   "metadata": {},
   "source": [
    "* Instead of running the simulation just once, let's run it 50 times.\n",
    "\n",
    "\n",
    "* This way, we can get a better idea of what's going on at Fantastic Dan's shop when we sample other values for the interarrival and service times. \n",
    "\n",
    "\n",
    "* Note that the simulation output is always the same for a given seed! To get different outputs, we need to use different seeds.\n",
    "\n",
    "\n",
    "* We also need to be able to record the output from the different simulation replications.\n",
    "\n",
    "\n",
    "* To do this, let's modify the `model()` function to take a seed as input, and output the average delay. "
   ]
  },
  {
   "cell_type": "code",
   "execution_count": null,
   "metadata": {
    "collapsed": false
   },
   "outputs": [],
   "source": [
    "##### Model #####\n"
   ]
  },
  {
   "cell_type": "markdown",
   "metadata": {},
   "source": [
    "* Now we're ready to replicate the simulation 50 times.\n",
    "\n",
    "\n",
    "* As seeds, let's just use multiples of 123 (i.e. 0, 123, 246, 369, ...)"
   ]
  },
  {
   "cell_type": "code",
   "execution_count": null,
   "metadata": {
    "collapsed": false
   },
   "outputs": [],
   "source": [
    "##### Experiment #####\n",
    "# Number of replications\n",
    "\n",
    "\n",
    "# Perform replications, and put average delay from each replication in one list\n",
    "\n",
    "\n",
    "# Print the list for examination\n",
    "print(\"Observed average delay from all replications = {0}\".format(avgDelayObs))"
   ]
  },
  {
   "cell_type": "markdown",
   "metadata": {},
   "source": [
    "* Now that we've gathered the average delay from 50 replications, we can compute the sample mean, sample standard deviation, and confidence intervals to estimate the true mean average delay.\n",
    "\n",
    "\n",
    "* `mean(x)` simply computes the arithmetic mean of the items in list `x`. [(documentation)](http://docs.scipy.org/doc/numpy/reference/generated/numpy.mean.html)\n",
    "\n",
    "\n",
    "* `std(x, ddof=k)` computes the standard deviation of the items in list `x`, with divisor $n - k$, where $n$ is the number of elements in `x`. [(documentation)](http://docs.scipy.org/doc/numpy/reference/generated/numpy.std.html)\n",
    "    - We will almost always use `ddof = 1`.\n",
    "\n",
    "\n",
    "* `t` is a random variable object from `scipy.stats` [(documentation)](http://docs.scipy.org/doc/scipy/reference/generated/scipy.stats.t.html)\n",
    "    - A random variable object comes with many methods, such as probability density functions, cumulative density functions, expected value, variance, etc.\n",
    "    - `t.ppf(q, df)` gives the value of the $(100 \\times q)$-th percentile for the $t$-distribution with $df$ degrees of freedom.   "
   ]
  },
  {
   "cell_type": "code",
   "execution_count": null,
   "metadata": {
    "collapsed": false
   },
   "outputs": [],
   "source": [
    "# Observed sample mean\n",
    "\n",
    "\n",
    "# Observed sample standard deviation\n",
    "\n",
    "\n",
    "# Confidence level 0.05\n",
    "\n",
    "\n",
    "print(\"Average delay:\")\n",
    "print(\"  Sample mean: {0}\".format(avgDelaySM))\n",
    "print(\"  Sample standard deviation: {0}\".format(avgDelaySSD))\n",
    "print(\"  {0}% confidence interval: [{1}, {2}]\".format((1 - alpha)*100, avgDelayCIL, avgDelayCIR))"
   ]
  },
  {
   "cell_type": "markdown",
   "metadata": {},
   "source": [
    "## With a neighbor..."
   ]
  },
  {
   "cell_type": "markdown",
   "metadata": {},
   "source": [
    "Use 50 replications to obtain a point estimate (i.e. observed sample mean) and an interval estimate (i.e. confidence interval) of the time average number of customers in the queue for the Fantastic Dan problem. Give an interpretation of your confidence interval."
   ]
  },
  {
   "cell_type": "code",
   "execution_count": null,
   "metadata": {
    "collapsed": true
   },
   "outputs": [],
   "source": []
  }
 ],
 "metadata": {
  "kernelspec": {
   "display_name": "Python 3",
   "language": "python",
   "name": "python3"
  },
  "language_info": {
   "codemirror_mode": {
    "name": "ipython",
    "version": 3
   },
   "file_extension": ".py",
   "mimetype": "text/x-python",
   "name": "python",
   "nbconvert_exporter": "python",
   "pygments_lexer": "ipython3",
   "version": "3.4.3"
  }
 },
 "nbformat": 4,
 "nbformat_minor": 0
}
