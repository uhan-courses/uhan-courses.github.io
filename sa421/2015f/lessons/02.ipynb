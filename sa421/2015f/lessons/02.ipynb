{
 "cells": [
  {
   "cell_type": "markdown",
   "metadata": {},
   "source": [
    "# Lesson 2. Introduction to Python and Jupyter"
   ]
  },
  {
   "cell_type": "markdown",
   "metadata": {},
   "source": [
    "### SA421 Fall 2015"
   ]
  },
  {
   "cell_type": "markdown",
   "metadata": {},
   "source": [
    "## What is Jupyter?"
   ]
  },
  {
   "cell_type": "markdown",
   "metadata": {},
   "source": [
    "* **Jupyter** is an interactive computational environment where you can combine code, text and graphs.\n",
    "\n",
    "\n",
    "* Until recently, Jupyter was called **IPython Notebook**. This historical tidbit might help if you're looking for other references.\n",
    "\n",
    "\n",
    "* We will be using Jupyter with the **Python** programming langugage extensively in this course to study the computational aspects of simulation."
   ]
  },
  {
   "cell_type": "markdown",
   "metadata": {},
   "source": [
    "## Structure of a notebook document"
   ]
  },
  {
   "cell_type": "markdown",
   "metadata": {},
   "source": [
    "* A notebook consists of a sequence of **cells** of different types.\n",
    "\n",
    "\n",
    "* We'll use these types of cells frequently:\n",
    "    * code cells\n",
    "    * Markdown cells\n",
    "    \n",
    "    \n",
    "* You can determine the type of a cell in the toolbar.\n",
    "\n",
    "\n",
    "* You can execute the contents of a cell by:\n",
    "    * clicking the **Play** button in the tool bar,\n",
    "    * selecting **Cell &#8594; Run** in the menu bar,\n",
    "    * pressing **Shift-Enter**."
   ]
  },
  {
   "cell_type": "markdown",
   "metadata": {},
   "source": [
    "### Code cells"
   ]
  },
  {
   "cell_type": "markdown",
   "metadata": {},
   "source": [
    "* In a **code cell**, you can edit and write Python code\n",
    "    * We'll talk about Python shortly\n",
    "    \n",
    "\n",
    "* For now, we can use a code cell as a fancy calculator\n",
    "\n",
    "\n",
    "* For example, in the code cell below, let's compute\n",
    "$$ \\frac{2^{5} - 368}{23 + 18} $$"
   ]
  },
  {
   "cell_type": "code",
   "execution_count": null,
   "metadata": {
    "collapsed": false
   },
   "outputs": [],
   "source": []
  },
  {
   "cell_type": "markdown",
   "metadata": {},
   "source": [
    "* Note that a code cell has \n",
    "    * an **input** section containing your code, \n",
    "    * an **output** section after executing the cell."
   ]
  },
  {
   "cell_type": "markdown",
   "metadata": {},
   "source": [
    "### Markdown cells"
   ]
  },
  {
   "cell_type": "markdown",
   "metadata": {},
   "source": [
    "* In a **Markdown cell**, you can enter text to document your workflow.\n",
    "\n",
    "\n",
    "* For example, this cell is a Markdown cell.\n",
    "\n",
    "\n",
    "* The **Markdown** language is a popular way to provide formatting (e.g. bold, italics, lists) to plain text. Use Google to find documentation and tutorials. [Here's a pretty good cheat sheet.](https://github.com/adam-p/markdown-here/wiki/Markdown-Cheatsheet)\n",
    "\n",
    "\n",
    "* For now, here are a few basic, useful Markdown constructs:\n",
    "\n",
    "```\n",
    "You can format text as italic with *asterisks* or _underscores_.\n",
    "\n",
    "You can format text as bold with **double asterisks** or __double underscores__.\n",
    "\n",
    "To write an unordered list, use *, -, or + as bullets, like this:\n",
    "\n",
    "* One\n",
    "* Two\n",
    "* Three\n",
    "```\n",
    "\n",
    "* To edit a Markdown cell, double-click it. Try it in the cell below:"
   ]
  },
  {
   "cell_type": "markdown",
   "metadata": {},
   "source": [
    "Type *whatever* you **want!**"
   ]
  },
  {
   "cell_type": "markdown",
   "metadata": {},
   "source": [
    "## Manipulating cells"
   ]
  },
  {
   "cell_type": "markdown",
   "metadata": {},
   "source": [
    "* You can insert a new cell by selecting **Insert &#8594; Insert Cell Above/Below** in the menu bar.\n",
    "\n",
    "\n",
    "* You can move cells by selecting **Edit &#8594; Move Cell Up/Down** in the menu bar.\n",
    "\n",
    "\n",
    "* You can also split, merge, and delete cells using the **Edit** menu."
   ]
  },
  {
   "cell_type": "markdown",
   "metadata": {},
   "source": [
    "## Moving on..."
   ]
  },
  {
   "cell_type": "markdown",
   "metadata": {},
   "source": [
    "* We'll go over some other features of Jupyter later.\n",
    "\n",
    "\n",
    "* The official documentation is [here](http://ipython.org/ipython-doc/stable/notebook/index.html).\n",
    "\n",
    "\n",
    "* There is also a nice series of tutorials [here](http://nbviewer.ipython.org/github/ipython/ipython/blob/2.x/examples/Notebook/Index.ipynb).\n",
    "\n",
    "\n",
    "* Note that the above references still refer to IPython Notebook! (as of August 2015)"
   ]
  },
  {
   "cell_type": "markdown",
   "metadata": {},
   "source": [
    "## What is Python &mdash; and why?"
   ]
  },
  {
   "cell_type": "markdown",
   "metadata": {},
   "source": [
    "* **Python** is a popular, <span style=\"color:#a00000;\">free</span>, open-source, general-purpose programming language.\n",
    "\n",
    "\n",
    "* Python is \"beautiful\": its syntax was designed with an emphasis on readability.\n",
    "\n",
    "\n",
    "* Python has <span style=\"color:#a00000;\">awesome</span> scientific computing tools: [NumPy](http://www.numpy.org), [SciPy](http://www.scipy.org/scipylib/index.html), [Matplotlib](http://matplotlib.org).\n",
    "\n",
    "\n",
    "* We will be using a Python-based simulation language called [SimPy 2.3](http://simpy.sourceforge.net/old/) to build and study simulation models.\n",
    "\n",
    "\n",
    "* Why not just use MATLAB? A few reasons...\n",
    "    - \"It's good for you\": having exposure to multiple programming languages will be very useful to you as an operations/quantitative analyst.\n",
    "    - MATLAB is proprietary, which means you have to simply trust that the algorithms have been implemented properly.\n",
    "    - MATLAB is a commercial product and expensive.\n",
    "    \n",
    "    \n",
    "* Why not use graphical simulation software like Arena or ProModel?\n",
    "    - Focusing on the language lets us understand what's going on under the hood in those graphical software packages."
   ]
  },
  {
   "cell_type": "markdown",
   "metadata": {},
   "source": [
    "## A survival course in Python"
   ]
  },
  {
   "cell_type": "markdown",
   "metadata": {},
   "source": [
    "* Today, we will learn a few basic Python constructs that will be useful in this course.\n",
    "    - We will cover other concepts throughout the semester as needed.\n",
    "    - We're going to assume a basic familiarity with computer programming concepts (e.g. functions, loops, if-then-else statements).\n",
    "    \n",
    "    \n",
    "* We'll discuss other Python constructs throughout the semester as needed."
   ]
  },
  {
   "cell_type": "markdown",
   "metadata": {},
   "source": [
    "## Fancy calculator"
   ]
  },
  {
   "cell_type": "markdown",
   "metadata": {},
   "source": [
    "* You can define a variable using the **`=`** sign.\n",
    "\n",
    "\n",
    "* You can perform arithmetic operations on variables.\n",
    "\n",
    "\n",
    "* In Jupyter, you can display the value of a variable by simply writing the variable's name at the end of a cell.\n",
    "\n",
    "\n",
    "* Don't forget to execute the cell when you're done!"
   ]
  },
  {
   "cell_type": "code",
   "execution_count": null,
   "metadata": {
    "collapsed": false
   },
   "outputs": [],
   "source": [
    "# This is what a comment looks like in Python\n",
    "# Define dimensions of a rectangle\n",
    "\n",
    "# Compute area\n",
    "\n",
    "# Display area\n"
   ]
  },
  {
   "cell_type": "markdown",
   "metadata": {},
   "source": [
    "* If you try to access a variable you haven't yet defined, Python will complain."
   ]
  },
  {
   "cell_type": "code",
   "execution_count": null,
   "metadata": {
    "collapsed": false
   },
   "outputs": [],
   "source": []
  },
  {
   "cell_type": "markdown",
   "metadata": {},
   "source": [
    "* Let's define the height of a box, so we can compute volume."
   ]
  },
  {
   "cell_type": "code",
   "execution_count": null,
   "metadata": {
    "collapsed": true
   },
   "outputs": [],
   "source": [
    "# Define height of box\n",
    "\n",
    "\n",
    "# Compute volume\n"
   ]
  },
  {
   "cell_type": "markdown",
   "metadata": {},
   "source": [
    "* Note that the **prompt numbers** next to the code cells (e.g. `In [3]` and `Out [3]`) indicate which cells have been run and <span style=\"color:#a00000;\">in which order</span>. \n",
    "\n",
    "\n",
    "* This is very useful, especially if you are running cells out-of-sequence."
   ]
  },
  {
   "cell_type": "markdown",
   "metadata": {},
   "source": [
    "## Hello, world!"
   ]
  },
  {
   "cell_type": "markdown",
   "metadata": {},
   "source": [
    "* Strings are lists of printable characters defined using either double quotes or single quotes.\n",
    "\n",
    "\n",
    "* To print a string, you can use the **`print`** function."
   ]
  },
  {
   "cell_type": "code",
   "execution_count": null,
   "metadata": {
    "collapsed": false
   },
   "outputs": [],
   "source": [
    "# Print \"Hello, world!\"\n"
   ]
  },
  {
   "cell_type": "markdown",
   "metadata": {},
   "source": [
    "* You can also use the `print` function to print the value of a variable with the `.format()` method."
   ]
  },
  {
   "cell_type": "code",
   "execution_count": null,
   "metadata": {
    "collapsed": false
   },
   "outputs": [],
   "source": [
    "# Define a variable for your neighbor's name\n",
    "\n",
    "\n",
    "# Print the value of the 'name' variable\n"
   ]
  },
  {
   "cell_type": "markdown",
   "metadata": {},
   "source": [
    "* The brackets and characters in them (e.g. `{0}`) are placeholders that are replaced with the objects passed into the **`.format()`** method.\n",
    "\n",
    "\n",
    "* **In Python, indexing starts at 0!**\n",
    "\n",
    "\n",
    "* For example, the placeholders:\n",
    "    * `{0}` is replaced with the first object passed into `.format()`,\n",
    "    * `{1}` is replaced with the second object,\n",
    "    * `{2}` is replaced with the third object,\n",
    "    * And so on."
   ]
  },
  {
   "cell_type": "markdown",
   "metadata": {},
   "source": [
    "**Example.** Define three variables, `left`, `right`, `me`, containing the names of yourself and your neighbors. Use the `print` statement to print the values of these variables in one line."
   ]
  },
  {
   "cell_type": "code",
   "execution_count": null,
   "metadata": {
    "collapsed": false
   },
   "outputs": [],
   "source": [
    "# Define variables\n",
    "\n",
    "# Print values of variables\n"
   ]
  },
  {
   "cell_type": "markdown",
   "metadata": {},
   "source": [
    "## Lists of items"
   ]
  },
  {
   "cell_type": "markdown",
   "metadata": {},
   "source": [
    "* A **list** is used to group together **items** in Python.\n",
    "\n",
    "\n",
    "* You can think of a list as an array or a vector.\n",
    "\n",
    "\n",
    "* A list is written as a sequence of comma-separated items between square brackets."
   ]
  },
  {
   "cell_type": "code",
   "execution_count": null,
   "metadata": {
    "collapsed": false
   },
   "outputs": [],
   "source": [
    "# Define a list containing the first 5 square numbers\n",
    "squares = [1, 4, 9, 16, 25]\n",
    "\n",
    "# Define a list containing the days of the week\n",
    "daysOfTheWeek = [\"Sun\", \"Mon\", \"Tue\", \"Wed\", \"Thu\", \"Fri\", \"Sat\"]"
   ]
  },
  {
   "cell_type": "markdown",
   "metadata": {},
   "source": [
    "* You can access items in the list by using the item's **index**.\n",
    "\n",
    "\n",
    "* **Remember &ndash; indexing starts at 0!**"
   ]
  },
  {
   "cell_type": "code",
   "execution_count": null,
   "metadata": {
    "collapsed": false
   },
   "outputs": [],
   "source": [
    "# The third day of the week is...\n"
   ]
  },
  {
   "cell_type": "markdown",
   "metadata": {},
   "source": [
    "* You can add items to the end of a list using the **`.append()`** method.\n",
    "\n",
    "\n",
    "* You can also print lists just like any other variable."
   ]
  },
  {
   "cell_type": "code",
   "execution_count": null,
   "metadata": {
    "collapsed": false
   },
   "outputs": [],
   "source": [
    "# Let's add the 6th squared number\n",
    "\n",
    "\n",
    "# What does the list look like now?\n",
    "print(\"squares = {0}\".format(squares))"
   ]
  },
  {
   "cell_type": "markdown",
   "metadata": {},
   "source": [
    "* We can determine the length of a list using the `len()` function."
   ]
  },
  {
   "cell_type": "code",
   "execution_count": null,
   "metadata": {
    "collapsed": false
   },
   "outputs": [],
   "source": [
    "# How many days of the week are there?\n"
   ]
  },
  {
   "cell_type": "markdown",
   "metadata": {},
   "source": [
    "* Often we will want to use a list of consecutive integers. We can accomplish this using the `range()` function.\n",
    "\n",
    "\n",
    "* `range(n)` gives a list of the first $n$ integers, **starting at 0**.\n",
    "\n",
    "\n",
    "* `range(start, stop)` gives a list that starts at `start` and ends at `stop - 1`."
   ]
  },
  {
   "cell_type": "code",
   "execution_count": null,
   "metadata": {
    "collapsed": false
   },
   "outputs": [],
   "source": [
    "# First 10 integers, starting at 0\n"
   ]
  },
  {
   "cell_type": "code",
   "execution_count": null,
   "metadata": {
    "collapsed": false
   },
   "outputs": [],
   "source": [
    "# Integers between 3 and 8 inclusive\n"
   ]
  },
  {
   "cell_type": "markdown",
   "metadata": {},
   "source": [
    "* We can also obtain the sum, the minimum value, or the maximum value of a list of numbers pretty easily."
   ]
  },
  {
   "cell_type": "code",
   "execution_count": null,
   "metadata": {
    "collapsed": false
   },
   "outputs": [],
   "source": [
    "# Define a list of seemingly random numbers\n",
    "numbers = [144, 900, 3, 78, 29, 45, 32]\n",
    "\n",
    "# What is the sum of these numbers?\n",
    "print(\"The sum is {0}.\".format( ))\n",
    "\n",
    "# What is the number with the smallest value?\n",
    "print(\"The smallest number is {0}.\".format( ))\n",
    "\n",
    "# What is the number with the largest value?\n",
    "print(\"The largest number is {0}.\".format( ))"
   ]
  },
  {
   "cell_type": "markdown",
   "metadata": {},
   "source": [
    "## Loops and nesting"
   ]
  },
  {
   "cell_type": "markdown",
   "metadata": {},
   "source": [
    "* We can iterate through lists using the **`for`** statement."
   ]
  },
  {
   "cell_type": "code",
   "execution_count": null,
   "metadata": {
    "collapsed": false
   },
   "outputs": [],
   "source": [
    "# List all the days of the week\n"
   ]
  },
  {
   "cell_type": "markdown",
   "metadata": {},
   "source": [
    "* Python defines blocks of code using a colon (\":\") followed by **indentation**.\n",
    "\n",
    "\n",
    "* The above code is NOT the same as\n",
    "```python\n",
    "for day in daysOfTheWeek:\n",
    "print(\"{0}\".format(day))\n",
    "```\n",
    "\n",
    "\n",
    "* Always use the **Tab** key to indent &ndash; this will keep your indentation consistent."
   ]
  },
  {
   "cell_type": "markdown",
   "metadata": {},
   "source": [
    "**Example.** Write code to print out the first 10 cubic numbers. Your output should look something like this:\n",
    "\n",
    "```\n",
    "    The cube of 0 is 0.\n",
    "    The cube of 1 is 1.\n",
    "    The cube of 2 is 8.\n",
    "    The cube of 3 is 27.\n",
    "```\n",
    "\n",
    "and so on."
   ]
  },
  {
   "cell_type": "code",
   "execution_count": null,
   "metadata": {
    "collapsed": false
   },
   "outputs": [],
   "source": []
  },
  {
   "cell_type": "markdown",
   "metadata": {},
   "source": [
    "## List comprehensions"
   ]
  },
  {
   "cell_type": "markdown",
   "metadata": {},
   "source": [
    "* **List comprehensions** provide a concise way to create lists.\n",
    "\n",
    "\n",
    "* They're like a for loop \"in place\"."
   ]
  },
  {
   "cell_type": "markdown",
   "metadata": {},
   "source": [
    "* Using code similar to the example, we could create a list of the first 10 cubic numbers as follows."
   ]
  },
  {
   "cell_type": "code",
   "execution_count": null,
   "metadata": {
    "collapsed": false
   },
   "outputs": [],
   "source": [
    "# Create a list of the first 10 cubic numbers.\n",
    "    \n",
    "# Print this list\n",
    "print(\"List of first 10 cubics = {0}\".format(cubics))"
   ]
  },
  {
   "cell_type": "markdown",
   "metadata": {},
   "source": [
    "* Alternatively, we can create the list **in just one line** as follows."
   ]
  },
  {
   "cell_type": "code",
   "execution_count": null,
   "metadata": {
    "collapsed": false
   },
   "outputs": [],
   "source": [
    "# Create another list of the first 10 cubic numbers\n",
    "\n",
    "# Print this list\n",
    "print(\"Another list of first 10 cubics = {0}\".format(anotherCubics))"
   ]
  },
  {
   "cell_type": "markdown",
   "metadata": {},
   "source": [
    "**Example.** Use a list comprehension to create a list of the first 20 multiples of 13.\n",
    "Print the list."
   ]
  },
  {
   "cell_type": "code",
   "execution_count": null,
   "metadata": {
    "collapsed": false
   },
   "outputs": [],
   "source": []
  },
  {
   "cell_type": "markdown",
   "metadata": {},
   "source": [
    "## If this, then that"
   ]
  },
  {
   "cell_type": "markdown",
   "metadata": {},
   "source": [
    "* The **`==`** operator performs **equality testing**: \n",
    "    - If the two items on either side of `==` are equal, then it returns `True`.\n",
    "    - Otherwise, it returns `False`."
   ]
  },
  {
   "cell_type": "code",
   "execution_count": null,
   "metadata": {
    "collapsed": false
   },
   "outputs": [],
   "source": [
    "# Let's define today to be Thursday\n",
    "today = \"Thursday\""
   ]
  },
  {
   "cell_type": "code",
   "execution_count": null,
   "metadata": {
    "collapsed": false
   },
   "outputs": [],
   "source": [
    "# Is today Thursday?\n",
    "today == \"Thursday\""
   ]
  },
  {
   "cell_type": "code",
   "execution_count": null,
   "metadata": {
    "collapsed": false
   },
   "outputs": [],
   "source": [
    "# Is today Friday?\n",
    "today == \"Friday\""
   ]
  },
  {
   "cell_type": "markdown",
   "metadata": {},
   "source": [
    "* Conditional statements are written using the same block/indentation structure as `for` statements, using the keywords **`if`**, **`elif`**, and **`else`**."
   ]
  },
  {
   "cell_type": "code",
   "execution_count": null,
   "metadata": {
    "collapsed": false
   },
   "outputs": [],
   "source": [
    "# What should I do?\n"
   ]
  },
  {
   "cell_type": "markdown",
   "metadata": {},
   "source": [
    "* Other types of comparisons:\n",
    "\n",
    "| Comparison | Meaning |\n",
    "|------------|---------|\n",
    "| `==`         | equal  |\n",
    "| `!=`         | not equal |\n",
    "| `<`          | less than  |\n",
    "| `>`          | greater than |\n",
    "| `<=`         | less than or equal |\n",
    "| `>=`         | greater than or equal |"
   ]
  },
  {
   "cell_type": "markdown",
   "metadata": {},
   "source": [
    "**Example.** Using `if`-`elif`-`else` statements, write code to only print the first 10 cubic numbers (0, 1, 8, 27, ...) that are greater than 100. Your output should look something like this:\n",
    "\n",
    "```\n",
    "    The cube of 5 is 125.\n",
    "    The cube of 6 is 216.\n",
    "```\n",
    "\n",
    "and so on."
   ]
  },
  {
   "cell_type": "code",
   "execution_count": null,
   "metadata": {
    "collapsed": false
   },
   "outputs": [],
   "source": []
  },
  {
   "cell_type": "markdown",
   "metadata": {},
   "source": [
    "## Functions"
   ]
  },
  {
   "cell_type": "markdown",
   "metadata": {},
   "source": [
    "* We can define a function in Python using the **`def`** keyword.\n",
    "\n",
    "\n",
    "* To define what the function outputs, we use the **`return`** keyword.\n",
    "\n",
    "\n",
    "* Let's define a function that\n",
    "    - takes a day of the week as input and\n",
    "    - outputs a string that tells us what to do."
   ]
  },
  {
   "cell_type": "code",
   "execution_count": null,
   "metadata": {
    "collapsed": false
   },
   "outputs": [],
   "source": []
  },
  {
   "cell_type": "markdown",
   "metadata": {},
   "source": [
    "Now, let's test this function."
   ]
  },
  {
   "cell_type": "code",
   "execution_count": null,
   "metadata": {
    "collapsed": false
   },
   "outputs": [],
   "source": [
    "today = \"Tuesday\"\n",
    "task = whatShouldIDo(today)\n",
    "print(\"Today is {0}, so I should {1}.\".format(today, task))"
   ]
  },
  {
   "cell_type": "code",
   "execution_count": null,
   "metadata": {
    "collapsed": false
   },
   "outputs": [],
   "source": [
    "today = \"Sunday\"\n",
    "task = whatShouldIDo(today)\n",
    "print(\"Today is {0}, so I should {1}.\".format(today, task))"
   ]
  },
  {
   "cell_type": "code",
   "execution_count": null,
   "metadata": {
    "collapsed": false
   },
   "outputs": [],
   "source": [
    "today = \"Saturday\"\n",
    "task = whatShouldIDo(today)\n",
    "print(\"Today is {0}, so I should {1}.\".format(today, task))"
   ]
  },
  {
   "cell_type": "markdown",
   "metadata": {},
   "source": [
    "## Advanced Jupyter features that might be useful"
   ]
  },
  {
   "cell_type": "markdown",
   "metadata": {},
   "source": [
    "### Keyboard shortcuts"
   ]
  },
  {
   "cell_type": "markdown",
   "metadata": {},
   "source": [
    "* There are keyboard shortcuts, but they're a little tricky to use. Take a look at **Help &#8594; Keyboard Shortcuts**.\n",
    "\n",
    "\n",
    "* If you click in the text box of a code cell, then it is outlined by a green box. This is called **Edit Mode**.\n",
    "\n",
    "\n",
    "* If you click on the <span style=\"color:#a00000;\">side</span> of a code cell, then it is outlined by a gray box. This is called **Command Mode**.\n",
    "\n",
    "\n",
    "* Here are two really useful keyboard shortcuts.\n",
    "\n",
    "\n",
    "* **Indenting multiple lines.** In Edit Mode, select the lines you want to indent, and then press **Tab**. If you want to de-indent them (i.e. indent them to the left), press **Shift-Tab**.\n",
    "\n",
    "\n",
    "* **Line numbers.** In Command Mode, press **L** to toggle line numbers."
   ]
  },
  {
   "cell_type": "code",
   "execution_count": null,
   "metadata": {
    "collapsed": false
   },
   "outputs": [],
   "source": [
    "# Here is some code for you to play with.\n",
    "def whatShouldIDo(today):    \n",
    "    if today == \"Sunday\":\n",
    "        task = \"study simulation\"\n",
    "    elif today == \"Saturday\":\n",
    "        task = \"study simulation\"\n",
    "    else:\n",
    "        task = \"study simulation\"\n",
    "    return task\n",
    "\n",
    "today = \"Thursday\"\n",
    "task = whatShouldIDo(today)\n",
    "print(\"Today is {0}, so I should {1}.\".format(today, task))"
   ]
  },
  {
   "cell_type": "markdown",
   "metadata": {},
   "source": [
    "### Running multiple cells"
   ]
  },
  {
   "cell_type": "markdown",
   "metadata": {},
   "source": [
    "* You can run all the cells in a notebook by selecting **Cell &#8594; Run All**.\n",
    "\n",
    "\n",
    "* You can run all the cells above the current cell by selecting **Cell &#8594; Run All Above**.\n",
    "\n",
    "\n",
    "* You can run all the cells below the current cell by selecting **Cell &#8594; Run All Below**."
   ]
  },
  {
   "cell_type": "markdown",
   "metadata": {},
   "source": [
    "### Clearing the output of code cells"
   ]
  },
  {
   "cell_type": "markdown",
   "metadata": {},
   "source": [
    "* You can clear the output of a code cell by selecting **Cell &#8594; Current Output &#8594; Clear**. \n",
    "\n",
    "\n",
    "* You can clear the output of all code cells by selecting **Cell &#8594; All Output &#8594; Clear**."
   ]
  },
  {
   "cell_type": "markdown",
   "metadata": {},
   "source": [
    "## Saving your notebook and finishing up"
   ]
  },
  {
   "cell_type": "markdown",
   "metadata": {},
   "source": [
    "* Jupyter autosaves your notebook every few minutes.\n",
    "\n",
    "\n",
    "* To manually save, click the **Disk** icon, or select **File &#8594; Save and Checkpoint**.\n",
    "\n",
    "\n",
    "* To close the notebook, select **File &#8594; Close and Halt**.\n",
    "    - This will close the tab/window **and the associated Python kernel**.\n",
    "    - Just closing the tab/window will leave the Python kernel running.\n",
    "    - You can get a list of running kernels in the **Running** tab of the Jupyter dashboard."
   ]
  }
 ],
 "metadata": {
  "kernelspec": {
   "display_name": "Python 3",
   "language": "python",
   "name": "python3"
  },
  "language_info": {
   "codemirror_mode": {
    "name": "ipython",
    "version": 3
   },
   "file_extension": ".py",
   "mimetype": "text/x-python",
   "name": "python",
   "nbconvert_exporter": "python",
   "pygments_lexer": "ipython3",
   "version": "3.4.3"
  }
 },
 "nbformat": 4,
 "nbformat_minor": 0
}
