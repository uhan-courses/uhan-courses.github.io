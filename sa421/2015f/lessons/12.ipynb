{
 "cells": [
  {
   "cell_type": "markdown",
   "metadata": {},
   "source": [
    "# Lesson 12. Variance reduction &mdash; common random numbers"
   ]
  },
  {
   "cell_type": "markdown",
   "metadata": {},
   "source": [
    "### SA421 Fall 2015"
   ]
  },
  {
   "cell_type": "markdown",
   "metadata": {},
   "source": [
    "## Warm up"
   ]
  },
  {
   "cell_type": "markdown",
   "metadata": {},
   "source": [
    "**Problem.** Let $X$ be a continuous uniform random variable on $[a, b]$.\n",
    "Recall that the cdf of $X$ is\n",
    "\n",
    "$$F_X(x) = \\begin{cases}\n",
    "    0 & \\text{if } x < a\\\\\n",
    "    (x-a) / (b-a) & \\text{if } a \\le x \\le b\\\\\n",
    "    1 & \\text{if } x > b\n",
    "\\end{cases}$$\n",
    "\n",
    "In the code cell below, the function `uniform_SA421`, which is supposed to generate random variates of $X$, is partially defined.\n",
    "Use the inverse transform method to complete the definition of `uniform_SA421`."
   ]
  },
  {
   "cell_type": "code",
   "execution_count": null,
   "metadata": {
    "collapsed": true
   },
   "outputs": [],
   "source": [
    "# Import NumPy's random number generator\n",
    "from numpy.random import rand\n",
    "\n",
    "# uniform_SA421(a, b, verbose)\n",
    "# Generates a random variate from the Uniform[a, b] distribution\n",
    "# Prints out the random number used if verbose == True\n",
    "def uniform_SA421(a, b, verbose):\n",
    "    # Generate random number\n",
    "    u = \n",
    "    \n",
    "    # Print random number used, if verbose == True\n",
    "    if verbose == True:\n",
    "        print(\"  Random number used = {0}\".format(u))\n",
    "    \n",
    "    # Compute random variate using inverse cdf\n",
    "    x = \n",
    "    \n",
    "    # Return random variate\n",
    "    return x"
   ]
  },
  {
   "cell_type": "markdown",
   "metadata": {},
   "source": [
    "Test your definition of `uniform` below:"
   ]
  },
  {
   "cell_type": "code",
   "execution_count": null,
   "metadata": {
    "collapsed": false
   },
   "outputs": [],
   "source": [
    "uniform_SA421(100, 200, True)"
   ]
  },
  {
   "cell_type": "markdown",
   "metadata": {},
   "source": [
    "## Motivation"
   ]
  },
  {
   "cell_type": "markdown",
   "metadata": {},
   "source": [
    "* Consider the Fantastic Dan problem once again: single server with a single queue.\n",
    "\n",
    "\n",
    "* Customer interarrival times are uniformly distributed between 10 and 25 minutes.\n",
    "\n",
    "\n",
    "* **System 1.**  In the current system, service times are uniformly distributed between 30 and 45 minutes.\n",
    "\n",
    "\n",
    "* **System 2.** Fantastic Dan is considering a new haircutting technique. In this hypothetical system, service times are uniformly distributed between 15 and 20 minutes. \n",
    "\n",
    "\n",
    "* Fantastic Dan wants to know what effect this new haircutting technique would have on the time average number of customers waiting to get a haircut (in the queue)."
   ]
  },
  {
   "cell_type": "markdown",
   "metadata": {},
   "source": [
    "* In the cell below is SimPy code to simulate Fantastic Dan's shop for 1 hour. This code is nearly identical to what we've used before. Some notes:\n",
    "    * The code is set up to print the arrival times of customers.\n",
    "    * The parameters `P.serviceTimeMin` and `P.serviceTimeMax` have been initialized to `None` &mdash; we'll fill those in later.\n",
    "    * The `model` function is set up to take a seed as input. "
   ]
  },
  {
   "cell_type": "code",
   "execution_count": null,
   "metadata": {
    "collapsed": false
   },
   "outputs": [],
   "source": [
    "##### Setup #####\n",
    "# Import everything from SimPy\n",
    "from SimPy.Simulation import *\n",
    "\n",
    "# Import seed-setting function from NumPy\n",
    "from numpy.random import seed"
   ]
  },
  {
   "cell_type": "code",
   "execution_count": null,
   "metadata": {
    "collapsed": false
   },
   "outputs": [],
   "source": [
    "##### Parameters #####\n",
    "class P:\n",
    "    # Customers arrive at the entrance with uniformly distributed\n",
    "    # interarrival times between 10 and 25 minutes\n",
    "    interarrivalTimeMin = 10\n",
    "    interarrivalTimeMax = 25\n",
    "    \n",
    "    # Service times are uniformly distributed, but min/max values will vary\n",
    "    serviceTimeMin = None\n",
    "    serviceTimeMax = None\n",
    "    \n",
    "    # One server: Fantastic Dan works by himself\n",
    "    nServers = 1\n",
    "    \n",
    "    # Simulate for 2 hours\n",
    "    simulationTimeMax = 2 * 60\n",
    "    \n",
    "\n",
    "##### Processes #####\n",
    "# Customer\n",
    "class Customer(Process):\n",
    "    def behavior(self):\n",
    "        # Customer arrives, joins queue\n",
    "        # self.name is the name we give this customer when we generate him/her\n",
    "        #   in the Entrance process\n",
    "        print(\"Time {1}: {0} arrives and joins queue\".format(self.name, now())) \n",
    "        yield request, self, R.server\n",
    "        \n",
    "        # Customer is released from queue and starts service\n",
    "        serviceTime = uniform_SA421(P.serviceTimeMin, P.serviceTimeMax, False)\n",
    "        yield hold, self, serviceTime\n",
    "        \n",
    "        # Customer finishes service, leaves\n",
    "        yield release, self, R.server\n",
    "\n",
    "# Entrance\n",
    "class Entrance(Process):\n",
    "    def behavior(self):\n",
    "        # At the start of the simulation, no customers have arrived\n",
    "        nCustomers = 0\n",
    "        \n",
    "        # Customer arrivals\n",
    "        while True:\n",
    "            # Wait until the next arrival\n",
    "            interarrivalTime = uniform_SA421(P.interarrivalTimeMin, P.interarrivalTimeMax, False)\n",
    "            yield hold, self, interarrivalTime\n",
    "            \n",
    "            # Create a new customer using the template defined in the Customer class\n",
    "            c = Customer(name = \"Customer {0}\".format(nCustomers))\n",
    "            \n",
    "            # Activate the customer's behavior\n",
    "            activate(c, c.behavior())\n",
    "\n",
    "            # Count this new customer\n",
    "            nCustomers += 1\n",
    "\n",
    "            \n",
    "##### Resources #####\n",
    "class R:\n",
    "    # Server\n",
    "    server = None\n",
    "\n",
    "\n",
    "##### Model #####\n",
    "def model(inputSeed):    \n",
    "    # Initialize SimPy \n",
    "    initialize()\n",
    "\n",
    "    # Initialize a seed for the random number generator\n",
    "    seed(inputSeed)\n",
    "\n",
    "    # Create the server resource\n",
    "    R.server = Resource(capacity = P.nServers)\n",
    "\n",
    "    # Activate the entrance (to generate customers)\n",
    "    e = Entrance()\n",
    "    activate(e, e.behavior())\n",
    "    \n",
    "    # Run the simulation\n",
    "    simulate(until = P.simulationTimeMax)"
   ]
  },
  {
   "cell_type": "markdown",
   "metadata": {},
   "source": [
    "* Let's run the simulation once for System 1:"
   ]
  },
  {
   "cell_type": "code",
   "execution_count": null,
   "metadata": {
    "collapsed": false
   },
   "outputs": [],
   "source": [
    "##### Experiment - System 1 #####\n",
    "# Service time parameters for System 1\n",
    "P.serviceTimeMin = \n",
    "P.serviceTimeMax = \n",
    "\n",
    "# Run simulation with seed 123\n",
    "model(123)"
   ]
  },
  {
   "cell_type": "markdown",
   "metadata": {},
   "source": [
    "* Let's also run the simulation once for System 2:"
   ]
  },
  {
   "cell_type": "code",
   "execution_count": null,
   "metadata": {
    "collapsed": false
   },
   "outputs": [],
   "source": [
    "##### Experiment - System 2 #####\n",
    "# Service time parameters for System 2\n",
    "P.serviceTimeMin = \n",
    "P.serviceTimeMax = \n",
    "\n",
    "# Run simulation with seed 123\n",
    "model(123)"
   ]
  },
  {
   "cell_type": "markdown",
   "metadata": {},
   "source": [
    "* The customer arrival times are different in the two systems, even though \n",
    "    - the interarrival time distribution is the same between the two systems,\n",
    "    - we used the same seed in both simulations.\n",
    "    \n",
    "\n",
    "* Intuitively, we don't want this to happen: we want our analysis to focus on the difference between the two systems, which is the <span style=\"color:#a00000\">service time</span> distribution, not the interarrival time distribution.\n",
    "\n",
    "\n",
    "* Why does this difference occur?"
   ]
  },
  {
   "cell_type": "markdown",
   "metadata": {},
   "source": [
    "## The effect of using a single stream of random numbers"
   ]
  },
  {
   "cell_type": "markdown",
   "metadata": {},
   "source": [
    "* Remember that random variates are generated using a sequence (or stream) of random numbers.\n",
    "\n",
    "\n",
    "* In the above simulations, both interarrival times and service times are being sampled using <span style=\"color:#a00000\">a single stream of random numbers</span>.\n",
    "\n",
    "\n",
    "* As a result, if the service times are different between the two systems, the interarrival times will eventually be generated using different random numbers.\n",
    "\n",
    "\n",
    "* To illustrate this, here is the same SimPy code as above, except every time we generate a random variate:\n",
    "    - We print out the corresponding random number.\n",
    "    - We also print out what type of variate we've generated (interarrival or service time)."
   ]
  },
  {
   "cell_type": "code",
   "execution_count": null,
   "metadata": {
    "collapsed": false
   },
   "outputs": [],
   "source": [
    "##### Parameters #####\n",
    "class P:\n",
    "    # Customers arrive at the entrance with uniformly distributed\n",
    "    # interarrival times between 10 and 25 minutes\n",
    "    interarrivalTimeMin = 10\n",
    "    interarrivalTimeMax = 30\n",
    "    \n",
    "    # Service times are uniformly distributed, but min/max values will vary\n",
    "    serviceTimeMin = None\n",
    "    serviceTimeMax = None\n",
    "    \n",
    "    # One server: Fantastic Dan works by himself\n",
    "    nServers = 1\n",
    "    \n",
    "    # Simulate for 2 hours\n",
    "    simulationTimeMax = 2 * 60\n",
    "    \n",
    "\n",
    "##### Processes #####\n",
    "# Customer\n",
    "class Customer(Process):\n",
    "    def behavior(self):\n",
    "        # Customer arrives, joins queue\n",
    "        yield request, self, R.server   \n",
    "        \n",
    "        # Customer is released from queue and starts service\n",
    "        # The end = \"\" keyword argument for the print function prevents print\n",
    "        #   from starting a new line\n",
    "        print(\"Service time generated for {0}:\".format(self.name), end = \"\")\n",
    "        serviceTime = uniform_SA421(P.serviceTimeMin, P.serviceTimeMax, True)\n",
    "        yield hold, self, serviceTime\n",
    "        \n",
    "        # Customer finishes service, leaves\n",
    "        yield release, self, R.server\n",
    "\n",
    "# Entrance\n",
    "class Entrance(Process):\n",
    "    def behavior(self):\n",
    "        # At the start of the simulation, no customers have arrived\n",
    "        nCustomers = 0\n",
    "        \n",
    "        # Customer arrivals\n",
    "        while True:\n",
    "            # Create name of customer\n",
    "            customerName = \"Customer {0}\".format(nCustomers)\n",
    "            \n",
    "            # Wait until the next arrival\n",
    "            print(\"Interarrival time generated for {0}:\".format(customerName), end = \"\")\n",
    "            interarrivalTime = uniform_SA421(P.interarrivalTimeMin, P.interarrivalTimeMax, True)\n",
    "            yield hold, self, interarrivalTime\n",
    "            \n",
    "            # Create a new customer using the template defined in the Customer class\n",
    "            c = Customer(name = customerName)\n",
    "            \n",
    "            # Activate the customer's behavior\n",
    "            activate(c, c.behavior())\n",
    "\n",
    "            # Count this new customer\n",
    "            nCustomers += 1\n",
    "\n",
    "            \n",
    "##### Resources #####\n",
    "class R:\n",
    "    # Server\n",
    "    server = None\n",
    "\n",
    "\n",
    "##### Model #####\n",
    "def model(inputSeed):    \n",
    "    # Initialize SimPy \n",
    "    initialize()\n",
    "\n",
    "    # Initialize a seed for the random number generator\n",
    "    seed(inputSeed)\n",
    "\n",
    "    # Create the server resource\n",
    "    R.server = Resource(capacity = P.nServers, monitored = True)\n",
    "\n",
    "    # Activate the entrance (to generate customers)\n",
    "    e = Entrance()\n",
    "    activate(e, e.behavior())\n",
    "    \n",
    "    # Run the simulation\n",
    "    simulate(until = P.simulationTimeMax)"
   ]
  },
  {
   "cell_type": "markdown",
   "metadata": {},
   "source": [
    "* Let's run the simulation for System 1:"
   ]
  },
  {
   "cell_type": "code",
   "execution_count": null,
   "metadata": {
    "collapsed": false
   },
   "outputs": [],
   "source": [
    "##### Experiment - System 1 #####\n",
    "# Service time parameters for System 1\n",
    "P.serviceTimeMin = 30\n",
    "P.serviceTimeMax = 45\n",
    "\n",
    "# Run simulation with seed 123\n",
    "model(123)"
   ]
  },
  {
   "cell_type": "markdown",
   "metadata": {},
   "source": [
    "* And now, let's run the simulation for System 2:"
   ]
  },
  {
   "cell_type": "code",
   "execution_count": null,
   "metadata": {
    "collapsed": false
   },
   "outputs": [],
   "source": [
    "##### Experiment - System 2 #####\n",
    "# Service time parameters for System 2\n",
    "P.serviceTimeMin = 15\n",
    "P.serviceTimeMax = 20\n",
    "\n",
    "# Run simulation with seed 123\n",
    "model(123)"
   ]
  },
  {
   "cell_type": "markdown",
   "metadata": {},
   "source": [
    "* As we can see, the same stream of random numbers is used for both interarrival times and service times.\n",
    "\n",
    "\n",
    "* Because the service times in the two systems follow different distributions, eventually, each seed is used to generate different quantities in each system.\n",
    "    - For example, `0.9807641983846155` is the random number used for the interarrival time of Customer 4 in System 1 and the service time of Customer 2 in System 2."
   ]
  },
  {
   "cell_type": "markdown",
   "metadata": {},
   "source": [
    "## Using separate streams and common random numbers"
   ]
  },
  {
   "cell_type": "markdown",
   "metadata": {},
   "source": [
    "*  We want our analysis to focus on the difference between the two systems: the <span style=\"color:#a00000\">service time</span> distribution, not the interarrival time distribution.\n",
    "\n",
    "\n",
    "* This in turn will help us <span style=\"color:#a00000\">reduce the variance</span> in our estimates of the difference between the two systems.\n",
    "\n",
    "\n",
    "* By setting up <span style=\"color:#a00000\">separate streams</span> for interarrival times and service times, we can ensure that the interarrival times are the same across both systems.\n",
    "\n",
    "\n",
    "* This is called the **common random number** technique: ensuring that common random numbers are used to generate the same random variates for <span style=\"color:#a00000\">matching parts</span> of alternate systems.\n",
    "    - Other names: **correlated sampling**, **matched streams**, **matched pairs**"
   ]
  },
  {
   "cell_type": "markdown",
   "metadata": {},
   "source": [
    "## Separate streams in NumPy: RandomState"
   ]
  },
  {
   "cell_type": "markdown",
   "metadata": {},
   "source": [
    "* Let's implement separate streams in the Fantastic Dan simulation.\n",
    "\n",
    "\n",
    "* First, we need to decide how to set up our random number streams.\n",
    "    - In this case, let's set up 1 stream for interarrival times and 1 stream for service times.\n",
    "\n",
    "\n",
    "* **Rule of thumb.** Set up a separate stream for each random quantity in your simulation.\n",
    "    \n",
    "\n",
    "* To set up separate streams, we can use `RandomState()`. [Here is the documentation.](http://docs.scipy.org/doc/numpy/reference/generated/numpy.random.RandomState.html)"
   ]
  },
  {
   "cell_type": "code",
   "execution_count": null,
   "metadata": {
    "collapsed": true
   },
   "outputs": [],
   "source": [
    "##### Additional Setup #####\n",
    "# Import RandomState from NumPy for separate streams\n",
    "from numpy.random import RandomState"
   ]
  },
  {
   "cell_type": "markdown",
   "metadata": {},
   "source": [
    "* Like we do for parameters, resources, and monitors, we'll place all our streams into one class, called `S`, so that streams all uniformly start with the prefix `S.`\n",
    "    - For example, `S.inter` for the stream of interarrival times.\n",
    "\n",
    "\n",
    "* To sample from distributions, we need to <span style=\"color:#a00000;\">prepend</span> the name of the stream before the sampling function name.\n",
    "    - For example, <span style=\"color:#a00000; font-family:monospace\">S.inter.</span>`uniform(low = ..., high = ...)`.\n",
    "    \n",
    "\n",
    "* Similarly, to provide a seed for these streams, we <span style=\"color:#a00000;\">prepend</span> the `seed` function with the name of the stream.\n",
    "    - For example, <span style=\"color:#a00000; font-family:monospace\">S.inter.</span>`seed(123)`"
   ]
  },
  {
   "cell_type": "code",
   "execution_count": null,
   "metadata": {
    "collapsed": false
   },
   "outputs": [],
   "source": [
    "##### Parameters #####\n",
    "class P:\n",
    "    # Customers arrive at the entrance with uniformly distributed\n",
    "    # interarrival times between 10 and 25 minutes\n",
    "    interarrivalTimeMin = 10\n",
    "    interarrivalTimeMax = 25\n",
    "    \n",
    "    # Service times are uniformly distributed, but min/max values will vary\n",
    "    serviceTimeMin = None\n",
    "    serviceTimeMax = None\n",
    "    \n",
    "    # One server: Fantastic Dan works by himself\n",
    "    nServers = 1\n",
    "    \n",
    "    # Simulate for 2 hours\n",
    "    simulationTimeMax = 2 * 60\n",
    "    \n",
    "    \n",
    "##### Streams #####\n",
    "    \n",
    "\n",
    "##### Processes #####\n",
    "# Customer\n",
    "class Customer(Process):\n",
    "    def behavior(self):\n",
    "        # Customer arrives, joins queue\n",
    "        print(\"Time {1}: {0} arrives and joins queue\".format(self.name, now())) \n",
    "        yield request, self, R.server\n",
    "        \n",
    "        # Customer is released from queue and starts service\n",
    "        serviceTime = uniform_SA421(P.serviceTimeMin, P.serviceTimeMax, False)\n",
    "        yield hold, self, serviceTime\n",
    "        \n",
    "        # Customer finishes service, leaves\n",
    "        yield release, self, R.server\n",
    "\n",
    "# Entrance\n",
    "class Entrance(Process):\n",
    "    def behavior(self):\n",
    "        # At the start of the simulation, no customers have arrived\n",
    "        nCustomers = 0\n",
    "        \n",
    "        # Customer arrivals\n",
    "        while True:\n",
    "            # Wait until the next arrival\n",
    "            interarrivalTime = uniform_SA421(P.interarrivalTimeMin, P.interarrivalTimeMax, False)\n",
    "            yield hold, self, interarrivalTime\n",
    "            \n",
    "            # Create a new customer using the template defined in the Customer class\n",
    "            c = Customer(name = \"Customer {0}\".format(nCustomers))\n",
    "            \n",
    "            # Activate the customer's behavior\n",
    "            activate(c, c.behavior())\n",
    "\n",
    "            # Count this new customer\n",
    "            nCustomers += 1\n",
    "\n",
    "            \n",
    "##### Resources #####\n",
    "class R:\n",
    "    # Server\n",
    "    server = None\n",
    "\n",
    "\n",
    "##### Model #####\n",
    "def model(inputSeed):    \n",
    "    # Initialize SimPy \n",
    "    initialize()\n",
    "\n",
    "    # Initialize a seed for the random number generator\n",
    "    seed(inputSeed)\n",
    "\n",
    "    # Create the server resource\n",
    "    R.server = Resource(capacity = P.nServers, monitored = True)\n",
    "\n",
    "    # Activate the entrance (to generate customers)\n",
    "    e = Entrance()\n",
    "    activate(e, e.behavior())\n",
    "    \n",
    "    # Run the simulation\n",
    "    simulate(until = P.simulationTimeMax)"
   ]
  },
  {
   "cell_type": "markdown",
   "metadata": {},
   "source": [
    "* Now, let's look again at the customer arrival times in System 1 for one replication:"
   ]
  },
  {
   "cell_type": "code",
   "execution_count": null,
   "metadata": {
    "collapsed": false
   },
   "outputs": [],
   "source": [
    "##### Experiment - System 1 #####\n",
    "# Service time parameters for System 1\n",
    "P.serviceTimeMin = 30\n",
    "P.serviceTimeMax = 45\n",
    "\n",
    "# Run model once\n",
    "model(123, 123)"
   ]
  },
  {
   "cell_type": "markdown",
   "metadata": {},
   "source": [
    "* Similarly, for System 2:"
   ]
  },
  {
   "cell_type": "code",
   "execution_count": null,
   "metadata": {
    "collapsed": false
   },
   "outputs": [],
   "source": [
    "##### Experiment - System 2 #####\n",
    "# Service time parameters for System 2\n",
    "P.serviceTimeMin = 15\n",
    "P.serviceTimeMax = 20\n",
    "\n",
    "# Run model once\n",
    "model(123, 123)"
   ]
  },
  {
   "cell_type": "markdown",
   "metadata": {},
   "source": [
    "* As we can see, the arrival times in both systems now match!"
   ]
  },
  {
   "cell_type": "markdown",
   "metadata": {},
   "source": [
    "## If we have time &mdash; with a neighbor"
   ]
  },
  {
   "cell_type": "markdown",
   "metadata": {},
   "source": [
    "**Problem.** Instead of using the new haircutting technology, Fantastic Dan has decided to team up with Bartender Becky to add a bar service to the shop so customers can relax after their haircuts.\n",
    "\n",
    "Fantastic Dan can be pretty aggressive with the scissors, so every customer has a drink with Bartender Becky after his or her haircut.\n",
    "Bartender Becky can serve only 1 customer at a time, so a queue will form at the bar if Becky is busy.\n",
    "The time it takes for Bartender Becky to serve a customer is exponentially distributed with a mean of 5 minutes.\n",
    "\n",
    "Write SimPy code to simulate this new system for 8 hours. <span style=\"color:#a00000\">Use separate streams of random numbers to generate interarrival times, haircut times, and bar times.</span> Run your simulation once, and compute the time average number of customers waiting for Bartender Becky. Does your answer make sense?"
   ]
  },
  {
   "cell_type": "code",
   "execution_count": null,
   "metadata": {
    "collapsed": true
   },
   "outputs": [],
   "source": []
  }
 ],
 "metadata": {
  "kernelspec": {
   "display_name": "Python 3",
   "language": "python",
   "name": "python3"
  },
  "language_info": {
   "codemirror_mode": {
    "name": "ipython",
    "version": 3
   },
   "file_extension": ".py",
   "mimetype": "text/x-python",
   "name": "python",
   "nbconvert_exporter": "python",
   "pygments_lexer": "ipython3",
   "version": "3.4.3"
  }
 },
 "nbformat": 4,
 "nbformat_minor": 0
}
