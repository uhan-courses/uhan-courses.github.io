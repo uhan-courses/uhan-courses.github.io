{
 "cells": [
  {
   "cell_type": "markdown",
   "metadata": {},
   "source": [
    "# Lesson 10. Random number generation, testing for independence"
   ]
  },
  {
   "cell_type": "markdown",
   "metadata": {},
   "source": [
    "### SA421 Fall 2015"
   ]
  },
  {
   "cell_type": "markdown",
   "metadata": {},
   "source": [
    "## Some useful Python-isms"
   ]
  },
  {
   "cell_type": "markdown",
   "metadata": {},
   "source": [
    "* Modular arithmetic in Python: `x % y` is $x \\mod y$\n",
    "\n",
    "\n",
    "* Quickly, give it a shot: compute $53 \\mod 7$."
   ]
  },
  {
   "cell_type": "code",
   "execution_count": null,
   "metadata": {
    "collapsed": false
   },
   "outputs": [],
   "source": []
  },
  {
   "cell_type": "markdown",
   "metadata": {},
   "source": [
    "* We can access the last item of a list with the `-1` index: for example, `X[-1]` is the last item of list `X`.\n",
    "\n",
    "\n",
    "* We can also **slice** a list: `X[a:b]` contains all items of X between the $a$th item and the $b-1$th item.\n",
    "\n",
    "\n",
    "* Try it out:"
   ]
  },
  {
   "cell_type": "code",
   "execution_count": null,
   "metadata": {
    "collapsed": false
   },
   "outputs": [],
   "source": [
    "# Here's a list\n",
    "X = [23, 45, 67, 89, 101, 112, 131, 415]\n",
    "\n",
    "# Get the last item of X\n",
    "print(\"The last item of X is {0}.\".format( ))\n",
    "\n",
    "# Make a slice of X containing X[2], X[3], X[4], and X[5]:\n",
    "print(\"The slice containing X[2], X[3], X[4], and X[5] is {0}.\".format( ))"
   ]
  },
  {
   "cell_type": "markdown",
   "metadata": {},
   "source": [
    "## The linear congruential method"
   ]
  },
  {
   "cell_type": "markdown",
   "metadata": {},
   "source": [
    "**Example.** Generate 50 pseudo-random numbers using the linear congruential method with a\n",
    "modulus of $2^{31}$, a multiplier of 1103515245, an increment of 12345, and a seed of 123457.\n",
    "\n",
    "*Historical note.* This generator is used in the GNU Compiler Collection (GCC). For generators used in other compilers, [click here](https://en.wikipedia.org/wiki/Linear_congruential_generator)."
   ]
  },
  {
   "cell_type": "code",
   "execution_count": null,
   "metadata": {
    "collapsed": false
   },
   "outputs": [],
   "source": [
    "# Multiplier\n",
    "a = \n",
    "\n",
    "# Increment\n",
    "c = \n",
    "\n",
    "# Modulus\n",
    "m = \n",
    "\n",
    "# Initialize sequence of integers with seed\n",
    "X = \n",
    "\n",
    "# Compute sequence of integers\n",
    "\n",
    "\n",
    "# Print sequence of integers\n",
    "print(\"X = {0}\".format(X))\n",
    "\n",
    "# Compute pseudo-random numbers based on sequence of integers in X\n",
    "R = \n",
    "\n",
    "# Print pseudo-random numbers\n",
    "print(\"R = {0}\".format(R))"
   ]
  },
  {
   "cell_type": "markdown",
   "metadata": {},
   "source": [
    "## Testing for independence"
   ]
  },
  {
   "cell_type": "markdown",
   "metadata": {},
   "source": [
    "* First, some setup code:"
   ]
  },
  {
   "cell_type": "code",
   "execution_count": null,
   "metadata": {
    "collapsed": false
   },
   "outputs": [],
   "source": [
    "##### Setup #####\n",
    "# Import plot, bar from Matplotlib\n",
    "from matplotlib.pyplot import plot, bar\n",
    "\n",
    "# Run Matplotlib magic to show plots directly in the notebook\n",
    "%matplotlib inline\n",
    "\n",
    "# Make Matplotlib plots display as SVG files, which are cleaner\n",
    "from IPython.display import set_matplotlib_formats\n",
    "set_matplotlib_formats('svg')\n",
    "\n",
    "# Import pearsonr from scipy.stats\n",
    "from scipy.stats import pearsonr"
   ]
  },
  {
   "cell_type": "markdown",
   "metadata": {},
   "source": [
    "* Consider the sequence of random numbers we generated above. Are they independent?\n",
    "\n",
    "\n",
    "* Let's start by plotting these random numbers:\n",
    "    * `marker` is a formatting keyword for the `plot` function.\n",
    "    * Others examples of formatting keywords: `linestyle`, `color`. \n",
    "    * See the documentation for plot [here](http://matplotlib.org/1.3.1/api/pyplot_api.html?highlight=pyplot.plot#matplotlib.pyplot.plot)."
   ]
  },
  {
   "cell_type": "code",
   "execution_count": null,
   "metadata": {
    "collapsed": false
   },
   "outputs": [],
   "source": [
    "# Plot random numbers\n"
   ]
  },
  {
   "cell_type": "markdown",
   "metadata": {},
   "source": [
    "* Based on this plot, do you think the random numbers are independent?"
   ]
  },
  {
   "cell_type": "markdown",
   "metadata": {},
   "source": [
    "Visually, they look independent: there is no discernible pattern in the sequence of random numberes."
   ]
  },
  {
   "cell_type": "markdown",
   "metadata": {},
   "source": [
    "* Let's compute the lag-$k$ autocorrelations for $k = 0,1,\\dots,20$.\n",
    "\n",
    "\n",
    "* Recall that the lag-$k$ autocorrelation is the observed sample correlation coefficient between $(y_0,\\dots, y_{n - k - 1})$ and $(y_{k},\\dots,y_{n-1})$.\n",
    "\n",
    "\n",
    "* We can compute the observed sample correlation coefficient between two samples using `pearsonr` from `scipy.stats`.\n",
    "\n",
    "\n",
    "* To compute autocorrelation, we need to apply `pearsonr` to the correct portions of `R`.\n",
    "\n",
    "\n",
    "* `pearsonr(x, y)` computes the observed sample correlation coefficient between lists of values `x` and `y`.\n",
    "    * Outputs a list of 2 values: (correlation coefficient, p-value).\n",
    "    * For our purposes, we want the correlation coefficients."
   ]
  },
  {
   "cell_type": "code",
   "execution_count": null,
   "metadata": {
    "collapsed": false
   },
   "outputs": [],
   "source": [
    "# Number of observations/random numbers\n",
    "n = \n",
    "\n",
    "# Lag-k autocorrelation for k = 0,1,...,20\n",
    "lagAC = \n",
    "    \n",
    "# Print for inspection\n",
    "# The 0-th item is the lag-0 autocorrelation, \n",
    "# the 1st item is the lag-1 autocorrelation, and so on.\n",
    "print(\"lag-k autocorrelations = {0}\".format(lagAC))"
   ]
  },
  {
   "cell_type": "markdown",
   "metadata": {},
   "source": [
    "* Let's use `plot` to get a visual of what's going on:"
   ]
  },
  {
   "cell_type": "code",
   "execution_count": null,
   "metadata": {
    "collapsed": false
   },
   "outputs": [],
   "source": [
    "# Plot autocorrelations\n",
    "plot(lagAC, linestyle='None', marker='o')"
   ]
  },
  {
   "cell_type": "markdown",
   "metadata": {},
   "source": [
    "* **Rule of thumb:** if the autocorrelations are \"small\" (absolute value less than 0.3), then <span style=\"color:#a00000;\">do not reject</span> the hypothesis that the random variates are independent.\n",
    "\n",
    "\n",
    "* **Caution!** When testing a sequence of values for independence, <span style=\"color:#a00000;\">make sure your values are in the original sequence.</span>\n",
    "    * In particular, make sure that you haven't sorted the sequence. (Why?)"
   ]
  },
  {
   "cell_type": "markdown",
   "metadata": {},
   "source": [
    "## If we have time &mdash; with a neighbor..."
   ]
  },
  {
   "cell_type": "markdown",
   "metadata": {},
   "source": [
    "Perform the Kolmogorov-Smirnov goodness-of-fit test to determine whether the random numbers generated in the previous example are from a uniform distribution on [0,1]. Print the observed test statistic and p-value. What can you conclude?"
   ]
  },
  {
   "cell_type": "code",
   "execution_count": null,
   "metadata": {
    "collapsed": false
   },
   "outputs": [],
   "source": []
  },
  {
   "cell_type": "markdown",
   "metadata": {},
   "source": [
    "*Write your discussion here. Double-click to edit.*"
   ]
  },
  {
   "cell_type": "markdown",
   "metadata": {},
   "source": [
    "Compute and plot the lag-$k$ autocorrelation ($k = 0, 1,\\dots, 10$) for the random numbers generated in the first example, **sorted from lowest to highest** as you just did to perform the Kolmogorov-Smirnov test. Does your plot make sense? Why are these new autocorrelation values not useful for testing for independence?"
   ]
  },
  {
   "cell_type": "code",
   "execution_count": null,
   "metadata": {
    "collapsed": false
   },
   "outputs": [],
   "source": []
  },
  {
   "cell_type": "markdown",
   "metadata": {},
   "source": [
    "*Write your discussion here. Double-click to edit.*"
   ]
  }
 ],
 "metadata": {
  "kernelspec": {
   "display_name": "Python 3",
   "language": "python",
   "name": "python3"
  },
  "language_info": {
   "codemirror_mode": {
    "name": "ipython",
    "version": 3
   },
   "file_extension": ".py",
   "mimetype": "text/x-python",
   "name": "python",
   "nbconvert_exporter": "python",
   "pygments_lexer": "ipython3",
   "version": "3.4.3"
  }
 },
 "nbformat": 4,
 "nbformat_minor": 0
}
