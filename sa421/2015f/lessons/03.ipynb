{
 "cells": [
  {
   "cell_type": "markdown",
   "metadata": {},
   "source": [
    "# Lesson 3. Introduction to SimPy"
   ]
  },
  {
   "cell_type": "markdown",
   "metadata": {},
   "source": [
    "### SA421 Fall 2015"
   ]
  },
  {
   "cell_type": "markdown",
   "metadata": {},
   "source": [
    "## What is SimPy?"
   ]
  },
  {
   "cell_type": "markdown",
   "metadata": {},
   "source": [
    "* SimPy is a **process-based** discrete-event simulation language based on Python.\n",
    "\n",
    "\n",
    "* An **event-based simulation** models the operation of a system by describing what happens to the system as it encounters entities.\n",
    "    - e.g. how does the number of customers in the queue change when a customer arrives?\n",
    "\n",
    "\n",
    "* A **process-based simulation** models the operation of a system by describing what happens to each entity as it encounters the system.\n",
    "    - e.g. when a customer arrives, where does she go?\n",
    "\n",
    "\n",
    "* Each has its advantages and disadvantages, for example:\n",
    "    - The event-based view is very flexible and appealing from a mathematical perspective.\n",
    "    - The process-based view is usually easier to use and manage for typical simulation scenarios.\n",
    "\n",
    "\n",
    "* <span style=\"color:#a00000;\">**Note: we will be using SimPy 2.3 in this course, not SimPy 3.0!**</span>"
   ]
  },
  {
   "cell_type": "markdown",
   "metadata": {},
   "source": [
    "## The Fantastic Dan Problem in SimPy"
   ]
  },
  {
   "cell_type": "markdown",
   "metadata": {},
   "source": [
    "**Problem.** Customers visit the neighborhood hair stylist Fantastic Dan for haircuts. The customer interarrival time is exponentially distributed with mean 20 minutes. Each haircut takes Fantastic Dan anywhere from 15 to 25 minutes, uniformly distributed. This time also includes the initial greetings and the transaction of money at the end of the haircut.\n",
    "\n",
    "1. Simulate 1 day of Dan’s operations. Assume Dan works continuously for 6 hours a day.\n",
    "2. How many customers enter Dan's shop per day?\n",
    "3. How many customers does Dan serve per day?\n",
    "4. What is the average number of customers waiting to get a haircut? What is the maximum? \n",
    "5. What is the average time spent by a customer in the queue? What is the maximum?"
   ]
  },
  {
   "cell_type": "markdown",
   "metadata": {},
   "source": [
    "### Some preliminary steps"
   ]
  },
  {
   "cell_type": "markdown",
   "metadata": {},
   "source": [
    "* There are <span style=\"color:#a00000;\">a lot</span> of **libraries** (i.e. **packages**) you can use with Python\n",
    "    * For examples, take a look at the [Python Package Index (PyPI)](https://pypi.python.org/pypi)\n",
    "\n",
    "\n",
    "* Most libraries aren't available by default.\n",
    "\n",
    "\n",
    "* To access functions in these libraries, we need to use `from` and `import`.\n",
    "\n",
    "\n",
    "* These preliminary statements will often be at the top of our notebooks.\n",
    "\n",
    "\n",
    "* `SimPy.Simulation` is the SimPy library. For the sake of simplicity, we'll just import everything (`*`) from it. \n",
    "\n",
    "\n",
    "* `numpy.random` is a NumPy library for random sampling. Check out the documentation [here](http://docs.scipy.org/doc/numpy/reference/routines.random.html). "
   ]
  },
  {
   "cell_type": "code",
   "execution_count": null,
   "metadata": {
    "collapsed": false
   },
   "outputs": [],
   "source": [
    "##### Setup #####\n",
    "# Import everything from SimPy\n",
    "from SimPy.Simulation import *\n",
    "\n",
    "# Import seed initializer and random sampling functions from NumPy\n",
    "from numpy.random import seed, uniform, exponential"
   ]
  },
  {
   "cell_type": "markdown",
   "metadata": {},
   "source": [
    "* A basic SimPy **model** consists of:\n",
    "    - Parameters\n",
    "    - Processes\n",
    "    - Resources\n",
    "\n",
    "\n",
    "* Once we have the model in hand, we can run **experiments** with the model to answer the questions above."
   ]
  },
  {
   "cell_type": "markdown",
   "metadata": {},
   "source": [
    "### Parameters"
   ]
  },
  {
   "cell_type": "markdown",
   "metadata": {},
   "source": [
    "* As good practice, we create **parameters** for values in our model that we might want to change later on. \n",
    "\n",
    "\n",
    "* For the Fantastic Dan problem, we can create parameters for\n",
    "    * the mean interarrival time\n",
    "    * the minimum service time\n",
    "    * the maximum service time\n",
    "    * the number of servers (barbers)"
   ]
  },
  {
   "cell_type": "code",
   "execution_count": null,
   "metadata": {
    "collapsed": false
   },
   "outputs": [],
   "source": [
    "##### Parameters #####\n",
    "class P:\n",
    "    # Customers arrive at the entrance with exponentially distributed\n",
    "    # interarrival times with mean 20\n",
    "    interarrivalTimeMean = 20\n",
    "    \n",
    "    # Service times are uniformly distributed between 15 and 25\n",
    "    serviceTimeMin = 15\n",
    "    serviceTimeMax = 25\n",
    "    \n",
    "    # One server: Fantastic Dan works by himself\n",
    "    nServers = 1\n",
    "    \n",
    "    # Shop is open for 6 continuous hours\n",
    "    simulationTimeMax =  6 * 60"
   ]
  },
  {
   "cell_type": "markdown",
   "metadata": {},
   "source": [
    "* By putting all the parameters in one class `P`, we can access the parameters with a common syntax: for example, `P.interarrivalTimeMean`, `P.serviceTimeMax` and so on."
   ]
  },
  {
   "cell_type": "markdown",
   "metadata": {},
   "source": [
    "### Processes"
   ]
  },
  {
   "cell_type": "markdown",
   "metadata": {},
   "source": [
    "* A **process** is an active component of a simulation model.\n",
    "    - e.g. a customer that moves between the queue and the server in the shop.\n",
    "    - A process is sometimes referred to as an **entity**.\n",
    "\n",
    "\n",
    "* To define a process, we need to describe its behavior.\n",
    "    - e.g. what does a customer do when she enters the shop?"
   ]
  },
  {
   "cell_type": "markdown",
   "metadata": {},
   "source": [
    "#### The customer process"
   ]
  },
  {
   "cell_type": "markdown",
   "metadata": {},
   "source": [
    "* Let's start by defining a process that defines a customer's behavior in this system.\n",
    "\n",
    "\n",
    "* A customer's behavior:\n",
    "    * Customer arrives from entrance and joins queue.\n",
    "    * Customer is released from queue and starts haircut.\n",
    "    * Customer finishes haircut, and leaves."
   ]
  },
  {
   "cell_type": "code",
   "execution_count": null,
   "metadata": {
    "collapsed": false
   },
   "outputs": [],
   "source": [
    "##### Processes #####\n",
    "# Customer\n",
    "class Customer(Process):\n",
    "    def behavior(self):\n",
    "        # Customer arrives, joins queue\n",
    "        print(\"Time {1}: {0} arrives and joins queue\".format(self.name, now()))\n",
    "        yield request, self, R.server\n",
    "        \n",
    "        # Customer is released from queue and starts service\n",
    "        print(\"Time {1}: {0} begins service\".format(self.name, now()))\n",
    "        serviceTime = uniform(low = P.serviceTimeMin, high = P.serviceTimeMax)\n",
    "        yield hold, self, serviceTime\n",
    "        \n",
    "        # Customer finishes service, leaves\n",
    "        print(\"Time {1}: {0} ends service and leaves\".format(self.name, now()))\n",
    "        yield release, self, R.server"
   ]
  },
  {
   "cell_type": "markdown",
   "metadata": {},
   "source": [
    "* `now()` gives the current time in the simulation.\n",
    "\n",
    "\n",
    "* `yield request` has the entity request a unit of a **resource**. \n",
    "    * More on this in a second.\n",
    "\n",
    "\n",
    "* `yield hold` has the entity pause for the specified amount of time.\n",
    "    * This is often used to simulate service time.\n",
    "\n",
    "\n",
    "* `uniform` is a random sampling function defined in the `numpy.random` module: \n",
    "    * `uniform(low, high)` generates a random sample from a uniform distribution on `[low, high]`\n",
    "\n",
    "\n",
    "* `self` refers to the generic entity we're defining.\n",
    "    * `self.name` refers to the name of the entity.\n",
    "    * We'll see how this name gets defined shortly."
   ]
  },
  {
   "cell_type": "markdown",
   "metadata": {},
   "source": [
    "#### The entrance process"
   ]
  },
  {
   "cell_type": "markdown",
   "metadata": {},
   "source": [
    "* We need to generate customers to enter the simulation model. \n",
    "\n",
    "\n",
    "* We can view the shop entrance as a process that generates customers."
   ]
  },
  {
   "cell_type": "code",
   "execution_count": null,
   "metadata": {
    "collapsed": false
   },
   "outputs": [],
   "source": [
    "# Entrance\n",
    "class Entrance(Process):\n",
    "    def behavior(self):\n",
    "        # At the start of the simulation, no customers have arrived\n",
    "        nCustomers = 0\n",
    "        \n",
    "        # Customer arrivals\n",
    "        while True:\n",
    "            # Wait until the next arrival\n",
    "            interarrivalTime = exponential(scale = P.interarrivalTimeMean)\n",
    "            yield hold, self, interarrivalTime\n",
    "            \n",
    "            # Create a new customer using the template defined in the Customer class\n",
    "            c = Customer(name=\"Customer {0}\".format(nCustomers))\n",
    "            \n",
    "            # Activate the customer's behavior\n",
    "            activate(c, c.behavior())\n",
    "\n",
    "            # Count this new customer\n",
    "            nCustomers += 1"
   ]
  },
  {
   "cell_type": "markdown",
   "metadata": {},
   "source": [
    "* A process is passive when it is first created.\n",
    "\n",
    "\n",
    "* To activate a process's behavior, use `activate(entity, entity.behavior())`.\n",
    "\n",
    "\n",
    "* `exponential` is a random sampling function defined in the `numpy.random` module.\n",
    "    * `exponential(scale)` generates a random sample from an exponential distribution with mean `scale`.\n",
    "    * Check out the documentation [here](http://docs.scipy.org/doc/numpy/reference/generated/numpy.random.exponential.html#numpy.random.exponential)."
   ]
  },
  {
   "cell_type": "markdown",
   "metadata": {},
   "source": [
    "### Resources"
   ]
  },
  {
   "cell_type": "markdown",
   "metadata": {},
   "source": [
    "* A **resource** is something that processes an entity.\n",
    "\n",
    "\n",
    "* In SimPy, an entity requests a unit of a resource, holds it for some time, and then releases it.\n",
    "\n",
    "\n",
    "* A **queue** for the resource will form if the number of requests exceeds the number of resource units available.\n",
    "\n",
    "\n",
    "* This queue is automatically maintained by the resource in SimPy.\n",
    "\n",
    "\n",
    "* For now, we just create placeholders for all the resources we will need &ndash; in this case, a server (barber).\n",
    "\n",
    "\n",
    "* We will define the resource later."
   ]
  },
  {
   "cell_type": "code",
   "execution_count": null,
   "metadata": {
    "collapsed": false
   },
   "outputs": [],
   "source": [
    "##### Resources #####\n",
    "class R:\n",
    "    # Server\n",
    "    server = None"
   ]
  },
  {
   "cell_type": "markdown",
   "metadata": {},
   "source": [
    "* As with the parameters, we put all the resources in 1 class, so that we can access them in a consistent way, e.g. `R.server`, etc. "
   ]
  },
  {
   "cell_type": "markdown",
   "metadata": {},
   "source": [
    "### Running the simulation model"
   ]
  },
  {
   "cell_type": "markdown",
   "metadata": {},
   "source": [
    "* With almost all of the simulation model components in place, we are ready to run the simulation model.\n",
    "\n",
    "\n",
    "* To do so, let's create a function that runs the model.\n",
    "\n",
    "\n",
    "* In particular, we need to \n",
    "    - initialize SimPy and the random number generator,\n",
    "    - define the server resource,\n",
    "    - activate the entrance process, and\n",
    "    - start the simulation."
   ]
  },
  {
   "cell_type": "code",
   "execution_count": null,
   "metadata": {
    "collapsed": false
   },
   "outputs": [],
   "source": [
    "##### Model #####\n",
    "def model():\n",
    "    # Initialize SimPy \n",
    "    initialize()\n",
    "\n",
    "    # Initialize a seed for the random number generator (more on this later in the semester)\n",
    "    seed(123)\n",
    "\n",
    "    # Create the server resource\n",
    "    R.server = Resource(capacity = P.nServers)\n",
    "\n",
    "    # Activate the entrance (to generate customers)\n",
    "    e = Entrance()\n",
    "    activate(e, e.behavior())\n",
    "    \n",
    "    # Run the simulation\n",
    "    simulate(until = P.simulationTimeMax)"
   ]
  },
  {
   "cell_type": "markdown",
   "metadata": {},
   "source": [
    "* `Resource(capacity = n)` defines a resource that can process $n$ entities simultaneously.\n",
    "    - Note that resource definitions must occur *after* the `initialize()` statement."
   ]
  },
  {
   "cell_type": "markdown",
   "metadata": {},
   "source": [
    "Now, run the simulation model!"
   ]
  },
  {
   "cell_type": "code",
   "execution_count": null,
   "metadata": {
    "collapsed": false
   },
   "outputs": [],
   "source": [
    "##### Experiment #####\n",
    "model()"
   ]
  },
  {
   "cell_type": "markdown",
   "metadata": {},
   "source": [
    "So far, based on our 1 simulation run, we can answer the following parts of the Fantastic Dan problem:\n",
    "\n",
    "* How many customers enter Dan's shop per day?\n",
    "\n",
    "* How many customers does Dan serve per day?"
   ]
  },
  {
   "cell_type": "markdown",
   "metadata": {},
   "source": [
    "*Write your notes here. Double-click to edit.*"
   ]
  },
  {
   "cell_type": "markdown",
   "metadata": {},
   "source": [
    "## SimPy resources"
   ]
  },
  {
   "cell_type": "markdown",
   "metadata": {},
   "source": [
    "* Links to the official SimPy documentation have been posted on the course webpage.\n",
    "    - The SimPy documentation has some nice tutorials.\n",
    "\n",
    "\n",
    "* In addition, links to the NumPy, SciPy, and Matplotlib documentation have been posted on the course webpage. We will use these packages often, for things like \n",
    "    * random sampling\n",
    "    * statistical testing\n",
    "    * graphs and plots"
   ]
  },
  {
   "cell_type": "markdown",
   "metadata": {},
   "source": [
    "## With a neighbor..."
   ]
  },
  {
   "cell_type": "markdown",
   "metadata": {},
   "source": [
    "Here is the entire Fantastic Dan simulation model in 1 cell, for your convenience."
   ]
  },
  {
   "cell_type": "code",
   "execution_count": null,
   "metadata": {
    "collapsed": false
   },
   "outputs": [],
   "source": [
    "##### Setup #####\n",
    "# Import all simulation functions from SimPy\n",
    "from SimPy.Simulation import *\n",
    "\n",
    "# Import seed initializer and random sampling functions from NumPy\n",
    "from numpy.random import seed, uniform, exponential\n",
    "\n",
    "\n",
    "##### Parameters #####\n",
    "class P:\n",
    "    # Customers arrive at the entrance with exponentially distributed\n",
    "    # interarrival times with mean 20\n",
    "    interarrivalTimeMean = 20\n",
    "    \n",
    "    # Service times are uniformly distributed between 15 and 25\n",
    "    serviceTimeMin = 15\n",
    "    serviceTimeMax = 25\n",
    "    \n",
    "    # One server: Fantastic Dan works by himself\n",
    "    nServers = 1\n",
    "    \n",
    "    # Shop is open for 6 continuous hours\n",
    "    simulationTimeMax =  6 * 60\n",
    "    \n",
    "\n",
    "##### Processes #####\n",
    "# Customer\n",
    "class Customer(Process):\n",
    "    def behavior(self):\n",
    "        # Customer arrives, joins queue\n",
    "        print(\"Time {1}: {0} arrives and joins queue\".format(self.name, now()))\n",
    "        yield request, self, R.server\n",
    "        \n",
    "        # Customer is released from queue and starts service\n",
    "        print(\"Time {1}: {0} begins service\".format(self.name, now()))\n",
    "        serviceTime = uniform(low = P.serviceTimeMin, high = P.serviceTimeMax)\n",
    "        yield hold, self, serviceTime\n",
    "        \n",
    "        # Customer finishes service, leaves\n",
    "        print(\"Time {1}: {0} ends service and leaves\".format(self.name, now()))\n",
    "        yield release, self, R.server\n",
    "\n",
    "# Entrance\n",
    "class Entrance(Process):\n",
    "    def behavior(self):\n",
    "        # At the start of the simulation, no customers have arrived\n",
    "        nCustomers = 0\n",
    "        \n",
    "        # Customer arrivals\n",
    "        while True:\n",
    "            # Wait until the next arrival\n",
    "            interarrivalTime = exponential(scale = P.interarrivalTimeMean)\n",
    "            yield hold, self, interarrivalTime\n",
    "            \n",
    "            # Create a new customer using the template defined in the Customer class\n",
    "            c = Customer(name=\"Customer {0}\".format(nCustomers))\n",
    "            \n",
    "            # Activate the customer's behavior\n",
    "            activate(c, c.behavior())\n",
    "\n",
    "            # Count this new customer\n",
    "            nCustomers += 1\n",
    "\n",
    "##### Resources #####\n",
    "class R:\n",
    "    # Server\n",
    "    server = None\n",
    "\n",
    "\n",
    "##### Model #####\n",
    "def model():\n",
    "    # Initialize SimPy \n",
    "    initialize()\n",
    "\n",
    "    # Initialize a seed for the random number generator (more on this later in the semester)\n",
    "    seed(123)\n",
    "\n",
    "    # Create the server resource\n",
    "    R.server = Resource(capacity = P.nServers)\n",
    "\n",
    "    # Activate the entrance (to generate customers)\n",
    "    e = Entrance()\n",
    "    activate(e, e.behavior())\n",
    "    \n",
    "    # Run the simulation\n",
    "    simulate(until = P.simulationTimeMax)\n",
    "\n",
    "    \n",
    "##### Experiment #####\n",
    "model()"
   ]
  },
  {
   "cell_type": "markdown",
   "metadata": {},
   "source": [
    "See if you can figure out how to make the following modifications. You may need to look at the documentation, especially for different random sampling functions. \n",
    "\n",
    "For each modification, <span style=\"color:#a00000;\">start by copying and pasting the entire simulation model into a new cell</span>. Make the changes, and run the model. How do the number of customers that enter Dan's shop and the number of customers Dan serves per day change?"
   ]
  },
  {
   "cell_type": "markdown",
   "metadata": {},
   "source": [
    "**Modification.** The time between customer arrivals is still exponentially distributed, but now with a mean of 30 minutes. The time for each haircut is still uniformly distributed, but now between 25 and 35 minutes."
   ]
  },
  {
   "cell_type": "code",
   "execution_count": null,
   "metadata": {
    "collapsed": false
   },
   "outputs": [],
   "source": []
  },
  {
   "cell_type": "markdown",
   "metadata": {},
   "source": [
    "*Write your notes here. Double-click to edit.*"
   ]
  },
  {
   "cell_type": "markdown",
   "metadata": {},
   "source": [
    "**Modification.** The haircut time instead follows a Gamma distribution with shape parameter 3 and scale parameter 10. [Hint.](http://docs.scipy.org/doc/numpy/reference/routines.random.html) Also, remember to `import` the function you want to use."
   ]
  },
  {
   "cell_type": "code",
   "execution_count": null,
   "metadata": {
    "collapsed": true
   },
   "outputs": [],
   "source": []
  },
  {
   "cell_type": "markdown",
   "metadata": {},
   "source": [
    "*Write your notes here. Double-click to edit.*"
   ]
  },
  {
   "cell_type": "markdown",
   "metadata": {},
   "source": [
    "**Modification**. Customers arrive at Dan's shop in pairs. The interarrival time for pairs of customers is still exponentially distributed with a mean of 20 minutes. "
   ]
  },
  {
   "cell_type": "code",
   "execution_count": null,
   "metadata": {
    "collapsed": true
   },
   "outputs": [],
   "source": []
  },
  {
   "cell_type": "markdown",
   "metadata": {},
   "source": [
    "*Write your notes here. Double-click to edit.*"
   ]
  }
 ],
 "metadata": {
  "kernelspec": {
   "display_name": "Python 3",
   "language": "python",
   "name": "python3"
  },
  "language_info": {
   "codemirror_mode": {
    "name": "ipython",
    "version": 3
   },
   "file_extension": ".py",
   "mimetype": "text/x-python",
   "name": "python",
   "nbconvert_exporter": "python",
   "pygments_lexer": "ipython3",
   "version": "3.4.3"
  }
 },
 "nbformat": 4,
 "nbformat_minor": 0
}
