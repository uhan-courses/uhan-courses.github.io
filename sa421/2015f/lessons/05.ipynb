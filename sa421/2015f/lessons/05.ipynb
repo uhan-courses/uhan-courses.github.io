{
 "cells": [
  {
   "cell_type": "markdown",
   "metadata": {},
   "source": [
    "# Lesson 5. Practice with SimPy"
   ]
  },
  {
   "cell_type": "markdown",
   "metadata": {},
   "source": [
    "### SA421 Fall 2015"
   ]
  },
  {
   "cell_type": "markdown",
   "metadata": {},
   "source": [
    "#### Problem."
   ]
  },
  {
   "cell_type": "markdown",
   "metadata": {},
   "source": [
    "The Bank of Poisson has two service counters, each with its own queue. Counter A is operated by Ann, who is very competent: service times at counter A are uniformly distributed between 1 and 3 minutes. Counter B is operated by Bob, who is new at the job: service times at counter B are uniformly distributed between 2 and 8 minutes. \n",
    "\n",
    "We consider the bank at its busiest, from 10:00 to 14:00. During this time period, the interarrival time between customers is exponentially distributed with a mean of 2.5 minutes. As is typical in real life, an arriving customer will always join the shorter queue.\n",
    "If the queues are equal in length, assume that an arriving customer joins the queue for counter B.\n",
    "\n",
    "1. Simulate the operation of the bank for these 4 hours. Assume that the bank is empty at 10:00.\n",
    "2. What is the time average number of customers in each queue?\n",
    "3. What fraction of time is Ann busy? Bob?\n",
    "4. What fraction of the customers end up waiting in line for Counter A?"
   ]
  },
  {
   "cell_type": "markdown",
   "metadata": {},
   "source": [
    "#### Hints."
   ]
  },
  {
   "cell_type": "markdown",
   "metadata": {},
   "source": [
    "* `resource.waitQ` is a list consisting of the processes (entities) waiting to receive a unit of resource `resource`.\n",
    "\n",
    "\n",
    "* As a result, you can determine the current length of the queue of resource `resource` with `len(resource.waitQ)`."
   ]
  },
  {
   "cell_type": "markdown",
   "metadata": {},
   "source": [
    "Here's some Python setup to help you get started."
   ]
  },
  {
   "cell_type": "code",
   "execution_count": null,
   "metadata": {
    "collapsed": false
   },
   "outputs": [],
   "source": [
    "##### Setup #####\n",
    "# Import everything from SimPy\n",
    "from SimPy.Simulation import *\n",
    "\n",
    "# Import seed initializer and random sampling functions from NumPy\n",
    "from numpy.random import seed, uniform, exponential"
   ]
  },
  {
   "cell_type": "code",
   "execution_count": null,
   "metadata": {
    "collapsed": true
   },
   "outputs": [],
   "source": []
  }
 ],
 "metadata": {
  "kernelspec": {
   "display_name": "Python 3",
   "language": "python",
   "name": "python3"
  },
  "language_info": {
   "codemirror_mode": {
    "name": "ipython",
    "version": 3
   },
   "file_extension": ".py",
   "mimetype": "text/x-python",
   "name": "python",
   "nbconvert_exporter": "python",
   "pygments_lexer": "ipython3",
   "version": "3.4.3"
  }
 },
 "nbformat": 4,
 "nbformat_minor": 0
}
