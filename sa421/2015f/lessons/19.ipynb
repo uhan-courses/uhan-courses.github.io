{
 "cells": [
  {
   "cell_type": "markdown",
   "metadata": {},
   "source": [
    "# Lesson 19. Transient vs. steady state behavior"
   ]
  },
  {
   "cell_type": "markdown",
   "metadata": {},
   "source": [
    "### SA421 Fall 2015"
   ]
  },
  {
   "cell_type": "markdown",
   "metadata": {},
   "source": [
    "## Warm up"
   ]
  },
  {
   "cell_type": "markdown",
   "metadata": {},
   "source": [
    "People arrive at a cafeteria during the 11:00 - 13:00 lunchtime period, according a uniform interarrival time distribution between 10 and 50 seconds.\n",
    "40% go to the sandwich counter, where two workers wait on customers.\n",
    "Making a sandwich takes anywhere between 60 and 120 seconds, uniformly distributed.\n",
    "The rest go to the main counter, where one server serves the prepared meal; this takes anywhere between 15 and 75 seconds, uniformly distributed. \n",
    "All customers then pay a single cashier, which takes anywhere between 15 and 35 seconds, uniformly distributed.\n",
    "\n",
    "* Simulate the cafeteria for 2 hours. Using 100 replications, compute the sample mean and a 95% confidence interval of the average time it takes for a customer to get and pay for a meal (i.e. transit time)."
   ]
  },
  {
   "cell_type": "markdown",
   "metadata": {},
   "source": [
    "*Hint.* To model a \"station\" or \"counter\" in which customers simply pass through, you can set up a station with zero service time and infinite capacity."
   ]
  },
  {
   "cell_type": "code",
   "execution_count": null,
   "metadata": {
    "collapsed": true
   },
   "outputs": [],
   "source": [
    "##### Setup for simulation #####\n",
    "# Import everything from SimPy\n",
    "from SimPy.Simulation import *\n",
    "\n",
    "# Import inf from NumPy\n",
    "from numpy import inf\n",
    "\n",
    "# Import bisect_left from bisect\n",
    "from bisect import bisect_left\n",
    "\n",
    "# Import seed initializer and random sampling functions from NumPy\n",
    "from numpy.random import seed, rand, uniform"
   ]
  },
  {
   "cell_type": "code",
   "execution_count": null,
   "metadata": {
    "collapsed": false
   },
   "outputs": [],
   "source": []
  },
  {
   "cell_type": "code",
   "execution_count": null,
   "metadata": {
    "collapsed": true
   },
   "outputs": [],
   "source": [
    "##### Setup for experiment #####\n",
    "# Import various functions from NumPy\n",
    "from numpy import mean, std, sqrt\n",
    "\n",
    "# Import t random variable from SciPy\n",
    "from scipy.stats import t"
   ]
  },
  {
   "cell_type": "code",
   "execution_count": null,
   "metadata": {
    "collapsed": true
   },
   "outputs": [],
   "source": []
  },
  {
   "cell_type": "markdown",
   "metadata": {},
   "source": [
    "## Transient vs. steady state behavior"
   ]
  },
  {
   "cell_type": "markdown",
   "metadata": {},
   "source": [
    "* Let's modify our model so that we compute a **running average** of the transit time.\n",
    "\n",
    "\n",
    "* First, we need to add a monitor to observe the running averages."
   ]
  },
  {
   "cell_type": "code",
   "execution_count": null,
   "metadata": {
    "collapsed": false
   },
   "outputs": [],
   "source": [
    "# Define dummy variable to new monitor\n",
    "M.transitRunAvg = None\n",
    "\n",
    "# Edit model() to add new monitor\n"
   ]
  },
  {
   "cell_type": "markdown",
   "metadata": {},
   "source": [
    "* Next, every time we record the transit time of another customer, let's take the average transit time and record that as well."
   ]
  },
  {
   "cell_type": "code",
   "execution_count": null,
   "metadata": {
    "collapsed": false
   },
   "outputs": [],
   "source": [
    "# Edit Customer process to record running average of transit time\n"
   ]
  },
  {
   "cell_type": "markdown",
   "metadata": {},
   "source": [
    "* Now, let's run the model once for a really longer period of time &ndash; 72 hours &ndash; and take a look at how the average transit time evolves as more and more customers enter (and exit) the system."
   ]
  },
  {
   "cell_type": "code",
   "execution_count": null,
   "metadata": {
    "collapsed": true
   },
   "outputs": [],
   "source": [
    "# Set simulation time to 72 hours\n",
    "P.simulationTimeMax = 72 * 60"
   ]
  },
  {
   "cell_type": "code",
   "execution_count": null,
   "metadata": {
    "collapsed": false
   },
   "outputs": [],
   "source": [
    "# Run model\n",
    "model(123)"
   ]
  },
  {
   "cell_type": "markdown",
   "metadata": {},
   "source": [
    "* With the simulation output in hand, let's plot the values in the `M.transitRunAvg` monitor."
   ]
  },
  {
   "cell_type": "code",
   "execution_count": null,
   "metadata": {
    "collapsed": true
   },
   "outputs": [],
   "source": [
    "##### Setup for plotting #####\n",
    "# Import functions from Matplotlib\n",
    "from matplotlib.pyplot import plot\n",
    "\n",
    "# Run Matplotlib magic to show plots directly in the notebook\n",
    "%matplotlib inline\n",
    "\n",
    "# Make Matplotlib plots display as SVG files, which are cleaner\n",
    "from IPython.display import set_matplotlib_formats\n",
    "set_matplotlib_formats('svg')"
   ]
  },
  {
   "cell_type": "code",
   "execution_count": null,
   "metadata": {
    "collapsed": false
   },
   "outputs": [],
   "source": [
    "# Get time and running average values from the monitor\n",
    "t = M.transitRunAvg.tseries()\n",
    "y = M.transitRunAvg.yseries()\n",
    "\n",
    "# Plot time vs. running average of transit time\n",
    "plot(t,y)"
   ]
  },
  {
   "cell_type": "markdown",
   "metadata": {},
   "source": [
    "* As we can see, the average transit time varies wildly in the first 1500 minutes, and slowly settles down afterwards.\n",
    "\n",
    "\n",
    "* **Transient behavior**: behavior in the short-run.\n",
    "\n",
    "\n",
    "* **Steady-state behavior**: behavior in the long-run.\n",
    "\n",
    "\n",
    "* When performing a simulation study, you need to decide whether you want to make a decision based on the transient or steady-state behavior of the system.\n",
    "\n",
    "\n",
    "* In systems that start and end at a given time (e.g. a shop open for 12 hours a day), you will typically want to consider transient behavior.\n",
    "\n",
    "\n",
    "* In systems that run continuously (e.g. 24/7 manufacturing operations), you will typically want to consider steady-state behavior.\n",
    "    \n",
    "    \n",
    "* If you want to make decisions based on the steady state of a system, you need to make sure you **warm up** the simulation long enough so that your performance measures are based on when the simulation is in steady state."
   ]
  }
 ],
 "metadata": {
  "kernelspec": {
   "display_name": "Python 3",
   "language": "python",
   "name": "python3"
  },
  "language_info": {
   "codemirror_mode": {
    "name": "ipython",
    "version": 3
   },
   "file_extension": ".py",
   "mimetype": "text/x-python",
   "name": "python",
   "nbconvert_exporter": "python",
   "pygments_lexer": "ipython3",
   "version": "3.4.3"
  }
 },
 "nbformat": 4,
 "nbformat_minor": 0
}
