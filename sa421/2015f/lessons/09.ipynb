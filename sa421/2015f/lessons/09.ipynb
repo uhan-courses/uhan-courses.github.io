{
 "cells": [
  {
   "cell_type": "markdown",
   "metadata": {},
   "source": [
    "# Lesson 9. Input Data Analysis &mdash; Continuous Distributions"
   ]
  },
  {
   "cell_type": "markdown",
   "metadata": {},
   "source": [
    "### SA421 Fall 2015"
   ]
  },
  {
   "cell_type": "markdown",
   "metadata": {},
   "source": [
    "* Some setup code to start. What's new:\n",
    "    - `expon` and `kstwobign` from `scipy.stats`\n",
    "    - `plot` from Matplotlib"
   ]
  },
  {
   "cell_type": "code",
   "execution_count": null,
   "metadata": {
    "collapsed": false
   },
   "outputs": [],
   "source": [
    "# Import sqrt from numpy\n",
    "from numpy import sqrt\n",
    "\n",
    "# Import expon, kstwobign from scipy.stats\n",
    "from scipy.stats import expon, kstwobign\n",
    "\n",
    "# Import plot, step from Matplotlib\n",
    "from matplotlib.pyplot import plot, step\n",
    "\n",
    "# Run Matplotlib magic to show plots directly in the notebook\n",
    "%matplotlib inline\n",
    "\n",
    "# Make Matplotlib plots display as SVG files, which are cleaner\n",
    "from IPython.display import set_matplotlib_formats\n",
    "set_matplotlib_formats('svg')"
   ]
  },
  {
   "cell_type": "markdown",
   "metadata": {},
   "source": [
    "#### Problem."
   ]
  },
  {
   "cell_type": "markdown",
   "metadata": {},
   "source": [
    "The owner of the Simplex Bakery has provided you the customer interarrival times for the last 100 customers below.\n",
    "\n",
    "The owner suspects that the interarrival times are exponentially distributed with a mean of 11.5. How can we confirm this?"
   ]
  },
  {
   "cell_type": "code",
   "execution_count": null,
   "metadata": {
    "collapsed": false
   },
   "outputs": [],
   "source": [
    "y = [14.49547736,   0.62037285,   1.65019688,   8.47973696,\n",
    "     35.15630605,  29.93872987,   1.57091996,    17.530702,\n",
    "     22.38472157,   6.20101801,  10.11268312,  31.06759551,\n",
    "      1.26286921,   3.70103798,   1.27132231,  20.67798981,\n",
    "     29.79097393,   5.47284879,   3.38909821,   1.33833912,\n",
    "     53.32745735,   7.44996629,   2.78000068,   2.71198784,\n",
    "      2.45608577,   3.22987651,   7.99037515,   2.38534886,\n",
    "      7.74104734,   8.36161288,  18.16978257,  15.70431327,\n",
    "      6.14942964,   3.98647974,   5.01426849,  17.50340488,\n",
    "      5.16632243,  17.10123585,   3.74596185,   5.14755938,\n",
    "      1.15368079,   0.2197562 ,   0.72397686,   2.35583459,\n",
    "      6.84153119,   8.03465305,  33.37982557,  11.02214943,\n",
    "     12.15071805,   5.52586624,   4.18427075,   8.61618249,\n",
    "      6.79026555,   5.89647615,  15.0689048 ,  33.87075026,\n",
    "     15.25508235,  10.39802095,   3.74739007,  15.82994775,\n",
    "     12.92316502,  22.18026082,   6.69224634,   8.68659703,\n",
    "      0.40956063,   3.46261472,  48.02356618,     8.526699,\n",
    "     32.61180577,  12.27833007,  12.28308336,  14.99792457,\n",
    "      6.01307128,  10.72883107,   2.64275508,  14.36161653,\n",
    "      0.47875061,   9.12815475,  43.39783117,   4.66806676,\n",
    "     16.29825198,  23.05776965,  11.80292727,   1.78048999,\n",
    "     10.33631433,   1.50980669,   2.68528107,  27.94325617,\n",
    "     45.79804788,   2.68523923,   7.72818315,  12.60313678,\n",
    "     21.83607447,  26.78297139,  20.8639688 ,   6.77640905,\n",
    "     16.89873702,   0.66130553,   2.13562449,   1.89252193]"
   ]
  },
  {
   "cell_type": "markdown",
   "metadata": {},
   "source": [
    "* Let's start by plotting the empirical cdf and the proposed cdf (the cdf of an exponential random variable with mean 11.5)."
   ]
  },
  {
   "cell_type": "markdown",
   "metadata": {},
   "source": [
    "* First, let's define a variable containing the mean of the proposed distribution, and get the number of observations."
   ]
  },
  {
   "cell_type": "code",
   "execution_count": null,
   "metadata": {
    "collapsed": false
   },
   "outputs": [],
   "source": [
    "# Mean of proposed distribution\n",
    "exponMean = 11.5\n",
    "\n",
    "# Get the number of observations\n",
    "n = len(y)"
   ]
  },
  {
   "cell_type": "markdown",
   "metadata": {},
   "source": [
    "* Next, let's sort the observations using the `.sort()` method on the list `y`.\n",
    "\n",
    "\n",
    "* Note that applying `.sort()` to a list sorts the items <span style=\"color:#a00000;\">in place</span>.\n",
    "\n",
    "\n",
    "* In other words, `y.sort()` does <span style=\"color:#a00000;\">not</span> return a copy of `y` with its items in sorted order.  Instead, it changes the actual ordering of the items in `y`."
   ]
  },
  {
   "cell_type": "code",
   "execution_count": null,
   "metadata": {
    "collapsed": false
   },
   "outputs": [],
   "source": [
    "# Sort the observations\n",
    "\n",
    "# Print the observations to inspect\n",
    "print(\"y = {0}\".format(y))"
   ]
  },
  {
   "cell_type": "markdown",
   "metadata": {},
   "source": [
    "* Note that now, `y[0]` is the smallest observation, `y[1]` is the 2nd smallest observation, etc. \n",
    "\n",
    "\n",
    "* In other words, now `y[j]` corresponds with $y_{(j)}$.\n",
    "\n",
    "\n",
    "* Now, let's compute the value of the empirical cdf at each of the observations."
   ]
  },
  {
   "cell_type": "code",
   "execution_count": null,
   "metadata": {
    "collapsed": false
   },
   "outputs": [],
   "source": [
    "# Get the value of the empirical cdf at each observation\n",
    "\n",
    "# Print for inspection\n",
    "print(\"ecdf = {0}\".format(ecdf))"
   ]
  },
  {
   "cell_type": "markdown",
   "metadata": {},
   "source": [
    "* Let's do the same for the proposed cdf as well: recall that the proposed random variable is exponentially distributed with mean 11.5.\n",
    "\n",
    "\n",
    "* We can do this using the `expon` random variable object from `scipy.stats`. [(documentation)](http://docs.scipy.org/doc/scipy/reference/generated/scipy.stats.expon.html)\n",
    "\n",
    "\n",
    "* In particular, `expon.cdf(a, scale = b)` gives $F_X(a)$, where $X$ is an exponential random variable with mean $b$."
   ]
  },
  {
   "cell_type": "code",
   "execution_count": null,
   "metadata": {
    "collapsed": false
   },
   "outputs": [],
   "source": [
    "# Get the value of the proposed cdf at each observation\n",
    "\n",
    "# Print for inspection\n",
    "print(\"pcdf = {0}\".format(pcdf))"
   ]
  },
  {
   "cell_type": "markdown",
   "metadata": {},
   "source": [
    "* Finally, we're ready to plot the empirical cdf and the proposed cdf.\n",
    "\n",
    "\n",
    "* We discussed the usage of `step` back in Lesson 4.\n",
    "\n",
    "\n",
    "* `plot(x, y)` plots the values in list `x` on the $x$-axis against the values in list `y` on the $y$-axis."
   ]
  },
  {
   "cell_type": "code",
   "execution_count": null,
   "metadata": {
    "collapsed": false
   },
   "outputs": [],
   "source": [
    "# Plot the empirical cdf and the proposed cdf\n",
    "step(y, ecdf, where = \"post\")\n",
    "plot(y, pcdf)"
   ]
  },
  {
   "cell_type": "markdown",
   "metadata": {},
   "source": [
    "## Implementing the Kolmogorov-Smirnov test in Python"
   ]
  },
  {
   "cell_type": "markdown",
   "metadata": {},
   "source": [
    "* Recall that we already sorted the observations $y_0, \\dots, y_{n-1}$ so that $y_i$ corresponds with $y_{(i)}$.\n",
    "\n",
    "\n",
    "* The observed test statistic is\n",
    "\n",
    "$$ d = \\max_{i = 0,1,\\dots,n-1} \\left\\{ \\max\\left\\{ F_X(y_i) - \\frac{i}{n}, \\frac{i+1}{n} - F_X(y_i) \\right\\} \\right\\} $$\n",
    "\n",
    "\n",
    "* Let's compute $d$."
   ]
  },
  {
   "cell_type": "code",
   "execution_count": null,
   "metadata": {
    "collapsed": false
   },
   "outputs": [],
   "source": [
    "# Compute K-S observed test statistic\n",
    "d = \n",
    "\n",
    "# Print K-S observed test statistic\n",
    "print(\"K-S observed test statistic = {0}\".format(d))"
   ]
  },
  {
   "cell_type": "markdown",
   "metadata": {},
   "source": [
    "* The $p$-value is \n",
    "\n",
    "$$\\Pr\\{ D \\ge d \\} = \\Pr\\{ \\sqrt{n} D \\ge \\sqrt{n} d \\}.$$\n",
    "\n",
    "* To compute the $p$-value, we can use `kstwobign.cdf(sqrt(n) * d)`\n",
    "    - `d` is the test statistic\n",
    "    - `n` is the number of observations\n",
    "    - Recall that it is $\\sqrt{n} D$ that follows a Kolmogorov distribution, not $D$ itself"
   ]
  },
  {
   "cell_type": "code",
   "execution_count": null,
   "metadata": {
    "collapsed": false
   },
   "outputs": [],
   "source": [
    "# Compute p-value\n",
    "pValue = \n",
    "\n",
    "# Print p-value\n",
    "print(\"K-S p-value = {0}\".format(pValue))"
   ]
  },
  {
   "cell_type": "markdown",
   "metadata": {},
   "source": [
    "* What can we conclude?"
   ]
  },
  {
   "cell_type": "markdown",
   "metadata": {},
   "source": [
    "*Write your notes here. Double-click to edit.*"
   ]
  }
 ],
 "metadata": {
  "kernelspec": {
   "display_name": "Python 3",
   "language": "python",
   "name": "python3"
  },
  "language_info": {
   "codemirror_mode": {
    "name": "ipython",
    "version": 3
   },
   "file_extension": ".py",
   "mimetype": "text/x-python",
   "name": "python",
   "nbconvert_exporter": "python",
   "pygments_lexer": "ipython3",
   "version": "3.4.3"
  }
 },
 "nbformat": 4,
 "nbformat_minor": 0
}
