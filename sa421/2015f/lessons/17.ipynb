{
 "cells": [
  {
   "cell_type": "markdown",
   "metadata": {},
   "source": [
    "# Lesson 17. Practice with some advanced SimPy constructs"
   ]
  },
  {
   "cell_type": "markdown",
   "metadata": {},
   "source": [
    "### SA421 Fall 2015"
   ]
  },
  {
   "cell_type": "markdown",
   "metadata": {
    "collapsed": true
   },
   "source": [
    "**Problem.**\n",
    "Chef Fulkerson sells her famous dark chocolate peanut butter salted\n",
    "caramel truffles from her food truck. \n",
    "Customers arrive at the truck according to an exponential interarrival\n",
    "time distribution with a mean of 5 minutes. \n",
    "Due to the popularity of these truffles, there is a limit of 5 per\n",
    "customer. \n",
    "Each customer orders 1, 2, 3, 4, or 5 according to the following\n",
    "probability distribution:\n",
    "\n",
    "| Number of truffles ordered | 1   | 2   | 3   | 4   | 5   |\n",
    "|----------------------------------------------------------|\n",
    "| Probability                | 0.1 | 0.1 | 0.2 | 0.2 | 0.4 |\n",
    "\n",
    "If a customer wants more truffles than what is available, he or she\n",
    "simply buys the remaining truffles.\n",
    "\n",
    "Since the truffles are made to order, serving a customer takes\n",
    "between 3 and 9 minutes, uniformly distributed.\n",
    "Customers are somewhat impatient, and will abandon the line without getting served if they've waited too long.\n",
    "The time that a customer will spend in line before abandoning it is exponentially distributed with mean 10 minutes.\n",
    "\n",
    "\n",
    "Chef Fulkerson starts operating her truck at 10:00, and stays open until she sells out.\n",
    "\n",
    "\n",
    "* Model the operation of this system in SimPy.\n",
    "\n",
    "\n",
    "* Using 100 replications:\n",
    "    - Estimate the **stockout time**, i.e. when Chef Fulkerson runs out of truffles.\n",
    "    - Estimate the fraction of customers who abandon the line without getting served."
   ]
  },
  {
   "cell_type": "markdown",
   "metadata": {},
   "source": [
    "*Hints.* You can run a simulation without a predefined end time using `simulate(until = inf)`. You can stop a simulation anytime using `stopSimulation()`. [Here](http://simpy.sourceforge.net/old/SManual/SManual.html#simulation-with-simpy) is the relevant part of the documentation."
   ]
  },
  {
   "cell_type": "code",
   "execution_count": null,
   "metadata": {
    "collapsed": true
   },
   "outputs": [],
   "source": []
  }
 ],
 "metadata": {
  "kernelspec": {
   "display_name": "Python 3",
   "language": "python",
   "name": "python3"
  },
  "language_info": {
   "codemirror_mode": {
    "name": "ipython",
    "version": 3
   },
   "file_extension": ".py",
   "mimetype": "text/x-python",
   "name": "python",
   "nbconvert_exporter": "python",
   "pygments_lexer": "ipython3",
   "version": "3.4.3"
  }
 },
 "nbformat": 4,
 "nbformat_minor": 0
}
