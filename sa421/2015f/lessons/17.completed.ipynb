{
 "cells": [
  {
   "cell_type": "markdown",
   "metadata": {},
   "source": [
    "# Lesson 17. Practice with some advanced SimPy constructs"
   ]
  },
  {
   "cell_type": "markdown",
   "metadata": {},
   "source": [
    "### SA421 Fall 2015"
   ]
  },
  {
   "cell_type": "markdown",
   "metadata": {
    "collapsed": true
   },
   "source": [
    "**Problem.**\n",
    "Chef Fulkerson sells her famous dark chocolate peanut butter salted\n",
    "caramel truffles from her food truck. \n",
    "Customers arrive at the truck according to an exponential interarrival\n",
    "time distribution with a mean of 5 minutes. \n",
    "Due to the popularity of these truffles, there is a limit of 5 per\n",
    "customer. \n",
    "Each customer orders 1, 2, 3, 4, or 5 according to the following\n",
    "probability distribution:\n",
    "\n",
    "| Number of truffles ordered | 1   | 2   | 3   | 4   | 5   |\n",
    "|----------------------------------------------------------|\n",
    "| Probability                | 0.1 | 0.1 | 0.2 | 0.2 | 0.4 |\n",
    "\n",
    "If a customer wants more truffles than what is available, he or she\n",
    "simply buys the remaining truffles.\n",
    "\n",
    "Since the truffles are made to order, serving a customer takes\n",
    "between 3 and 9 minutes, uniformly distributed.\n",
    "Customers are somewhat impatient, and will abandon the line without getting served if they've waited too long.\n",
    "The time that a customer will spend in line before abandoning it is exponentially distributed with mean 10 minutes.\n",
    "\n",
    "\n",
    "Chef Fulkerson starts operating her truck at 10:00, and stays open until she sells out.\n",
    "\n",
    "\n",
    "* Model the operation of this system in SimPy.\n",
    "\n",
    "\n",
    "* Using 100 replications:\n",
    "    - Estimate the **stockout time**, i.e. when Chef Fulkerson runs out of truffles.\n",
    "    - Estimate the fraction of customers who abandon the line without getting served."
   ]
  },
  {
   "cell_type": "markdown",
   "metadata": {},
   "source": [
    "*Hints.* You can run a simulation without a predefined end time using `simulate(until = inf)`. You can stop a simulation anytime using `stopSimulation()`. [Here](http://simpy.sourceforge.net/old/SManual/SManual.html#simulation-with-simpy) is the relevant part of the documentation."
   ]
  },
  {
   "cell_type": "markdown",
   "metadata": {},
   "source": [
    "### Setup"
   ]
  },
  {
   "cell_type": "code",
   "execution_count": 1,
   "metadata": {
    "collapsed": true
   },
   "outputs": [],
   "source": [
    "##### Setup #####\n",
    "# Import various functions from NumPy\n",
    "from numpy import inf, mean\n",
    "\n",
    "# Import seed initializer and random sampling functions from NumPy\n",
    "from numpy.random import seed, rand, exponential, uniform\n",
    "\n",
    "# Import bisect_left from bisect\n",
    "from bisect import bisect_left\n",
    "\n",
    "# Import everything from SimPy\n",
    "from SimPy.Simulation import *"
   ]
  },
  {
   "cell_type": "markdown",
   "metadata": {},
   "source": [
    "### Model"
   ]
  },
  {
   "cell_type": "code",
   "execution_count": 2,
   "metadata": {
    "collapsed": false
   },
   "outputs": [],
   "source": [
    "##### Parameters #####\n",
    "class P:\n",
    "    # Customers arrive according to an exponential interarrival\n",
    "    # time distribution with mean 5 minutes\n",
    "    interarrivalTimeMean = 5\n",
    "    \n",
    "    # Service time is uniformly distributed between 3 and 9 minutes\n",
    "    serviceTimeMin = 3\n",
    "    serviceTimeMax = 9\n",
    "    \n",
    "    # Reneging times are exponentially distributed with mean 10 minutes\n",
    "    renegeTimeMean = 10\n",
    "    \n",
    "    # Number of truffles available at the start\n",
    "    nTruffles = 200\n",
    "\n",
    "    \n",
    "##### Distributions #####\n",
    "class D:\n",
    "    # Number of truffles per customer\n",
    "    def trufflesPerCustomer():\n",
    "        # Sorted list of possible values and -inf\n",
    "        a = [-inf, 1, 2, 3, 4, 5]\n",
    "\n",
    "        # cdf at each possible value\n",
    "        cdf = [0, 0.1, 0.2, 0.4, 0.6, 1.0]\n",
    "\n",
    "        # Generate variate\n",
    "        variate = a[bisect_left(cdf, rand())]\n",
    "\n",
    "        # Return generated variate\n",
    "        return variate\n",
    "\n",
    "    \n",
    "##### Processes #####\n",
    "# Customer\n",
    "class Customer(Process):\n",
    "    def behavior(self):\n",
    "        # Determine how many truffles the customer wants\n",
    "        trufflesWanted = D.trufflesPerCustomer()\n",
    "        \n",
    "        # Customer arrives, joins queue, waits until service \n",
    "        # or renege time limit, whichever comes first        \n",
    "        renegeTime = exponential(scale = P.renegeTimeMean)\n",
    "        yield (request, self, R.server), (hold, self, renegeTime)\n",
    "            \n",
    "        # Customer doesn't renege...\n",
    "        if self.acquired(R.server):\n",
    "            M.renege.observe(0)\n",
    "                \n",
    "            # Customer is released from queue, starts service\n",
    "            serviceTime = uniform(low = P.serviceTimeMin, high = P.serviceTimeMax)\n",
    "            yield hold, self, serviceTime\n",
    "        \n",
    "            # Customer gets truffles\n",
    "            if trufflesWanted > L.truffles.amount:\n",
    "                yield get, self, L.truffles, L.truffles.amount\n",
    "            else:\n",
    "                yield get, self, L.truffles, trufflesWanted\n",
    "\n",
    "            # Customer finishes service, leaves\n",
    "            yield release, self, R.server\n",
    "\n",
    "            # Check for stockout\n",
    "            if L.truffles.amount == 0:\n",
    "                M.stockoutTime.observe(now())\n",
    "                stopSimulation()\n",
    "                      \n",
    "        # Customer reneges...\n",
    "        else:\n",
    "            M.renege.observe(1)\n",
    "            \n",
    "# Entrance\n",
    "class Entrance(Process):\n",
    "    def behavior(self):\n",
    "        # Start customer for number of customers\n",
    "        nCustomers = 0\n",
    "        \n",
    "        while True:\n",
    "            # Interarrival time\n",
    "            interarrivalTime = exponential(scale = P.interarrivalTimeMean)\n",
    "            yield hold, self, interarrivalTime\n",
    " \n",
    "            # Create customer using the template defined in the Customer class\n",
    "            c = Customer(name = \"Customer {0}\".format(nCustomers))\n",
    "            \n",
    "            # Activate the customer's behavior\n",
    "            activate(c, c.behavior())\n",
    "            \n",
    "            # Count this new customer\n",
    "            nCustomers += 1\n",
    "\n",
    "            \n",
    "##### Resources #####\n",
    "class R:\n",
    "    server = None   \n",
    "\n",
    "    \n",
    "##### Levels #####\n",
    "class L:\n",
    "    truffles = None\n",
    "    \n",
    "    \n",
    "##### Monitors #####\n",
    "class M:\n",
    "    renege = None\n",
    "    stockoutTime = None\n",
    "    \n",
    "            \n",
    "##### Simulation #####\n",
    "def model(inputSeed):\n",
    "    # Initialize SimPy\n",
    "    initialize()\n",
    "    \n",
    "    # Initialize a seed for the random number generator\n",
    "    seed(inputSeed)\n",
    "\n",
    "    # Create server resource\n",
    "    R.server = Resource(capacity = 1, monitored = True)\n",
    "\n",
    "    # Create level for truffles\n",
    "    L.truffles = Level(initialBuffered = P.nTruffles)\n",
    "    \n",
    "    # Create monitor for reneging customers\n",
    "    M.renege = Monitor()\n",
    "    \n",
    "    # Create monitor for stock out time\n",
    "    M.stockoutTime = Monitor()\n",
    "\n",
    "    # Activate the entrance\n",
    "    e = Entrance()\n",
    "    activate(e, e.behavior())\n",
    "    \n",
    "    # Run the simulation\n",
    "    simulate(until = inf)\n",
    "\n",
    "    # Compute stockout time - this monitor should only have one observation\n",
    "    stockoutTime = M.stockoutTime.mean()\n",
    "    \n",
    "    # Compute fraction of customers who reneged\n",
    "    fracRenege = M.renege.mean()\n",
    "    \n",
    "    # Return stockout time and fraction of customers who reneged\n",
    "    return [stockoutTime, fracRenege]"
   ]
  },
  {
   "cell_type": "markdown",
   "metadata": {},
   "source": [
    "### Experiment"
   ]
  },
  {
   "cell_type": "code",
   "execution_count": 3,
   "metadata": {
    "collapsed": false
   },
   "outputs": [
    {
     "name": "stdout",
     "output_type": "stream",
     "text": [
      "Estimated stockout time: 6.992636857316447 hours after 10:00\n",
      "Estimated fraction of customers who reneged: 0.3427228052888532\n"
     ]
    }
   ],
   "source": [
    "# Number of replications \n",
    "n = 100\n",
    "\n",
    "# Collect observations\n",
    "stockoutTimeObs = []\n",
    "fracRenegeObs = []\n",
    "for i in range(n):\n",
    "    stockoutTime, fracRenege = model(123*i)\n",
    "    stockoutTimeObs.append(stockoutTime)\n",
    "    fracRenegeObs.append(fracRenege)\n",
    "    \n",
    "# Observed sample mean\n",
    "stockoutTimeSM = mean(stockoutTimeObs)\n",
    "fracRenegeSM = mean(fracRenegeObs)\n",
    "\n",
    "# Print estimated stockout time\n",
    "print(\"Estimated stockout time: {0} hours after 10:00\".format(stockoutTimeSM / 60))\n",
    "\n",
    "# Print estimated fraction of customers who reneged\n",
    "print(\"Estimated fraction of customers who reneged: {0}\".format(fracRenegeSM))"
   ]
  }
 ],
 "metadata": {
  "kernelspec": {
   "display_name": "Python 3",
   "language": "python",
   "name": "python3"
  },
  "language_info": {
   "codemirror_mode": {
    "name": "ipython",
    "version": 3
   },
   "file_extension": ".py",
   "mimetype": "text/x-python",
   "name": "python",
   "nbconvert_exporter": "python",
   "pygments_lexer": "ipython3",
   "version": "3.4.3"
  }
 },
 "nbformat": 4,
 "nbformat_minor": 0
}
