{
 "cells": [
  {
   "cell_type": "markdown",
   "metadata": {},
   "source": [
    "# Lesson 14. SimPy &mdash; multiple arrival types, user-defined distributions"
   ]
  },
  {
   "cell_type": "markdown",
   "metadata": {},
   "source": [
    "### SA421 Fall 2015"
   ]
  },
  {
   "cell_type": "markdown",
   "metadata": {},
   "source": [
    "## Warm up"
   ]
  },
  {
   "cell_type": "markdown",
   "metadata": {},
   "source": [
    "**Problem.** Passengers arrive at Bellman Air's check-in counter in the following proportions:\n",
    "\n",
    "| Passenger Type   | Probability |\n",
    "| ---------------- | ----------- |\n",
    "| Economy (0)      | 0.60        |\n",
    "| Business (1)     | 0.30        |\n",
    "| First (2)        | 0.10        |\n",
    "\n",
    "\n",
    "Write a function called `passengerType` that generates random variates 0, 1 or 2 from this distribution: let 0 = economy class, 1 = business class, and 2 = first class. \n",
    "\n",
    "*Hint.* Use the inverse transform method for discrete distributions."
   ]
  },
  {
   "cell_type": "code",
   "execution_count": null,
   "metadata": {
    "collapsed": true
   },
   "outputs": [],
   "source": [
    "# Import infinity from NumPy\n",
    "from numpy import inf\n",
    "\n",
    "# Import NumPy's random number generator\n",
    "from numpy.random import rand\n",
    "\n",
    "# Import bisect_right from bisect\n",
    "from bisect import bisect_left\n",
    "\n",
    "# Passenger type distribution: \n",
    "# Economy = 0, Business = 1, First = 2\n",
    "def passengerType():\n",
    "    ##\n",
    "    ## This part needs to be filled in...\n",
    "    ##\n",
    "    \n",
    "    # Return generated variate\n",
    "    return variate"
   ]
  },
  {
   "cell_type": "markdown",
   "metadata": {},
   "source": [
    "Test your function in the code cell below:"
   ]
  },
  {
   "cell_type": "code",
   "execution_count": null,
   "metadata": {
    "collapsed": false
   },
   "outputs": [],
   "source": [
    "variates = [passengerType() for i in range(50)]\n",
    "print(\"50 randomly generated passenger types = {0}\".format(variates))"
   ]
  },
  {
   "cell_type": "markdown",
   "metadata": {},
   "source": [
    "## Overview"
   ]
  },
  {
   "cell_type": "markdown",
   "metadata": {},
   "source": [
    "* Today's primary objective: how can we model the arrival of different customer types?\n",
    "\n",
    "\n",
    "* Secondary objective: using custom (discrete) distributions in Python."
   ]
  },
  {
   "cell_type": "markdown",
   "metadata": {},
   "source": [
    "## Probability distribution over different arrival types"
   ]
  },
  {
   "cell_type": "markdown",
   "metadata": {},
   "source": [
    "**Problem.** Passengers arrive at Bellman Air's check-in counter according to an exponential interarrival-time distribution with mean 1.6 minutes. 60% of the passengers are traveling economy class, 30% business class, and 10% first class. There is a single queue, and 3 agents at the counter. Service times for economy class passengers are uniformly distributed between 4 and 12 minutes; for business class passengers, uniformly distributed between 5 and 10 minutes; for first class passengers, uniformly distributed between 6 and 9 minutes.\n",
    "\n",
    "Simulate the system for 2 hours."
   ]
  },
  {
   "cell_type": "markdown",
   "metadata": {},
   "source": [
    "* Below is code for a simpler version of this problem that assumes that all passengers are traveling economy class.\n",
    "\n",
    "\n",
    "* The service time parameters for all passenger types have already been defined.\n",
    "\n",
    "\n",
    "* No monitors are set up and no performance measures are computed.\n",
    "\n",
    "\n",
    "* The simulation is set up to print information about passenger arrivals."
   ]
  },
  {
   "cell_type": "code",
   "execution_count": null,
   "metadata": {
    "collapsed": false
   },
   "outputs": [],
   "source": [
    "##### Setup #####\n",
    "# Import everything from SimPy\n",
    "from SimPy.Simulation import *\n",
    "\n",
    "# Import seed initializer and random sampling functions from NumPy\n",
    "from numpy.random import seed, exponential, uniform"
   ]
  },
  {
   "cell_type": "code",
   "execution_count": null,
   "metadata": {
    "collapsed": false
   },
   "outputs": [],
   "source": [
    "##### Parameters #####\n",
    "class P:\n",
    "    # Passengers arrive at the entrance with exponentially distributed\n",
    "    # interarrival times with mean 1.6 minutes\n",
    "    interarrivalTimeMean = 1.6\n",
    "    \n",
    "    # Service times for economy class passengers is \n",
    "    # uniformly distributed between 4 and 12 minutes\n",
    "    serviceTimeEconMin = 4\n",
    "    serviceTimeEconMax = 12\n",
    "    \n",
    "    # Service times for business class passengers is \n",
    "    # uniformly distributed between 5 and 10 minutes\n",
    "    serviceTimeBusMin = 5\n",
    "    serviceTimeBusMax = 10\n",
    "\n",
    "    # Service times for first class passengers is \n",
    "    # uniformly distributed between 6 and 9 minutes\n",
    "    serviceTimeFirstMin = 6\n",
    "    serviceTimeFirstMax = 9\n",
    "    \n",
    "    # Number of agents: 3\n",
    "    nAgents = 3\n",
    "    \n",
    "    # Simluate for 2 continuous hours\n",
    "    simulationTimeMax = 2 * 60\n",
    "    \n",
    "\n",
    "##### Processes #####\n",
    "# Economy class passenger\n",
    "class PassengerEcon(Process):\n",
    "    def behavior(self):\n",
    "        # Passenger arrives, joins check-in counter queue\n",
    "        print(\"Time {0}: {1} arrives, joins queue\".format(now(), self.name))\n",
    "        yield request, self, R.counter\n",
    "        \n",
    "        # Passenger is released from queue and starts service\n",
    "        serviceTime = uniform(low = P.serviceTimeEconMin, high = P.serviceTimeEconMax)\n",
    "        yield hold, self, serviceTime\n",
    "        \n",
    "        # Passenger finishes service, leaves\n",
    "        yield release, self, R.counter\n",
    "\n",
    "# Entrance\n",
    "class Entrance(Process):\n",
    "    def behavior(self):\n",
    "        # At the start of the simulation, no passengers have arrived\n",
    "        nPassengers = 0\n",
    "        \n",
    "        # Passenger arrivals\n",
    "        while True:\n",
    "            # Wait until the next arrival\n",
    "            interarrivalTime = exponential(scale = P.interarrivalTimeMean)\n",
    "            yield hold, self, interarrivalTime\n",
    "            \n",
    "            # Create a new passenger using the template defined in the Passenger class\n",
    "            c = PassengerEcon(name=\"Passenger {0} (Economy)\".format(nPassengers))\n",
    "            \n",
    "            # Activate the passenger's behavior\n",
    "            activate(c, c.behavior())\n",
    "\n",
    "            # Count this new passenger\n",
    "            nPassengers += 1\n",
    "\n",
    "            \n",
    "##### Resources #####\n",
    "class R:\n",
    "    # Check-in counter\n",
    "    counter = None\n",
    "\n",
    "\n",
    "##### Model #####\n",
    "def model(inputSeed):\n",
    "    # Initialize SimPy \n",
    "    initialize()\n",
    "\n",
    "    # Initialize a seed for the random number generator\n",
    "    seed(inputSeed)\n",
    "\n",
    "    # Create the counter resource\n",
    "    R.counter = Resource(capacity = P.nAgents)\n",
    "\n",
    "    # Activate the entrance\n",
    "    e = Entrance()\n",
    "    activate(e, e.behavior())\n",
    "    \n",
    "    # Run the simulation\n",
    "    simulate(until = P.simulationTimeMax)"
   ]
  },
  {
   "cell_type": "code",
   "execution_count": null,
   "metadata": {
    "collapsed": false
   },
   "outputs": [],
   "source": [
    "model(123)"
   ]
  },
  {
   "cell_type": "markdown",
   "metadata": {},
   "source": [
    "* Let's incorporate the random passenger type generator we created in the warm up.\n",
    "\n",
    "\n",
    "* Like with resources, monitors, and streams, by convention, we will put all custom distributions in their own class. For distributions, we'll use `D`."
   ]
  },
  {
   "cell_type": "code",
   "execution_count": null,
   "metadata": {
    "collapsed": false
   },
   "outputs": [],
   "source": [
    "##### Distributions #####\n",
    "class D:\n"
   ]
  },
  {
   "cell_type": "markdown",
   "metadata": {},
   "source": [
    "* To generate a random passenger type with the function defined above, we use `D.passengerType()`."
   ]
  },
  {
   "cell_type": "markdown",
   "metadata": {},
   "source": [
    "* Next, let's create different processes for each passenger type.\n",
    "\n",
    "\n",
    "* Based on the process for economy class passengers, let's create a process for business class passengers:"
   ]
  },
  {
   "cell_type": "code",
   "execution_count": null,
   "metadata": {
    "collapsed": false
   },
   "outputs": [],
   "source": [
    "# Edit PassengerEcon process to create business class passenger process\n",
    "class PassengerEcon(Process):\n",
    "    def behavior(self):\n",
    "        # Passenger arrives, joins check-in counter queue\n",
    "        print(\"Time {0}: {1} arrives, joins queue\".format(now(), self.name))\n",
    "        yield request, self, R.counter\n",
    "        \n",
    "        # Passenger is released from queue and starts service\n",
    "        serviceTime = uniform(low = P.serviceTimeEconMin, high = P.serviceTimeEconMax)\n",
    "        yield hold, self, serviceTime\n",
    "        \n",
    "        # Passenger finishes service, leaves\n",
    "        yield release, self, R.counter"
   ]
  },
  {
   "cell_type": "markdown",
   "metadata": {},
   "source": [
    "* Similarly, let's create a process for first class passengers:"
   ]
  },
  {
   "cell_type": "code",
   "execution_count": null,
   "metadata": {
    "collapsed": false
   },
   "outputs": [],
   "source": [
    "# Edit PassengerEcon process to create first class passenger process\n",
    "class PassengerEcon(Process):\n",
    "    def behavior(self):\n",
    "        # Passenger arrives, joins check-in counter queue\n",
    "        print(\"Time {0}: {1} arrives, joins queue\".format(now(), self.name))\n",
    "        yield request, self, R.counter\n",
    "        \n",
    "        # Passenger is released from queue and starts service\n",
    "        serviceTime = uniform(low = P.serviceTimeEconMin, high = P.serviceTimeEconMax)\n",
    "        yield hold, self, serviceTime\n",
    "        \n",
    "        # Passenger finishes service, leaves\n",
    "        yield release, self, R.counter"
   ]
  },
  {
   "cell_type": "markdown",
   "metadata": {},
   "source": [
    "* With processes defined for each passenger type, we need to then have them arrive at the entrance in the correct proportions.\n",
    "\n",
    "\n",
    "* To do so, let's redefine the Entrance process:"
   ]
  },
  {
   "cell_type": "code",
   "execution_count": null,
   "metadata": {
    "collapsed": false
   },
   "outputs": [],
   "source": [
    "# Edit Entrance process so that different passenger types \n",
    "#  arrive in the correct proportions\n",
    "class Entrance(Process):\n",
    "    def behavior(self):\n",
    "        # At the start of the simulation, no passengers have arrived\n",
    "        nPassengers = 0\n",
    "        \n",
    "        # Passenger arrivals\n",
    "        while True:\n",
    "            # Wait until the next arrival\n",
    "            interarrivalTime = exponential(scale = P.interarrivalTimeMean)\n",
    "            yield hold, self, interarrivalTime\n",
    "            \n",
    "            # Create a new passenger using the template defined in the Passenger class\n",
    "            c = PassengerEcon(name=\"Passenger {0} (Economy)\".format(nPassengers))\n",
    "            \n",
    "            # Activate the passenger's behavior\n",
    "            activate(c, c.behavior())\n",
    "\n",
    "            # Count this new passenger\n",
    "            nPassengers += 1"
   ]
  },
  {
   "cell_type": "markdown",
   "metadata": {},
   "source": [
    "* Finally, we're ready to run this simulation.\n",
    "\n",
    "\n",
    "* Let's run it once to see what happens."
   ]
  },
  {
   "cell_type": "code",
   "execution_count": null,
   "metadata": {
    "collapsed": false
   },
   "outputs": [],
   "source": [
    "model(123)"
   ]
  },
  {
   "cell_type": "markdown",
   "metadata": {},
   "source": [
    "## Multiple arrival streams"
   ]
  },
  {
   "cell_type": "markdown",
   "metadata": {},
   "source": [
    "**Problem.** Passengers arrive at Bellman Air's check-in counter according to an exponential interarrival-time distribution: <span style=\"color:#d00000;\">the distribution for economy class passengers has mean 3 minutes, business class 5 minutes, first class 15 minutes</span>. There is a single queue, and 3 agents at the counter. Service times for economy class passengers are uniformly distributed between 4 and 12 minutes; for business class passengers, uniformly distributed between 5 and 10 minutes; for first class passengers, uniformly distributed between 6 and 9 minutes.\n",
    "\n",
    "Simulate the system for 2 hours."
   ]
  },
  {
   "cell_type": "markdown",
   "metadata": {},
   "source": [
    "* Below is code for a simpler version of this problem that assumes that all passengers are traveling economy class.\n",
    "\n",
    "\n",
    "* The interarrival time and service time parameters for all passenger types have already been defined.\n",
    "\n",
    "\n",
    "* No monitors are set up and no performance measures are computed.\n",
    "\n",
    "\n",
    "* The simulation is set up to print information about passenger arrivals."
   ]
  },
  {
   "cell_type": "code",
   "execution_count": null,
   "metadata": {
    "collapsed": false
   },
   "outputs": [],
   "source": [
    "##### Parameters #####\n",
    "class P:\n",
    "    # Economy class passengers arrive at the entrance \n",
    "    # with exponentially distributed interarrival times \n",
    "    # with mean 3 minutes\n",
    "    interarrivalTimeEconMean = 3\n",
    "    \n",
    "    # Business class passengers arrive at the entrance \n",
    "    # with exponentially distributed interarrival times \n",
    "    # with mean 5 minutes\n",
    "    interarrivalTimeBusMean = 5\n",
    "    \n",
    "    # First class passengers arrive at the entrance \n",
    "    # with exponentially distributed interarrival times \n",
    "    # with mean 15 minutes\n",
    "    interarrivalTimeFirstMean = 15\n",
    "    \n",
    "    # Service times for economy class passengers is \n",
    "    # uniformly distributed between 4 and 12 minutes\n",
    "    serviceTimeEconMin = 4\n",
    "    serviceTimeEconMax = 12\n",
    "    \n",
    "    # Service times for business class passengers is \n",
    "    # uniformly distributed between 5 and 10 minutes\n",
    "    serviceTimeBusMin = 5\n",
    "    serviceTimeBusMax = 10\n",
    "\n",
    "    # Service times for first class passengers is \n",
    "    # uniformly distributed between 6 and 9 minutes\n",
    "    serviceTimeFirstMin = 6\n",
    "    serviceTimeFirstMax = 9\n",
    "    \n",
    "    # Number of agents: 3\n",
    "    nAgents = 3\n",
    "    \n",
    "    # Simluate for 2 continuous hours\n",
    "    simulationTimeMax = 2 * 60\n",
    "    \n",
    "\n",
    "##### Processes #####\n",
    "# Economy class passenger\n",
    "class PassengerEcon(Process):\n",
    "    def behavior(self):\n",
    "        # Passenger arrives, joins check-in counter queue\n",
    "        print(\"Time {0}: {1} arrives, joins queue\".format(now(), self.name))\n",
    "        yield request, self, R.counter\n",
    "        \n",
    "        # Passenger is released from queue and starts service\n",
    "        serviceTime = uniform(low = P.serviceTimeEconMin, high = P.serviceTimeEconMax)\n",
    "        yield hold, self, serviceTime\n",
    "        \n",
    "        # Passenger finishes service, leaves\n",
    "        yield release, self, R.counter\n",
    "\n",
    "# Economy class entrance\n",
    "class EntranceEcon(Process):\n",
    "    def behavior(self):\n",
    "        # At the start of the simulation, no passengers have arrived\n",
    "        nPassengers = 0\n",
    "        \n",
    "        # Passenger arrivals\n",
    "        while True:\n",
    "            # Wait until the next arrival\n",
    "            interarrivalTime = exponential(scale = P.interarrivalTimeEconMean)\n",
    "            yield hold, self, interarrivalTime\n",
    "            \n",
    "            # Create a new economy class passenger\n",
    "            c = PassengerEcon(name=\"Passenger {0} (Economy)\".format(nPassengers))\n",
    "            \n",
    "            # Activate the passenger's behavior\n",
    "            activate(c, c.behavior())\n",
    "\n",
    "            # Count this new passenger\n",
    "            nPassengers += 1\n",
    "\n",
    "            \n",
    "##### Resources #####\n",
    "class R:\n",
    "    # Check-in counter\n",
    "    counter = None\n",
    "\n",
    "\n",
    "##### Model #####\n",
    "def model(inputSeed):\n",
    "    # Initialize SimPy \n",
    "    initialize()\n",
    "\n",
    "    # Initialize a seed for the random number generator\n",
    "    seed(inputSeed)\n",
    "\n",
    "    # Create the counter resource\n",
    "    R.counter = Resource(capacity = P.nAgents)\n",
    "\n",
    "    # Activate the economy passenger entrance\n",
    "    e = EntranceEcon()\n",
    "    activate(e, e.behavior())\n",
    "    \n",
    "    # Run the simulation\n",
    "    simulate(until = P.simulationTimeMax)"
   ]
  },
  {
   "cell_type": "markdown",
   "metadata": {},
   "source": [
    "* Again, we need create different processes that defines the beavhior for each passenger type.\n",
    "\n",
    "\n",
    "* Let's create a process to define the behavior of business class passengers:"
   ]
  },
  {
   "cell_type": "code",
   "execution_count": null,
   "metadata": {
    "collapsed": true
   },
   "outputs": [],
   "source": [
    "# Business class passenger\n"
   ]
  },
  {
   "cell_type": "markdown",
   "metadata": {},
   "source": [
    "* In addition, let's create a process to define the behavior of first class passengers:"
   ]
  },
  {
   "cell_type": "code",
   "execution_count": null,
   "metadata": {
    "collapsed": false
   },
   "outputs": [],
   "source": [
    "# First class passenger\n"
   ]
  },
  {
   "cell_type": "markdown",
   "metadata": {},
   "source": [
    "* To have the three types of passengers arrive simultaneously, we can create a <span style=\"color:#d00000;\">separate entrance for each type of passenger</span> &mdash; i.e., multiple arrival streams.\n",
    "\n",
    "\n",
    "* Note that these separate entrances don't necessarily have to represent physically different entrances.\n",
    "\n",
    "\n",
    "* We already have an entrance for the economy class passengers.\n",
    "\n",
    "\n",
    "* Based on the entrance for the economy class passengers, let's create an entrance for the business class passengers:"
   ]
  },
  {
   "cell_type": "code",
   "execution_count": null,
   "metadata": {
    "collapsed": false
   },
   "outputs": [],
   "source": [
    "# Edit EntranceEcon process to create an entrance for business class passengers\n",
    "class EntranceEcon(Process):\n",
    "    def behavior(self):\n",
    "        # At the start of the simulation, no passengers have arrived\n",
    "        nPassengers = 0\n",
    "        \n",
    "        # Passenger arrivals\n",
    "        while True:\n",
    "            # Wait until the next arrival\n",
    "            interarrivalTime = exponential(scale = P.interarrivalTimeEconMean)\n",
    "            yield hold, self, interarrivalTime\n",
    "            \n",
    "            # Create a new economy class passenger\n",
    "            c = PassengerEcon(name=\"Passenger {0} (Economy)\".format(nPassengers))\n",
    "            \n",
    "            # Activate the passenger's behavior\n",
    "            activate(c, c.behavior())\n",
    "\n",
    "            # Count this new passenger\n",
    "            nPassengers += 1"
   ]
  },
  {
   "cell_type": "markdown",
   "metadata": {},
   "source": [
    "* Let's also create an entrance for the first class passengers:"
   ]
  },
  {
   "cell_type": "code",
   "execution_count": null,
   "metadata": {
    "collapsed": false
   },
   "outputs": [],
   "source": [
    "# Edit EntranceEcon process to create an entrance for first class passengers\n",
    "class EntranceEcon(Process):\n",
    "    def behavior(self):\n",
    "        # At the start of the simulation, no passengers have arrived\n",
    "        nPassengers = 0\n",
    "        \n",
    "        # Passenger arrivals\n",
    "        while True:\n",
    "            # Wait until the next arrival\n",
    "            interarrivalTime = exponential(scale = P.interarrivalTimeEconMean)\n",
    "            yield hold, self, interarrivalTime\n",
    "            \n",
    "            # Create a new economy class passenger\n",
    "            c = PassengerEcon(name=\"Passenger {0} (Economy)\".format(nPassengers))\n",
    "            \n",
    "            # Activate the passenger's behavior\n",
    "            activate(c, c.behavior())\n",
    "\n",
    "            # Count this new passenger\n",
    "            nPassengers += 1"
   ]
  },
  {
   "cell_type": "markdown",
   "metadata": {},
   "source": [
    "* Finally, before running the simulation, we need to activate all three entrances in `model()`:"
   ]
  },
  {
   "cell_type": "code",
   "execution_count": null,
   "metadata": {
    "collapsed": false
   },
   "outputs": [],
   "source": [
    "# Redefine model() to activate all three entrances\n",
    "def model(inputSeed):\n",
    "    # Initialize SimPy \n",
    "    initialize()\n",
    "\n",
    "    # Initialize a seed for the random number generator\n",
    "    seed(inputSeed)\n",
    "\n",
    "    # Create the counter resource\n",
    "    R.counter = Resource(capacity = P.nAgents)\n",
    "\n",
    "    # Activate the economy passenger entrance\n",
    "    e = EntranceEcon()\n",
    "    activate(e, e.behavior())\n",
    "    \n",
    "    # Run the simulation\n",
    "    simulate(until = P.simulationTimeMax)"
   ]
  },
  {
   "cell_type": "markdown",
   "metadata": {},
   "source": [
    "* Let's run this simulation once to see what happens."
   ]
  },
  {
   "cell_type": "code",
   "execution_count": null,
   "metadata": {
    "collapsed": false,
    "scrolled": false
   },
   "outputs": [],
   "source": [
    "model(123)"
   ]
  },
  {
   "cell_type": "markdown",
   "metadata": {},
   "source": [
    "## If we have time... with a neighbor"
   ]
  },
  {
   "cell_type": "markdown",
   "metadata": {},
   "source": [
    "**Problem.** Below is the SimPy code for the Bellman Air example above with multiple arrival streams, combined into one cell.\n",
    "\n",
    "Bellman Air is considering having two separate counters: one for economy class passengers, and one for business and first class passengers. The economy class counter would have 2 agents, and the business/first class counter would have 1 agent. Modify the SimPy code below to model this proposed change."
   ]
  },
  {
   "cell_type": "markdown",
   "metadata": {},
   "source": [
    "<span style=\"color:#004276;\">In order to model this change, we need to introduce another resource, so that we can model two separate counters. Then, we need to make sure each passenger type requests the correct resource.</span>"
   ]
  },
  {
   "cell_type": "code",
   "execution_count": null,
   "metadata": {
    "collapsed": true
   },
   "outputs": [],
   "source": [
    "##### Parameters #####\n",
    "class P:\n",
    "    # Economy class passengers arrive at the entrance \n",
    "    # with exponentially distributed interarrival times \n",
    "    # with mean 3 minutes\n",
    "    interarrivalTimeEconMean = 3\n",
    "    \n",
    "    # Business class passengers arrive at the entrance \n",
    "    # with exponentially distributed interarrival times \n",
    "    # with mean 5 minutes\n",
    "    interarrivalTimeBusMean = 5\n",
    "    \n",
    "    # First class passengers arrive at the entrance \n",
    "    # with exponentially distributed interarrival times \n",
    "    # with mean 15 minutes\n",
    "    interarrivalTimeFirstMean = 15\n",
    "    \n",
    "    # Service times for economy class passengers is \n",
    "    # uniformly distributed between 4 and 12 minutes\n",
    "    serviceTimeEconMin = 4\n",
    "    serviceTimeEconMax = 12\n",
    "    \n",
    "    # Service times for business class passengers is \n",
    "    # uniformly distributed between 5 and 10 minutes\n",
    "    serviceTimeBusMin = 5\n",
    "    serviceTimeBusMax = 10\n",
    "\n",
    "    # Service times for first class passengers is \n",
    "    # uniformly distributed between 6 and 9 minutes\n",
    "    serviceTimeFirstMin = 6\n",
    "    serviceTimeFirstMax = 9\n",
    "    \n",
    "    # Number of agents: 3\n",
    "    nAgents = 3\n",
    "\n",
    "    # Simluate for 2 continuous hours\n",
    "    simulationTimeMax = 2 * 60\n",
    "    \n",
    "\n",
    "##### Processes #####\n",
    "# Economy class passenger\n",
    "class PassengerEcon(Process):\n",
    "    def behavior(self):\n",
    "        # Passenger arrives, joins check-in counter queue\n",
    "        print(\"Time {0}: {1} arrives, joins queue\".format(now(), self.name))\n",
    "        yield request, self, R.counter\n",
    "        \n",
    "        # Passenger is released from queue and starts service\n",
    "        serviceTime = uniform(low = P.serviceTimeEconMin, high = P.serviceTimeEconMax)\n",
    "        yield hold, self, serviceTime\n",
    "        \n",
    "        # Passenger finishes service, leaves\n",
    "        yield release, self, R.counter\n",
    "\n",
    "# Business class passenger\n",
    "class PassengerBus(Process):\n",
    "    def behavior(self):\n",
    "        # Passenger arrives, joins check-in counter queue\n",
    "        print(\"Time {0}: {1} arrives, joins queue\".format(now(), self.name))\n",
    "        yield request, self, R.counter\n",
    "        \n",
    "        # Passenger is released from queue and starts service\n",
    "        serviceTime = uniform(low = P.serviceTimeBusMin, high = P.serviceTimeBusMax)\n",
    "        yield hold, self, serviceTime\n",
    "        \n",
    "        # Passenger finishes service, leaves\n",
    "        yield release, self, R.counter \n",
    "        \n",
    "# First class passenger\n",
    "class PassengerFirst(Process):\n",
    "    def behavior(self):\n",
    "        # Passenger arrives, joins check-in counter queue\n",
    "        print(\"Time {0}: {1} arrives, joins queue\".format(now(), self.name))\n",
    "        yield request, self, R.counter\n",
    "        \n",
    "        # Passenger is released from queue and starts service\n",
    "        serviceTime = uniform(low = P.serviceTimeFirstMin, high = P.serviceTimeFirstMax)\n",
    "        yield hold, self, serviceTime\n",
    "        \n",
    "        # Passenger finishes service, leaves\n",
    "        yield release, self, R.counter\n",
    "        \n",
    "# Economy class entrance\n",
    "class EntranceEcon(Process):\n",
    "    def behavior(self):\n",
    "        # At the start of the simulation, no passengers have arrived\n",
    "        nPassengers = 0\n",
    "        \n",
    "        # Passenger arrivals\n",
    "        while True:\n",
    "            # Wait until the next arrival\n",
    "            interarrivalTime = exponential(scale = P.interarrivalTimeEconMean)\n",
    "            yield hold, self, interarrivalTime\n",
    "            \n",
    "            # Create a new economy class passenger\n",
    "            c = PassengerEcon(name=\"Passenger {0} (Economy)\".format(nPassengers))\n",
    "            \n",
    "            # Activate the passenger's behavior\n",
    "            activate(c, c.behavior())\n",
    "\n",
    "            # Count this new passenger\n",
    "            nPassengers += 1\n",
    "\n",
    "# Business class entrance\n",
    "class EntranceBus(Process):\n",
    "    def behavior(self):\n",
    "        # At the start of the simulation, no passengers have arrived\n",
    "        nPassengers = 0\n",
    "        \n",
    "        # Passenger arrivals\n",
    "        while True:\n",
    "            # Wait until the next arrival\n",
    "            interarrivalTime = exponential(scale = P.interarrivalTimeBusMean)\n",
    "            yield hold, self, interarrivalTime\n",
    "            \n",
    "            # Create a new business class passenger\n",
    "            c = PassengerBus(name=\"Passenger {0} (Business)\".format(nPassengers))\n",
    "            \n",
    "            # Activate the passenger's behavior\n",
    "            activate(c, c.behavior())\n",
    "\n",
    "            # Count this new passenger\n",
    "            nPassengers += 1\n",
    "\n",
    "# First class entrance\n",
    "class EntranceFirst(Process):\n",
    "    def behavior(self):\n",
    "        # At the start of the simulation, no passengers have arrived\n",
    "        nPassengers = 0\n",
    "        \n",
    "        # Passenger arrivals\n",
    "        while True:\n",
    "            # Wait until the next arrival\n",
    "            interarrivalTime = exponential(scale = P.interarrivalTimeFirstMean)\n",
    "            yield hold, self, interarrivalTime\n",
    "            \n",
    "            # Create a new first class passenger\n",
    "            c = PassengerFirst(name=\"Passenger {0} (First)\".format(nPassengers))\n",
    "            \n",
    "            # Activate the passenger's behavior\n",
    "            activate(c, c.behavior())\n",
    "\n",
    "            # Count this new passenger\n",
    "            nPassengers += 1\n",
    "\n",
    "\n",
    "##### Resources #####\n",
    "class R:\n",
    "    # Check-in counter\n",
    "    counter = None\n",
    "\n",
    "\n",
    "##### Model #####\n",
    "def model(inputSeed):\n",
    "    # Initialize SimPy \n",
    "    initialize()\n",
    "\n",
    "    # Initialize a seed for the random number generator\n",
    "    seed(inputSeed)\n",
    "\n",
    "    # Create the counter resource\n",
    "    R.counter = Resource(capacity = P.nAgents)\n",
    "\n",
    "    # Activate the economy class passenger entrance\n",
    "    ee = EntranceEcon()\n",
    "    activate(ee, ee.behavior())\n",
    "    \n",
    "    # Activate the business class passenger entrance\n",
    "    eb = EntranceBus()\n",
    "    activate(eb, eb.behavior())\n",
    "    \n",
    "    # Activate the business class passenger entrance\n",
    "    ef = EntranceFirst()\n",
    "    activate(ef, ef.behavior())\n",
    "    \n",
    "    # Run the simulation\n",
    "    simulate(until = P.simulationTimeMax)"
   ]
  },
  {
   "cell_type": "code",
   "execution_count": null,
   "metadata": {
    "collapsed": false
   },
   "outputs": [],
   "source": [
    "model(123)"
   ]
  }
 ],
 "metadata": {
  "kernelspec": {
   "display_name": "Python 3",
   "language": "python",
   "name": "python3"
  },
  "language_info": {
   "codemirror_mode": {
    "name": "ipython",
    "version": 3
   },
   "file_extension": ".py",
   "mimetype": "text/x-python",
   "name": "python",
   "nbconvert_exporter": "python",
   "pygments_lexer": "ipython3",
   "version": "3.4.3"
  }
 },
 "nbformat": 4,
 "nbformat_minor": 0
}
