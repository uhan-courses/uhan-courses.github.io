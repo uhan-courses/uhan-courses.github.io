{
 "cells": [
  {
   "cell_type": "markdown",
   "metadata": {},
   "source": [
    "# Lesson 15. SimPy &mdash; priority queues, preemption"
   ]
  },
  {
   "cell_type": "markdown",
   "metadata": {},
   "source": [
    "### SA421 Fall 2015"
   ]
  },
  {
   "cell_type": "markdown",
   "metadata": {},
   "source": [
    "## Priority queues"
   ]
  },
  {
   "cell_type": "markdown",
   "metadata": {},
   "source": [
    "**Problem.** Dantzig's Diner is very, very small: it only has a 4-seat counter.\n",
    "\n",
    "Customers arrive individually at the diner according to an exponential interarrival time distribution with a mean of 15 minutes. 25% of these customers are VIPs, and get to skip to the head of the queue upon arrival (behind any VIPs already in line, but ahead of any non-VIPs). The time that each customer spends at the diner is uniformly distributed between 60 and 90 minutes.\n",
    "\n",
    "* Simulate the restaurant for 4 hours.\n",
    "\n",
    "\n",
    "* What is the average delay of VIP customers? What is the average delay of non-VIP customers?"
   ]
  },
  {
   "cell_type": "markdown",
   "metadata": {},
   "source": [
    "* Below, we have SimPy code for this problem, <span style=\"color:#a00000\">under the assumption that all customers are non-VIPs</span>.\n",
    "\n",
    "\n",
    "* Print statements have been added to output when a customer arrives, when a customer starts service, and when a customer finishes service."
   ]
  },
  {
   "cell_type": "code",
   "execution_count": null,
   "metadata": {
    "collapsed": true
   },
   "outputs": [],
   "source": [
    "##### Setup #####\n",
    "# Import everything from SimPy\n",
    "from SimPy.Simulation import *\n",
    "\n",
    "# Import seed initializer and random sampling functions from NumPy\n",
    "from numpy.random import seed, rand, exponential, uniform"
   ]
  },
  {
   "cell_type": "code",
   "execution_count": null,
   "metadata": {
    "collapsed": false
   },
   "outputs": [],
   "source": [
    "##### Parameters #####\n",
    "class P:\n",
    "    # Customers arrive at diner according to  \n",
    "    # exponentially distributed interarrival times with mean 15\n",
    "    interarrivalTimeMean = 15\n",
    "    \n",
    "    # Service times are uniformly distributed between 60 and 90 minutes\n",
    "    serviceTimeMin = 60\n",
    "    serviceTimeMax = 90\n",
    "    \n",
    "    # 4 seats at diner\n",
    "    nSeats = 4\n",
    "    \n",
    "    # Simulate restaurant for 4 hours\n",
    "    simulationTimeMax = 4 * 60\n",
    "    \n",
    "    \n",
    "##### Processes #####\n",
    "# Customer\n",
    "class Customer(Process):\n",
    "    def behavior(self):\n",
    "        # Customer arrives, joins queue\n",
    "        print(\"Time {0}: {1} arrives\".format(now(), self.name))\n",
    "        yield request, self, R.seats  \n",
    "        \n",
    "        # Customer is released from queue and starts service\n",
    "        print(\"Time {0}: {1} starts service\".format(now(), self.name))\n",
    "        serviceTime = uniform(low = P.serviceTimeMin, high = P.serviceTimeMax)\n",
    "        yield hold, self, serviceTime\n",
    "        \n",
    "        # Customer finishes service, leaves\n",
    "        print(\"Time {0}: {1} finishes service\".format(now(), self.name))\n",
    "        yield release, self, R.seats\n",
    "\n",
    "# Entrance\n",
    "class Entrance(Process):\n",
    "    def behavior(self):\n",
    "        # At the start of the simulation, no customers have arrived\n",
    "        nCustomers = 0\n",
    "        \n",
    "        # Customer arrivals\n",
    "        while True:\n",
    "            # Wait until the next arrival\n",
    "            interarrivalTime = exponential(scale = P.interarrivalTimeMean)\n",
    "            yield hold, self, interarrivalTime\n",
    "            \n",
    "            # Create a new customer using the template defined in the Customer class\n",
    "            c = Customer(name=\"Customer {0}\".format(nCustomers))\n",
    "            \n",
    "            # Activate the customer's behavior\n",
    "            activate(c, c.behavior())\n",
    "\n",
    "            # Count this new customer\n",
    "            nCustomers += 1\n",
    "\n",
    "            \n",
    "##### Resources #####\n",
    "class R:\n",
    "    # Seats\n",
    "    seats = None\n",
    "\n",
    "\n",
    "##### Model #####\n",
    "def model(inputSeed):\n",
    "    # Initialize SimPy \n",
    "    initialize()\n",
    "\n",
    "    # Initialize seed for random number generator\n",
    "    seed(inputSeed)\n",
    "\n",
    "    # Create the server resource\n",
    "    R.seats = Resource(capacity = P.nSeats)\n",
    "\n",
    "    # Activate the entrance (to generate customers)\n",
    "    e = Entrance()\n",
    "    activate(e, e.behavior())\n",
    "    \n",
    "    # Run the simulation\n",
    "    simulate(until = P.simulationTimeMax)"
   ]
  },
  {
   "cell_type": "markdown",
   "metadata": {},
   "source": [
    "* First, let's create a function that generates random samples from the VIP/non-VIP customer distribution: let 0 correspond to a non-VIP, and let 1 correspond to a VIP."
   ]
  },
  {
   "cell_type": "code",
   "execution_count": null,
   "metadata": {
    "collapsed": true
   },
   "outputs": [],
   "source": [
    "##### Additional Setup #####\n",
    "# Import infinity from NumPy\n",
    "from numpy import inf\n",
    "\n",
    "# Import bisect_right from bisect\n",
    "from bisect import bisect_left"
   ]
  },
  {
   "cell_type": "code",
   "execution_count": null,
   "metadata": {
    "collapsed": false
   },
   "outputs": [],
   "source": [
    "##### Distributions #####\n",
    "class D:\n",
    "    # VIP/non-VIP distribution\n",
    "    # 0 = non-VIP, 1 = VIP\n",
    "    def VIP():\n",
    "        # List of possible values, including -inf\n",
    "        a = \n",
    "        \n",
    "        # cdf at values\n",
    "        cdf = \n",
    "        \n",
    "        # Generate variate\n",
    "        u = rand()\n",
    "        i = bisect_left(cdf, u)\n",
    "        variate = a[i]\n",
    "\n",
    "        # Return variate\n",
    "        return variate"
   ]
  },
  {
   "cell_type": "markdown",
   "metadata": {},
   "source": [
    "* We need to modify the above code so that the priority of customers is taken into account.\n",
    "\n",
    "\n",
    "* This can be accomplished by adding a **priority value** to the `yield request` statement:\n",
    "```\n",
    "yield request, self, resourceName, priorityValue\n",
    "```\n",
    "\n",
    "\n",
    "* The priority value can be any number: processes with higher priority values will be placed closer to the beginning of the queue.\n",
    "\n",
    "\n",
    "* In other words, the queue order is <span style=\"color:#a00000;\">dynamic</span>: processes are always ordered in the queue according to their priority values.\n",
    "\n",
    "\n",
    "* Let's implement the problem setting as follows:\n",
    "    - Determine the customer type in the Customer process, right before he/she joins the queue.\n",
    "         - We could have also done this using multiple customer processes, like in the previous lesson.\n",
    "    - Non-VIPs will join the queue with priority 0.\n",
    "    - VIPs will join the queue with priority 100."
   ]
  },
  {
   "cell_type": "code",
   "execution_count": null,
   "metadata": {
    "collapsed": false
   },
   "outputs": [],
   "source": [
    "##### Modify Customer process to reflect VIP and non-VIP behavior #####\n",
    "class Customer(Process):\n",
    "    def behavior(self):\n",
    "        # Customer arrives, joins queue\n",
    "        print(\"Time {0}: {1} arrives\".format(now(), self.name))\n",
    "        yield request, self, R.seats  \n",
    "        \n",
    "        # Customer is released from queue and starts service\n",
    "        print(\"Time {0}: {1} starts service\".format(now(), self.name))\n",
    "        serviceTime = uniform(low = P.serviceTimeMin, high = P.serviceTimeMax)\n",
    "        yield hold, self, serviceTime\n",
    "        \n",
    "        # Customer finishes service, leaves\n",
    "        print(\"Time {0}: {1} finishes service\".format(now(), self.name))\n",
    "        yield release, self, R.seats"
   ]
  },
  {
   "cell_type": "markdown",
   "metadata": {},
   "source": [
    "* To have a resource's queue respect the given priority values, we need to specify `qType = PriorityQ` when creating the resource with `Resource()`."
   ]
  },
  {
   "cell_type": "code",
   "execution_count": null,
   "metadata": {
    "collapsed": false
   },
   "outputs": [],
   "source": [
    "##### Modify the model() function to activate priority queueing #####\n",
    "def model(inputSeed):\n",
    "    # Initialize SimPy \n",
    "    initialize()\n",
    "\n",
    "    # Initialize seed for random number generator\n",
    "    seed(inputSeed)\n",
    "\n",
    "    # Create the server resource, activate priority queue\n",
    "    R.seats = Resource(capacity = P.nSeats)\n",
    "\n",
    "    # Activate the entrance (to generate customers)\n",
    "    e = Entrance()\n",
    "    activate(e, e.behavior())\n",
    "    \n",
    "    # Run the simulation\n",
    "    simulate(until = P.simulationTimeMax)"
   ]
  },
  {
   "cell_type": "markdown",
   "metadata": {},
   "source": [
    "* Let's run the model and see what happens."
   ]
  },
  {
   "cell_type": "code",
   "execution_count": null,
   "metadata": {
    "collapsed": false
   },
   "outputs": [],
   "source": [
    "model(456)"
   ]
  },
  {
   "cell_type": "markdown",
   "metadata": {},
   "source": [
    "* What's going on with Customer 9?"
   ]
  },
  {
   "cell_type": "markdown",
   "metadata": {},
   "source": [
    "*Write your notes here. Double-click to edit.*"
   ]
  },
  {
   "cell_type": "markdown",
   "metadata": {},
   "source": [
    "## With your neighbor..."
   ]
  },
  {
   "cell_type": "markdown",
   "metadata": {},
   "source": [
    "* Implement two monitors:\n",
    "    - `M.waitVIP` for the delay of each VIP customer\n",
    "    - `M.waitNonVIP` for the delay of each non-VIP customer\n",
    "    \n",
    "\n",
    "* Use these monitors to compute the average delay for each type of customer."
   ]
  },
  {
   "cell_type": "code",
   "execution_count": null,
   "metadata": {
    "collapsed": true
   },
   "outputs": [],
   "source": [
    "##### Declare dummy variables for new monitors #####\n",
    "class M:\n",
    "    "
   ]
  },
  {
   "cell_type": "code",
   "execution_count": null,
   "metadata": {
    "collapsed": true
   },
   "outputs": [],
   "source": [
    "##### Activate new monitors #####\n"
   ]
  },
  {
   "cell_type": "code",
   "execution_count": null,
   "metadata": {
    "collapsed": true
   },
   "outputs": [],
   "source": [
    "##### Change Customer process to record delay using newly activated monitors #####\n"
   ]
  },
  {
   "cell_type": "code",
   "execution_count": null,
   "metadata": {
    "collapsed": true
   },
   "outputs": [],
   "source": [
    "##### Compute average delay for each customer type #####\n"
   ]
  },
  {
   "cell_type": "markdown",
   "metadata": {},
   "source": [
    "## Preemption"
   ]
  },
  {
   "cell_type": "markdown",
   "metadata": {},
   "source": [
    "* Now suppose that upon arrival, VIPs can displace any non-VIP customer in service (what an unfriendly diner!).\n",
    "\n",
    "\n",
    "* The displaced customer will resume service when all VIPs are gone. \n",
    "\n",
    "\n",
    "* In other words, service for VIPs **preempts** service for non-VIPs.\n",
    "\n",
    "\n",
    "* Some more realistic examples of preemption...\n",
    "    - Manufacturing: rush-order jobs\n",
    "    - High-performance computing clusters: higher priority jobs\n",
    "    - What else?\n",
    "\n",
    "\n",
    "* This change is easy to accomplish: we only need to add the argument `preemptable = True` to the `Resource()` call:"
   ]
  },
  {
   "cell_type": "code",
   "execution_count": null,
   "metadata": {
    "collapsed": false
   },
   "outputs": [],
   "source": [
    "##### Simulation #####\n",
    "def model(inputSeed):\n",
    "    # Initialize SimPy \n",
    "    initialize()\n",
    "\n",
    "    # Initialize seed for random number generator\n",
    "    seed(inputSeed)\n",
    "\n",
    "    # Create the server resource, activate priority queue\n",
    "    R.seats = Resource(capacity = P.nSeats, qType = PriorityQ, preemptable = True)\n",
    "    \n",
    "    # Create monitor for VIP customer delay\n",
    "    M.delayVIP = Monitor()\n",
    "    \n",
    "    # Create monitor for non-VIP customer delay\n",
    "    M.delayNonVIP = Monitor()\n",
    "\n",
    "    # Activate the entrance (to generate customers)\n",
    "    e = Entrance()\n",
    "    activate(e, e.behavior())\n",
    "    \n",
    "    # Run the simulation\n",
    "    simulate(until = P.simulationTimeMax)"
   ]
  },
  {
   "cell_type": "markdown",
   "metadata": {},
   "source": [
    "* Let's run the model again."
   ]
  },
  {
   "cell_type": "code",
   "execution_count": null,
   "metadata": {
    "collapsed": false
   },
   "outputs": [],
   "source": [
    "model(456)"
   ]
  },
  {
   "cell_type": "markdown",
   "metadata": {},
   "source": [
    "* Let's print the average delay for both type of customers."
   ]
  },
  {
   "cell_type": "code",
   "execution_count": null,
   "metadata": {
    "collapsed": false
   },
   "outputs": [],
   "source": [
    "print(\"Average delay for VIP customers = {0}\".format(M.delayVIP.mean()))\n",
    "print(\"Average delay for non-VIP customers = {0}\".format(M.delayNonVIP.mean()))"
   ]
  },
  {
   "cell_type": "markdown",
   "metadata": {},
   "source": [
    "* Does this make sense?"
   ]
  },
  {
   "cell_type": "markdown",
   "metadata": {},
   "source": [
    "*Write your notes here. Double-click to edit.*"
   ]
  }
 ],
 "metadata": {
  "kernelspec": {
   "display_name": "Python 3",
   "language": "python",
   "name": "python3"
  },
  "language_info": {
   "codemirror_mode": {
    "name": "ipython",
    "version": 3
   },
   "file_extension": ".py",
   "mimetype": "text/x-python",
   "name": "python",
   "nbconvert_exporter": "python",
   "pygments_lexer": "ipython3",
   "version": "3.4.3"
  }
 },
 "nbformat": 4,
 "nbformat_minor": 0
}
