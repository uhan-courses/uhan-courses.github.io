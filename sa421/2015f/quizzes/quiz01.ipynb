{
 "cells": [
  {
   "cell_type": "markdown",
   "metadata": {},
   "source": [
    "# Quiz 1 &mdash; 3 September 2015"
   ]
  },
  {
   "cell_type": "markdown",
   "metadata": {},
   "source": [
    "### SA421 Fall 2015"
   ]
  },
  {
   "cell_type": "markdown",
   "metadata": {},
   "source": [
    "### Instructions."
   ]
  },
  {
   "cell_type": "markdown",
   "metadata": {},
   "source": [
    "* You have 15 minutes to complete this quiz. \n",
    "* You **may** use your notes, homework, and any documentation linked from the [course website](http://www.usna.edu/Users/math/uhan/sa421/) during this quiz. \n",
    "* You **may not** use any other materials (in particular, other sources on the Internet found through search engines).\n",
    "* Once you are done, submit your .ipynb file using the [SA421 assignment submission form](https://script.google.com/a/macros/usna.edu/s/AKfycbx4YD8p8kcQq6liPVvTXZvb_Z26ZMH5UGAMITp_z3eJvU6ttE1J/exec).\n",
    "* <span style=\"color:#d00000\">Remember to save your .ipynb file before submitting it, and make sure to upload the correct file!</span>"
   ]
  },
  {
   "cell_type": "markdown",
   "metadata": {},
   "source": [
    "### Problem 1."
   ]
  },
  {
   "cell_type": "markdown",
   "metadata": {},
   "source": [
    "Give your answers to parts a &ndash; d in the code cell below.\n",
    "You may insert additional code cells for your answers if you wish."
   ]
  },
  {
   "cell_type": "code",
   "execution_count": null,
   "metadata": {
    "collapsed": false
   },
   "outputs": [],
   "source": [
    "# Service times of first 10 customers\n",
    "serviceTimes = [4, 10, 8, 15, 27, 29, 19, 21, 25, 38]"
   ]
  },
  {
   "cell_type": "markdown",
   "metadata": {},
   "source": [
    "### Problem 2."
   ]
  },
  {
   "cell_type": "markdown",
   "metadata": {},
   "source": [
    "Give your answers to parts a and b in the code cell below."
   ]
  },
  {
   "cell_type": "code",
   "execution_count": null,
   "metadata": {
    "collapsed": false
   },
   "outputs": [],
   "source": [
    "# Money values in Chinese Yuan\n",
    "yuan = [259.3, 874.9, 12.7, 795.2, 58.5, 616.5, 83.6, 786.1, 186.3, 78.2]"
   ]
  }
 ],
 "metadata": {
  "kernelspec": {
   "display_name": "Python 3",
   "language": "python",
   "name": "python3"
  },
  "language_info": {
   "codemirror_mode": {
    "name": "ipython",
    "version": 3
   },
   "file_extension": ".py",
   "mimetype": "text/x-python",
   "name": "python",
   "nbconvert_exporter": "python",
   "pygments_lexer": "ipython3",
   "version": "3.4.3"
  }
 },
 "nbformat": 4,
 "nbformat_minor": 0
}
