{
 "cells": [
  {
   "cell_type": "markdown",
   "metadata": {},
   "source": [
    "# Exam 1 &mdash; Problem 3"
   ]
  },
  {
   "cell_type": "markdown",
   "metadata": {},
   "source": [
    "### SA421 Fall 2015"
   ]
  },
  {
   "cell_type": "markdown",
   "metadata": {},
   "source": [
    "The sample of 250 observations for this problem:"
   ]
  },
  {
   "cell_type": "code",
   "execution_count": null,
   "metadata": {
    "collapsed": false
   },
   "outputs": [],
   "source": [
    "y = [1, 2, 1, 2, 1, 4, 1, 4, 1, 3, 2, 1, 1, 0, 1, 0, 1, 1, 0, 1, 2, 3, 2,\n",
    "       1, 1, 1, 2, 1, 1, 0, 2, 3, 2, 2, 1, 4, 1, 1, 2, 1, 1, 1, 0, 1, 0, 1,\n",
    "       0, 2, 2, 2, 1, 1, 2, 1, 4, 2, 1, 2, 3, 2, 1, 1, 1, 2, 1, 2, 1, 2, 0,\n",
    "       1, 2, 4, 3, 0, 2, 0, 3, 3, 2, 0, 2, 2, 1, 1, 2, 1, 2, 2, 1, 2, 1, 2,\n",
    "       1, 2, 1, 3, 2, 2, 1, 3, 1, 1, 0, 1, 3, 3, 0, 2, 1, 3, 4, 1, 2, 1, 2,\n",
    "       0, 2, 1, 2, 3, 0, 2, 1, 2, 3, 2, 3, 0, 2, 1, 2, 1, 2, 2, 1, 3, 2, 1,\n",
    "       2, 2, 2, 2, 2, 2, 1, 3, 0, 1, 1, 1, 2, 1, 1, 2, 2, 3, 1, 3, 4, 1, 2,\n",
    "       2, 2, 3, 4, 1, 2, 1, 1, 3, 1, 2, 1, 2, 2, 1, 0, 3, 2, 2, 3, 1, 1, 1,\n",
    "       2, 2, 0, 0, 1, 1, 2, 0, 3, 2, 1, 3, 1, 1, 2, 2, 2, 2, 1, 1, 1, 4, 0,\n",
    "       2, 2, 0, 2, 1, 2, 2, 1, 2, 2, 3, 0, 1, 2, 2, 1, 1, 1, 1, 3, 1, 2, 1,\n",
    "       1, 0, 1, 0, 3, 3, 1, 1, 1, 3, 2, 4, 2, 3, 2, 2, 3, 1, 1, 1]"
   ]
  },
  {
   "cell_type": "markdown",
   "metadata": {},
   "source": [
    "##Place any setup code you need here."
   ]
  },
  {
   "cell_type": "code",
   "execution_count": null,
   "metadata": {
    "collapsed": true
   },
   "outputs": [],
   "source": []
  },
  {
   "cell_type": "markdown",
   "metadata": {},
   "source": [
    "## Part a."
   ]
  },
  {
   "cell_type": "markdown",
   "metadata": {},
   "source": [
    "*Write your discussion here. Double-click to edit.*"
   ]
  },
  {
   "cell_type": "markdown",
   "metadata": {},
   "source": [
    "## Part b."
   ]
  },
  {
   "cell_type": "code",
   "execution_count": null,
   "metadata": {
    "collapsed": false
   },
   "outputs": [],
   "source": []
  },
  {
   "cell_type": "markdown",
   "metadata": {},
   "source": [
    "## Part c."
   ]
  },
  {
   "cell_type": "markdown",
   "metadata": {},
   "source": [
    "*Write your discussion here. Double-click to edit.*"
   ]
  }
 ],
 "metadata": {
  "kernelspec": {
   "display_name": "Python 3",
   "language": "python",
   "name": "python3"
  },
  "language_info": {
   "codemirror_mode": {
    "name": "ipython",
    "version": 3
   },
   "file_extension": ".py",
   "mimetype": "text/x-python",
   "name": "python",
   "nbconvert_exporter": "python",
   "pygments_lexer": "ipython3",
   "version": "3.4.3"
  }
 },
 "nbformat": 4,
 "nbformat_minor": 0
}
