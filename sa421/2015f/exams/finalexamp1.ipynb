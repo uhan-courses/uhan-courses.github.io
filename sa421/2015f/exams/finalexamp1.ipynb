{
 "cells": [
  {
   "cell_type": "markdown",
   "metadata": {},
   "source": [
    "# Final Exam &mdash; Problem 1"
   ]
  },
  {
   "cell_type": "markdown",
   "metadata": {},
   "source": [
    "### SA421 Fall 2015"
   ]
  },
  {
   "cell_type": "markdown",
   "metadata": {},
   "source": [
    "### Do this first!"
   ]
  },
  {
   "cell_type": "markdown",
   "metadata": {},
   "source": [
    "Execute the cell below."
   ]
  },
  {
   "cell_type": "code",
   "execution_count": null,
   "metadata": {
    "collapsed": false
   },
   "outputs": [],
   "source": [
    "##### Setup #####\n",
    "# Import all simulation functions from SimPy\n",
    "from SimPy.Simulation import *\n",
    "\n",
    "# Import seed initializer and random sampling functions from NumPy\n",
    "from numpy.random import seed, uniform, exponential"
   ]
  },
  {
   "cell_type": "markdown",
   "metadata": {},
   "source": [
    "### Part a."
   ]
  },
  {
   "cell_type": "markdown",
   "metadata": {},
   "source": [
    "Modify the SimPy code below as directed by the exam."
   ]
  },
  {
   "cell_type": "code",
   "execution_count": null,
   "metadata": {
    "collapsed": false
   },
   "outputs": [],
   "source": [
    "##### Part a #####\n",
    "##### Parameters #####\n",
    "class P:\n",
    "    # Customers arrive at the stand with exponentially distributed\n",
    "    # interarrival times with mean 3 minutes\n",
    "    interarrivalTimeMean = 3\n",
    "    \n",
    "    # Service times are uniformly distributed between 2 and 6 minutes\n",
    "    serviceTimeMin = 2\n",
    "    serviceTimeMax = 6\n",
    "    \n",
    "    # Number of cashiers\n",
    "    nCashiers = 1\n",
    "    \n",
    "    # Stand is open for 4 continuous hours\n",
    "    simulationTimeMax =  4 * 60\n",
    "    \n",
    "\n",
    "##### Processes #####\n",
    "# Customer\n",
    "class Customer(Process):\n",
    "    def behavior(self):\n",
    "        yield request, self, R.cashier\n",
    "        \n",
    "        serviceTime = uniform(low = P.serviceTimeMin, high = P.serviceTimeMax)\n",
    "        yield hold, self, serviceTime\n",
    "        \n",
    "        yield release, self, R.cashier\n",
    "\n",
    "# Entrance\n",
    "class Entrance(Process):\n",
    "    def behavior(self):\n",
    "        nCustomers = 0\n",
    "        \n",
    "        while True:\n",
    "            interarrivalTime = exponential(scale = P.interarrivalTimeMean)\n",
    "            yield hold, self, interarrivalTime\n",
    "            \n",
    "            c = Customer(name=\"Customer {0}\".format(nCustomers))\n",
    "            activate(c, c.behavior())\n",
    "            nCustomers += 1\n",
    "\n",
    "\n",
    "##### Resources #####\n",
    "class R:\n",
    "    # Cashiers\n",
    "    cashier = None\n",
    "\n",
    "\n",
    "##### Model #####\n",
    "def model():\n",
    "    initialize()\n",
    "    seed(123)\n",
    "\n",
    "    R.cashier = Resource(capacity = P.nCashiers)\n",
    "\n",
    "    e = Entrance()\n",
    "    activate(e, e.behavior())\n",
    "    \n",
    "    simulate(until=P.simulationTimeMax)\n",
    "\n",
    "    \n",
    "##### Experiment - Run the simulation #####\n",
    "model()\n",
    "\n",
    "##### Compute and print performance measure #####\n",
    "\n"
   ]
  },
  {
   "cell_type": "markdown",
   "metadata": {},
   "source": [
    "### Part b."
   ]
  },
  {
   "cell_type": "markdown",
   "metadata": {},
   "source": [
    "Modify the SimPy code below as directed by the exam."
   ]
  },
  {
   "cell_type": "code",
   "execution_count": null,
   "metadata": {
    "collapsed": false
   },
   "outputs": [],
   "source": [
    "##### Part b #####\n",
    "##### Parameters #####\n",
    "class P:\n",
    "    # Customers arrive at the stand with exponentially distributed\n",
    "    # interarrival times with mean 3 minutes\n",
    "    interarrivalTimeMean = 3\n",
    "    \n",
    "    # Service times are uniformly distributed between 2 and 6 minutes\n",
    "    serviceTimeMin = 2\n",
    "    serviceTimeMax = 6\n",
    "    \n",
    "    # Number of cashiers\n",
    "    nCashiers = 1\n",
    "    \n",
    "    # Stand is open for 4 continuous hours\n",
    "    simulationTimeMax =  4 * 60\n",
    "    \n",
    "\n",
    "##### Processes #####\n",
    "# Customer\n",
    "class Customer(Process):\n",
    "    def behavior(self):\n",
    "        yield request, self, R.cashier\n",
    "        \n",
    "        serviceTime = uniform(low = P.serviceTimeMin, high = P.serviceTimeMax)\n",
    "        yield hold, self, serviceTime\n",
    "        \n",
    "        yield release, self, R.cashier\n",
    "\n",
    "# Entrance\n",
    "class Entrance(Process):\n",
    "    def behavior(self):\n",
    "        nCustomers = 0\n",
    "        \n",
    "        while True:\n",
    "            interarrivalTime = exponential(scale = P.interarrivalTimeMean)\n",
    "            yield hold, self, interarrivalTime\n",
    "            \n",
    "            c = Customer(name=\"Customer {0}\".format(nCustomers))\n",
    "            activate(c, c.behavior())\n",
    "            nCustomers += 1\n",
    "\n",
    "\n",
    "##### Resources #####\n",
    "class R:\n",
    "    # Cashiers\n",
    "    cashier = None\n",
    "\n",
    "\n",
    "##### Model #####\n",
    "def model():\n",
    "    initialize()\n",
    "    seed(123)\n",
    "\n",
    "    R.cashier = Resource(capacity = P.nCashiers)\n",
    "\n",
    "    e = Entrance()\n",
    "    activate(e, e.behavior())\n",
    "    \n",
    "    simulate(until=P.simulationTimeMax)\n",
    "\n",
    "    \n",
    "##### Experiment - Run the simulation #####\n",
    "model()\n",
    "\n",
    "##### Compute and print performance measure #####\n",
    "\n"
   ]
  }
 ],
 "metadata": {
  "kernelspec": {
   "display_name": "Python 3",
   "language": "python",
   "name": "python3"
  },
  "language_info": {
   "codemirror_mode": {
    "name": "ipython",
    "version": 3
   },
   "file_extension": ".py",
   "mimetype": "text/x-python",
   "name": "python",
   "nbconvert_exporter": "python",
   "pygments_lexer": "ipython3",
   "version": "3.4.3"
  }
 },
 "nbformat": 4,
 "nbformat_minor": 0
}
