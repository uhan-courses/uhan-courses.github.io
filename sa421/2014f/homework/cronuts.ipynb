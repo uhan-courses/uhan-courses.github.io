{
 "metadata": {
  "name": "",
  "signature": "sha256:04fb1a332ef9df599cad0fc4d694dcf061d0adef487555b77a9e0172ccc160e4"
 },
 "nbformat": 3,
 "nbformat_minor": 0,
 "worksheets": [
  {
   "cells": [
    {
     "cell_type": "heading",
     "level": 1,
     "metadata": {},
     "source": [
      "cronuts"
     ]
    },
    {
     "cell_type": "markdown",
     "metadata": {},
     "source": [
      "The Simplex Bakery is trying to determine how many dozens of cronuts to bake each day. Customers arrive at the bakery according to an exponential inter-arrival time distribution with a mean of 12 minutes. The dozens of cronuts that each customer orders follows a Binomial distribution with 4 trials and success probability 0.3.\n",
      "\n",
      "Cronuts sell for \\$20 per dozen. \n",
      "They cost \\$12 per dozen to make. \n",
      "All cronuts not sold at the end of the day are sold at half price to a local stale baked good distributor.\n",
      "\n",
      "Due to mixing size constraints, cronuts must be made in batches of 20 dozen, anywhere between 0 and 200 dozen. \n",
      "\n",
      "Assume that the Simplex Bakery is open for 6 hours a day.\n",
      "\n",
      "Using 50 replications, how many dozen should the bakery bake per day to maximize its profit?"
     ]
    },
    {
     "cell_type": "code",
     "collapsed": false,
     "input": [],
     "language": "python",
     "metadata": {},
     "outputs": []
    }
   ],
   "metadata": {}
  }
 ]
}