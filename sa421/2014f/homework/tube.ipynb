{
 "metadata": {
  "name": "",
  "signature": "sha256:929822257b68bf725b67cfd633f811f48dc0f6c9058f1c92fdc2cc86ad1c1682"
 },
 "nbformat": 3,
 "nbformat_minor": 0,
 "worksheets": [
  {
   "cells": [
    {
     "cell_type": "heading",
     "level": 1,
     "metadata": {},
     "source": [
      "tube"
     ]
    },
    {
     "cell_type": "markdown",
     "metadata": {},
     "source": [
      "Transport for London (TfL) has asked you to study the feasibility of replacing the manned ticket offices with automated ticket machines in its underground stations. \n",
      "As a pilot study, TfL wants you to focus on the evening rush hour period, from 16:00 to 20:00, at a very small station with 1 employee at the ticket office, which will be replaced with 1 machine.\n",
      "\n",
      "Using historical data provided to you, you have determined that the time between customers arrivals at the ticket office/machine is exponentially distributed with a mean of 3.2 minutes. \n",
      "In addition, you have determined using this data that the service time (in minutes) at the manned ticket office can be modeled with a Gamma random variable with shape parameter 2 and scale parameter 1.3. \n",
      "Through its own studies, TfL has determined that the service time (in minutes) at the automated ticket machine can be modeled with a Gamma random variable with shape parameter 1 and scale parameter 2.6.\n",
      "\n",
      "Call the current system \"System 1\", and call the proposed system \"System 2\".\n",
      "\n",
      "* Using 100 replications, compute a point estimate of the difference between average delay in System 1 and System 2. <span style=\"color:#d00000\">Use separate streams of random numbers to generate interarrival times and service times.</span>\n",
      "\n",
      "\n",
      "* Using the same 100 replications, compute an interval estimate (95% confidence interval) of the difference between average delay in System 1 and System 2."
     ]
    },
    {
     "cell_type": "code",
     "collapsed": false,
     "input": [],
     "language": "python",
     "metadata": {},
     "outputs": []
    }
   ],
   "metadata": {}
  }
 ]
}