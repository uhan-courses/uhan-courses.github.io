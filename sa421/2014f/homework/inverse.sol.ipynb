{
 "metadata": {
  "name": "",
  "signature": "sha256:f8171e928931818005a8e439fb723a97fed0208e3d30cdca9932563b5fe14472"
 },
 "nbformat": 3,
 "nbformat_minor": 0,
 "worksheets": [
  {
   "cells": [
    {
     "cell_type": "heading",
     "level": 1,
     "metadata": {},
     "source": [
      "inverse"
     ]
    },
    {
     "cell_type": "heading",
     "level": 4,
     "metadata": {},
     "source": [
      "Problem 1."
     ]
    },
    {
     "cell_type": "markdown",
     "metadata": {},
     "source": [
      "Consider a discrete random variable $X$ with cdf\n",
      "\n",
      "$$ F_X(a) = \\begin{cases}\n",
      "0 & \\text{if } a < 1,\\\\\n",
      "0.1 & \\text{if } 1 \\le a < 2,\\\\\n",
      "0.4 & \\text{if } 2 \\le a < 3,\\\\\n",
      "0.9 & \\text{if } 3 \\le a < 4,\\\\\n",
      "1 & \\text{if } a \\ge 4.\n",
      "\\end{cases} $$\n",
      "\n",
      "Using the inverse transform method, generate 50 random variates from X.\n",
      "\n",
      "*Hint.* You do not need to use a pre-existing Python function to compute cdf values; just use the ones given to you above directly."
     ]
    },
    {
     "cell_type": "code",
     "collapsed": false,
     "input": [
      "# Import inf from numpy\n",
      "from numpy import inf\n",
      "\n",
      "# Import rand from numpy.random\n",
      "from numpy.random import rand\n",
      "\n",
      "# Import bisect_right from bisect\n",
      "from bisect import bisect_left\n",
      "\n",
      "# Number of random variates desired\n",
      "nVariates = 50\n",
      "\n",
      "# Sorted list of values that X can take, including -inf\n",
      "a = [-inf, 1, 2, 3, 4]\n",
      "\n",
      "# cdf at each value that X can take\n",
      "cdf = [0.0, 0.1, 0.4, 0.9, 1.0]\n",
      "\n",
      "# List of random variates\n",
      "# Here, instead of a traditional for loop as we used in class,\n",
      "# we put the for loop into a one-line list comprehension.\n",
      "variates = [a[bisect_left(cdf, rand())] for k in range(nVariates)]\n",
      "    \n",
      "# Print list of variates\n",
      "print(\"variates = {0}\".format(variates))"
     ],
     "language": "python",
     "metadata": {},
     "outputs": [
      {
       "output_type": "stream",
       "stream": "stdout",
       "text": [
        "variates = [2, 3, 1, 3, 3, 3, 3, 4, 1, 2, 3, 3, 3, 3, 3, 3, 3, 3, 3, 1, 3, 1, 1, 4, 2, 3, 3, 2, 2, 3, 3, 3, 2, 3, 2, 3, 1, 3, 2, 2, 3, 3, 4, 1, 3, 2, 4, 3, 3, 3]\n"
       ]
      }
     ],
     "prompt_number": 1
    },
    {
     "cell_type": "heading",
     "level": 4,
     "metadata": {},
     "source": [
      "Problem 2."
     ]
    },
    {
     "cell_type": "markdown",
     "metadata": {},
     "source": [
      "a. Using the inverse transform method, generate 50 random variates from a Gamma distribution with shape parameter 13.3 and scale parameter 4.2."
     ]
    },
    {
     "cell_type": "code",
     "collapsed": false,
     "input": [
      "# Import exponential rv from scipy.stats\n",
      "from scipy.stats import gamma\n",
      "\n",
      "# Number of random variates desired\n",
      "nVariates = 50\n",
      "\n",
      "# Gamma distribution parameters\n",
      "gammaShape = 13.3\n",
      "gammaScale = 4.2\n",
      "\n",
      "# List of random variates\n",
      "# Here, instead of a traditional for loop as we used in class,\n",
      "# we put the for loop into a one-line list comprehension.\n",
      "variates = [gamma.ppf(rand(), gammaShape, scale = gammaScale) for k in range(nVariates)]\n",
      "\n",
      "# Print list of variates\n",
      "print(\"variates = {0}\".format(variates))"
     ],
     "language": "python",
     "metadata": {},
     "outputs": [
      {
       "output_type": "stream",
       "stream": "stdout",
       "text": [
        "variates = [35.584727068368004, 34.250172489512146, 23.367132189801506, 39.463601680909065, 41.151474448403825, 83.59178359324072, 52.991822321419022, 49.701971588599207, 107.35739942457208, 56.687898545252246, 64.980331492287064, 46.227775763224933, 52.478973072371907, 55.267382397305816, 56.071152195580737, 42.414040556007166, 51.045556869659819, 65.272106002890197, 42.529122357666353, 43.123678768829244, 45.853712622991381, 39.583210067857081, 72.54550838051388, 55.829555685418157, 61.645384179049053, 63.119394349460102, 61.265118996223833, 37.211818088653573, 72.137626299915851, 64.702769706359717, 41.469364923976286, 39.87076614361478, 38.896558795733476, 53.707427244617101, 49.344212320183779, 28.333594119971572, 67.481281509088248, 56.202982493404974, 49.615168130742404, 65.207232409190155, 61.253199834090829, 60.335501591184787, 43.064448735582566, 47.992266834071373, 73.066124380029976, 30.445711039780534, 77.758582363765072, 64.976766613679331, 58.015082650552039, 45.974610050709721]\n"
       ]
      }
     ],
     "prompt_number": 2
    },
    {
     "cell_type": "markdown",
     "metadata": {},
     "source": [
      "b. Do your random variates pass a Kolmogorov-Smirnov test?"
     ]
    },
    {
     "cell_type": "code",
     "collapsed": false,
     "input": [
      "# Import friendly floating-point division\n",
      "from __future__ import division\n",
      "\n",
      "# Import sqrt from numpy\n",
      "from numpy import sqrt\n",
      "\n",
      "# Import gamma, kstwobign from scipy.stats\n",
      "from scipy.stats import gamma, kstwobign\n",
      "\n",
      "# Get the number of observations\n",
      "n = len(variates)\n",
      "\n",
      "# Sort the observations\n",
      "variates.sort()\n",
      "\n",
      "# Compute K-S observed test statistic\n",
      "d = max([max(gamma.cdf(variates[i], gammaShape, scale = gammaScale) - i/n, (i+1)/n - gamma.cdf(variates[i], gammaShape, scale = gammaScale)) for i in range(n)])\n",
      "\n",
      "# Print K-S observed test statistic\n",
      "print(\"K-S observed test statistic = {0}\".format(d))\n",
      "\n",
      "# Compute p-value\n",
      "pValue = 1 - kstwobign.cdf(sqrt(n) * d)\n",
      "\n",
      "# Print p-value\n",
      "print(\"K-S p-value = {0}\".format(pValue))"
     ],
     "language": "python",
     "metadata": {},
     "outputs": [
      {
       "output_type": "stream",
       "stream": "stdout",
       "text": [
        "K-S observed test statistic = 0.111406839738\n",
        "K-S p-value = 0.564170755637\n"
       ]
      }
     ],
     "prompt_number": 3
    },
    {
     "cell_type": "markdown",
     "metadata": {},
     "source": [
      "The $p$-value of the K-S test is fairly large: in this case, 0.564. So, using a \"standard\" significance level of 0.05, we do not reject the null hypothesis of the K-S test, and statistically conclude that the variates generated in part a do indeed come from a Gamma distribution with shape 13.3 and scale 4.2. This is good news, since this is what was intended!"
     ]
    }
   ],
   "metadata": {}
  }
 ]
}