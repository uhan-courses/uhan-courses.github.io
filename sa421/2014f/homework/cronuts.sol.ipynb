{
 "metadata": {
  "name": "",
  "signature": "sha256:7185dac060c3a7f1bc45f7a3c47581f810e3084fe46011881a38961dd57229e3"
 },
 "nbformat": 3,
 "nbformat_minor": 0,
 "worksheets": [
  {
   "cells": [
    {
     "cell_type": "heading",
     "level": 1,
     "metadata": {},
     "source": [
      "cronuts"
     ]
    },
    {
     "cell_type": "markdown",
     "metadata": {},
     "source": [
      "The Simplex Bakery is trying to determine how many dozens of cronuts to bake each day. Customers arrive at the bakery according to an exponential inter-arrival time distribution with a mean of 12 minutes. The dozens of cronuts that each customer orders follows a Binomial distribution with 4 trials and success probability 0.3.\n",
      "\n",
      "Cronuts sell for \\$20 per dozen. \n",
      "They cost \\$12 per dozen to make. \n",
      "All cronuts not sold at the end of the day are sold at half price to a local stale baked good distributor.\n",
      "\n",
      "Due to mixing size constraints, cronuts must be made in batches of 20 dozen, anywhere between 0 and 200 dozen. \n",
      "\n",
      "Assume that the Simplex Bakery is open for 6 hours a day.\n",
      "\n",
      "Using 50 replications, how many dozen should the bakery bake per day to maximize its profit?"
     ]
    },
    {
     "cell_type": "code",
     "collapsed": false,
     "input": [
      "##### Setup #####\n",
      "# Friendly floating-point division\n",
      "from __future__ import division\n",
      "\n",
      "# Import various functions from NumPy\n",
      "from numpy import mean\n",
      "\n",
      "# Import seed initializer and random sampling functions from NumPy\n",
      "from numpy.random import seed, rand, binomial, exponential\n",
      "\n",
      "# Import all simulation functions from SimPy\n",
      "from SimPy.Simulation import *"
     ],
     "language": "python",
     "metadata": {},
     "outputs": [],
     "prompt_number": 1
    },
    {
     "cell_type": "code",
     "collapsed": false,
     "input": [
      "##### Parameters #####\n",
      "class P:\n",
      "    # Revenue per dozen cronuts\n",
      "    revenue = 20\n",
      "    \n",
      "    # Cost per dozen cronuts\n",
      "    cost = 12\n",
      "    \n",
      "    # Number of dozen cronuts baked\n",
      "    nCronuts = None\n",
      "    \n",
      "    # Interarrival time distribution: mean 12\n",
      "    interarrivalTimeMean = 12\n",
      "    \n",
      "    # Cronuts per customer distribution: 10 trials, success probability 0.3\n",
      "    cronuts_n = 4\n",
      "    cronuts_p = 0.3\n",
      "    \n",
      "    # Bakery is open for 6 hours\n",
      "    simulationTimeMax = 6 * 60\n",
      "\n",
      "    \n",
      "##### Processes #####\n",
      "# Customer\n",
      "class Customer(Process):\n",
      "    def behavior(self):\n",
      "        # Customer arrives, determines how many cronuts she wants\n",
      "        cronutsWanted = binomial(n = P.cronuts_n, p = P.cronuts_p)\n",
      "        \n",
      "        # Are there enough cronuts for this customer?\n",
      "        if cronutsWanted > L.cronuts.amount:\n",
      "            yield get, self, L.cronuts, L.cronuts.amount\n",
      "        else:\n",
      "            yield get, self, L.cronuts, cronutsWanted\n",
      "            \n",
      "# Entrance\n",
      "class Entrance(Process):\n",
      "    def behavior(self):\n",
      "        # Start customer for number of customers\n",
      "        nCustomers = 0\n",
      "        \n",
      "        while True:\n",
      "            # Interarrival time\n",
      "            interarrivalTime = exponential(scale = P.interarrivalTimeMean)\n",
      "            yield hold, self, interarrivalTime\n",
      "            \n",
      "            # Create customer using the template defined in the Customer class\n",
      "            c = Customer(name = \"Customer {0}\".format(nCustomers))\n",
      "            \n",
      "            # Activate the customer's behavior\n",
      "            activate(c, c.behavior())\n",
      "            \n",
      "            # Count this new customer\n",
      "            nCustomers += 1\n",
      "\n",
      "\n",
      "##### Levels #####\n",
      "class L:\n",
      "    cronuts = None\n",
      "    \n",
      "            \n",
      "##### Simulation #####\n",
      "def model(inputSeed):\n",
      "    # Initialize SimPy\n",
      "    initialize()\n",
      "    \n",
      "    # Initialize a seed for the random number generator\n",
      "    seed(inputSeed)\n",
      "\n",
      "    # Create level for cronuts\n",
      "    L.cronuts = Level(initialBuffered = P.nCronuts)\n",
      "    \n",
      "    # Activate the entrance\n",
      "    e = Entrance()\n",
      "    activate(e, e.behavior())\n",
      "    \n",
      "    # Run the simulation\n",
      "    simulate(until = P.simulationTimeMax)\n",
      "\n",
      "    # Compute profit\n",
      "    profit = (P.revenue - P.cost) * (P.nCronuts - L.cronuts.amount) + (0.5 * P.revenue - P.cost) * L.cronuts.amount\n",
      "    \n",
      "    # Return performance measures\n",
      "    return profit"
     ],
     "language": "python",
     "metadata": {},
     "outputs": [],
     "prompt_number": 2
    },
    {
     "cell_type": "code",
     "collapsed": false,
     "input": [
      "# Number of replications\n",
      "n = 50\n",
      "\n",
      "# Run n replications for different initial inventory of cronuts\n",
      "for P.nCronuts in [0, 20, 40, 60, 80, 100, 120, 140, 160, 180, 200]:\n",
      "    profitObs = [model(inputSeed = 123*i) for i in range(n)]\n",
      "    profitSM = mean(profitObs)\n",
      "    print(\"Dozens baked = {0}, mean profit = {1}\".format(P.nCronuts, profitSM))"
     ],
     "language": "python",
     "metadata": {},
     "outputs": [
      {
       "output_type": "stream",
       "stream": "stdout",
       "text": [
        "Dozens baked = 0, mean profit = 0.0\n",
        "Dozens baked = 20, mean profit = 159.8"
       ]
      },
      {
       "output_type": "stream",
       "stream": "stdout",
       "text": [
        "\n",
        "Dozens baked = 40, mean profit = 268.0"
       ]
      },
      {
       "output_type": "stream",
       "stream": "stdout",
       "text": [
        "\n",
        "Dozens baked = 60, mean profit = 246.2"
       ]
      },
      {
       "output_type": "stream",
       "stream": "stdout",
       "text": [
        "\n",
        "Dozens baked = 80, mean profit = 206.2"
       ]
      },
      {
       "output_type": "stream",
       "stream": "stdout",
       "text": [
        "\n",
        "Dozens baked = 100, mean profit = 166.2"
       ]
      },
      {
       "output_type": "stream",
       "stream": "stdout",
       "text": [
        "\n",
        "Dozens baked = 120, mean profit = 126.2"
       ]
      },
      {
       "output_type": "stream",
       "stream": "stdout",
       "text": [
        "\n",
        "Dozens baked = 140, mean profit = 86.2"
       ]
      },
      {
       "output_type": "stream",
       "stream": "stdout",
       "text": [
        "\n",
        "Dozens baked = 160, mean profit = 46.2"
       ]
      },
      {
       "output_type": "stream",
       "stream": "stdout",
       "text": [
        "\n",
        "Dozens baked = 180, mean profit = 6.2"
       ]
      },
      {
       "output_type": "stream",
       "stream": "stdout",
       "text": [
        "\n",
        "Dozens baked = 200, mean profit = -33.8"
       ]
      },
      {
       "output_type": "stream",
       "stream": "stdout",
       "text": [
        "\n"
       ]
      }
     ],
     "prompt_number": 3
    },
    {
     "cell_type": "markdown",
     "metadata": {},
     "source": [
      "Based on these simulations, the Simplex Bakery should bake <span style=\"color:#d00000\">40</span> dozen cronuts per day."
     ]
    }
   ],
   "metadata": {}
  }
 ]
}