{
 "metadata": {
  "name": "",
  "signature": "sha256:524731a4d1ae47320047a0200c1b02c998d2bb77878827bf7300b57c68cd2deb"
 },
 "nbformat": 3,
 "nbformat_minor": 0,
 "worksheets": [
  {
   "cells": [
    {
     "cell_type": "heading",
     "level": 1,
     "metadata": {},
     "source": [
      "tube2"
     ]
    },
    {
     "cell_type": "markdown",
     "metadata": {},
     "source": [
      "Transport for London (TfL) has asked you to study the feasibility of replacing the manned ticket offices with automated ticket machines in its underground stations. \n",
      "As a pilot study, TfL wants you to focus on the evening rush hour period, from 16:00 to 20:00, at a very small station with 1 employee at the ticket office, which will be replaced with 1 machine.\n",
      "\n",
      "Focus on the proposed system with an automated ticket machine. Using historical data provided to you, you have determined that the time between customers arrivals at the ticket office/machine is exponentially distributed with a mean of 3.2 minutes. Through its own studies, TfL has determined that the service time (in minutes) at the automated ticket machine can be modeled with a Gamma random variable with shape parameter 1 and scale parameter 2.6.\n",
      "\n",
      "* Using 50 replications, compute the observed sample mean and observed sample standard deviation of the average delay.\n",
      "\n",
      "\n",
      "* Repeat the previous task, but now, using antithetic variates: use 25 replications with the \"regular\" stream and 25 with the \"antithetic\" stream. \n",
      "\n",
      "\n",
      "* Compare the observed sample standard deviation from both sets of replications. Is this what you expected? Note that depending on your choice of seeds, you may not see what you expect."
     ]
    },
    {
     "cell_type": "markdown",
     "metadata": {},
     "source": [
      "The setup code, the definition of `RandomStateA` to create \"regular\" and \"antithetic\" random number streams, and the SimPy code are below."
     ]
    },
    {
     "cell_type": "code",
     "collapsed": false,
     "input": [
      "##### Setup #####\n",
      "# Friendly floating-point division\n",
      "from __future__ import division\n",
      "\n",
      "# Import all simulation functions from SimPy\n",
      "from SimPy.Simulation import *\n",
      "\n",
      "# Import mean, std, sqrt functions from numpy\n",
      "from numpy import mean, std, sqrt\n",
      "\n",
      "# Import seed initializer and random sampling functions from NumPy\n",
      "from numpy.random import RandomState\n",
      "\n",
      "# Import random variable objects from scipy.stats\n",
      "from scipy.stats import expon, gamma"
     ],
     "language": "python",
     "metadata": {},
     "outputs": [],
     "prompt_number": 30
    },
    {
     "cell_type": "code",
     "collapsed": false,
     "input": [
      "# Create a subclass of RandomState, modified to generate either\n",
      "# the \"regular\" stream or the \"antithetic\" stream\n",
      "class RandomStateA(RandomState):\n",
      "    # Modify RandomState class to take antithetic (boolean) as input\n",
      "    def __init__(self, seed=None, antithetic=False):\n",
      "        RandomState.__init__(self, seed)\n",
      "        self.antithetic = antithetic\n",
      "    \n",
      "    # Redefine random_sample (basis of rand) to depend on antithetic boolean\n",
      "    def random_sample(self, size=None):\n",
      "        if self.antithetic:\n",
      "            return RandomState.random_sample(self, size)\n",
      "        else:\n",
      "            return 1 - RandomState.random_sample(self, size)"
     ],
     "language": "python",
     "metadata": {},
     "outputs": [],
     "prompt_number": 31
    },
    {
     "cell_type": "code",
     "collapsed": false,
     "input": [
      "##### Parameters #####\n",
      "class P:\n",
      "    # Customers arrive at the ticket office/machine with \n",
      "    # exponentially distributed interarrival times with mean 3.2\n",
      "    interarrivalTimeMean = 3.2\n",
      "    \n",
      "    # Service times follow gamma distribution with some shape/scale parameters\n",
      "    serviceTimeShape = 1\n",
      "    serviceTimeScale = 2.6\n",
      "    \n",
      "    # One server: we assume there is 1 employee or 1 machine\n",
      "    nServers = 1\n",
      "    \n",
      "    # Simulation time: 4 hours\n",
      "    simulationTimeMax =  4 * 60\n",
      "    \n",
      "    \n",
      "##### Streams #####\n",
      "class S:\n",
      "    inter = None\n",
      "    serv = None\n",
      "    \n",
      "\n",
      "##### Processes #####\n",
      "# Customer\n",
      "class Customer(Process):\n",
      "    def behavior(self):\n",
      "        # Customer arrives, joins queue\n",
      "        # Record customer arrival time\n",
      "        arrivalTime = now()\n",
      "        yield request, self, R.server\n",
      "        \n",
      "        # Customer is released from queue and starts service\n",
      "        # Observe customer delay using monitor\n",
      "        serviceTime = gamma.ppf(S.serv.rand(), P.serviceTimeShape, scale = P.serviceTimeScale)\n",
      "        yield hold, self, serviceTime\n",
      "        M.delay.observe(now() - arrivalTime)\n",
      "        \n",
      "        # Customer finishes service, leaves\n",
      "        yield release, self, R.server\n",
      "\n",
      "# Entrance\n",
      "class Entrance(Process):\n",
      "    def behavior(self):\n",
      "        # At the start of the simulation, no customers have arrived\n",
      "        nCustomers = 0\n",
      "        \n",
      "        # Customer arrivals\n",
      "        while True:\n",
      "            # Wait until the next arrival\n",
      "            interarrivalTime = expon.ppf(S.inter.rand(), scale = P.interarrivalTimeMean)\n",
      "            yield hold, self, interarrivalTime\n",
      "            \n",
      "            # Create a new customer using the template defined in the Customer class\n",
      "            c = Customer(name=\"Customer {0}\".format(nCustomers))\n",
      "            \n",
      "            # Activate the customer's behavior\n",
      "            activate(c, c.behavior())\n",
      "\n",
      "            # Count this new customer\n",
      "            nCustomers += 1\n",
      "\n",
      "            \n",
      "##### Resources #####\n",
      "class R:\n",
      "    # Server\n",
      "    server = None\n",
      "    \n",
      "    \n",
      "##### Monitors #####\n",
      "class M:\n",
      "    # Delay\n",
      "    delay = None\n",
      "\n",
      "\n",
      "##### Model #####\n",
      "def model(interSeed, servSeed, interAnti, servAnti):\n",
      "    # Initialize SimPy \n",
      "    initialize()\n",
      "\n",
      "    # Initialize seed for interarrival time random number generator\n",
      "    S.inter = RandomStateA(antithetic = interAnti)\n",
      "    S.inter.seed(interSeed)\n",
      "\n",
      "    # Initialize seed for service time random number generator\n",
      "    S.serv = RandomStateA(antithetic = servAnti)\n",
      "    S.serv.seed(servSeed)\n",
      "\n",
      "    # Create the server resource\n",
      "    R.server = Resource(capacity = P.nServers)\n",
      "    \n",
      "    # Create the monitor for customer delay\n",
      "    M.delay = Monitor()\n",
      "\n",
      "    # Activate the entrance (to generate customers)\n",
      "    e = Entrance()\n",
      "    activate(e, e.behavior())\n",
      "    \n",
      "    # Run the simulation\n",
      "    simulate(until = P.simulationTimeMax)\n",
      "\n",
      "    # Compute performance measure: average delay\n",
      "    avgDelay = M.delay.mean()\n",
      "    \n",
      "    # Return performance measure\n",
      "    return avgDelay"
     ],
     "language": "python",
     "metadata": {},
     "outputs": [],
     "prompt_number": 49
    },
    {
     "cell_type": "markdown",
     "metadata": {},
     "source": [
      "With the code above, let's first compute the observed sample mean and observed sample standard deviation for average delay using 50 replications without antithetic variables."
     ]
    },
    {
     "cell_type": "code",
     "collapsed": false,
     "input": [
      "##### Experiment - no antithetic variates #####\n",
      "n = 100\n",
      "avgDelayObs = []\n",
      "for i in range(n):\n",
      "    avgDelayObs.append(model(interSeed = 123*i, servSeed = 123*i, interAnti = False, servAnti = False))\n",
      "    \n",
      "# Observed sample mean\n",
      "avgDelaySM = mean(avgDelayObs)\n",
      "\n",
      "# Observed sample standard deviation\n",
      "avgDelaySSD = std(avgDelayObs, ddof = 1)\n",
      "\n",
      "print(\"NO ANTITHETIC VARIATES\")\n",
      "print(\"Average delay:\")\n",
      "print(\"  Sample mean: {0}\".format(avgDelaySM))\n",
      "print(\"  Sample standard deviation: {0}\".format(avgDelaySSD))"
     ],
     "language": "python",
     "metadata": {},
     "outputs": [
      {
       "output_type": "stream",
       "stream": "stdout",
       "text": [
        "NO ANTITHETIC VARIATES\n",
        "Average delay:\n",
        "  Sample mean: 5.98178275312\n",
        "  Sample standard deviation: 1.16578007921\n"
       ]
      }
     ],
     "prompt_number": 50
    },
    {
     "cell_type": "markdown",
     "metadata": {},
     "source": [
      "Next, let's compute the observed sample mean and observed sample standard deviation for average delay using 50 replications: 25 with the \"regular\" stream, and 25 with the \"antithetic\" stream."
     ]
    },
    {
     "cell_type": "code",
     "collapsed": false,
     "input": [
      "##### Experiment - antithetic variates #####\n",
      "n = 100\n",
      "m = 50\n",
      "avgDelayObs = []\n",
      "for i in range(m):\n",
      "    avgDelayObs.append(model(interSeed = 123*i, servSeed = 123*i, interAnti = False, servAnti = False))\n",
      "    avgDelayObs.append(model(interSeed = 123*i, servSeed = 123*i, interAnti = True, servAnti = True))\n",
      "    \n",
      "# Observed sample mean\n",
      "avgDelaySM = mean(avgDelayObs)\n",
      "\n",
      "# Observed sample standard deviation\n",
      "avgDelaySSD = std(avgDelayObs, ddof = 1)\n",
      "\n",
      "print(\"ANTITHETIC VARIATES\")\n",
      "print(\"Average delay:\")\n",
      "print(\"  Sample mean: {0}\".format(avgDelaySM))\n",
      "print(\"  Sample standard deviation: {0}\".format(avgDelaySSD))"
     ],
     "language": "python",
     "metadata": {},
     "outputs": [
      {
       "output_type": "stream",
       "stream": "stdout",
       "text": [
        "ANTITHETIC VARIATES\n",
        "Average delay:\n",
        "  Sample mean: 5.83344986953\n",
        "  Sample standard deviation: 1.03567167492\n"
       ]
      }
     ],
     "prompt_number": 51
    },
    {
     "cell_type": "markdown",
     "metadata": {},
     "source": [
      "The sample standard deviation when using antithetic variates is lower, as expected."
     ]
    }
   ],
   "metadata": {}
  }
 ]
}