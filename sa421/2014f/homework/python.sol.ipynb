{
 "metadata": {
  "name": "",
  "signature": "sha256:6fb974305c167b1b522b3181c4c82a071ea739583155b272e9f470959806e9d7"
 },
 "nbformat": 3,
 "nbformat_minor": 0,
 "worksheets": [
  {
   "cells": [
    {
     "cell_type": "heading",
     "level": 2,
     "metadata": {},
     "source": [
      "python"
     ]
    },
    {
     "cell_type": "markdown",
     "metadata": {},
     "source": [
      "**Problem.** Recall that $x$ degrees Celsius is\n",
      "\n",
      "$$\\frac{9}{5} x + 32$$\n",
      "\n",
      "degrees Fahrenheit. *Using a list comprehension*, create a list with the temperatures in degrees Celsius given below, converted to degrees Fahrenheit. Print the list of converted temperatures."
     ]
    },
    {
     "cell_type": "code",
     "collapsed": false,
     "input": [
      "# Include floating-point division by default\n",
      "from __future__ import division\n",
      "\n",
      "# List of temperatures to convert\n",
      "Celsius = [39.2, 33.3, 36.5, 31.6, 37.3, 37.8, 42.1, 28.6]\n",
      "\n",
      "# List of temperatures in Fahrenheit\n",
      "Fahrenheit = [ (9/5)*x + 32 for x in Celsius ]\n",
      "print(\"Temperatures in deg F = {0}\".format(Fahrenheit))"
     ],
     "language": "python",
     "metadata": {},
     "outputs": [
      {
       "output_type": "stream",
       "stream": "stdout",
       "text": [
        "Temperatures in deg F = [102.56, 91.94, 97.7, 88.88, 99.14, 100.03999999999999, 107.78, 83.48]\n"
       ]
      }
     ],
     "prompt_number": 15
    },
    {
     "cell_type": "markdown",
     "metadata": {},
     "source": [
      "**Problem.** Write a function called `sum_double` that takes 2 integers as input, and outputs double their sum *unless* the two values are the same. Example inputs and outputs:\n",
      "\n",
      "* `sum_double(1,2)` should return 6\n",
      "* `sum_double(4,3)` should return 14\n",
      "* `sum_double(2,2)` should return 4"
     ]
    },
    {
     "cell_type": "code",
     "collapsed": false,
     "input": [
      "def sum_double(a, b):\n",
      "    sum = a + b\n",
      "    if a == b:\n",
      "        return sum\n",
      "    else:\n",
      "        return 2*sum"
     ],
     "language": "python",
     "metadata": {},
     "outputs": [],
     "prompt_number": 3
    },
    {
     "cell_type": "markdown",
     "metadata": {},
     "source": [
      "Test your `sum_double` function below."
     ]
    },
    {
     "cell_type": "code",
     "collapsed": false,
     "input": [
      "sum_double(1,2)"
     ],
     "language": "python",
     "metadata": {},
     "outputs": [
      {
       "metadata": {},
       "output_type": "pyout",
       "prompt_number": 4,
       "text": [
        "6"
       ]
      }
     ],
     "prompt_number": 4
    },
    {
     "cell_type": "code",
     "collapsed": false,
     "input": [
      "sum_double(4,3)"
     ],
     "language": "python",
     "metadata": {},
     "outputs": [
      {
       "metadata": {},
       "output_type": "pyout",
       "prompt_number": 5,
       "text": [
        "14"
       ]
      }
     ],
     "prompt_number": 5
    },
    {
     "cell_type": "code",
     "collapsed": false,
     "input": [
      "sum_double(2,2)"
     ],
     "language": "python",
     "metadata": {},
     "outputs": [
      {
       "metadata": {},
       "output_type": "pyout",
       "prompt_number": 6,
       "text": [
        "4"
       ]
      }
     ],
     "prompt_number": 6
    },
    {
     "cell_type": "markdown",
     "metadata": {},
     "source": [
      "**Problem.** Read the Python documentation on list methods found in Section 5.1 [here](https://docs.python.org/2/tutorial/datastructures.html). Use these methods to do the following with the list of student names given below.\n",
      "\n",
      "* Find the index of first student named Zelda in the list.\n",
      "* Insert your name in the 3rd position of the list.\n",
      "* Sort the list in alphabetical order.\n",
      "* Find how many students named Junior are in the list.\n",
      "* Remove Leo from the list.\n",
      "\n",
      "After each task, print the list to check your work."
     ]
    },
    {
     "cell_type": "code",
     "collapsed": false,
     "input": [
      "# List of student names, generated courtesy of http://listofrandomnames.com\n",
      "students = [\"Sterling\", \"Malika\", \"Junior\", \"Shiloh\", \"Zelda\", \"Helene\", \"Leo\", \"Junior\", \"Jacinto\", \"Craig\"]"
     ],
     "language": "python",
     "metadata": {},
     "outputs": [],
     "prompt_number": 7
    },
    {
     "cell_type": "code",
     "collapsed": false,
     "input": [
      "# Find the index of first student named Zelda in the list.\n",
      "students.index(\"Zelda\")"
     ],
     "language": "python",
     "metadata": {},
     "outputs": [
      {
       "metadata": {},
       "output_type": "pyout",
       "prompt_number": 8,
       "text": [
        "4"
       ]
      }
     ],
     "prompt_number": 8
    },
    {
     "cell_type": "code",
     "collapsed": false,
     "input": [
      "# Insert your name in the 3rd position of the list.\n",
      "students.insert(2, \"Nelson\")\n",
      "students"
     ],
     "language": "python",
     "metadata": {},
     "outputs": [
      {
       "metadata": {},
       "output_type": "pyout",
       "prompt_number": 9,
       "text": [
        "['Sterling',\n",
        " 'Malika',\n",
        " 'Nelson',\n",
        " 'Junior',\n",
        " 'Shiloh',\n",
        " 'Zelda',\n",
        " 'Helene',\n",
        " 'Leo',\n",
        " 'Junior',\n",
        " 'Jacinto',\n",
        " 'Craig']"
       ]
      }
     ],
     "prompt_number": 9
    },
    {
     "cell_type": "code",
     "collapsed": false,
     "input": [
      "# Sort the list in alphabetical order.\n",
      "students.sort()\n",
      "students"
     ],
     "language": "python",
     "metadata": {},
     "outputs": [
      {
       "metadata": {},
       "output_type": "pyout",
       "prompt_number": 11,
       "text": [
        "['Craig',\n",
        " 'Helene',\n",
        " 'Jacinto',\n",
        " 'Junior',\n",
        " 'Junior',\n",
        " 'Leo',\n",
        " 'Malika',\n",
        " 'Nelson',\n",
        " 'Shiloh',\n",
        " 'Sterling',\n",
        " 'Zelda']"
       ]
      }
     ],
     "prompt_number": 11
    },
    {
     "cell_type": "code",
     "collapsed": false,
     "input": [
      "# Find how many students named Junior are in the list.\n",
      "students.count(\"Junior\")"
     ],
     "language": "python",
     "metadata": {},
     "outputs": [
      {
       "metadata": {},
       "output_type": "pyout",
       "prompt_number": 13,
       "text": [
        "2"
       ]
      }
     ],
     "prompt_number": 13
    },
    {
     "cell_type": "code",
     "collapsed": false,
     "input": [
      "# Remove Leo from the list.\n",
      "students.remove(\"Leo\")\n",
      "students"
     ],
     "language": "python",
     "metadata": {},
     "outputs": [
      {
       "metadata": {},
       "output_type": "pyout",
       "prompt_number": 14,
       "text": [
        "['Craig',\n",
        " 'Helene',\n",
        " 'Jacinto',\n",
        " 'Junior',\n",
        " 'Junior',\n",
        " 'Malika',\n",
        " 'Nelson',\n",
        " 'Shiloh',\n",
        " 'Sterling',\n",
        " 'Zelda']"
       ]
      }
     ],
     "prompt_number": 14
    },
    {
     "cell_type": "code",
     "collapsed": false,
     "input": [],
     "language": "python",
     "metadata": {},
     "outputs": []
    }
   ],
   "metadata": {}
  }
 ]
}