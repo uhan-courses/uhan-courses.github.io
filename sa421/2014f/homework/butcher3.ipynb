{
 "metadata": {
  "name": "",
  "signature": "sha256:ff205c8002e7124d5068708b3dcc4aa7ca47c51f9b9caef09fba4132f15d93d6"
 },
 "nbformat": 3,
 "nbformat_minor": 0,
 "worksheets": [
  {
   "cells": [
    {
     "cell_type": "heading",
     "level": 1,
     "metadata": {},
     "source": [
      "butcher3"
     ]
    },
    {
     "cell_type": "markdown",
     "metadata": {},
     "source": [
      "The Markov Butcher Shop sells premium grade A+ beef. Customers arrive at the butcher shop and form a single queue. There is one butcher who serves customers from the queue on a first-come-first-served basis.\n",
      "\n",
      "Based on historical data, the interarrival time between customers is uniformly distributed between 1.5 and 3.5 minutes. The time for a butcher to fill a single order is uniformly distributed between 2.5 and 6.5 minutes. The interarrival times and service times are assumed to be independent."
     ]
    },
    {
     "cell_type": "markdown",
     "metadata": {},
     "source": [
      "Simulate the shop for 2 hours, <span style=\"color:red\">assuming there are $x$ identical butchers,</span> where $x = 1, 2, 3, 4$. In each case,\n",
      "\n",
      "* determine the average time a customer spends in the queue,\n",
      "* determine the time average number of customers in the queue,\n",
      "* determine the time average number of busy butchers.\n",
      "\n",
      "How many butchers would you recommend for the shop?"
     ]
    },
    {
     "cell_type": "code",
     "collapsed": false,
     "input": [],
     "language": "python",
     "metadata": {},
     "outputs": []
    }
   ],
   "metadata": {}
  }
 ]
}