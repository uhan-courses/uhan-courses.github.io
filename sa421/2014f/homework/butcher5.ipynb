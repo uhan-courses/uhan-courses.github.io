{
 "metadata": {
  "name": "",
  "signature": "sha256:988131383b8f17af22e620ecd3a7fd0a61b01c5c991f26c01d62e03a3a383ed2"
 },
 "nbformat": 3,
 "nbformat_minor": 0,
 "worksheets": [
  {
   "cells": [
    {
     "cell_type": "heading",
     "level": 1,
     "metadata": {},
     "source": [
      "butcher5"
     ]
    },
    {
     "cell_type": "markdown",
     "metadata": {},
     "source": [
      "The Markov Butcher Shop sells two types of meat: beef and pork. Customers arrive at the butcher shop and form a single queue. There are two butchers who serve customers from the queue on a first-come-first-served basis.\n",
      "\n",
      "Customer demand is as follows: beef only, 50%; pork only, 30%; both beef and pork, 20%. Customers who want only one type of meat place 1 order; those who want both types of meat must place 2 separate orders.\n",
      "\n",
      "Based on historical data, the interarrival time between customers is uniformly distributed between 1.5 and 3.5 minutes. The time for a butcher to fill a single order is uniformly distributed between 2.5 and 6.5 minutes. The interarrival times and service times are assumed to be independent."
     ]
    },
    {
     "cell_type": "markdown",
     "metadata": {},
     "source": [
      "Simulate the shop for 2 hours. The butcher shop is interested in the following performance measures:\n",
      "\n",
      "* the average time a customer spends in the queue (i.e. average delay),\n",
      "* the time average number of customers in the queue,\n",
      "* the time average number of busy butchers.\n",
      "\n",
      "Determine a point estimate (i.e. observed sample mean) and an interval estimate (i.e. 95% confidence interval) for each performance measure using 50 replications."
     ]
    },
    {
     "cell_type": "code",
     "collapsed": false,
     "input": [],
     "language": "python",
     "metadata": {},
     "outputs": []
    }
   ],
   "metadata": {}
  }
 ]
}