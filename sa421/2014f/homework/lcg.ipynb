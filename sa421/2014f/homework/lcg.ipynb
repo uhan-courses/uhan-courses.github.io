{
 "metadata": {
  "name": "",
  "signature": "sha256:76bbc1a8d2c91d5a9c1c66308585515723d4eb3d0fa19abeca01d8382627d739"
 },
 "nbformat": 3,
 "nbformat_minor": 0,
 "worksheets": [
  {
   "cells": [
    {
     "cell_type": "heading",
     "level": 1,
     "metadata": {},
     "source": [
      "lcg"
     ]
    },
    {
     "cell_type": "heading",
     "level": 4,
     "metadata": {},
     "source": [
      "Problem 1."
     ]
    },
    {
     "cell_type": "markdown",
     "metadata": {},
     "source": [
      "Find the period of the multiplicative congruential generator with multiplier 13, modulus 64, and seeds 1, 2, 3, 4."
     ]
    },
    {
     "cell_type": "code",
     "collapsed": false,
     "input": [],
     "language": "python",
     "metadata": {},
     "outputs": []
    },
    {
     "cell_type": "heading",
     "level": 4,
     "metadata": {},
     "source": [
      "Problem 2."
     ]
    },
    {
     "cell_type": "markdown",
     "metadata": {},
     "source": [
      "Consider the linear congruential generators with modulus 16 and the following multipliers and increments:\n",
      "\n",
      "* $a = 2$, $c = 5$\n",
      "* $a = 3$, $c = 1$\n",
      "* $a = 7$, $c = 5$\n",
      "* $a = 15$, $c = 4$\n",
      "* $a = 9$, $c = 3$\n",
      "\n",
      "Which of these generators have full period?"
     ]
    },
    {
     "cell_type": "code",
     "collapsed": false,
     "input": [],
     "language": "python",
     "metadata": {},
     "outputs": []
    }
   ],
   "metadata": {}
  }
 ]
}