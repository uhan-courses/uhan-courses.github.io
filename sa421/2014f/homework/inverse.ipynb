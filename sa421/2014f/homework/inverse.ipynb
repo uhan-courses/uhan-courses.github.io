{
 "metadata": {
  "name": "",
  "signature": "sha256:97d73c1389b2060d645c721b29707141c299ee47ced2999c5d935dffc96fe9b3"
 },
 "nbformat": 3,
 "nbformat_minor": 0,
 "worksheets": [
  {
   "cells": [
    {
     "cell_type": "heading",
     "level": 1,
     "metadata": {},
     "source": [
      "inverse"
     ]
    },
    {
     "cell_type": "heading",
     "level": 4,
     "metadata": {},
     "source": [
      "Problem 1."
     ]
    },
    {
     "cell_type": "markdown",
     "metadata": {},
     "source": [
      "Consider a discrete random variable $X$ with cdf\n",
      "\n",
      "$$ F_X(a) = \\begin{cases}\n",
      "0 & \\text{if } a < 1,\\\\\n",
      "0.1 & \\text{if } 1 \\le a < 2,\\\\\n",
      "0.4 & \\text{if } 2 \\le a < 3,\\\\\n",
      "0.9 & \\text{if } 3 \\le a < 4,\\\\\n",
      "1 & \\text{if } a \\ge 4.\n",
      "\\end{cases} $$\n",
      "\n",
      "Using the inverse transform method, generate 50 random variates from X.\n",
      "\n",
      "*Hint.* You do not need to use a pre-existing Python function to compute cdf values; just use the ones given to you above directly."
     ]
    },
    {
     "cell_type": "code",
     "collapsed": false,
     "input": [],
     "language": "python",
     "metadata": {},
     "outputs": []
    },
    {
     "cell_type": "heading",
     "level": 4,
     "metadata": {},
     "source": [
      "Problem 2."
     ]
    },
    {
     "cell_type": "markdown",
     "metadata": {},
     "source": [
      "a. Using the inverse transform method, generate 50 random variates from a Gamma distribution with shape parameter 13.3 and scale parameter 4.2."
     ]
    },
    {
     "cell_type": "code",
     "collapsed": false,
     "input": [],
     "language": "python",
     "metadata": {},
     "outputs": []
    },
    {
     "cell_type": "markdown",
     "metadata": {},
     "source": [
      "b. Do your random variates pass a Kolmogorov-Smirnov test?"
     ]
    },
    {
     "cell_type": "code",
     "collapsed": false,
     "input": [],
     "language": "python",
     "metadata": {},
     "outputs": []
    }
   ],
   "metadata": {}
  }
 ]
}