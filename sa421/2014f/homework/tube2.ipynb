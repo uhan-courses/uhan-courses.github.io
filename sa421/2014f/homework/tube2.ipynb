{
 "metadata": {
  "name": "",
  "signature": "sha256:85b40ba62831558a255e4927cadd3f7fbc087fc9c164abb4bf2ff99943b36db1"
 },
 "nbformat": 3,
 "nbformat_minor": 0,
 "worksheets": [
  {
   "cells": [
    {
     "cell_type": "heading",
     "level": 1,
     "metadata": {},
     "source": [
      "tube2"
     ]
    },
    {
     "cell_type": "markdown",
     "metadata": {},
     "source": [
      "Transport for London (TfL) has asked you to study the feasibility of replacing the manned ticket offices with automated ticket machines in its underground stations. \n",
      "As a pilot study, TfL wants you to focus on the evening rush hour period, from 16:00 to 20:00, at a very small station with 1 employee at the ticket office, which will be replaced with 1 machine.\n",
      "\n",
      "Focus on the proposed system with an automated ticket machine. Using historical data provided to you, you have determined that the time between customers arrivals at the ticket office/machine is exponentially distributed with a mean of 3.2 minutes. Through its own studies, TfL has determined that the service time (in minutes) at the automated ticket machine can be modeled with a Gamma random variable with shape parameter 1 and scale parameter 2.6.\n",
      "\n",
      "* Using 50 replications, compute the observed sample mean and observed sample standard deviation of the average delay.\n",
      "\n",
      "\n",
      "* Repeat the previous task, but now, using antithetic variates: use 25 replications with the \"regular\" stream and 25 with the \"antithetic\" stream. \n",
      "\n",
      "\n",
      "* Compare the observed sample standard deviation from both sets of replications. Is this what you expected? Note that depending on your choice of seeds, you may not see what you expect."
     ]
    },
    {
     "cell_type": "code",
     "collapsed": false,
     "input": [],
     "language": "python",
     "metadata": {},
     "outputs": []
    }
   ],
   "metadata": {}
  }
 ]
}