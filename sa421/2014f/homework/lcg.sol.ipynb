{
 "metadata": {
  "name": "",
  "signature": "sha256:f886bb8ef3c6d9aa3454a91185b6f3d2994ce40cabf1ec21be70540111b522df"
 },
 "nbformat": 3,
 "nbformat_minor": 0,
 "worksheets": [
  {
   "cells": [
    {
     "cell_type": "heading",
     "level": 1,
     "metadata": {},
     "source": [
      "lcg"
     ]
    },
    {
     "cell_type": "heading",
     "level": 4,
     "metadata": {},
     "source": [
      "Problem 1."
     ]
    },
    {
     "cell_type": "markdown",
     "metadata": {},
     "source": [
      "Find the period of the multiplicative congruential generator with multiplier 13, modulus 64, and seeds 1, 2, 3, 4."
     ]
    },
    {
     "cell_type": "markdown",
     "metadata": {},
     "source": [
      "<span style=\"color:#330099\">Since the modulus is 64, we just need to generate a sequence of length 64 to determine the period. For good measure, let's generate 100 integers.</span> \n",
      "\n",
      "<span style=\"color:#330099\">First, with seed 1.</span>"
     ]
    },
    {
     "cell_type": "code",
     "collapsed": false,
     "input": [
      "##### Setup #####\n",
      "# Friendly floating-point division\n",
      "from __future__ import division\n",
      "\n",
      "# Multiplier\n",
      "a = 13\n",
      "\n",
      "# Increment\n",
      "c = 0\n",
      "\n",
      "# Modulus\n",
      "m = 64\n",
      "\n",
      "# Initialize sequence of integers with seed\n",
      "X = [1]\n",
      "\n",
      "# Compute sequence of integers\n",
      "for i in range(100):\n",
      "    X.append((a * X[-1] + c) % m)\n",
      "\n",
      "# Print sequence of integers\n",
      "print(\"X = {0}\".format(X))\n",
      "\n",
      "# Compute pseudo-random numbers based on sequence of integers in X\n",
      "R = [val / m for val in X]\n",
      "\n",
      "# Print pseudo-random numbers\n",
      "print(\"R = {0}\".format(R))"
     ],
     "language": "python",
     "metadata": {},
     "outputs": [
      {
       "output_type": "stream",
       "stream": "stdout",
       "text": [
        "X = [1, 13, 41, 21, 17, 29, 57, 37, 33, 45, 9, 53, 49, 61, 25, 5, 1, 13, 41, 21, 17, 29, 57, 37, 33, 45, 9, 53, 49, 61, 25, 5, 1, 13, 41, 21, 17, 29, 57, 37, 33, 45, 9, 53, 49, 61, 25, 5, 1, 13, 41, 21, 17, 29, 57, 37, 33, 45, 9, 53, 49, 61, 25, 5, 1, 13, 41, 21, 17, 29, 57, 37, 33, 45, 9, 53, 49, 61, 25, 5, 1, 13, 41, 21, 17, 29, 57, 37, 33, 45, 9, 53, 49, 61, 25, 5, 1, 13, 41, 21, 17]\n",
        "R = [0.015625, 0.203125, 0.640625, 0.328125, 0.265625, 0.453125, 0.890625, 0.578125, 0.515625, 0.703125, 0.140625, 0.828125, 0.765625, 0.953125, 0.390625, 0.078125, 0.015625, 0.203125, 0.640625, 0.328125, 0.265625, 0.453125, 0.890625, 0.578125, 0.515625, 0.703125, 0.140625, 0.828125, 0.765625, 0.953125, 0.390625, 0.078125, 0.015625, 0.203125, 0.640625, 0.328125, 0.265625, 0.453125, 0.890625, 0.578125, 0.515625, 0.703125, 0.140625, 0.828125, 0.765625, 0.953125, 0.390625, 0.078125, 0.015625, 0.203125, 0.640625, 0.328125, 0.265625, 0.453125, 0.890625, 0.578125, 0.515625, 0.703125, 0.140625, 0.828125, 0.765625, 0.953125, 0.390625, 0.078125, 0.015625, 0.203125, 0.640625, 0.328125, 0.265625, 0.453125, 0.890625, 0.578125, 0.515625, 0.703125, 0.140625, 0.828125, 0.765625, 0.953125, 0.390625, 0.078125, 0.015625, 0.203125, 0.640625, 0.328125, 0.265625, 0.453125, 0.890625, 0.578125, 0.515625, 0.703125, 0.140625, 0.828125, 0.765625, 0.953125, 0.390625, 0.078125, 0.015625, 0.203125, 0.640625, 0.328125, 0.265625]\n"
       ]
      }
     ],
     "prompt_number": 1
    },
    {
     "cell_type": "markdown",
     "metadata": {},
     "source": [
      "<span style=\"color:#330099\">Inspecting the above sequences, it is clear that this multiplicative congruential generator with seed 1 has period 16.</span>\n",
      "\n",
      "<span style=\"color:#330099\">Next, with seed 2.</span>"
     ]
    },
    {
     "cell_type": "code",
     "collapsed": false,
     "input": [
      "##### Setup #####\n",
      "# Friendly floating-point division\n",
      "from __future__ import division\n",
      "\n",
      "# Multiplier\n",
      "a = 13\n",
      "\n",
      "# Increment\n",
      "c = 0\n",
      "\n",
      "# Modulus\n",
      "m = 64\n",
      "\n",
      "# Initialize sequence of integers with seed\n",
      "X = [2]\n",
      "\n",
      "# Compute sequence of integers\n",
      "for i in range(100):\n",
      "    X.append((a * X[-1] + c) % m)\n",
      "\n",
      "# Print sequence of integers\n",
      "print(\"X = {0}\".format(X))\n",
      "\n",
      "# Compute pseudo-random numbers based on sequence of integers in X\n",
      "R = [val / m for val in X]\n",
      "\n",
      "# Print pseudo-random numbers\n",
      "print(\"R = {0}\".format(R))"
     ],
     "language": "python",
     "metadata": {},
     "outputs": [
      {
       "output_type": "stream",
       "stream": "stdout",
       "text": [
        "X = [2, 26, 18, 42, 34, 58, 50, 10, 2, 26, 18, 42, 34, 58, 50, 10, 2, 26, 18, 42, 34, 58, 50, 10, 2, 26, 18, 42, 34, 58, 50, 10, 2, 26, 18, 42, 34, 58, 50, 10, 2, 26, 18, 42, 34, 58, 50, 10, 2, 26, 18, 42, 34, 58, 50, 10, 2, 26, 18, 42, 34, 58, 50, 10, 2, 26, 18, 42, 34, 58, 50, 10, 2, 26, 18, 42, 34, 58, 50, 10, 2, 26, 18, 42, 34, 58, 50, 10, 2, 26, 18, 42, 34, 58, 50, 10, 2, 26, 18, 42, 34]\n",
        "R = [0.03125, 0.40625, 0.28125, 0.65625, 0.53125, 0.90625, 0.78125, 0.15625, 0.03125, 0.40625, 0.28125, 0.65625, 0.53125, 0.90625, 0.78125, 0.15625, 0.03125, 0.40625, 0.28125, 0.65625, 0.53125, 0.90625, 0.78125, 0.15625, 0.03125, 0.40625, 0.28125, 0.65625, 0.53125, 0.90625, 0.78125, 0.15625, 0.03125, 0.40625, 0.28125, 0.65625, 0.53125, 0.90625, 0.78125, 0.15625, 0.03125, 0.40625, 0.28125, 0.65625, 0.53125, 0.90625, 0.78125, 0.15625, 0.03125, 0.40625, 0.28125, 0.65625, 0.53125, 0.90625, 0.78125, 0.15625, 0.03125, 0.40625, 0.28125, 0.65625, 0.53125, 0.90625, 0.78125, 0.15625, 0.03125, 0.40625, 0.28125, 0.65625, 0.53125, 0.90625, 0.78125, 0.15625, 0.03125, 0.40625, 0.28125, 0.65625, 0.53125, 0.90625, 0.78125, 0.15625, 0.03125, 0.40625, 0.28125, 0.65625, 0.53125, 0.90625, 0.78125, 0.15625, 0.03125, 0.40625, 0.28125, 0.65625, 0.53125, 0.90625, 0.78125, 0.15625, 0.03125, 0.40625, 0.28125, 0.65625, 0.53125]\n"
       ]
      }
     ],
     "prompt_number": 2
    },
    {
     "cell_type": "markdown",
     "metadata": {},
     "source": [
      "<span style=\"color:#330099\">Interestingly, now this multiplicative congruential generator with seed 2 has period 8, instead of 16.</span>\n",
      "\n",
      "<span style=\"color:#330099\">Next, with seed 3.</span>"
     ]
    },
    {
     "cell_type": "code",
     "collapsed": false,
     "input": [
      "##### Setup #####\n",
      "# Friendly floating-point division\n",
      "from __future__ import division\n",
      "\n",
      "# Multiplier\n",
      "a = 13\n",
      "\n",
      "# Increment\n",
      "c = 0\n",
      "\n",
      "# Modulus\n",
      "m = 64\n",
      "\n",
      "# Initialize sequence of integers with seed\n",
      "X = [3]\n",
      "\n",
      "# Compute sequence of integers\n",
      "for i in range(100):\n",
      "    X.append((a * X[-1] + c) % m)\n",
      "\n",
      "# Print sequence of integers\n",
      "print(\"X = {0}\".format(X))\n",
      "\n",
      "# Compute pseudo-random numbers based on sequence of integers in X\n",
      "R = [val / m for val in X]\n",
      "\n",
      "# Print pseudo-random numbers\n",
      "print(\"R = {0}\".format(R))"
     ],
     "language": "python",
     "metadata": {},
     "outputs": [
      {
       "output_type": "stream",
       "stream": "stdout",
       "text": [
        "X = [3, 39, 59, 63, 51, 23, 43, 47, 35, 7, 27, 31, 19, 55, 11, 15, 3, 39, 59, 63, 51, 23, 43, 47, 35, 7, 27, 31, 19, 55, 11, 15, 3, 39, 59, 63, 51, 23, 43, 47, 35, 7, 27, 31, 19, 55, 11, 15, 3, 39, 59, 63, 51, 23, 43, 47, 35, 7, 27, 31, 19, 55, 11, 15, 3, 39, 59, 63, 51, 23, 43, 47, 35, 7, 27, 31, 19, 55, 11, 15, 3, 39, 59, 63, 51, 23, 43, 47, 35, 7, 27, 31, 19, 55, 11, 15, 3, 39, 59, 63, 51]\n",
        "R = [0.046875, 0.609375, 0.921875, 0.984375, 0.796875, 0.359375, 0.671875, 0.734375, 0.546875, 0.109375, 0.421875, 0.484375, 0.296875, 0.859375, 0.171875, 0.234375, 0.046875, 0.609375, 0.921875, 0.984375, 0.796875, 0.359375, 0.671875, 0.734375, 0.546875, 0.109375, 0.421875, 0.484375, 0.296875, 0.859375, 0.171875, 0.234375, 0.046875, 0.609375, 0.921875, 0.984375, 0.796875, 0.359375, 0.671875, 0.734375, 0.546875, 0.109375, 0.421875, 0.484375, 0.296875, 0.859375, 0.171875, 0.234375, 0.046875, 0.609375, 0.921875, 0.984375, 0.796875, 0.359375, 0.671875, 0.734375, 0.546875, 0.109375, 0.421875, 0.484375, 0.296875, 0.859375, 0.171875, 0.234375, 0.046875, 0.609375, 0.921875, 0.984375, 0.796875, 0.359375, 0.671875, 0.734375, 0.546875, 0.109375, 0.421875, 0.484375, 0.296875, 0.859375, 0.171875, 0.234375, 0.046875, 0.609375, 0.921875, 0.984375, 0.796875, 0.359375, 0.671875, 0.734375, 0.546875, 0.109375, 0.421875, 0.484375, 0.296875, 0.859375, 0.171875, 0.234375, 0.046875, 0.609375, 0.921875, 0.984375, 0.796875]\n"
       ]
      }
     ],
     "prompt_number": 3
    },
    {
     "cell_type": "markdown",
     "metadata": {},
     "source": [
      "<span style=\"color:#330099\">This multiplicative congruential generator, now with seed 3, has period 16 again.</span>\n",
      "\n",
      "<span style=\"color:#330099\">Finally, with seed 4.</span>"
     ]
    },
    {
     "cell_type": "code",
     "collapsed": false,
     "input": [
      "##### Setup #####\n",
      "# Friendly floating-point division\n",
      "from __future__ import division\n",
      "\n",
      "# Multiplier\n",
      "a = 13\n",
      "\n",
      "# Increment\n",
      "c = 0\n",
      "\n",
      "# Modulus\n",
      "m = 64\n",
      "\n",
      "# Initialize sequence of integers with seed\n",
      "X = [4]\n",
      "\n",
      "# Compute sequence of integers\n",
      "for i in range(100):\n",
      "    X.append((a * X[-1] + c) % m)\n",
      "\n",
      "# Print sequence of integers\n",
      "print(\"X = {0}\".format(X))\n",
      "\n",
      "# Compute pseudo-random numbers based on sequence of integers in X\n",
      "R = [val / m for val in X]\n",
      "\n",
      "# Print pseudo-random numbers\n",
      "print(\"R = {0}\".format(R))"
     ],
     "language": "python",
     "metadata": {},
     "outputs": [
      {
       "output_type": "stream",
       "stream": "stdout",
       "text": [
        "X = [4, 52, 36, 20, 4, 52, 36, 20, 4, 52, 36, 20, 4, 52, 36, 20, 4, 52, 36, 20, 4, 52, 36, 20, 4, 52, 36, 20, 4, 52, 36, 20, 4, 52, 36, 20, 4, 52, 36, 20, 4, 52, 36, 20, 4, 52, 36, 20, 4, 52, 36, 20, 4, 52, 36, 20, 4, 52, 36, 20, 4, 52, 36, 20, 4, 52, 36, 20, 4, 52, 36, 20, 4, 52, 36, 20, 4, 52, 36, 20, 4, 52, 36, 20, 4, 52, 36, 20, 4, 52, 36, 20, 4, 52, 36, 20, 4, 52, 36, 20, 4]\n",
        "R = [0.0625, 0.8125, 0.5625, 0.3125, 0.0625, 0.8125, 0.5625, 0.3125, 0.0625, 0.8125, 0.5625, 0.3125, 0.0625, 0.8125, 0.5625, 0.3125, 0.0625, 0.8125, 0.5625, 0.3125, 0.0625, 0.8125, 0.5625, 0.3125, 0.0625, 0.8125, 0.5625, 0.3125, 0.0625, 0.8125, 0.5625, 0.3125, 0.0625, 0.8125, 0.5625, 0.3125, 0.0625, 0.8125, 0.5625, 0.3125, 0.0625, 0.8125, 0.5625, 0.3125, 0.0625, 0.8125, 0.5625, 0.3125, 0.0625, 0.8125, 0.5625, 0.3125, 0.0625, 0.8125, 0.5625, 0.3125, 0.0625, 0.8125, 0.5625, 0.3125, 0.0625, 0.8125, 0.5625, 0.3125, 0.0625, 0.8125, 0.5625, 0.3125, 0.0625, 0.8125, 0.5625, 0.3125, 0.0625, 0.8125, 0.5625, 0.3125, 0.0625, 0.8125, 0.5625, 0.3125, 0.0625, 0.8125, 0.5625, 0.3125, 0.0625, 0.8125, 0.5625, 0.3125, 0.0625, 0.8125, 0.5625, 0.3125, 0.0625, 0.8125, 0.5625, 0.3125, 0.0625, 0.8125, 0.5625, 0.3125, 0.0625]\n"
       ]
      }
     ],
     "prompt_number": 4
    },
    {
     "cell_type": "markdown",
     "metadata": {},
     "source": [
      "<span style=\"color:#330099\">Now this multiplicative congruential generator, using seed 4, has period 4!</span>\n",
      "\n",
      "<span style=\"color:#330099\">The lesson learned here: the choice of the seed &mdash; not just the multiplier, increment, and modulus &mdash; can have a significant impact on the periodicity of the generator, as demonstrated in this problem.</span>"
     ]
    },
    {
     "cell_type": "heading",
     "level": 4,
     "metadata": {},
     "source": [
      "Problem 2."
     ]
    },
    {
     "cell_type": "markdown",
     "metadata": {},
     "source": [
      "Consider the linear congruential generators with modulus 16 and the following multipliers and increments:\n",
      "\n",
      "* $a = 2$, $c = 5$\n",
      "* $a = 3$, $c = 1$\n",
      "* $a = 7$, $c = 5$\n",
      "* $a = 15$, $c = 4$\n",
      "* $a = 9$, $c = 3$\n",
      "\n",
      "Which of these generators have full period?"
     ]
    },
    {
     "cell_type": "markdown",
     "metadata": {},
     "source": [
      "<span style=\"color:#330099\">Note that there is no coding required for this exercise, we simply need to apply the theorem we discussed in class.</span>\n",
      "\n",
      "<span style=\"color:#330099\">First, $a = 2$ and $c = 5$. Note that $m = 16$ is a multiple of 4, but $a - 1 = 1$ is not a multiple of 4, breaking condition (ii) in the theorem. So, this linear congruential generator does not have full period.</span>\n",
      "\n",
      "<span style=\"color:#330099\">Second, $a = 3$, $c = 1$. For the same reason as the previous values of $a$ and $c$, condition (ii) in the theorem doesn't hold in this case, and so this linear congruential generator does not have full period.</span>\n",
      "\n",
      "<span style=\"color:#330099\">Third, $a = 7$, $c = 5$. For the same reason as the previous values of $a$ and $c$, condition (ii) in the theorem doesn't hold in this case, and so this linear congruential generator does not have full period.</span>\n",
      "\n",
      "<span style=\"color:#330099\">Fourth, $a = 15$, $c = 4$. Note that in this case, $c$ and $m$ are not relatively prime (for example, both $c$ and $m$ are divisible by $2$), and so this linear congruential generator does not have full period.</span>\n",
      "\n",
      "<span style=\"color:#330099\">Finally, $a = 9$, $c = 3$. In this case, $c$ and $m$ are relativley prime. In addition, $m = 16$ is a multiple of 4, and $a - 1 = 8$ is a multiple of 4. Also, each of the prime numbers that divide $m$ (2, in this case) also divide $a - 1$. So, all three conditions of the theorem are satisfied, and therefore this linear congruential generator has full period.</span>"
     ]
    }
   ],
   "metadata": {}
  }
 ]
}