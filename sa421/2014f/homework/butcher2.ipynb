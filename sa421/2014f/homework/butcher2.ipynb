{
 "metadata": {
  "name": "",
  "signature": "sha256:50b636c392c96fa81793aef6e1599393ed433f5476579b0e1e10845010e14a0a"
 },
 "nbformat": 3,
 "nbformat_minor": 0,
 "worksheets": [
  {
   "cells": [
    {
     "cell_type": "heading",
     "level": 1,
     "metadata": {},
     "source": [
      "butcher2"
     ]
    },
    {
     "cell_type": "markdown",
     "metadata": {},
     "source": [
      "The Markov Butcher Shop sells premium grade A+ beef. Customers arrive at the butcher shop and form a single queue. There is one butcher who serves customers from the queue on a first-come-first-served basis.\n",
      "\n",
      "Based on historical data, the interarrival time between customers is uniformly distributed between 1.5 and 3.5 minutes. The time for a butcher to fill a single order is uniformly distributed between 2.5 and 6.5 minutes. The interarrival times and service times are assumed to be independent."
     ]
    },
    {
     "cell_type": "markdown",
     "metadata": {},
     "source": [
      "a. Assume there is 1 butcher. Simulate the shop for 2 hours."
     ]
    },
    {
     "cell_type": "code",
     "collapsed": false,
     "input": [],
     "language": "python",
     "metadata": {},
     "outputs": []
    },
    {
     "cell_type": "markdown",
     "metadata": {},
     "source": [
      "b. How many customers arrive at the shop over the 2 hour period?"
     ]
    },
    {
     "cell_type": "markdown",
     "metadata": {},
     "source": []
    },
    {
     "cell_type": "markdown",
     "metadata": {},
     "source": [
      "c. Looking ahead: How would you change your model so that there are 2 butchers? 3? $n$? Read the SimPy documentation to find out."
     ]
    },
    {
     "cell_type": "code",
     "collapsed": false,
     "input": [],
     "language": "python",
     "metadata": {},
     "outputs": []
    }
   ],
   "metadata": {}
  }
 ]
}