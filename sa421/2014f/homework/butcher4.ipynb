{
 "metadata": {
  "name": "",
  "signature": "sha256:b318a75edf366d504fba41b052fa7d1cc131c34ac05d298930c900cda5362d06"
 },
 "nbformat": 3,
 "nbformat_minor": 0,
 "worksheets": [
  {
   "cells": [
    {
     "cell_type": "heading",
     "level": 1,
     "metadata": {},
     "source": [
      "butcher4"
     ]
    },
    {
     "cell_type": "markdown",
     "metadata": {},
     "source": [
      "The Markov Butcher Shop sells premium grade A+ beef. Customers arrive at the butcher shop and form a single queue. There is one butcher who serves customers from the queue on a first-come-first-served basis.\n",
      "\n",
      "Based on historical data, the interarrival time between customers is uniformly distributed between 1.5 and 3.5 minutes. The time for a butcher to fill a single order is uniformly distributed between 2.5 and 6.5 minutes. The interarrival times and service times are assumed to be independent."
     ]
    },
    {
     "cell_type": "markdown",
     "metadata": {},
     "source": [
      "Simulate the shop for 2 hours, assuming there are $x$ identical butchers, where $x = 1, 2, 3, 4$. The butcher shop is interested in the following performance measures:\n",
      "\n",
      "* the average time a customer spends in the queue,\n",
      "* the time average number of customers in the queue,\n",
      "* the time average number of busy butchers.\n",
      "\n",
      "Determine a point estimate (i.e. observed sample mean) and an interval estimate (i.e. 95% confidence interval) for each performance measure using 50 replications.\n",
      "\n",
      "Explain what is happening with your confidence intervals when $x = 4$."
     ]
    },
    {
     "cell_type": "code",
     "collapsed": false,
     "input": [],
     "language": "python",
     "metadata": {},
     "outputs": []
    }
   ],
   "metadata": {}
  }
 ]
}