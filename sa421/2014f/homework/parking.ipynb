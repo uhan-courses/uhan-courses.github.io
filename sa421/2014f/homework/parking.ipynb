{
 "metadata": {
  "name": "",
  "signature": "sha256:eefa5d639e87227992de1eb529379c73e111438fcde217dd7ed7d014b1271ae8"
 },
 "nbformat": 3,
 "nbformat_minor": 0,
 "worksheets": [
  {
   "cells": [
    {
     "cell_type": "heading",
     "level": 1,
     "metadata": {},
     "source": [
      "parking"
     ]
    },
    {
     "cell_type": "markdown",
     "metadata": {},
     "source": [
      "*This problem's setting is borrowed from: B. Nelson (2010). Stochastic Modeling: Analysis and Simulation. Dover, New York.*\n",
      "\n",
      "Planning for construction of the the proposed Massive Mall &mdash; the largest shopping mall and indoor golf course in the world &mdash; includes determining the amount of customer parking to provide. Massive Mall will have a customer parking garage with 3 floors. The planners need to figure out how many parking spaces per floor the garage should have: if they are generous with the size of a parking space, they can fit 950 spaces in 1 floor; if they are stingy, then they can fit 960 spaces in 1 floor.\n",
      "\n",
      "Through forecasts based on historical data, surveys, and malls in similar markets, the planners have data on customer traffic to the mall and the amount of time customers spend shopping. In particular, on Saturdays:\n",
      "\n",
      "* the time between customer arrivals to the parking garage is forecast to be exponentially distributed with mean 1/1000 hours (i.e. 1000 customers per hour).\n",
      "\n",
      "* the time a customer spends in the mall is forecast to be exponentially distributed with mean 3 hours.\n",
      "\n",
      "\n",
      "The mall will be open from 9 am to 9 pm on Saturdays.\n",
      "\n",
      "\n",
      "1. Simulate the arrival and departure of customers from the parking garage on Saturdays, assuming that each floor has 950 spaces. Using 50 replications, give a point and interval estimate for the mean time average number of customers waiting for a parking spot.\n",
      "\n",
      "2. Simulate the arrival and departure of customers from the parking garage on Saturdays, assuming that each floor has 960. Using 50 replications, give a point and interval estimate for the mean time average number of customers waiting for a parking spot.\n",
      "\n",
      "3. Is it worth being stingy with the size of a parking space? In particular, are the mean time average number of customers waiting for a parking spot statistically different when each floor has 950 spaces vs. 960 spaces? Use the Levene test for equal variances and the $t$-test for equal means to answer this question.\n",
      "\n",
      "*Note.* These replicated simulations might take a few minutes (as opposed to a few seconds). "
     ]
    },
    {
     "cell_type": "code",
     "collapsed": false,
     "input": [],
     "language": "python",
     "metadata": {},
     "outputs": [],
     "prompt_number": 6
    }
   ],
   "metadata": {}
  }
 ]
}