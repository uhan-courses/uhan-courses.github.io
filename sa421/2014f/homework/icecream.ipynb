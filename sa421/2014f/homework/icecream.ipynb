{
 "metadata": {
  "name": "",
  "signature": "sha256:cf67456582f754c0414c68c3d814180f322451532e5ca3d6550615e97f8d3844"
 },
 "nbformat": 3,
 "nbformat_minor": 0,
 "worksheets": [
  {
   "cells": [
    {
     "cell_type": "heading",
     "level": 1,
     "metadata": {},
     "source": [
      "icecream"
     ]
    },
    {
     "cell_type": "markdown",
     "metadata": {},
     "source": [
      "The Annapolis Ice Cream Company is small and often overcrowded.\n",
      "If there are too many customers already in line at the shop, then arriving customers will go elsewhere.\n",
      "In addition, customers are rather impatient, and will abandon the line without getting served if they've waited too long.\n",
      "\n",
      "The interarrival time between potential customers is exponentially distributed with a mean of 3 minutes.\n",
      "There is 1 server, and the service time is exponentially distributed with a mean of 6 minutes.\n",
      "The probability that a customer arrive at the shop and then go elsewhere is $x / (x + 1)$ when there are $x$ customers already in line.\n",
      "The time that a customer will spend in line before abandoning it is exponentially distributed with mean 10 minutes.\n",
      "\n",
      "* Write a SimPy model that simulates the shop for 8 hours.\n",
      "\n",
      "\n",
      "* Using 100 replications, compute point and interval estimates for the mean fraction of customers that arrive at the shop and leave without joining the line.\n",
      "\n",
      "\n",
      "* Using 100 replications, compute point and interval estimates for the mean fraction of customers that join the line at the shop, but then abandon the line without getting served."
     ]
    },
    {
     "cell_type": "code",
     "collapsed": false,
     "input": [],
     "language": "python",
     "metadata": {},
     "outputs": []
    }
   ],
   "metadata": {}
  }
 ]
}