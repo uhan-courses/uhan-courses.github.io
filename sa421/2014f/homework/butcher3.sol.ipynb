{
 "metadata": {
  "name": "",
  "signature": "sha256:fb9cf73d25fd7257f3e94b1cb23bcfe5e2e229844e1eba939bdc06618c77aaf3"
 },
 "nbformat": 3,
 "nbformat_minor": 0,
 "worksheets": [
  {
   "cells": [
    {
     "cell_type": "heading",
     "level": 1,
     "metadata": {},
     "source": [
      "butcher3"
     ]
    },
    {
     "cell_type": "markdown",
     "metadata": {},
     "source": [
      "The Markov Butcher Shop sells premium grade A+ beef. Customers arrive at the butcher shop and form a single queue. There is one butcher who serves customers from the queue on a first-come-first-served basis.\n",
      "\n",
      "Based on historical data, the interarrival time between customers is uniformly distributed between 1.5 and 3.5 minutes. The time for a butcher to fill a single order is uniformly distributed between 2.5 and 6.5 minutes. The interarrival times and service times are assumed to be independent."
     ]
    },
    {
     "cell_type": "markdown",
     "metadata": {},
     "source": [
      "Simulate the shop for 2 hours, <span style=\"color:red\">assuming there are $x$ identical butchers,</span> where $x = 1, 2, 3, 4$. In each case,\n",
      "\n",
      "* determine the average time a customer spends in the queue,\n",
      "* determine the time average number of customers in the queue,\n",
      "* determine the time average number of busy butchers.\n",
      "\n",
      "How many butchers would you recommend for the shop?"
     ]
    },
    {
     "cell_type": "heading",
     "level": 4,
     "metadata": {},
     "source": [
      "Model"
     ]
    },
    {
     "cell_type": "markdown",
     "metadata": {},
     "source": [
      "Below is the simulation model from the **butcher2** homework problem, with a few modifications:\n",
      "\n",
      "* The parameter `P.nServers` is initialized to `None`, to be changed before running the simulation.\n",
      "* The print statements from the `Customer` process were removed.\n",
      "* A monitor `M.queueWaitTime` was added, and logic was added to the `Customer` process to observe the time a customer spends in the queue.\n",
      "* The resource `R.server` is now monitored. "
     ]
    },
    {
     "cell_type": "code",
     "collapsed": false,
     "input": [
      "##### Setup #####\n",
      "# Friendly floating-point division\n",
      "from __future__ import division\n",
      "\n",
      "# Import all simulation functions from SimPy\n",
      "from SimPy.Simulation import *\n",
      "\n",
      "# Import seed initializer and random sampling functions from NumPy\n",
      "from numpy.random import seed, uniform\n",
      "\n",
      "\n",
      "##### Parameters #####\n",
      "class P:\n",
      "    # Customers arrive at the entrance with uniformly distributed\n",
      "    # interarrival times between 1.5 and 3.5 minutes\n",
      "    interarrivalTimeMin = 1.5\n",
      "    interarrivalTimeMax = 3.5\n",
      "    \n",
      "    # Service times are uniformly distributed between 2.5 and 6.5 minutes\n",
      "    serviceTimeMin = 2.5\n",
      "    serviceTimeMax = 6.5\n",
      "    \n",
      "    # Number of servers\n",
      "    nServers = None\n",
      "    \n",
      "    # Shop is open for 2 continuous hours\n",
      "    simulationTimeMax =  2 * 60\n",
      "    \n",
      "\n",
      "##### Processes #####\n",
      "# Customer\n",
      "class Customer(Process):\n",
      "    def behavior(self):\n",
      "        # Customer arrives, joins queue\n",
      "        arrivalTime = now()\n",
      "        yield request, self, R.server\n",
      "        \n",
      "        # Customer is released from queue and starts service\n",
      "        queueWaitTime = now() - arrivalTime\n",
      "        M.queueWaitTime.observe(queueWaitTime)\n",
      "        serviceTime = uniform(low = P.serviceTimeMin, high = P.serviceTimeMax)\n",
      "        yield hold, self, serviceTime\n",
      "        \n",
      "        # Customer finishes service, leaves\n",
      "        yield release, self, R.server\n",
      "\n",
      "# Entrance\n",
      "class Entrance(Process):\n",
      "    def behavior(self):\n",
      "        # At the start of the simulation, no customers have arrived\n",
      "        nCustomers = 0\n",
      "        \n",
      "        # Customer arrivals\n",
      "        while True:\n",
      "            # Wait until the next arrival\n",
      "            interarrivalTime = uniform(low = P.interarrivalTimeMin, high = P.interarrivalTimeMax)\n",
      "            yield hold, self, interarrivalTime\n",
      "            \n",
      "            # Create a new customer using the template defined in the Customer class\n",
      "            c = Customer(name=\"Customer {0}\".format(nCustomers))\n",
      "            \n",
      "            # Activate the customer's behavior\n",
      "            activate(c, c.behavior())\n",
      "\n",
      "            # Count this new customer\n",
      "            nCustomers += 1\n",
      "\n",
      "##### Resources #####\n",
      "class R:\n",
      "    # Server\n",
      "    server = None\n",
      "    \n",
      "\n",
      "##### Monitors #####\n",
      "class M:\n",
      "    # Queue waiting time\n",
      "    queueWaitTime = None\n",
      "    \n",
      "\n",
      "##### Experiment #####\n",
      "def model():\n",
      "    # Initialize SimPy \n",
      "    initialize()\n",
      "\n",
      "    # Initialize a seed for the random number generator (more on this later in the semester)\n",
      "    seed(123)\n",
      "\n",
      "    # Create the server resource\n",
      "    R.server = Resource(capacity=P.nServers, monitored=True)\n",
      "    \n",
      "    # Create the queue waiting time monitor\n",
      "    M.queueWaitTime = Monitor()\n",
      "\n",
      "    # Activate the entrance (to generate customers)\n",
      "    e = Entrance()\n",
      "    activate(e, e.behavior())\n",
      "    \n",
      "    # Run the simulation\n",
      "    simulate(until=P.simulationTimeMax)"
     ],
     "language": "python",
     "metadata": {},
     "outputs": [],
     "prompt_number": 3
    },
    {
     "cell_type": "heading",
     "level": 4,
     "metadata": {},
     "source": [
      "1 butcher"
     ]
    },
    {
     "cell_type": "markdown",
     "metadata": {},
     "source": [
      "Let's start with the case of 1 butcher."
     ]
    },
    {
     "cell_type": "code",
     "collapsed": false,
     "input": [
      "# Set number of butchers\n",
      "P.nServers = 1\n",
      "\n",
      "# Run simulation\n",
      "model()\n",
      "\n",
      "# Average delay (time in queue)\n",
      "print(\"Average delay = {0}\".format(M.queueWaitTime.mean()))\n",
      "\n",
      "# Time average number of customers in queue\n",
      "print(\"Time average number of customers in queue = {0}\".format(R.server.waitMon.timeAverage()))\n",
      "\n",
      "# Time average number of busy butchers\n",
      "print(\"Time average number of busy butchers = {0}\".format(R.server.actMon.timeAverage()))"
     ],
     "language": "python",
     "metadata": {},
     "outputs": [
      {
       "output_type": "stream",
       "stream": "stdout",
       "text": [
        "Average delay = 24.9581993901\n",
        "Time average number of customers in queue = 10.21213208\n",
        "Time average number of busy butchers = 0.97589218024\n"
       ]
      }
     ],
     "prompt_number": 10
    },
    {
     "cell_type": "heading",
     "level": 4,
     "metadata": {},
     "source": [
      "2 butchers"
     ]
    },
    {
     "cell_type": "code",
     "collapsed": false,
     "input": [
      "# Set number of butchers\n",
      "P.nServers = 2\n",
      "\n",
      "# Run simulation\n",
      "model()\n",
      "\n",
      "# Average delay (time in queue)\n",
      "print(\"Average delay = {0}\".format(M.queueWaitTime.mean()))\n",
      "\n",
      "# Time average number of customers in queue\n",
      "print(\"Time average number of customers in queue = {0}\".format(R.server.waitMon.timeAverage()))\n",
      "\n",
      "# Time average number of busy butchers\n",
      "print(\"Time average number of busy butchers = {0}\".format(R.server.actMon.timeAverage()))"
     ],
     "language": "python",
     "metadata": {},
     "outputs": [
      {
       "output_type": "stream",
       "stream": "stdout",
       "text": [
        "Average delay = 0.256690169857\n",
        "Time average number of customers in queue = 0.100536983194\n",
        "Time average number of busy butchers = 1.71567708944\n"
       ]
      }
     ],
     "prompt_number": 11
    },
    {
     "cell_type": "heading",
     "level": 4,
     "metadata": {},
     "source": [
      "3 butchers"
     ]
    },
    {
     "cell_type": "code",
     "collapsed": false,
     "input": [
      "# Set number of butchers\n",
      "P.nServers = 3\n",
      "\n",
      "# Run simulation\n",
      "model()\n",
      "\n",
      "# Average delay (time in queue)\n",
      "print(\"Average delay = {0}\".format(M.queueWaitTime.mean()))\n",
      "\n",
      "# Time average number of customers in queue\n",
      "print(\"Time average number of customers in queue = {0}\".format(R.server.waitMon.timeAverage()))\n",
      "\n",
      "# Time average number of busy butchers\n",
      "print(\"Time average number of busy butchers = {0}\".format(R.server.actMon.timeAverage()))"
     ],
     "language": "python",
     "metadata": {},
     "outputs": [
      {
       "output_type": "stream",
       "stream": "stdout",
       "text": [
        "Average delay = 0.0\n",
        "Time average number of customers in queue = 0.0\n",
        "Time average number of busy butchers = 1.71773246548\n"
       ]
      }
     ],
     "prompt_number": 12
    },
    {
     "cell_type": "heading",
     "level": 4,
     "metadata": {},
     "source": [
      "4 butchers"
     ]
    },
    {
     "cell_type": "code",
     "collapsed": false,
     "input": [
      "# Set number of butchers\n",
      "P.nServers = 4\n",
      "\n",
      "# Run simulation\n",
      "model()\n",
      "\n",
      "# Average delay (time in queue)\n",
      "print(\"Average delay = {0}\".format(M.queueWaitTime.mean()))\n",
      "\n",
      "# Time average number of customers in queue\n",
      "print(\"Time average number of customers in queue = {0}\".format(R.server.waitMon.timeAverage()))\n",
      "\n",
      "# Time average number of busy butchers\n",
      "print(\"Time average number of busy butchers = {0}\".format(R.server.actMon.timeAverage()))"
     ],
     "language": "python",
     "metadata": {},
     "outputs": [
      {
       "output_type": "stream",
       "stream": "stdout",
       "text": [
        "Average delay = 0.0\n",
        "Time average number of customers in queue = 0.0\n",
        "Time average number of busy butchers = 1.71773246548\n"
       ]
      }
     ],
     "prompt_number": 13
    },
    {
     "cell_type": "heading",
     "level": 4,
     "metadata": {},
     "source": [
      "Recommendation"
     ]
    },
    {
     "cell_type": "markdown",
     "metadata": {},
     "source": [
      "All of the performance measures (average delay, time average number of customers in queue, time average number of busy butchers) improve dramatically when we increase the number of butchers from 1 to 2. Increasing the number of butchers beyond 2, however, only results in a marginal or even no improvement in the performance measures.\n",
      "\n",
      "Based on the simulations done here, 2 to 3 butchers are recommended."
     ]
    },
    {
     "cell_type": "code",
     "collapsed": false,
     "input": [],
     "language": "python",
     "metadata": {},
     "outputs": []
    }
   ],
   "metadata": {}
  }
 ]
}