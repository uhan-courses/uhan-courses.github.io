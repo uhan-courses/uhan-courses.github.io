{
 "metadata": {
  "name": "",
  "signature": "sha256:13d36acfe46180d741db7852eb160829abfece2a1918ac9b4cacb4c8a5214371"
 },
 "nbformat": 3,
 "nbformat_minor": 0,
 "worksheets": [
  {
   "cells": [
    {
     "cell_type": "heading",
     "level": 2,
     "metadata": {},
     "source": [
      "python"
     ]
    },
    {
     "cell_type": "markdown",
     "metadata": {},
     "source": [
      "**Problem.** Recall that $x$ degrees Celsius is\n",
      "\n",
      "$$\\frac{9}{5} x + 32$$\n",
      "\n",
      "degrees Fahrenheit. *Using a list comprehension*, create a list with the temperatures in degrees Celsius given below, converted to degrees Fahrenheit. Print the list of converted temperatures."
     ]
    },
    {
     "cell_type": "code",
     "collapsed": false,
     "input": [
      "# Include floating-point division by default\n",
      "from __future__ import division\n",
      "\n",
      "# List of temperatures to convert\n",
      "Celsius = [39.2, 33.3, 36.5, 31.6, 37.3, 37.8, 42.1, 28.6]\n"
     ],
     "language": "python",
     "metadata": {},
     "outputs": []
    },
    {
     "cell_type": "markdown",
     "metadata": {},
     "source": [
      "**Problem.** Write a function called `sum_double` that takes 2 integers as input, and outputs double their sum *unless* the two values are the same. Example inputs and outputs:\n",
      "\n",
      "* `sum_double(1,2)` should return 6\n",
      "* `sum_double(4,3)` should return 14\n",
      "* `sum_double(2,2)` should return 4"
     ]
    },
    {
     "cell_type": "code",
     "collapsed": false,
     "input": [],
     "language": "python",
     "metadata": {},
     "outputs": []
    },
    {
     "cell_type": "markdown",
     "metadata": {},
     "source": [
      "Test your `sum_double` function below."
     ]
    },
    {
     "cell_type": "code",
     "collapsed": false,
     "input": [],
     "language": "python",
     "metadata": {},
     "outputs": []
    },
    {
     "cell_type": "markdown",
     "metadata": {},
     "source": [
      "**Problem.** Read the Python documentation on list methods found in Section 5.1 [here](https://docs.python.org/2/tutorial/datastructures.html). Use these methods to do the following with the list of student names given below.\n",
      "\n",
      "* Find the index of first student named Zelda in the list.\n",
      "* Insert your name in the 3rd position of the list.\n",
      "* Sort the list in alphabetical order.\n",
      "* Find how many students named Junior are in the list.\n",
      "* Remove Leo from the list.\n",
      "\n",
      "After each task, print the list to check your work."
     ]
    },
    {
     "cell_type": "code",
     "collapsed": false,
     "input": [
      "# List of student names, generated courtesy of http://listofrandomnames.com\n",
      "students = [\"Sterling\", \"Malika\", \"Junior\", \"Shiloh\", \"Zelda\", \"Helene\", \"Leo\", \"Junior\", \"Jacinto\", \"Craig\"]"
     ],
     "language": "python",
     "metadata": {},
     "outputs": []
    },
    {
     "cell_type": "code",
     "collapsed": false,
     "input": [],
     "language": "python",
     "metadata": {},
     "outputs": []
    }
   ],
   "metadata": {}
  }
 ]
}