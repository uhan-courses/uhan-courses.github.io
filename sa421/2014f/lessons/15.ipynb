{
 "metadata": {
  "name": "",
  "signature": "sha256:7f65070b4529105874851768d65e261f58d47059a939d8567d9a5d248e848997"
 },
 "nbformat": 3,
 "nbformat_minor": 0,
 "worksheets": [
  {
   "cells": [
    {
     "cell_type": "heading",
     "level": 1,
     "metadata": {},
     "source": [
      "Lesson 15. SimPy &mdash; different arrival types, user-defined distributions"
     ]
    },
    {
     "cell_type": "heading",
     "level": 3,
     "metadata": {},
     "source": [
      "SA421 Fall 2014"
     ]
    },
    {
     "cell_type": "heading",
     "level": 2,
     "metadata": {},
     "source": [
      "Overview"
     ]
    },
    {
     "cell_type": "markdown",
     "metadata": {},
     "source": [
      "* Today's primary objective: how can we model the arrival of different customer types?\n",
      "\n",
      "\n",
      "* Secondary objective: how can we define custom (discrete) distributions in Python?\n",
      "\n",
      "\n",
      "* First, some setup code:"
     ]
    },
    {
     "cell_type": "code",
     "collapsed": false,
     "input": [
      "##### Setup #####\n",
      "# Friendly floating-point division\n",
      "from __future__ import division\n",
      "\n",
      "# Import infinity from NumPy\n",
      "from numpy import inf\n",
      "\n",
      "# Import seed initializer and random sampling functions from NumPy\n",
      "from numpy.random import seed, rand, exponential, uniform\n",
      "\n",
      "# Import bisect_right from bisect\n",
      "from bisect import bisect_left\n",
      "\n",
      "# Import all simulation functions from SimPy\n",
      "from SimPy.Simulation import *"
     ],
     "language": "python",
     "metadata": {},
     "outputs": []
    },
    {
     "cell_type": "heading",
     "level": 2,
     "metadata": {},
     "source": [
      "Probability distribution over different arrival types"
     ]
    },
    {
     "cell_type": "markdown",
     "metadata": {},
     "source": [
      "**Problem.** Passengers arrive at Bellman Air's check-in counter according to an exponential interarrival-time distribution with mean 1.6 minutes. 60% of the passengers are traveling economy class, 30% business class, and 10% first class. There is a single queue, and 3 agents at the counter. Service times for economy class passengers are uniformly distributed between 4 and 12 minutes; for business class passengers, uniformly distributed between 5 and 10 minutes; for first class passengers, uniformly distributed between 6 and 9 minutes.\n",
      "\n",
      "Simulate the system for 3 hours."
     ]
    },
    {
     "cell_type": "markdown",
     "metadata": {},
     "source": [
      "* Below is code for a simpler version of this problem that assumes that all passengers are traveling economy class.\n",
      "\n",
      "\n",
      "* The service time parameters for all passenger types have already been defined.\n",
      "\n",
      "\n",
      "* No monitors are set up and no performance measures are computed.\n",
      "\n",
      "\n",
      "* The simulation is set up to print information about passenger arrivals."
     ]
    },
    {
     "cell_type": "code",
     "collapsed": false,
     "input": [
      "##### Parameters #####\n",
      "class P:\n",
      "    # Passengers arrive at the entrance with exponentially distributed\n",
      "    # interarrival times with mean 1.6 minutes\n",
      "    interarrivalTimeMean = 1.6\n",
      "    \n",
      "    # Service times for economy class passengers is \n",
      "    # uniformly distributed between 4 and 12 minutes\n",
      "    serviceTimeEconMin = 4\n",
      "    serviceTimeEconMax = 12\n",
      "    \n",
      "    # Service times for business class passengers is \n",
      "    # uniformly distributed between 5 and 10 minutes\n",
      "    serviceTimeBusMin = 5\n",
      "    serviceTimeBusMax = 10\n",
      "\n",
      "    # Service times for first class passengers is \n",
      "    # uniformly distributed between 6 and 9 minutes\n",
      "    serviceTimeFirstMin = 6\n",
      "    serviceTimeFirstMax = 9\n",
      "    \n",
      "    # Number of agents: 3\n",
      "    nAgents = 3\n",
      "    \n",
      "    # Simluate for 3 continuous hours\n",
      "    simulationTimeMax = 3 * 60\n",
      "    \n",
      "\n",
      "##### Processes #####\n",
      "# Economy class passenger\n",
      "class PassengerEcon(Process):\n",
      "    def behavior(self):\n",
      "        # Passenger arrives, joins check-in counter queue\n",
      "        print(\"Time {0}: {1} arrives, joins queue\".format(now(), self.name))\n",
      "        yield request, self, R.counter\n",
      "        \n",
      "        # Passenger is released from queue and starts service\n",
      "        serviceTime = uniform(low = P.serviceTimeEconMin, high = P.serviceTimeEconMax)\n",
      "        yield hold, self, serviceTime\n",
      "        \n",
      "        # Passenger finishes service, leaves\n",
      "        yield release, self, R.counter\n",
      "\n",
      "# Entrance\n",
      "class Entrance(Process):\n",
      "    def behavior(self):\n",
      "        # At the start of the simulation, no passengers have arrived\n",
      "        nPassengers = 0\n",
      "        \n",
      "        # Passenger arrivals\n",
      "        while True:\n",
      "            # Wait until the next arrival\n",
      "            interarrivalTime = exponential(scale = P.interarrivalTimeMean)\n",
      "            yield hold, self, interarrivalTime\n",
      "            \n",
      "            # Create a new passenger using the template defined in the Passenger class\n",
      "            c = PassengerEcon(name=\"Passenger {0} (Economy)\".format(nPassengers))\n",
      "            \n",
      "            # Activate the passenger's behavior\n",
      "            activate(c, c.behavior())\n",
      "\n",
      "            # Count this new passenger\n",
      "            nPassengers += 1\n",
      "\n",
      "            \n",
      "##### Resources #####\n",
      "class R:\n",
      "    # Check-in counter\n",
      "    counter = None\n",
      "\n",
      "\n",
      "##### Model #####\n",
      "def model(inputSeed):\n",
      "    # Initialize SimPy \n",
      "    initialize()\n",
      "\n",
      "    # Initialize a seed for the random number generator\n",
      "    seed(inputSeed)\n",
      "\n",
      "    # Create the server resource\n",
      "    R.counter = Resource(capacity=P.nAgents)\n",
      "\n",
      "    # Activate the entrance\n",
      "    e = Entrance()\n",
      "    activate(e, e.behavior())\n",
      "    \n",
      "    # Run the simulation\n",
      "    simulate(until=P.simulationTimeMax)"
     ],
     "language": "python",
     "metadata": {},
     "outputs": []
    },
    {
     "cell_type": "markdown",
     "metadata": {},
     "source": [
      "* To incorporate passenger types into this model, we need a way to sample from the passenger type distribution:\n",
      "\n",
      "| Passenger Type   | Probability |\n",
      "| ---------------- | ----------- |\n",
      "| Economy          | 0.60        |\n",
      "| Business         | 0.30        |\n",
      "| First            | 0.10        |\n",
      "\n",
      "\n",
      "* Let's write a function from scratch that generates random variates from this discrete distribution, using the inverse transform method for discrete distributions:"
     ]
    },
    {
     "cell_type": "code",
     "collapsed": false,
     "input": [
      "##### Distributions #####\n",
      "# Passenger type distribution: \n",
      "# Economy = 0, Business = 1, First = 2\n",
      "def passengerTypeDist():\n",
      "    # Sorted list of values that X can take, including -inf\n",
      "\n",
      "    \n",
      "    # cdf at each value that X can take\n",
      "\n",
      "    \n",
      "    # Generate variate\n",
      "\n",
      "    \n",
      "    # Return generated variate\n"
     ],
     "language": "python",
     "metadata": {},
     "outputs": []
    },
    {
     "cell_type": "markdown",
     "metadata": {},
     "source": [
      "* Next, let's create different processes for each passenger type.\n",
      "\n",
      "\n",
      "* Let's create a process for business class passengers:"
     ]
    },
    {
     "cell_type": "code",
     "collapsed": false,
     "input": [
      "# Business class passenger\n"
     ],
     "language": "python",
     "metadata": {},
     "outputs": []
    },
    {
     "cell_type": "markdown",
     "metadata": {},
     "source": [
      "* Next, let's create a process for first class passengers:"
     ]
    },
    {
     "cell_type": "code",
     "collapsed": false,
     "input": [
      "# First class passenger\n"
     ],
     "language": "python",
     "metadata": {},
     "outputs": []
    },
    {
     "cell_type": "markdown",
     "metadata": {},
     "source": [
      "* With processes defined for each passenger type, we need to then have them arrive at the entrance in the correct proportions.\n",
      "\n",
      "\n",
      "* To do so, let's redefine the Entrance process:"
     ]
    },
    {
     "cell_type": "code",
     "collapsed": false,
     "input": [
      "# Entrance\n"
     ],
     "language": "python",
     "metadata": {},
     "outputs": []
    },
    {
     "cell_type": "markdown",
     "metadata": {},
     "source": [
      "* Finally, we're ready to run this simulation.\n",
      "\n",
      "\n",
      "* Let's run it once to see what happens."
     ]
    },
    {
     "cell_type": "code",
     "collapsed": false,
     "input": [
      "model(inputSeed = 123)"
     ],
     "language": "python",
     "metadata": {},
     "outputs": []
    },
    {
     "cell_type": "heading",
     "level": 2,
     "metadata": {},
     "source": [
      "Multiple arrival streams"
     ]
    },
    {
     "cell_type": "markdown",
     "metadata": {},
     "source": [
      "**Problem.** Passengers arrive at Bellman Air's check-in counter according to an exponential interarrival-time distribution: the distribution for economy class passengers has mean 3 minutes, business class 5 minutes, first class 15 minutes. There is a single queue, and 3 agents at the counter. Service times for economy class passengers are uniformly distributed between 4 and 12 minutes; for business class passengers, uniformly distributed between 5 and 10 minutes; for first class passengers, uniformly distributed between 6 and 9 minutes.\n",
      "\n",
      "Simulate the system for 3 hours."
     ]
    },
    {
     "cell_type": "markdown",
     "metadata": {},
     "source": [
      "* Below is code for a simpler version of this problem that assumes that all passengers are traveling economy class.\n",
      "\n",
      "\n",
      "* The interarrival time and service time parameters for all passenger types have already been defined.\n",
      "\n",
      "\n",
      "* No monitors are set up and no performance measures are computed.\n",
      "\n",
      "\n",
      "* The simulation is set up to print information about passenger arrivals."
     ]
    },
    {
     "cell_type": "code",
     "collapsed": false,
     "input": [
      "##### Parameters #####\n",
      "class P:\n",
      "    # Economy class passengers arrive at the entrance \n",
      "    # with exponentially distributed interarrival times \n",
      "    # with mean 3 minutes\n",
      "    interarrivalTimeEconMean = 3\n",
      "    \n",
      "    # Business class passengers arrive at the entrance \n",
      "    # with exponentially distributed interarrival times \n",
      "    # with mean 5 minutes\n",
      "    interarrivalTimeBusMean = 5\n",
      "    \n",
      "    # First class passengers arrive at the entrance \n",
      "    # with exponentially distributed interarrival times \n",
      "    # with mean 15 minutes\n",
      "    interarrivalTimeFirstMean = 15\n",
      "    \n",
      "    # Service times for economy class passengers is \n",
      "    # uniformly distributed between 4 and 12 minutes\n",
      "    serviceTimeEconMin = 4\n",
      "    serviceTimeEconMax = 12\n",
      "    \n",
      "    # Service times for business class passengers is \n",
      "    # uniformly distributed between 5 and 10 minutes\n",
      "    serviceTimeBusMin = 5\n",
      "    serviceTimeBusMax = 10\n",
      "\n",
      "    # Service times for first class passengers is \n",
      "    # uniformly distributed between 6 and 9 minutes\n",
      "    serviceTimeFirstMin = 6\n",
      "    serviceTimeFirstMax = 9\n",
      "    \n",
      "    # Number of agents: 3\n",
      "    nAgents = 3\n",
      "    \n",
      "    # Simluate for 3 continuous hours\n",
      "    simulationTimeMax = 3 * 60\n",
      "    \n",
      "\n",
      "##### Processes #####\n",
      "# Economy class passenger\n",
      "class PassengerEcon(Process):\n",
      "    def behavior(self):\n",
      "        # Passenger arrives, joins check-in counter queue\n",
      "        print(\"Time {0}: {1} arrives, joins queue\".format(now(), self.name))\n",
      "        yield request, self, R.counter\n",
      "        \n",
      "        # Passenger is released from queue and starts service\n",
      "        serviceTime = uniform(low = P.serviceTimeEconMin, high = P.serviceTimeEconMax)\n",
      "        yield hold, self, serviceTime\n",
      "        \n",
      "        # Passenger finishes service, leaves\n",
      "        yield release, self, R.counter\n",
      "\n",
      "# Economy class entrance\n",
      "class EntranceEcon(Process):\n",
      "    def behavior(self):\n",
      "        # At the start of the simulation, no passengers have arrived\n",
      "        nPassengers = 0\n",
      "        \n",
      "        # Passenger arrivals\n",
      "        while True:\n",
      "            # Wait until the next arrival\n",
      "            interarrivalTime = exponential(scale = P.interarrivalTimeEconMean)\n",
      "            yield hold, self, interarrivalTime\n",
      "            \n",
      "            # Create a new economy class passenger\n",
      "            c = PassengerEcon(name=\"Passenger {0} (Economy)\".format(nPassengers))\n",
      "            \n",
      "            # Activate the passenger's behavior\n",
      "            activate(c, c.behavior())\n",
      "\n",
      "            # Count this new passenger\n",
      "            nPassengers += 1\n",
      "\n",
      "            \n",
      "##### Resources #####\n",
      "class R:\n",
      "    # Check-in counter\n",
      "    counter = None\n",
      "\n",
      "\n",
      "##### Model #####\n",
      "def model(inputSeed):\n",
      "    # Initialize SimPy \n",
      "    initialize()\n",
      "\n",
      "    # Initialize a seed for the random number generator\n",
      "    seed(inputSeed)\n",
      "\n",
      "    # Create the server resource\n",
      "    R.counter = Resource(capacity=P.nAgents)\n",
      "\n",
      "    # Activate the economy passenger entrance\n",
      "    e = EntranceEcon()\n",
      "    activate(e, e.behavior())\n",
      "    \n",
      "    # Run the simulation\n",
      "    simulate(until=P.simulationTimeMax)"
     ],
     "language": "python",
     "metadata": {},
     "outputs": []
    },
    {
     "cell_type": "markdown",
     "metadata": {},
     "source": [
      "* Again, we need create different processes for each passenger type.\n",
      "\n",
      "\n",
      "* Let's create processes for the other two types of passengers &mdash; this is identical to the case with a probability distribution over passenger types."
     ]
    },
    {
     "cell_type": "code",
     "collapsed": false,
     "input": [
      "# Business class passenger\n",
      "class PassengerBus(Process):\n",
      "    def behavior(self):\n",
      "        # Passenger arrives, joins check-in counter queue\n",
      "        print(\"Time {0}: {1} arrives, joins queue\".format(now(), self.name))\n",
      "        yield request, self, R.counter\n",
      "        \n",
      "        # Passenger is released from queue and starts service\n",
      "        serviceTime = uniform(low = P.serviceTimeBusMin, high = P.serviceTimeBusMax)\n",
      "        yield hold, self, serviceTime\n",
      "        \n",
      "        # Passenger finishes service, leaves\n",
      "        yield release, self, R.counter\n",
      "        \n",
      "# First class passenger\n",
      "class PassengerFirst(Process):\n",
      "    def behavior(self):\n",
      "        # Passenger arrives, joins check-in counter queue\n",
      "        print(\"Time {0}: {1} arrives, joins queue\".format(now(), self.name))\n",
      "        yield request, self, R.counter\n",
      "        \n",
      "        # Passenger is released from queue and starts service\n",
      "        serviceTime = uniform(low = P.serviceTimeFirstMin, high = P.serviceTimeFirstMax)\n",
      "        yield hold, self, serviceTime\n",
      "        \n",
      "        # Passenger finishes service, leaves\n",
      "        yield release, self, R.counter"
     ],
     "language": "python",
     "metadata": {},
     "outputs": []
    },
    {
     "cell_type": "markdown",
     "metadata": {},
     "source": [
      "* To have the three types of passengers arrive simultaneously, we can create a separate entrance for each type of passenger.\n",
      "\n",
      "\n",
      "* We already have an entrance for the economy class passengers.\n",
      "\n",
      "\n",
      "* Let's create an entrance for the business class passengers:"
     ]
    },
    {
     "cell_type": "code",
     "collapsed": false,
     "input": [
      "# Business class entrance\n"
     ],
     "language": "python",
     "metadata": {},
     "outputs": []
    },
    {
     "cell_type": "markdown",
     "metadata": {},
     "source": [
      "* Let's also create an entrance for the first class passengers:"
     ]
    },
    {
     "cell_type": "code",
     "collapsed": false,
     "input": [
      "# First class entrance\n"
     ],
     "language": "python",
     "metadata": {},
     "outputs": []
    },
    {
     "cell_type": "markdown",
     "metadata": {},
     "source": [
      "* Finally, before running the simulation in `model()`, we need to activate all three entrances:"
     ]
    },
    {
     "cell_type": "code",
     "collapsed": false,
     "input": [
      "# Redefine model() to activate all three entrances\n",
      "def model(inputSeed):\n"
     ],
     "language": "python",
     "metadata": {},
     "outputs": []
    },
    {
     "cell_type": "markdown",
     "metadata": {},
     "source": [
      "* Let's run this simulation once to see what happens."
     ]
    },
    {
     "cell_type": "code",
     "collapsed": false,
     "input": [
      "model(inputSeed = 123)"
     ],
     "language": "python",
     "metadata": {},
     "outputs": []
    }
   ],
   "metadata": {}
  }
 ]
}