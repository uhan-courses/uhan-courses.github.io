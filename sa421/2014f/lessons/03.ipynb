{
 "metadata": {
  "name": "",
  "signature": "sha256:500f9a1e21a983372f047275831fdd8d0d6723da7ce3ccf4c8d90d8d2c42ef2a"
 },
 "nbformat": 3,
 "nbformat_minor": 0,
 "worksheets": [
  {
   "cells": [
    {
     "cell_type": "heading",
     "level": 1,
     "metadata": {},
     "source": [
      "Lesson 3. Introduction to SimPy"
     ]
    },
    {
     "cell_type": "heading",
     "level": 3,
     "metadata": {},
     "source": [
      "SA421 Fall 2014"
     ]
    },
    {
     "cell_type": "heading",
     "level": 2,
     "metadata": {},
     "source": [
      "What is SimPy?"
     ]
    },
    {
     "cell_type": "markdown",
     "metadata": {},
     "source": [
      "* SimPy is a **process-based** discrete-event simulation language based on Python.\n",
      "\n",
      "\n",
      "* An **event-based simulation** models the operation of a system by describing what happens to the system as it encounters entities.\n",
      "    - e.g. how does the number of customers in the queue change when a customer arrives?\n",
      "\n",
      "\n",
      "* A **process-based simulation** models the operation of a system by describing what happens to each entity as it encounters the system.\n",
      "    - e.g. when a customer arrives, where does she go?\n",
      "\n",
      "\n",
      "* Each has its advantages and disadvantages, for example:\n",
      "    - The event-based view is very flexible and appealing from a mathematical perspective.\n",
      "    - The process-based view is usually easier to use and manage for typical simulation scenarios.\n",
      "\n",
      "\n",
      "* <span style=\"color:red\">**Note: we will be using SimPy 2.3 in this course, not SimPy 3.0!**</span>"
     ]
    },
    {
     "cell_type": "heading",
     "level": 2,
     "metadata": {},
     "source": [
      "The Fantastic Dan Problem in SimPy"
     ]
    },
    {
     "cell_type": "markdown",
     "metadata": {},
     "source": [
      "**Problem.** Customers visit the neighborhood hair stylist Fantastic Dan for haircuts. The customer interarrival time is exponentially distributed with mean 20 minutes. Each haircut takes Fantastic Dan anywhere from 15 to 25 minutes, uniformly distributed. This time also includes the initial greetings and the transaction of money at the end of the haircut.\n",
      "\n",
      "* Simulate 1 day of Dan\u2019s operations. Assume Dan works continuously for 6 hours a day.\n",
      "* How many customers enter Dan's shop per day?\n",
      "* How many customers does Dan serve per day?\n",
      "* What is the average number of customers waiting to get a haircut? What is the maximum? \n",
      "* What is the average time spent by a customer in the queue? What is the maximum?"
     ]
    },
    {
     "cell_type": "code",
     "collapsed": false,
     "input": [
      "##### Setup #####\n",
      "# Friendly floating-point division\n",
      "from __future__ import division\n",
      "\n",
      "# Import all simulation functions from SimPy\n",
      "from SimPy.Simulation import *\n",
      "\n",
      "# Import seed initializor and random sampling functions from NumPy\n",
      "from numpy.random import seed, uniform, exponential"
     ],
     "language": "python",
     "metadata": {},
     "outputs": []
    },
    {
     "cell_type": "markdown",
     "metadata": {},
     "source": [
      "* A basic SimPy **model** consists of:\n",
      "    - Parameters\n",
      "    - Processes\n",
      "    - Resources\n",
      "\n",
      "\n",
      "* Once we have the model in hand, we can run **experiments** with the model to answer these questions."
     ]
    },
    {
     "cell_type": "heading",
     "level": 3,
     "metadata": {},
     "source": [
      "Parameters"
     ]
    },
    {
     "cell_type": "markdown",
     "metadata": {},
     "source": [
      "* As good practice, we create **parameters** for values in our model that we might want to change later on. \n",
      "\n",
      "\n",
      "* For the Fantastic Dan problem, we can create parameters for\n",
      "    * the mean interarrival time\n",
      "    * the minimum service time\n",
      "    * the maximum service time\n",
      "    * the number of servers (barbers)"
     ]
    },
    {
     "cell_type": "code",
     "collapsed": false,
     "input": [
      "##### Parameters #####\n",
      "class P:\n",
      "    # Customers arrive at the entrance with exponentially distributed\n",
      "    # interarrival times with mean 20\n",
      "    interarrivalTimeMean = 20\n",
      "    \n",
      "    # Service times are uniformly distributed between 15 and 25\n",
      "    serviceTimeMin = 15\n",
      "    serviceTimeMax = 25\n",
      "    \n",
      "    # One server: Fantastic Dan works by himself\n",
      "    nServers = 1\n",
      "    \n",
      "    # Shop is open for 6 continuous hours\n",
      "    simulationTimeMax =  6 * 60"
     ],
     "language": "python",
     "metadata": {},
     "outputs": []
    },
    {
     "cell_type": "markdown",
     "metadata": {},
     "source": [
      "* By putting all the parameters in one class `P`, we can access the parameters with a common syntax: for example, `P.interarrivalTimeMean`, `P.serviceTimeMax` and so on."
     ]
    },
    {
     "cell_type": "heading",
     "level": 3,
     "metadata": {},
     "source": [
      "Processes"
     ]
    },
    {
     "cell_type": "markdown",
     "metadata": {},
     "source": [
      "* A **process** is an active component of a simulation model.\n",
      "    - e.g. a customer that moves between the queue and the server in the shop.\n",
      "    - A process is sometimes referred to as an **entity**.\n",
      "\n",
      "\n",
      "* To define a **process**, we need to describe its behavior.\n",
      "    - e.g. what does a customer do when she enters the shop?"
     ]
    },
    {
     "cell_type": "heading",
     "level": 4,
     "metadata": {},
     "source": [
      "The customer process"
     ]
    },
    {
     "cell_type": "markdown",
     "metadata": {},
     "source": [
      "* Let's start by defining a process that defines a customer's behavior in this system.\n",
      "\n",
      "\n",
      "* A customer's behavior:\n",
      "    * Customer arrives from entrance and joins queue.\n",
      "    * Customer is released from queue and starts haircut\n",
      "    * Customer finishes haircut, and leaves."
     ]
    },
    {
     "cell_type": "code",
     "collapsed": false,
     "input": [
      "# Customer\n",
      "class Customer(Process):\n",
      "    def behavior(self):\n",
      "        # Customer arrives, joins queue\n",
      "        print(\"Time {1}: {0} arrives and joins queue\".format(self.name, now()))\n",
      "        yield request, self, R.server\n",
      "        \n",
      "        # Customer is released from queue and starts service\n",
      "        print(\"Time {1}: {0} begins service\".format(self.name, now()))\n",
      "        serviceTime = uniform(low = P.serviceTimeMin, high = P.serviceTimeMax)\n",
      "        yield hold, self, serviceTime\n",
      "        \n",
      "        # Customer finishes service, leaves\n",
      "        print(\"Time {1}: {0} ends service and leaves\".format(self.name, now()))\n",
      "        yield release, self, R.server"
     ],
     "language": "python",
     "metadata": {},
     "outputs": []
    },
    {
     "cell_type": "markdown",
     "metadata": {},
     "source": [
      "* `now()` gives the current time in the simulation.\n",
      "\n",
      "\n",
      "* `yield request` has the entity request a unit of a **resource**. \n",
      "    * More on this in a second.\n",
      "\n",
      "\n",
      "* `yield hold` has the entity pause for the specified amount of time\n",
      "    * This is often used to simulate service time.\n",
      "\n",
      "\n",
      "* `yield release` has the entity release a unit of the resource.\n",
      "\n",
      "\n",
      "* `uniform` is a random sampling function defined in the `numpy.random` module: \n",
      "    * `uniform(low, high)` generates a random sample from a uniform distribution on `[low, high]`"
     ]
    },
    {
     "cell_type": "heading",
     "level": 4,
     "metadata": {},
     "source": [
      "The entrance process"
     ]
    },
    {
     "cell_type": "markdown",
     "metadata": {},
     "source": [
      "* We need to generate customers to enter the simulation model. \n",
      "\n",
      "\n",
      "* We can view the shop entrance as a process that generates customers."
     ]
    },
    {
     "cell_type": "code",
     "collapsed": false,
     "input": [
      "# Entrance\n",
      "class Entrance(Process):\n",
      "    def behavior(self):\n",
      "        # At the start of the simulation, no customers have arrived\n",
      "        nCustomers = 0\n",
      "        \n",
      "        # Customer arrivals\n",
      "        while True:\n",
      "            # Wait until the next arrival\n",
      "            interarrivalTime = exponential(scale = P.interarrivalTimeMean)\n",
      "            yield hold, self, interarrivalTime\n",
      "            \n",
      "            # Create a new customer using the template defined in the Customer class\n",
      "            c = Customer(name=\"Customer {0}\".format(nCustomers))\n",
      "            \n",
      "            # Activate the customer's behavior\n",
      "            activate(c, c.behavior())\n",
      "\n",
      "            # Count this new customer\n",
      "            nCustomers += 1"
     ],
     "language": "python",
     "metadata": {},
     "outputs": []
    },
    {
     "cell_type": "markdown",
     "metadata": {},
     "source": [
      "* A process is passive when it is first created.\n",
      "\n",
      "\n",
      "* To activate a process's behavior, use `activate(entity, entity.behavior())`.\n",
      "\n",
      "\n",
      "* `exponential` is a random sampling function defined in the `numpy.random` module.\n",
      "    * `exponential(scale)` generates a random sample from an exponential distribution with mean `scale`."
     ]
    },
    {
     "cell_type": "heading",
     "level": 3,
     "metadata": {},
     "source": [
      "Resources"
     ]
    },
    {
     "cell_type": "markdown",
     "metadata": {},
     "source": [
      "* A **resource** is something that processes an entity.\n",
      "\n",
      "\n",
      "* In SimPy, an entity requests a unit of a resource, holds it for some time, and then releases it.\n",
      "\n",
      "\n",
      "* A **queue** for the resource will form if the number of requests exceeds the number of resource units available.\n",
      "\n",
      "\n",
      "* This queue is automatically maintained by the resource in SimPy.\n",
      "\n",
      "\n",
      "* For now, we just create placeholders for all the resources we will need - in this case, a server (barber).\n",
      "\n",
      "\n",
      "* We will define the resource later."
     ]
    },
    {
     "cell_type": "code",
     "collapsed": false,
     "input": [
      "##### Resources #####\n",
      "class R:\n",
      "    # Server\n",
      "    server = None"
     ],
     "language": "python",
     "metadata": {},
     "outputs": []
    },
    {
     "cell_type": "markdown",
     "metadata": {},
     "source": [
      "* As with the parameters, we put all the resources in 1 class, so that we can access them in a consistent way, e.g. `R.server`, etc. "
     ]
    },
    {
     "cell_type": "heading",
     "level": 3,
     "metadata": {},
     "source": [
      "Experiment"
     ]
    },
    {
     "cell_type": "markdown",
     "metadata": {},
     "source": [
      "* With almost all of the simulation model components in place, we are ready to run the simulation model.\n",
      "\n",
      "\n",
      "* First, let's create a function that \n",
      "    - initializes SimPy and the random number generator,\n",
      "    - defines the server resource,\n",
      "    - activates the entrance process, and\n",
      "    - starts the simulation."
     ]
    },
    {
     "cell_type": "code",
     "collapsed": false,
     "input": [
      "def model():\n",
      "    # Initialize SimPy \n",
      "    initialize()\n",
      "\n",
      "    # Initialize a seed for the random number generator (more on this later in the semester)\n",
      "    seed(123)\n",
      "\n",
      "    # Create the server resource\n",
      "    R.server = Resource(capacity=P.nServers)\n",
      "\n",
      "    # Activate the entrance (to generate customers)\n",
      "    e = Entrance()\n",
      "    activate(e, e.behavior())\n",
      "    \n",
      "    # Run the simulation until the shop closes\n",
      "    simulate(until=P.simulationTimeMax)"
     ],
     "language": "python",
     "metadata": {},
     "outputs": []
    },
    {
     "cell_type": "markdown",
     "metadata": {},
     "source": [
      "Now, run the simulation!"
     ]
    },
    {
     "cell_type": "code",
     "collapsed": false,
     "input": [
      "model()"
     ],
     "language": "python",
     "metadata": {},
     "outputs": []
    },
    {
     "cell_type": "markdown",
     "metadata": {},
     "source": [
      "So far, based on our 1 simulation run, we can answer the following parts of the Fantastic Dan problem:\n",
      "\n",
      "* How many customers enter Dan's shop per day?\n",
      "\n",
      "* How many customers does Dan serve per day?"
     ]
    },
    {
     "cell_type": "markdown",
     "metadata": {},
     "source": [
      "*Make some notes on what you found in this Markdown cell.*"
     ]
    },
    {
     "cell_type": "heading",
     "level": 2,
     "metadata": {},
     "source": [
      "SimPy resources"
     ]
    },
    {
     "cell_type": "markdown",
     "metadata": {},
     "source": [
      "* Links to the official SimPy documentation and some lecture notes on SimPy have been posted on the course webpage.\n",
      "\n",
      "\n",
      "* In addition, links to the NumPy, SciPy, and Matplotlib documentation have been posted on the course webpage. We will use these packages often, for things like \n",
      "    * random sampling\n",
      "    * statistical testing\n",
      "    * graphs and plots"
     ]
    },
    {
     "cell_type": "heading",
     "level": 2,
     "metadata": {},
     "source": [
      "With a neighbor..."
     ]
    },
    {
     "cell_type": "markdown",
     "metadata": {},
     "source": [
      "Here is the entire Fantastic Dan simulation model in 1 cell, for your convenience."
     ]
    },
    {
     "cell_type": "code",
     "collapsed": false,
     "input": [
      "##### Setup #####\n",
      "# Friendly floating-point division\n",
      "from __future__ import division\n",
      "\n",
      "# Import all simulation functions from SimPy\n",
      "from SimPy.Simulation import *\n",
      "\n",
      "# Import seed initializor and random sampling functions from NumPy\n",
      "from numpy.random import seed, uniform, exponential\n",
      "\n",
      "\n",
      "##### Parameters #####\n",
      "class P:\n",
      "    # Customers arrive at the entrance with exponentially distributed\n",
      "    # interarrival times with mean 20\n",
      "    interarrivalTimeMean = 20\n",
      "    \n",
      "    # Service times are uniformly distributed between 15 and 25\n",
      "    serviceTimeMin = 15\n",
      "    serviceTimeMax = 25\n",
      "    \n",
      "    # One server: Fantastic Dan works by himself\n",
      "    nServers = 1\n",
      "    \n",
      "    # Shop is open for 6 continuous hours\n",
      "    simulationTimeMax =  6 * 60\n",
      "    \n",
      "\n",
      "##### Processes #####\n",
      "# Customer\n",
      "class Customer(Process):\n",
      "    def behavior(self):\n",
      "        # Customer arrives, joins queue\n",
      "        print(\"Time {1}: {0} arrives and joins queue\".format(self.name, now()))\n",
      "        yield request, self, R.server\n",
      "        \n",
      "        # Customer is released from queue and starts service\n",
      "        print(\"Time {1}: {0} begins service\".format(self.name, now()))\n",
      "        serviceTime = uniform(low = P.serviceTimeMin, high = P.serviceTimeMax)\n",
      "        yield hold, self, serviceTime\n",
      "        \n",
      "        # Customer finishes service, leaves\n",
      "        print(\"Time {1}: {0} ends service and leaves\".format(self.name, now()))\n",
      "        yield release, self, R.server\n",
      "\n",
      "# Entrance\n",
      "class Entrance(Process):\n",
      "    def behavior(self):\n",
      "        # At the start of the simulation, no customers have arrived\n",
      "        nCustomers = 0\n",
      "        \n",
      "        # Customer arrivals\n",
      "        while True:\n",
      "            # Wait until the next arrival\n",
      "            interarrivalTime = exponential(scale = P.interarrivalTimeMean)\n",
      "            yield hold, self, interarrivalTime\n",
      "            \n",
      "            # Create a new customer using the template defined in the Customer class\n",
      "            c = Customer(name=\"Customer {0}\".format(nCustomers))\n",
      "            \n",
      "            # Activate the customer's behavior\n",
      "            activate(c, c.behavior())\n",
      "\n",
      "            # Count this new customer\n",
      "            nCustomers += 1\n",
      "\n",
      "##### Resources #####\n",
      "class R:\n",
      "    # Server\n",
      "    server = None\n",
      "\n",
      "\n",
      "##### Experiment #####\n",
      "def model():\n",
      "    # Initialize SimPy \n",
      "    initialize()\n",
      "\n",
      "    # Initialize a seed for the random number generator (more on this later in the semester)\n",
      "    seed(123)\n",
      "\n",
      "    # Create the server resource\n",
      "    R.server = Resource(capacity=P.nServers)\n",
      "\n",
      "    # Activate the entrance (to generate customers)\n",
      "    e = Entrance()\n",
      "    activate(e, e.behavior())\n",
      "    \n",
      "    # Run the simulation\n",
      "    simulate(until=P.simulationTimeMax)\n",
      "\n",
      "model()"
     ],
     "language": "python",
     "metadata": {},
     "outputs": []
    },
    {
     "cell_type": "markdown",
     "metadata": {},
     "source": [
      "See if you can figure out how to make the following modifications. You may need to look at the documentation, especially for different random sampling functions. \n",
      "\n",
      "For each modification, start by copying and pasting the entire simulation model into a new cell. Make the changes, and run the model. How do the number of customers that enter Dan's shop and the number of customers Dan serves per day change?"
     ]
    },
    {
     "cell_type": "markdown",
     "metadata": {},
     "source": [
      "**Modification.** The time between customer arrivals is still exponentially distributed, but now with a mean of 30 minutes. The time for each haircut is still uniformly distributed, but now between 25 and 35 minutes."
     ]
    },
    {
     "cell_type": "code",
     "collapsed": false,
     "input": [],
     "language": "python",
     "metadata": {},
     "outputs": []
    },
    {
     "cell_type": "markdown",
     "metadata": {},
     "source": [
      "*Make some notes on what you found in this Markdown cell.*"
     ]
    },
    {
     "cell_type": "markdown",
     "metadata": {},
     "source": [
      "**Modification.** The haircut time instead follows a Gamma distribution with shape parameter 3 and scale parameter 10. [Hint.](http://docs.scipy.org/doc/numpy/reference/routines.random.html) Also, remember to `import` the function you want to use."
     ]
    },
    {
     "cell_type": "code",
     "collapsed": false,
     "input": [],
     "language": "python",
     "metadata": {},
     "outputs": []
    },
    {
     "cell_type": "markdown",
     "metadata": {},
     "source": [
      "*Make some notes on what you found in this Markdown cell.*"
     ]
    },
    {
     "cell_type": "markdown",
     "metadata": {},
     "source": [
      "**Modification**. Customers arrive at Dan's shop in pairs. The interarrival time for pairs of customers is still exponentially distributed with a mean of 20 minutes. "
     ]
    },
    {
     "cell_type": "code",
     "collapsed": false,
     "input": [],
     "language": "python",
     "metadata": {},
     "outputs": []
    },
    {
     "cell_type": "markdown",
     "metadata": {},
     "source": [
      "*Make some notes on what you found in this Markdown cell.*"
     ]
    }
   ],
   "metadata": {}
  }
 ]
}