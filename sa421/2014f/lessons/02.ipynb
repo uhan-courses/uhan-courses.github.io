{
 "metadata": {
  "name": "",
  "signature": "sha256:9be4a71fcc323fe3915b2969390f8253589aece755d388b0a362d148c54a06a5"
 },
 "nbformat": 3,
 "nbformat_minor": 0,
 "worksheets": [
  {
   "cells": [
    {
     "cell_type": "heading",
     "level": 1,
     "metadata": {},
     "source": [
      "Lesson 2. Introduction to Python and IPython Notebook"
     ]
    },
    {
     "cell_type": "heading",
     "level": 3,
     "metadata": {},
     "source": [
      "SA421 Fall 2014"
     ]
    },
    {
     "cell_type": "heading",
     "level": 2,
     "metadata": {},
     "source": [
      "What is IPython Notebook?"
     ]
    },
    {
     "cell_type": "markdown",
     "metadata": {},
     "source": [
      "* **IPython Notebook** is an interactive computational environment where you can combine code, text and graphs.\n",
      "\n",
      "\n",
      "* We will be using IPython Notebook extensively in this course to study the computational aspects of simulation."
     ]
    },
    {
     "cell_type": "heading",
     "level": 2,
     "metadata": {},
     "source": [
      "Structure of a notebook document"
     ]
    },
    {
     "cell_type": "markdown",
     "metadata": {},
     "source": [
      "* A notebook consists of a sequence of **cells** of different types.\n",
      "\n",
      "\n",
      "* We'll use these types of cells frequently:\n",
      "    * code cells\n",
      "    * Markdown cells\n",
      "    \n",
      "    \n",
      "* You can determine the type of a cell in the toolbar.\n",
      "\n",
      "\n",
      "* You can execute the contents of a cell by:\n",
      "    * clicking the **Play** button in the tool bar,\n",
      "    * selecting **Cell &#8594; Run** in the menu bar,\n",
      "    * pressing **Shift-Enter**."
     ]
    },
    {
     "cell_type": "heading",
     "level": 3,
     "metadata": {},
     "source": [
      "Code cells"
     ]
    },
    {
     "cell_type": "markdown",
     "metadata": {},
     "source": [
      "* In a **code cell**, you can edit and write **Python** code\n",
      "    * We'll talk about Python shortly\n",
      "    \n",
      "\n",
      "* For now, we can use a code cell as a fancy calculator\n",
      "\n",
      "\n",
      "* For example, in the code cell below, let's compute\n",
      "$$ \\frac{2^{5} - 368}{1 + 2} $$"
     ]
    },
    {
     "cell_type": "code",
     "collapsed": false,
     "input": [],
     "language": "python",
     "metadata": {},
     "outputs": []
    },
    {
     "cell_type": "markdown",
     "metadata": {},
     "source": [
      "* Note that a code cell has \n",
      "    * an **input** section containing your code, \n",
      "    * an **output** section after executing the cell."
     ]
    },
    {
     "cell_type": "heading",
     "level": 3,
     "metadata": {},
     "source": [
      "Markdown cells"
     ]
    },
    {
     "cell_type": "markdown",
     "metadata": {},
     "source": [
      "* In a **Markdown cell**, you can enter text to document your workflow.\n",
      "\n",
      "\n",
      "* For example, this cell is a Markdown cell.\n",
      "\n",
      "\n",
      "* The **Markdown** language is a popular way to provide formatting (e.g. bold, italics, lists) to plain text. Use Google to find documentation and tutorials. [Here's a pretty good cheat sheet.](https://github.com/adam-p/markdown-here/wiki/Markdown-Cheatsheet)\n",
      "\n",
      "\n",
      "* For now, here are a few basic, useful Markdown constructs:\n",
      "\n",
      "```\n",
      "You can format text as italic with *asterisks* or _underscores_.\n",
      "\n",
      "You can format text as bold with **double asterisks** or __double underscores__.\n",
      "\n",
      "To write an unordered list, use *, -, or + as bullets, like this:\n",
      "\n",
      "* One\n",
      "* Two\n",
      "* Three\n",
      "```\n",
      "\n",
      "* Try it in the cell below:"
     ]
    },
    {
     "cell_type": "markdown",
     "metadata": {},
     "source": []
    },
    {
     "cell_type": "heading",
     "level": 2,
     "metadata": {},
     "source": [
      "Manipulating and running cells"
     ]
    },
    {
     "cell_type": "markdown",
     "metadata": {},
     "source": [
      "* You can insert a new cell by selecting **Insert &#8594; Insert Cell Above/Below** in the menu bar.\n",
      "\n",
      "\n",
      "* You can move cells by selecting **Edit &#8594; Move Cell Up/Down** in the menu bar.\n",
      "\n",
      "\n",
      "* You can also split and merge cells using the **Edit** menu.\n",
      "\n",
      "\n",
      "* You can run all the cells in a notebook by selecting **Cell &#8594; Run All**.\n"
     ]
    },
    {
     "cell_type": "heading",
     "level": 2,
     "metadata": {},
     "source": [
      "Moving on..."
     ]
    },
    {
     "cell_type": "markdown",
     "metadata": {},
     "source": [
      "* We'll touch upon other features of IPython Notebook throughout the semester as needed.\n",
      "\n",
      "\n",
      "* There are keyboard shortcuts, but they're a little tricky to use. Take a look at **Help &#8594; Keyboard Shortcuts**.\n",
      "\n",
      "\n",
      "* The official documentation is [here](http://ipython.org/ipython-doc/stable/notebook/index.html).\n",
      "\n",
      "\n",
      "* There is also a nice series of tutorials [here](http://nbviewer.ipython.org/github/ipython/ipython/blob/2.x/examples/Notebook/Index.ipynb)."
     ]
    },
    {
     "cell_type": "heading",
     "level": 2,
     "metadata": {},
     "source": [
      "What is Python &mdash; and why?"
     ]
    },
    {
     "cell_type": "markdown",
     "metadata": {},
     "source": [
      "* **Python** is a popular, _free_, open-source, general-purpose programming language.\n",
      "\n",
      "\n",
      "* Python is \"beautiful\": its syntax was designed with an emphasis on readability.\n",
      "\n",
      "\n",
      "* Python has _awesome_ scientific computing tools: [NumPy](http://numpy.scipy.org), [SciPy](http://www.scipy.org/scipylib/index.html), [Matplotlib](http://matplotlib.org).\n",
      "\n",
      "\n",
      "* We will be using a Python-based simulation language called [SimPy 2.3](http://simpy.sourceforge.net/old/) to build and study simulation models.\n",
      "\n",
      "\n",
      "* Why not just use MATLAB? A few reasons...\n",
      "    - \"It's good for you\": having exposure to multiple programming languages will be very useful to you as an operations/quantitative analyst.\n",
      "    - MATLAB is proprietary, which means you have to simply trust that the algorithms have been implemented properly.\n",
      "    - MATLAB is a commercial product and expensive.\n",
      "    \n",
      "    \n",
      "* Why not use graphical simulation software like Arena or ProModel?\n",
      "    - Focusing on the language lets us understand what's going under the hood in those graphical software packages."
     ]
    },
    {
     "cell_type": "heading",
     "level": 2,
     "metadata": {},
     "source": [
      "A survival course in Python"
     ]
    },
    {
     "cell_type": "markdown",
     "metadata": {},
     "source": [
      "* Today, we will learn a few basic Python constructs that will be useful in this course.\n",
      "    - We will cover other concepts throughout the semester as needed.\n",
      "    - We're going to assume a basic familiarity with computer programming concepts (e.g. functions, loops, conditionals).\n",
      "    \n",
      "    \n",
      "* We'll discuss other Python constructs throughout the semester as needed."
     ]
    },
    {
     "cell_type": "heading",
     "level": 2,
     "metadata": {},
     "source": [
      "Some preliminary steps"
     ]
    },
    {
     "cell_type": "markdown",
     "metadata": {},
     "source": [
      "* Python has a lot of libraries, some of which aren't available by default.\n",
      "\n",
      "\n",
      "* To access functions in these libraries, we need to use `import`.\n",
      "\n",
      "\n",
      "* These preliminary statements will often be at the top of our notebooks."
     ]
    },
    {
     "cell_type": "code",
     "collapsed": false,
     "input": [
      "# This is how a comment looks like in Python.\n",
      "# We're going to import the division module from the future library\n",
      "#   so we don't have to worry about integer vs. floating-point division\n",
      "from __future__ import division"
     ],
     "language": "python",
     "metadata": {},
     "outputs": []
    },
    {
     "cell_type": "heading",
     "level": 2,
     "metadata": {},
     "source": [
      "Fancy calculator"
     ]
    },
    {
     "cell_type": "markdown",
     "metadata": {},
     "source": [
      "* You can define a variable using the **`=`** sign.\n",
      "\n",
      "\n",
      "* You can perform arithmetic operations on variables.\n",
      "\n",
      "\n",
      "* In IPython Notebook, you can display the value of a variable by simply writing the variable's name at the end of a cell.\n",
      "\n",
      "\n",
      "* Don't forget to execute the cell when you're done!"
     ]
    },
    {
     "cell_type": "code",
     "collapsed": false,
     "input": [
      "# Define dimensions of a rectangle\n"
     ],
     "language": "python",
     "metadata": {},
     "outputs": []
    },
    {
     "cell_type": "markdown",
     "metadata": {},
     "source": [
      "* If you try to access a variable you haven't yet defined, Python will complain."
     ]
    },
    {
     "cell_type": "code",
     "collapsed": false,
     "input": [
      "volume"
     ],
     "language": "python",
     "metadata": {},
     "outputs": []
    },
    {
     "cell_type": "heading",
     "level": 2,
     "metadata": {},
     "source": [
      "Hello, world!"
     ]
    },
    {
     "cell_type": "markdown",
     "metadata": {},
     "source": [
      "* Strings are lists of printable characters defined using either double quotes or single quotes.\n",
      "\n",
      "\n",
      "* To print a string, you can use the **`print`** function."
     ]
    },
    {
     "cell_type": "code",
     "collapsed": false,
     "input": [
      "# Print \"Hello, world!\"\n"
     ],
     "language": "python",
     "metadata": {},
     "outputs": []
    },
    {
     "cell_type": "markdown",
     "metadata": {},
     "source": [
      "* You can also use the `print` function to print the value of a variable with the `.format()` method."
     ]
    },
    {
     "cell_type": "code",
     "collapsed": false,
     "input": [
      "# Define a variable for your neighbor's name\n",
      "\n",
      "\n",
      "# Print the value of the 'name' variable\n"
     ],
     "language": "python",
     "metadata": {},
     "outputs": []
    },
    {
     "cell_type": "markdown",
     "metadata": {},
     "source": [
      "* The brackets and characters in them (e.g. `{0}`) are placeholders that are replaced with the objects passed into the `.format()` method.\n",
      "\n",
      "\n",
      "* `{0}` is replaced with the first object passed into `.format()`, `{1}` is replaced with the second,  `{2}` is replaced with the third, and so on."
     ]
    },
    {
     "cell_type": "markdown",
     "metadata": {},
     "source": [
      "**Example.** Define three variables, `left`, `right`, `me`, containing the names of yourself and your neighbors. Use the `print` statement to print the values of these variables in one line."
     ]
    },
    {
     "cell_type": "code",
     "collapsed": false,
     "input": [
      "# Define variables\n",
      "\n",
      "# Print values of variables\n"
     ],
     "language": "python",
     "metadata": {},
     "outputs": []
    },
    {
     "cell_type": "heading",
     "level": 2,
     "metadata": {},
     "source": [
      "Lists of stuff"
     ]
    },
    {
     "cell_type": "markdown",
     "metadata": {},
     "source": [
      "* A **list** is used to group together **items** in Python.\n",
      "\n",
      "\n",
      "* You can think of a list as an array or a vector.\n",
      "\n",
      "\n",
      "* A list is written as a sequence of comma-separated items between square brackets."
     ]
    },
    {
     "cell_type": "code",
     "collapsed": false,
     "input": [
      "# Define a list containing the first 5 square numbers\n",
      "squares = [1, 4, 9, 16, 25]\n",
      "\n",
      "# Define a list containing the days of the week\n",
      "daysOfTheWeek = [\"Sun\", \"Mon\", \"Tue\", \"Wed\", \"Thu\", \"Fri\", \"Sat\"]"
     ],
     "language": "python",
     "metadata": {},
     "outputs": []
    },
    {
     "cell_type": "markdown",
     "metadata": {},
     "source": [
      "* You can access items in the list by using the item's **index**.\n",
      "\n",
      "\n",
      "* Note that indexing starts at 0, not 1."
     ]
    },
    {
     "cell_type": "code",
     "collapsed": false,
     "input": [
      "# The third day of the week is...\n"
     ],
     "language": "python",
     "metadata": {},
     "outputs": []
    },
    {
     "cell_type": "markdown",
     "metadata": {},
     "source": [
      "* You can add items to the end of a list using the **`.append()`** method.\n",
      "\n",
      "\n",
      "* You can also print lists just like any other variable."
     ]
    },
    {
     "cell_type": "code",
     "collapsed": false,
     "input": [
      "# Let's add the 6th squared number\n",
      "\n",
      "# What does the list look like now?\n",
      "print(\"squares = {0}\".format(squares))"
     ],
     "language": "python",
     "metadata": {},
     "outputs": []
    },
    {
     "cell_type": "markdown",
     "metadata": {},
     "source": [
      "* We can determine the length of a list using the `len()` function."
     ]
    },
    {
     "cell_type": "code",
     "collapsed": false,
     "input": [
      "# How many days of the week are there?\n"
     ],
     "language": "python",
     "metadata": {},
     "outputs": []
    },
    {
     "cell_type": "markdown",
     "metadata": {},
     "source": [
      "* Often we will want to use a list of consecutive integers. We can accomplish this using the `range()` function.\n",
      "\n",
      "\n",
      "* `range(n)` gives a list of the first $n$ integers, **starting at 0**.\n",
      "\n",
      "\n",
      "* `range(start, stop)` gives a list that starts at `start` and ends at `stop - 1`."
     ]
    },
    {
     "cell_type": "code",
     "collapsed": false,
     "input": [
      "# First 10 integers, starting at 0\n"
     ],
     "language": "python",
     "metadata": {},
     "outputs": []
    },
    {
     "cell_type": "code",
     "collapsed": false,
     "input": [
      "# Integers between 3 and 8 inclusive\n"
     ],
     "language": "python",
     "metadata": {},
     "outputs": []
    },
    {
     "cell_type": "markdown",
     "metadata": {},
     "source": [
      "* We can also obtain the sum, the minimum value, or the maximum value of a list of numbers pretty easily."
     ]
    },
    {
     "cell_type": "code",
     "collapsed": false,
     "input": [
      "# Define a list of seemingly random numbers\n",
      "numbers = [144, 900, 3, 78, 29, 45, 32]\n",
      "\n",
      "# What is the sum of these numbers?\n",
      "print(\"The sum is {0}.\".format( ))\n",
      "\n",
      "# What is the number with the smallest value?\n",
      "print(\"The smallest number is {0}.\".format( ))\n",
      "\n",
      "# What is the number with the largest value?\n",
      "print(\"The largest number is {0}.\".format( ))"
     ],
     "language": "python",
     "metadata": {},
     "outputs": []
    },
    {
     "cell_type": "heading",
     "level": 2,
     "metadata": {},
     "source": [
      "Loops and nesting"
     ]
    },
    {
     "cell_type": "markdown",
     "metadata": {},
     "source": [
      "* We can iterate through lists using the **`for`** statement."
     ]
    },
    {
     "cell_type": "code",
     "collapsed": false,
     "input": [
      "# List all the days of the week\n"
     ],
     "language": "python",
     "metadata": {},
     "outputs": []
    },
    {
     "cell_type": "markdown",
     "metadata": {},
     "source": [
      "* Python defines blocks of code using a colon (\":\") followed by **indentation**.\n",
      "\n",
      "\n",
      "* The above code is NOT the same as\n",
      "```python\n",
      "for day in daysOfTheWeek:\n",
      "print(\"{0}\".format(day))\n",
      "```\n",
      "\n",
      "\n",
      "* Always use the **Tab** key to indent - this will keep your indentation consistent."
     ]
    },
    {
     "cell_type": "markdown",
     "metadata": {},
     "source": [
      "**Example.** Write code to print out the first 10 cubic numbers. Your output should look something like this:\n",
      "\n",
      "```\n",
      "    The cube of 0 is 0.\n",
      "    The cube of 1 is 1.\n",
      "    The cube of 2 is 8.\n",
      "    The cube of 3 is 27.\n",
      "```\n",
      "\n",
      "and so on."
     ]
    },
    {
     "cell_type": "code",
     "collapsed": false,
     "input": [],
     "language": "python",
     "metadata": {},
     "outputs": []
    },
    {
     "cell_type": "heading",
     "level": 2,
     "metadata": {},
     "source": [
      "List comprehensions"
     ]
    },
    {
     "cell_type": "markdown",
     "metadata": {},
     "source": [
      "* **List comprehensions** provide a concise way to create lists.\n",
      "\n",
      "\n",
      "* They're like a for loop \"in place\"."
     ]
    },
    {
     "cell_type": "markdown",
     "metadata": {},
     "source": [
      "* Using code similar to the example, we could create a list of the first 10 cubic numbers as follows."
     ]
    },
    {
     "cell_type": "code",
     "collapsed": false,
     "input": [
      "# Create a list of the first 10 cubic numbers.\n",
      "    \n",
      "# Print this list\n",
      "print(\"List of first 10 cubics = {0}\".format(cubics))"
     ],
     "language": "python",
     "metadata": {},
     "outputs": []
    },
    {
     "cell_type": "markdown",
     "metadata": {},
     "source": [
      "* Alternatively, we can create the list **in just one line** as follows."
     ]
    },
    {
     "cell_type": "code",
     "collapsed": false,
     "input": [
      "# Create another list of the first 10 cubic numbers\n",
      "\n",
      "# Print this list\n",
      "print(\"Another list of first 10 cubics = {0}\".format(anotherCubics))"
     ],
     "language": "python",
     "metadata": {},
     "outputs": []
    },
    {
     "cell_type": "markdown",
     "metadata": {},
     "source": [
      "**Example.** Use a list comprehension to create a list of the first 20 multiples of 13.\n",
      "Print the list."
     ]
    },
    {
     "cell_type": "code",
     "collapsed": false,
     "input": [],
     "language": "python",
     "metadata": {},
     "outputs": []
    },
    {
     "cell_type": "heading",
     "level": 2,
     "metadata": {},
     "source": [
      "If this, then that"
     ]
    },
    {
     "cell_type": "markdown",
     "metadata": {},
     "source": [
      "* The **`==`** operator performs **equality testing**: that is, if the two items on either side of `==` are equal, then it returns `True`, otherwise it returns `False`."
     ]
    },
    {
     "cell_type": "code",
     "collapsed": false,
     "input": [
      "# Let's define today to be Tuesday\n"
     ],
     "language": "python",
     "metadata": {},
     "outputs": []
    },
    {
     "cell_type": "code",
     "collapsed": false,
     "input": [
      "# Is today Tuesday?\n"
     ],
     "language": "python",
     "metadata": {},
     "outputs": []
    },
    {
     "cell_type": "code",
     "collapsed": false,
     "input": [
      "# Is today Friday?\n"
     ],
     "language": "python",
     "metadata": {},
     "outputs": []
    },
    {
     "cell_type": "markdown",
     "metadata": {},
     "source": [
      "* Conditional statements are written using the same block/indentation structure as `for` statements, using the keywords **`if`**, **`elif`**, and **`else`**."
     ]
    },
    {
     "cell_type": "code",
     "collapsed": false,
     "input": [
      "# What should I do?\n"
     ],
     "language": "python",
     "metadata": {},
     "outputs": []
    },
    {
     "cell_type": "markdown",
     "metadata": {},
     "source": [
      "* Other types of comparisons:\n",
      "\n",
      "| Comparison | Meaning |\n",
      "|------------|---------|\n",
      "| `==`         | equal  |\n",
      "| `!=`         | not equal |\n",
      "| `<`          | less than  |\n",
      "| `>`          | greater than |\n",
      "| `<=`         | less than or equal |\n",
      "| `>=`         | greater than or equal |"
     ]
    },
    {
     "cell_type": "markdown",
     "metadata": {},
     "source": [
      "**Example.** Using `if`-`elif`-`else` staetements, write code to only print the first 10 cubic numbers (0, 1, 8, 27, ...) that are greater than 100. Your output should look something like this:\n",
      "\n",
      "```\n",
      "    The cube of 5 is 125.\n",
      "    The cube of 6 is 216.\n",
      "```\n",
      "\n",
      "and so on."
     ]
    },
    {
     "cell_type": "code",
     "collapsed": false,
     "input": [],
     "language": "python",
     "metadata": {},
     "outputs": []
    },
    {
     "cell_type": "heading",
     "level": 2,
     "metadata": {},
     "source": [
      "Functions"
     ]
    },
    {
     "cell_type": "markdown",
     "metadata": {},
     "source": [
      "* We can define a function in Python using the **`def`** keyword.\n",
      "\n",
      "\n",
      "* To define what the function outputs, we use the **`return`** keyword.\n",
      "\n",
      "\n",
      "* Let's define a function that\n",
      "    - takes a day of the week as input and\n",
      "    - outputs a string that tells us what to do."
     ]
    },
    {
     "cell_type": "code",
     "collapsed": false,
     "input": [],
     "language": "python",
     "metadata": {},
     "outputs": []
    },
    {
     "cell_type": "markdown",
     "metadata": {},
     "source": [
      "Now, let's test this function."
     ]
    },
    {
     "cell_type": "code",
     "collapsed": false,
     "input": [
      "today = \"Tuesday\"\n",
      "task = whatShouldIDo(today)\n",
      "print(\"Today is {0}, so I should {1}.\".format(today, task))"
     ],
     "language": "python",
     "metadata": {},
     "outputs": []
    },
    {
     "cell_type": "code",
     "collapsed": false,
     "input": [
      "today = \"Sunday\"\n",
      "task = whatShouldIDo(today)\n",
      "print(\"Today is {0}, so I should {1}.\".format(today, task))"
     ],
     "language": "python",
     "metadata": {},
     "outputs": []
    },
    {
     "cell_type": "code",
     "collapsed": false,
     "input": [
      "today = \"Saturday\"\n",
      "task = whatShouldIDo(today)\n",
      "print(\"Today is {0}, so I should {1}.\".format(today, task))"
     ],
     "language": "python",
     "metadata": {},
     "outputs": []
    }
   ],
   "metadata": {}
  }
 ]
}