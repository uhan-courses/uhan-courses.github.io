{
 "metadata": {
  "name": "",
  "signature": "sha256:9375819a2bce0ac706531a9e4f2089b1aae100229890a2b37b00b79d9a5b5891"
 },
 "nbformat": 3,
 "nbformat_minor": 0,
 "worksheets": [
  {
   "cells": [
    {
     "cell_type": "heading",
     "level": 1,
     "metadata": {},
     "source": [
      "Lesson 7. Comparing alternate systems"
     ]
    },
    {
     "cell_type": "heading",
     "level": 3,
     "metadata": {},
     "source": [
      "SA421 Fall 2014"
     ]
    },
    {
     "cell_type": "heading",
     "level": 2,
     "metadata": {},
     "source": [
      "The problem: simulating a change to a system"
     ]
    },
    {
     "cell_type": "markdown",
     "metadata": {},
     "source": [
      "* You have been asked by Transport for London to study the feasibility of replacing the manned ticket offices with automated ticket machines in its underground stations. ([Actually, it already has decided to do so.](http://londonist.com/2013/11/ticketoffices.php))\n",
      "\n",
      "\n",
      "* You have decided to focus on the evening rush hour period, from 16:00 to 20:00, at a very small station with 1 employee at the ticket office, which will be replaced with 1 machine.\n",
      "\n",
      "\n",
      "* Using historical data that has been provided to you, you have determined that the time between customers arrivals at the ticket office/machine is exponentially distributed with a mean of 3.2 minutes. \n",
      "\n",
      "\n",
      "* In addition, you have determined using this data that the service time (in minutes) at the manned ticket office can be modeled with a Gamma random variable with shape parameter 2 and scale parameter 1.3. \n",
      "\n",
      "\n",
      "* Through its own studies, Transport for London has determined that the service time (in minutes) at the automated ticket machine can be modeled with a Gamma random variable with shape parameter 1 and scale parameter 2.6.\n",
      "\n",
      "What is the effect of this transition to automated ticketed machines on the average delay that a customer experiences?"
     ]
    },
    {
     "cell_type": "markdown",
     "metadata": {},
     "source": [
      "* First, as usual, some setup code.\n",
      "\n",
      "\n",
      "* What's new/different:\n",
      "    - `gamma` from `numpy.random`\n",
      "    - `levene` and `ttest_ind` from `scipy.stats`"
     ]
    },
    {
     "cell_type": "code",
     "collapsed": false,
     "input": [
      "##### Setup #####\n",
      "# Friendly floating-point division\n",
      "from __future__ import division\n",
      "\n",
      "# Import all simulation functions from SimPy\n",
      "from SimPy.Simulation import *\n",
      "\n",
      "# Import mean, std, sqrt functions from numpy\n",
      "from numpy import mean, std, sqrt\n",
      "\n",
      "# Import seed initializer and random sampling functions from NumPy\n",
      "from numpy.random import seed, exponential, gamma\n",
      "\n",
      "# Import t random variable from scipy.stats\n",
      "from scipy.stats import t, levene, ttest_ind\n",
      "\n",
      "# Import step plotting and histogram functions from Matplotlib\n",
      "from matplotlib.pyplot import step, hist\n",
      "\n",
      "# Run Matplotlib magic to show plots directly in the notebook\n",
      "%matplotlib inline\n",
      "\n",
      "# Make Matplotlib plots display as SVG files, which are cleaner\n",
      "from IPython.display import set_matplotlib_formats\n",
      "set_matplotlib_formats('svg')"
     ],
     "language": "python",
     "metadata": {},
     "outputs": []
    },
    {
     "cell_type": "markdown",
     "metadata": {},
     "source": [
      "* Below is a SimPy simulation model, very similar to the one for the Fantastic Dan problem, with a monitor set up for customer delay.\n",
      "\n",
      "\n",
      "* Note that the service time parameters have been initialized to `None`. We will fill them in later, before running the model."
     ]
    },
    {
     "cell_type": "code",
     "collapsed": false,
     "input": [
      "##### Parameters #####\n",
      "class P:\n",
      "    # Customers arrive at the ticket office/machine with \n",
      "    # exponentially distributed interarrival times with mean 3.2\n",
      "    interarrivalTimeMean = 3.2\n",
      "    \n",
      "    # Service times follow gamma distribution with some shape/scale parameters\n",
      "    serviceTimeShape = None\n",
      "    serviceTimeScale = None\n",
      "    \n",
      "    # One server: we assume there is 1 employee or 1 machine\n",
      "    nServers = 1\n",
      "    \n",
      "    # Simulation time: 4 hours\n",
      "    simulationTimeMax =  4 * 60\n",
      "    \n",
      "\n",
      "##### Processes #####\n",
      "# Customer\n",
      "class Customer(Process):\n",
      "    def behavior(self):\n",
      "        # Customer arrives, joins queue\n",
      "        # Record customer arrival time\n",
      "        arrivalTime = now()\n",
      "        yield request, self, R.server\n",
      "        \n",
      "        # Customer is released from queue and starts service\n",
      "        # Observe customer delay using monitor\n",
      "        M.delay.observe(now() - arrivalTime)\n",
      "        serviceTime = gamma(shape = P.serviceTimeShape, scale = P.serviceTimeScale)\n",
      "        yield hold, self, serviceTime\n",
      "        \n",
      "        # Customer finishes service, leaves\n",
      "        yield release, self, R.server\n",
      "\n",
      "# Entrance\n",
      "class Entrance(Process):\n",
      "    def behavior(self):\n",
      "        # At the start of the simulation, no customers have arrived\n",
      "        nCustomers = 0\n",
      "        \n",
      "        # Customer arrivals\n",
      "        while True:\n",
      "            # Wait until the next arrival\n",
      "            interarrivalTime = exponential(scale = P.interarrivalTimeMean)\n",
      "            yield hold, self, interarrivalTime\n",
      "            \n",
      "            # Create a new customer using the template defined in the Customer class\n",
      "            c = Customer(name=\"Customer {0}\".format(nCustomers))\n",
      "            \n",
      "            # Activate the customer's behavior\n",
      "            activate(c, c.behavior())\n",
      "\n",
      "            # Count this new customer\n",
      "            nCustomers += 1\n",
      "\n",
      "            \n",
      "##### Resources #####\n",
      "class R:\n",
      "    # Server\n",
      "    server = None\n",
      "    \n",
      "    \n",
      "##### Monitors #####\n",
      "class M:\n",
      "    # Delay\n",
      "    delay = None\n",
      "\n",
      "\n",
      "##### Simulation #####\n",
      "def model(inputSeed):\n",
      "    # Initialize SimPy \n",
      "    initialize()\n",
      "\n",
      "    # Initialize a seed for the random number generator\n",
      "    seed(inputSeed)\n",
      "\n",
      "    # Create the server resource\n",
      "    R.server = Resource(capacity = P.nServers)\n",
      "    \n",
      "    # Create the monitor for customer delay\n",
      "    M.delay = Monitor()\n",
      "\n",
      "    # Activate the entrance (to generate customers)\n",
      "    e = Entrance()\n",
      "    activate(e, e.behavior())\n",
      "    \n",
      "    # Run the simulation\n",
      "    simulate(until = P.simulationTimeMax)\n",
      "\n",
      "    # Compute performance measure: average delay\n",
      "    avgDelay = M.delay.mean()\n",
      "    \n",
      "    # Return performance measure\n",
      "    return avgDelay"
     ],
     "language": "python",
     "metadata": {
      "code_folding": []
     },
     "outputs": []
    },
    {
     "cell_type": "markdown",
     "metadata": {},
     "source": [
      "* Let's run the simulation model 100 times for two alternate systems.\n",
      "\n",
      "\n",
      "* First, the current system with the manned ticket office (System 1):"
     ]
    },
    {
     "cell_type": "code",
     "collapsed": false,
     "input": [
      "##### Experiment - System 1 #####\n",
      "# Set parameters for System 1\n",
      "\n",
      "\n",
      "# Replicate simulation 100 times, collecting average delay from each replication\n"
     ],
     "language": "python",
     "metadata": {},
     "outputs": []
    },
    {
     "cell_type": "markdown",
     "metadata": {},
     "source": [
      "* Next, the proposed system with the automated ticket machine (System 2):"
     ]
    },
    {
     "cell_type": "code",
     "collapsed": false,
     "input": [
      "##### Experiment - System 2 #####\n",
      "# Set parameters for System 2\n",
      "\n",
      "\n",
      "\n",
      "# Replicate simulation 100 times, collecting average delay from each replication\n",
      " "
     ],
     "language": "python",
     "metadata": {},
     "outputs": []
    },
    {
     "cell_type": "markdown",
     "metadata": {},
     "source": [
      "* For both systems, let's compute the observed sample mean of average delay, the observed standard deviation and confidence intervals for the mean."
     ]
    },
    {
     "cell_type": "code",
     "collapsed": false,
     "input": [
      "##### System 1 #####\n",
      "# Observed sample mean\n",
      "avgDelay1SM = \n",
      "\n",
      "# Observed sample standard deviation\n",
      "avgDelay1SSD = \n",
      "\n",
      "# Confidence level 0.05\n",
      "alpha = 0.05\n",
      "avgDelay1CIL = \n",
      "avgDelay1CIR = \n",
      "\n",
      "print(\"SYSTEM 1\")\n",
      "print(\"Average delay:\")\n",
      "print(\"  Sample mean: {0}\".format(avgDelay1SM))\n",
      "print(\"  Sample standard deviation: {0}\".format(avgDelay1SSD))\n",
      "print(\"  {0}% confidence interval: [{1}, {2}]\".format((1 - alpha)*100, avgDelay1CIL, avgDelay1CIR))"
     ],
     "language": "python",
     "metadata": {},
     "outputs": []
    },
    {
     "cell_type": "code",
     "collapsed": false,
     "input": [
      "##### System 2 #####\n",
      "# Observed sample mean\n",
      "avgDelay2SM = \n",
      "\n",
      "# Observed sample standard deviation\n",
      "avgDelay2SSD = \n",
      "\n",
      "# Confidence level 0.05\n",
      "alpha = 0.05\n",
      "avgDelay2CIL = \n",
      "avgDelay2CIR = \n",
      "\n",
      "print(\"SYSTEM 2\")\n",
      "print(\"Average delay:\")\n",
      "print(\"  Sample mean: {0}\".format(avgDelay2SM))\n",
      "print(\"  Sample standard deviation: {0}\".format(avgDelay2SSD))\n",
      "print(\"  {0}% confidence interval: [{1}, {2}]\".format((1 - alpha)*100, avgDelay2CIL, avgDelay2CIR))"
     ],
     "language": "python",
     "metadata": {},
     "outputs": []
    },
    {
     "cell_type": "markdown",
     "metadata": {},
     "source": [
      "* The observed sample means of the average delay for the two systems are different, but not by much.\n",
      "\n",
      "\n",
      "* How do we know this difference is not just an artifact of simulation?\n",
      "\n",
      "\n",
      "* Can we **statistically** prove that these average delay estimates are the same or different?"
     ]
    },
    {
     "cell_type": "heading",
     "level": 2,
     "metadata": {},
     "source": [
      "Testing for equal means"
     ]
    },
    {
     "cell_type": "markdown",
     "metadata": {},
     "source": [
      "* We can use a **$t$-test for equal means** to test if the mean average delay in the 2 systems are in fact statistically different. \n",
      "\n",
      "\n",
      "* How we perform the $t$-test differs, depending on whether the variance of the average delay in the 2 systems are different. \n",
      "\n",
      "\n",
      "* Looking at the sample standard deviations, it's not immediately clear if the variance of the average delay is different across these 2 systems.\n",
      "\n",
      "\n",
      "* So, before we perform the $t$-test for equal means, we can perform the **Levene test for equal variances** to test whether the variances are equal."
     ]
    },
    {
     "cell_type": "heading",
     "level": 3,
     "metadata": {},
     "source": [
      "Levene test for equal variances"
     ]
    },
    {
     "cell_type": "markdown",
     "metadata": {},
     "source": [
      "* Let $X_1,\\dots,X_m$ be identically distributed random variables with unknown mean $\\mu_X$ and variance $\\sigma^2_X$.\n",
      "\n",
      "\n",
      "* Let $Y_1,\\dots,Y_n$ be identically distributed random variables with unknown mean $\\mu_Y$ and variance $\\sigma^2_Y$.\n",
      "\n",
      "\n",
      "* Null hypothesis $H_0$: $\\sigma^2_X = \\sigma^2_Y$.\n",
      "\n",
      "\n",
      "* $p$-value: \n",
      "$$\\Pr\\{ \\text{Test statistic} \\ge \\text{Observed test statistic} \\;|\\; H_0 \\text{ is true}\\}$$\n",
      "\n",
      "\n",
      "\n",
      "* Let's set a significance level of $\\alpha = 0.05$.\n",
      "\n",
      "\n",
      "* If $p$-value is low (i.e., less than $\\alpha$), then we reject the null hypothesis.\n",
      "\n",
      "\n",
      "* Otherwise, we do not reject the null hypothesis.\n",
      "\n",
      "\n",
      "* To perform the Levene test, we can use `levene` from `scipy.stats`:"
     ]
    },
    {
     "cell_type": "code",
     "collapsed": false,
     "input": [
      "# Perform Levene test\n",
      "\n",
      "\n",
      "# Print p-value of Levene test\n"
     ],
     "language": "python",
     "metadata": {},
     "outputs": []
    },
    {
     "cell_type": "markdown",
     "metadata": {},
     "source": [
      "* Since the $p$-value higher than our significance level, we ** do not reject** the null hypothesis, and presume that the variance of the average delay in the 2 systems are equal.\n",
      "\n",
      "\n",
      "* Next, we perform the $t$-test for equal means, assuming equal variances."
     ]
    },
    {
     "cell_type": "heading",
     "level": 3,
     "metadata": {},
     "source": [
      "$t$-test for equal means"
     ]
    },
    {
     "cell_type": "markdown",
     "metadata": {},
     "source": [
      "* Again, let $X_1,\\dots,X_m$ be identically distributed random variables with unknown mean $\\mu_X$ and variance $\\sigma^2_X$.\n",
      "\n",
      "\n",
      "* Also, let $Y_1,\\dots,Y_n$ be identically distributed random variables with unknown mean $\\mu_Y$ and variance $\\sigma^2_Y$.\n",
      "\n",
      "\n",
      "* Null hypothesis $H_0$: $\\mu_X = \\mu_Y$.\n",
      "\n",
      "\n",
      "* To perform the $t$-test, we can use `ttest_ind` from `scipy.stats`:"
     ]
    },
    {
     "cell_type": "code",
     "collapsed": false,
     "input": [
      "# Perform t-test, assuming equal variances\n",
      "\n",
      "\n",
      "# Print p-value of t-test\n"
     ],
     "language": "python",
     "metadata": {},
     "outputs": []
    },
    {
     "cell_type": "markdown",
     "metadata": {},
     "source": [
      "* Again, since the $p$-value is higher than our significance level, we **do not reject** the null hypothesis. \n",
      "\n",
      "\n",
      "* **Therefore, we can conclude that the average delay in the 2 systems are actually not different.**\n",
      "\n",
      "\n",
      "* If the variances had not been equal, we would need to set `equal_var` to `False` when calling `ttest_ind`."
     ]
    },
    {
     "cell_type": "heading",
     "level": 2,
     "metadata": {},
     "source": [
      "Discussion"
     ]
    },
    {
     "cell_type": "markdown",
     "metadata": {},
     "source": [
      "* Do you think our approach and the resulting conclusion is valid? Why or why not? What changes would you make, if any? "
     ]
    },
    {
     "cell_type": "markdown",
     "metadata": {},
     "source": [
      "*Space for notes. Double-click to edit.*"
     ]
    }
   ],
   "metadata": {}
  }
 ]
}