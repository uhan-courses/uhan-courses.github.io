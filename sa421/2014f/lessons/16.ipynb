{
 "metadata": {
  "name": "",
  "signature": "sha256:560b0f21316934fb3d6225a5ec770758c9df91d957d5bc3232a3b00838ba0ca6"
 },
 "nbformat": 3,
 "nbformat_minor": 0,
 "worksheets": [
  {
   "cells": [
    {
     "cell_type": "heading",
     "level": 1,
     "metadata": {},
     "source": [
      "Lesson 16. SimPy &mdash; levels"
     ]
    },
    {
     "cell_type": "heading",
     "level": 3,
     "metadata": {},
     "source": [
      "SA421 Fall 2014"
     ]
    },
    {
     "cell_type": "code",
     "collapsed": false,
     "input": [
      "##### Setup #####\n",
      "# Friendly floating-point division\n",
      "from __future__ import division\n",
      "\n",
      "# Import infinity from NumPy\n",
      "from numpy import inf\n",
      "\n",
      "# Import seed initializer and random sampling functions from NumPy\n",
      "from numpy.random import seed, rand\n",
      "\n",
      "# Import bisect_right from bisect\n",
      "from bisect import bisect_left\n",
      "\n",
      "# Import all simulation functions from SimPy\n",
      "from SimPy.Simulation import *"
     ],
     "language": "python",
     "metadata": {},
     "outputs": []
    },
    {
     "cell_type": "heading",
     "level": 2,
     "metadata": {},
     "source": [
      "Today's problem"
     ]
    },
    {
     "cell_type": "markdown",
     "metadata": {},
     "source": [
      "The Simplex Bakery is trying to determine how many dozens of [cronuts](http://en.wikipedia.org/wiki/Cronut) to bake each day. \n",
      "The probability distribution of the number of cronut customers is as follows:\n",
      "\n",
      "| Number of customers per day | 5    | 10   | 15   | 20   |\n",
      "| --------------------------- | ---- | ---- | ---- | ---- |\n",
      "| Probability                 | 0.15 | 0.40 | 0.35 | 0.10 |\n",
      "\n",
      "Customers order 1, 2, 3 or 4 dozen cronuts according to the following probability distribution:\n",
      "\n",
      "| Number of dozen ordered per customer | 1   | 2   | 3   | 4   |\n",
      "| ------------------------------------ | --- | --- | --- | --- |\n",
      "| Probability                          | 0.3 | 0.4 | 0.2 | 0.1 |\n",
      "\n",
      "Cronuts sell for \\$3.50 per dozen. \n",
      "They cost \\$2.00 per dozen to make. \n",
      "All cronuts not sold at the end of the day are sold at half price to a local stale baked good distributor.\n",
      "\n",
      "Due to mixing size constraints, cronuts must be made in batches of 10 dozen.\n",
      "Currently, the bakery bakes 20 dozen.\n",
      "\n",
      "* Based on a 1-day simulation, what is the bakery's profit? How many customers are left unsatisfied (didn't get the number of cronuts wanted)?\n",
      "\n",
      "\n",
      "* Based on a 1-day simulation, how many dozen should the bakery bake to maximize its profit?"
     ]
    },
    {
     "cell_type": "heading",
     "level": 2,
     "metadata": {},
     "source": [
      "Warm up"
     ]
    },
    {
     "cell_type": "markdown",
     "metadata": {},
     "source": [
      "* Write a function called `customersPerDayDist` that samples from the probability distribution on the number of customers that the Simplex Bakery has per day, described above."
     ]
    },
    {
     "cell_type": "code",
     "collapsed": false,
     "input": [
      "# Distributions: number of customers per day\n",
      "def customersPerDayDist():\n"
     ],
     "language": "python",
     "metadata": {},
     "outputs": []
    },
    {
     "cell_type": "markdown",
     "metadata": {},
     "source": [
      "* Write a function called `cronutsPerCustomerDist` that samples from the probability distribution on the number of cronuts each customer orders, described above."
     ]
    },
    {
     "cell_type": "code",
     "collapsed": false,
     "input": [
      "# Distributions: number of cronuts per customer\n",
      "def cronutsPerCustomerDist():\n"
     ],
     "language": "python",
     "metadata": {},
     "outputs": []
    },
    {
     "cell_type": "heading",
     "level": 2,
     "metadata": {},
     "source": [
      "Levels"
     ]
    },
    {
     "cell_type": "markdown",
     "metadata": {},
     "source": [
      "* We need a way to model the number of cronuts available at any given time.\n",
      "\n",
      "\n",
      "* A **level** in SimPy represents inventory of a homogeneous, undifferentiated \"material\".\n",
      "\n",
      "\n",
      "* As with resources, we will set up a class for levels for consistent naming purposes. \n",
      "\n",
      "\n",
      "* Also as with resources, we will not actually create the SimPy level object until we define the `model()` function that runs the simulation."
     ]
    },
    {
     "cell_type": "code",
     "collapsed": false,
     "input": [
      "##### Levels #####\n"
     ],
     "language": "python",
     "metadata": {},
     "outputs": []
    },
    {
     "cell_type": "heading",
     "level": 2,
     "metadata": {},
     "source": [
      "The rest of the SimPy model"
     ]
    },
    {
     "cell_type": "markdown",
     "metadata": {},
     "source": [
      "* First, let's define input parameters for our simulation."
     ]
    },
    {
     "cell_type": "code",
     "collapsed": false,
     "input": [
      "##### Parameters #####\n",
      "class P:\n",
      "    # Revenue per dozen cronuts\n",
      "    \n",
      "    \n",
      "    # Cost per dozen cronuts\n",
      "\n",
      "    \n",
      "    # Number of dozen cronuts baked\n"
     ],
     "language": "python",
     "metadata": {},
     "outputs": []
    },
    {
     "cell_type": "markdown",
     "metadata": {},
     "source": [
      "* Next, like with our other SimPy simulations, we need to define processes for our simulation model.\n",
      "\n",
      "\n",
      "* Below, we define a `Customer` process that simulates the behavior of a customer.\n",
      "\n",
      "\n",
      "* To get `quantity` units of material to a level, say `L.cronuts`, we use:\n",
      "```\n",
      "yield get, self, L.cronuts, quantity\n",
      "```\n",
      "\n",
      "* To add `quantity` units of material to a level, again, say `L.cronuts`, we use:\n",
      "```\n",
      "yield put, self, L.cronuts, quantity\n",
      "```\n",
      "\n",
      "* `L.cronuts.amount` gives the current amount held in the level `L.cronuts`.\n",
      "\n",
      "\n",
      "* Let's add some print statements so we can see what is going on when the simulation runs."
     ]
    },
    {
     "cell_type": "code",
     "collapsed": false,
     "input": [
      "##### Processes #####\n",
      "# Customer\n",
      "class Customer(Process):\n",
      "    def behavior(self):\n",
      "        # Print customer arrival\n",
      "        \n",
      "        # Customer determines how many cronuts she wants\n",
      "        cronutsWanted = cronutsPerCustomerDist()\n",
      "        \n",
      "        # Print how many cronuts this customer wants\n",
      "\n",
      "        \n",
      "        # Print how many cronuts are currently available\n",
      "\n",
      "        \n",
      "        # Are there enough cronuts for this customer?\n",
      "        if cronutsWanted > L.cronuts.amount:\n",
      "            # Print how many cronuts this customer gets, and whether this customer is satisfied\n",
      "\n",
      "            # Reduce inventory of cronuts\n",
      "            yield get, self, L.cronuts, L.cronuts.amount\n",
      "        else:\n",
      "            # Print how many cronuts this customer gets, and whether this customer is satisfied\n",
      "\n",
      "            # Reduce inventory of cronuts\n",
      "            yield get, self, L.cronuts, cronutsWanted"
     ],
     "language": "python",
     "metadata": {},
     "outputs": []
    },
    {
     "cell_type": "markdown",
     "metadata": {},
     "source": [
      "* Below, we define an `Entrance` process that models the arrival of customers to the bakery."
     ]
    },
    {
     "cell_type": "code",
     "collapsed": false,
     "input": [
      "# Entrance\n",
      "class Entrance(Process):\n",
      "    def behavior(self):\n",
      "        # Determine how many customers will arrive at the bakery today\n",
      "        nCustomersTotal = customersPerDayDist()\n",
      "        \n",
      "        nCustomersArrived = 0\n",
      "        while nCustomersArrived < nCustomersTotal:\n",
      "            # Create customer using the template defined in the Customer class\n",
      "            c = Customer(name = \"Customer {0}\".format(nCustomersArrived))\n",
      "            \n",
      "            # Activate the customer's behavior\n",
      "            activate(c, c.behavior())\n",
      "            \n",
      "            # Count this new customer\n",
      "            nCustomersArrived += 1\n",
      "            \n",
      "            # Dummy yield hold statement\n",
      "            yield hold, self, 0"
     ],
     "language": "python",
     "metadata": {},
     "outputs": []
    },
    {
     "cell_type": "markdown",
     "metadata": {},
     "source": [
      "* Note that processes in SimPy need at least 1 `yield` statement of some kind; hence the dummy `yield hold` statement at the end of the definition of `Entrance`."
     ]
    },
    {
     "cell_type": "markdown",
     "metadata": {},
     "source": [
      "* Finally, let's create the `model()` function we customarily use to initialize SimPy, create any resources, levels, and monitors, and run the simulation.\n",
      "\n",
      "\n",
      "* Let's have the `model()` function take as input the seed we want to use to initialize the random number generator.\n",
      "\n",
      "\n",
      "* In addition, let's have the `model()` function output, or return, the resulting profit of the day."
     ]
    },
    {
     "cell_type": "code",
     "collapsed": false,
     "input": [
      "def model(inputSeed):\n",
      "    # Initialize SimPy\n",
      "    initialize()\n",
      "    \n",
      "    # Initialize a seed for the random number generator\n",
      "    seed(inputSeed)\n",
      "\n",
      "    # Create level for cronuts\n",
      "\n",
      "    \n",
      "    # Activate the entrance\n",
      "    e = Entrance()\n",
      "    activate(e, e.behavior())\n",
      "    \n",
      "    # Run the simulation\n",
      "    simulate()\n",
      "\n",
      "    # Compute profit\n",
      "    profit = \n",
      "    \n",
      "    # Return performance measures\n",
      "    return profit"
     ],
     "language": "python",
     "metadata": {},
     "outputs": []
    },
    {
     "cell_type": "markdown",
     "metadata": {},
     "source": [
      "* A level is created by setting the level's variable name to a call of the `Level()` function.\n",
      "    - `initialBuffered` is the initial quantity of material in the level when it is created.\n",
      "    \n",
      "\n",
      "* Note that the `until` keyword is omitted when calling `simulate()`: no time limit is needed in this simulation.\n",
      "\n",
      "\n",
      "* Let's run the model and see what happens."
     ]
    },
    {
     "cell_type": "code",
     "collapsed": false,
     "input": [
      "model(inputSeed = 123)"
     ],
     "language": "python",
     "metadata": {},
     "outputs": []
    },
    {
     "cell_type": "markdown",
     "metadata": {},
     "source": [
      "* Note that you can integrate levels with resources in a SimPy model to model complex situations where queueing and inventory interact."
     ]
    },
    {
     "cell_type": "heading",
     "level": 2,
     "metadata": {},
     "source": [
      "With a neighbor..."
     ]
    },
    {
     "cell_type": "markdown",
     "metadata": {},
     "source": [
      "* Implement a monitor called `M.satisfied` that records for each customer:\n",
      "    - 1 if the customer receives his/her entire order\n",
      "    - 0 otherwise.\n",
      "    \n",
      "    \n",
      "* Use this monitor to compute the fraction of customers that are left unsatisfied."
     ]
    },
    {
     "cell_type": "code",
     "collapsed": false,
     "input": [],
     "language": "python",
     "metadata": {},
     "outputs": []
    },
    {
     "cell_type": "heading",
     "level": 2,
     "metadata": {},
     "source": [
      "Optimizing cronut production"
     ]
    },
    {
     "cell_type": "markdown",
     "metadata": {},
     "source": [
      "* Finally, let's determine the number of cronuts the Simplex Bakery needs to produce to maximize its profits.\n",
      "\n",
      "\n",
      "* First, let's modify the `Customer` process so that it does not print all the details."
     ]
    },
    {
     "cell_type": "code",
     "collapsed": false,
     "input": [
      "# Customer\n",
      "class Customer(Process):\n",
      "    def behavior(self):\n",
      "        # Customer arrives, determines how many cronuts she wants\n",
      "        cronutsWanted = cronutsPerCustomerDist()\n",
      "   \n",
      "        # Are there enough cronuts for this customer?\n",
      "        if cronutsWanted > L.cronuts.amount:\n",
      "            yield get, self, L.cronuts, L.cronuts.amount\n",
      "        else:\n",
      "            yield get, self, L.cronuts, cronutsWanted"
     ],
     "language": "python",
     "metadata": {},
     "outputs": []
    },
    {
     "cell_type": "markdown",
     "metadata": {},
     "source": [
      "* Now, let's run the model for differing numbers of cronuts baked."
     ]
    },
    {
     "cell_type": "code",
     "collapsed": false,
     "input": [],
     "language": "python",
     "metadata": {},
     "outputs": []
    },
    {
     "cell_type": "markdown",
     "metadata": {},
     "source": [
      "* So, based on 1 replication, the Simplex Bakery should bake 40 dozen cronuts."
     ]
    }
   ],
   "metadata": {}
  }
 ]
}