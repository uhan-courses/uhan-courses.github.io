{
 "metadata": {
  "name": "",
  "signature": "sha256:09bd6afd8531825dd7622a7eefefa295a31aea1a79491020f1292ab077abfa1c"
 },
 "nbformat": 3,
 "nbformat_minor": 0,
 "worksheets": [
  {
   "cells": [
    {
     "cell_type": "heading",
     "level": 1,
     "metadata": {},
     "source": [
      "Lesson 11. Random variate generation"
     ]
    },
    {
     "cell_type": "heading",
     "level": 3,
     "metadata": {},
     "source": [
      "SA421 Fall 2014"
     ]
    },
    {
     "cell_type": "heading",
     "level": 2,
     "metadata": {},
     "source": [
      "Numpy's pseudo-random number generator"
     ]
    },
    {
     "cell_type": "markdown",
     "metadata": {},
     "source": [
      "* The **`rand`** function from **`numpy.random`** is a pseudo-random number generator: it outputs random samples from a uniform distribution on $[0,1]$.\n",
      "    \n",
      "    \n",
      "* **`rand()`** (without any arguments) outputs 1 sample.\n",
      "\n",
      "\n",
      "* We could also generate pseudo-random numbers using **`uniform(low = 0, high = 1)`** from **`numpy.random`**, like we did earlier to generate random samples from uniform distributions."
     ]
    },
    {
     "cell_type": "code",
     "collapsed": false,
     "input": [
      "# Import pseudo-random number generator from numpy.random\n",
      "from numpy.random import rand"
     ],
     "language": "python",
     "metadata": {},
     "outputs": []
    },
    {
     "cell_type": "heading",
     "level": 2,
     "metadata": {},
     "source": [
      "The inverse transform method:\n",
      "the discrete case"
     ]
    },
    {
     "cell_type": "markdown",
     "metadata": {},
     "source": [
      "Let's implement the pseudocode for the inverse transform method in the discrete case.\n",
      "\n",
      "\n",
      "1. Generate pseudo-random number $u$\n",
      "2. Find $a_i$ such that $F_X(a_{i-1}) < u \\le F_X(a_i)$\n",
      "3. Set $x \\leftarrow a_i$\n",
      "4. Output $x$, random variate of $X$"
     ]
    },
    {
     "cell_type": "markdown",
     "metadata": {},
     "source": [
      "To \"Find $a_i$ such that $F_X(a_{i-1}) < u \\le F_X(a_i)$\", we can write an **`if`** statement nested in a **`for`** loop (try this on your own).\n",
      "\n",
      "A better way: we can use **`bisect_left`** from **`bisect`**. [(docs for the `bisect` module)](https://docs.python.org/2/library/bisect.html)\n",
      "\n",
      "**`bisect_left(a, x)`** returns the index of the first item greater than or equal to **`x`** in the *sorted* list **`a`**.\n",
      "\n",
      "* Careful! **`a`** must be sorted!"
     ]
    },
    {
     "cell_type": "markdown",
     "metadata": {},
     "source": [
      "**Example.** Using the inverse transform method, generate 50 random variates from a binomial random variable $X$ with 3 trials and success probability 0.5."
     ]
    },
    {
     "cell_type": "code",
     "collapsed": false,
     "input": [
      "# Import binomial rv from scipy.stats\n",
      "from scipy.stats import binom\n",
      "\n",
      "# Import bisect_right from bisect\n",
      "from bisect import bisect_left\n",
      "\n",
      "# Number of random variates desired\n",
      "\n",
      "\n",
      "# Binomial distribution parameters\n",
      "\n",
      "\n",
      "# Sorted list of values that X can take, including -inf\n",
      "\n",
      "\n",
      "# cdf at each value that X can take\n",
      "\n",
      "\n",
      "# Print cdf for inspection\n",
      "print(\"cdf = {0}\".format(cdf))\n",
      "\n",
      "# List of random variates\n",
      "\n",
      "\n",
      "\n",
      "    # Generate pseudo-random number\n",
      "    \n",
      "    \n",
      "    # Find a[i] such that F_X(a[i-1]) < u <= F_X(a[i])\n",
      "\n",
      "    \n",
      "    # Add random variate to list of variates\n",
      "    \n",
      "    \n",
      "    \n",
      "# Print list of variates\n",
      "print(\"variates = {0}\".format(variates))"
     ],
     "language": "python",
     "metadata": {},
     "outputs": []
    },
    {
     "cell_type": "heading",
     "level": 2,
     "metadata": {},
     "source": [
      "The inverse transform method: the continuous case"
     ]
    },
    {
     "cell_type": "markdown",
     "metadata": {},
     "source": [
      "Now, let's implement the pseudocode for the inverse transform method in the continuous case.\n",
      "\n",
      "1. Generate pseudo-random number $u$\n",
      "2. Set $x \\leftarrow F_X^{-1}(u)$\n",
      "3. Output $x$, random variate of $X$\n",
      "\n",
      "Random variable objects from **`scipy.stats`** have a built-in method for inverse cdfs: **`.ppf()`**.\n",
      "So, for example, to get the inverse cdf of an exponential random variable, we can use **`expon.ppf()`**.\n",
      "\n",
      "[Docs for `expon` in `scipy.stats`](http://docs.scipy.org/doc/scipy/reference/generated/scipy.stats.expon.html)"
     ]
    },
    {
     "cell_type": "markdown",
     "metadata": {},
     "source": [
      "**Example.** Using the inverse transform method, generate 50 random variates from an exponential random variable $X$ with mean $1 / \\lambda = 1.2$."
     ]
    },
    {
     "cell_type": "code",
     "collapsed": false,
     "input": [
      "# Import exponential rv from scipy.stats\n",
      "from scipy.stats import expon\n",
      "\n",
      "# Number of random variates desired\n",
      "\n",
      "\n",
      "# Exponential distribution parameters\n",
      "\n",
      "\n",
      "# List of random variates\n",
      "variates = []\n",
      "\n",
      "\n",
      "    # Generate pseudo-random number\n",
      "    \n",
      "    \n",
      "    # Compute random variate\n",
      "    \n",
      "    \n",
      "    # Add random variate to list of variates\n",
      "    \n",
      "\n",
      "\n",
      "# Print list of variates\n",
      "print(\"variates = {0}\".format(variates))"
     ],
     "language": "python",
     "metadata": {},
     "outputs": []
    },
    {
     "cell_type": "code",
     "collapsed": false,
     "input": [],
     "language": "python",
     "metadata": {},
     "outputs": []
    }
   ],
   "metadata": {}
  }
 ]
}