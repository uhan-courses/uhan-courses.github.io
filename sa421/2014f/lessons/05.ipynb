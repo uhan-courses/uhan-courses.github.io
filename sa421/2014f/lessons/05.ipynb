{
 "metadata": {
  "name": "",
  "signature": "sha256:437e929f5c9cae4e3cadaf2fc76f5d7a736d7a7e921a287ec20e38570f2189cc"
 },
 "nbformat": 3,
 "nbformat_minor": 0,
 "worksheets": [
  {
   "cells": [
    {
     "cell_type": "heading",
     "level": 1,
     "metadata": {},
     "source": [
      "Lesson 5. Practice with SimPy"
     ]
    },
    {
     "cell_type": "heading",
     "level": 3,
     "metadata": {},
     "source": [
      "SA421 Fall 2014"
     ]
    },
    {
     "cell_type": "heading",
     "level": 4,
     "metadata": {},
     "source": [
      "Problem."
     ]
    },
    {
     "cell_type": "markdown",
     "metadata": {},
     "source": [
      "The Bank of Poisson has two service counters, each with its own queue. Counter A is operated by Ann, who is very competent: service times at counter A are uniformly distributed between 1 and 3 minutes. Counter B is operated by Bob, who is new at the job: service times at counter B are uniformly distributed between 2 and 8 minutes. \n",
      "\n",
      "We consider the bank at its busiest, from 10:00 to 14:00. During this time period, the interarrival time between customers is exponentially distributed with a mean of 2.5 minutes. As is typical in real life, an arriving customer will always join the shorter queue.\n",
      "\n",
      "1. Simulate the operation of the bank for these 4 hours. Assume that the bank is empty at 10:00.\n",
      "2. What is the time average number of customers in each queue?\n",
      "3. What fraction of time is Ann busy? Bob?\n",
      "4. What fraction of the customers end up waiting in line for Counter A?"
     ]
    },
    {
     "cell_type": "heading",
     "level": 4,
     "metadata": {},
     "source": [
      "Hints."
     ]
    },
    {
     "cell_type": "markdown",
     "metadata": {},
     "source": [
      "* `r.waitQ` is a list consisting of the process objects waiting to receive a unit of resource `r`.\n",
      "\n",
      "\n",
      "* You can determine the current length of the queue of resource `r` with `len(r.waitQ)`."
     ]
    },
    {
     "cell_type": "markdown",
     "metadata": {},
     "source": [
      "Here's some Python setup to help you get started."
     ]
    },
    {
     "cell_type": "code",
     "collapsed": false,
     "input": [
      "##### Setup #####\n",
      "# Friendly floating-point division\n",
      "from __future__ import division\n",
      "\n",
      "# Import all simulation functions from SimPy\n",
      "from SimPy.Simulation import *\n",
      "\n",
      "# Import seed initializer and random sampling functions from NumPy\n",
      "from numpy.random import seed, uniform, exponential\n",
      "\n",
      "# Import step plotting and histogram functions from Matplotlib\n",
      "from matplotlib.pyplot import step, hist\n",
      "\n",
      "# Run Matplotlib magic to show plots directly in the notebook\n",
      "%matplotlib inline\n",
      "\n",
      "# Make Matplotlib plots display as SVG files, which are cleaner\n",
      "from IPython.display import set_matplotlib_formats\n",
      "set_matplotlib_formats('svg')"
     ],
     "language": "python",
     "metadata": {},
     "outputs": []
    },
    {
     "cell_type": "code",
     "collapsed": false,
     "input": [],
     "language": "python",
     "metadata": {},
     "outputs": []
    }
   ],
   "metadata": {}
  }
 ]
}