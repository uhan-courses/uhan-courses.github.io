{
 "metadata": {
  "name": "",
  "signature": "sha256:30be721c008bf54026d242c29ef22be41a0bd028a98cdf567aef941ede15c2a0"
 },
 "nbformat": 3,
 "nbformat_minor": 0,
 "worksheets": [
  {
   "cells": [
    {
     "cell_type": "heading",
     "level": 1,
     "metadata": {},
     "source": [
      "Lesson 8. Input Data Analysis &mdash; Discrete Distributions"
     ]
    },
    {
     "cell_type": "heading",
     "level": 3,
     "metadata": {},
     "source": [
      "SA421 Fall 2014"
     ]
    },
    {
     "cell_type": "code",
     "collapsed": false,
     "input": [
      "# Import friendly floating-point division\n",
      "from __future__ import division\n",
      "\n",
      "# Import randint, chi2 from scipy.stats\n",
      "from scipy.stats import randint, chi2\n",
      "\n",
      "# Import histogram function from Matplotlib\n",
      "from matplotlib.pyplot import hist\n",
      "\n",
      "# Run Matplotlib magic to show plots directly in the notebook\n",
      "%matplotlib inline\n",
      "\n",
      "# Make Matplotlib plots display as SVG files, which are cleaner\n",
      "from IPython.display import set_matplotlib_formats\n",
      "set_matplotlib_formats('svg')"
     ],
     "language": "python",
     "metadata": {},
     "outputs": []
    },
    {
     "cell_type": "heading",
     "level": 2,
     "metadata": {},
     "source": [
      "The problem."
     ]
    },
    {
     "cell_type": "markdown",
     "metadata": {},
     "source": [
      "* Every morning, the Simplex Bakery sells [cronuts](http://en.wikipedia.org/wiki/Cronut)  almost exclusively (their coffee tastes awful). The service time for a customer depends on the number of cronuts ordered.\n",
      "\n",
      "\n",
      "* Below is a list containing the number of cronuts in each of the last 100 orders at the bakery."
     ]
    },
    {
     "cell_type": "code",
     "collapsed": false,
     "input": [
      "y = [1, 3, 5, 9, 1, 5, 6, 6, 3, 5, 8, 2, 9, 6, 3, 5, 9, 5, 4, 8, 5, 4, 3,\n",
      "       4, 8, 3, 7, 8, 4, 6, 7, 7, 2, 3, 5, 5, 8, 3, 5, 5, 3, 7, 7, 4, 5, 8,\n",
      "       5, 8, 8, 3, 7, 5, 2, 7, 3, 1, 4, 1, 7, 6, 6, 5, 6, 4, 1, 1, 3, 3, 7,\n",
      "       3, 1, 9, 3, 8, 2, 6, 4, 1, 5, 6, 9, 8, 3, 8, 8, 4, 9, 5, 4, 2, 7, 2,\n",
      "       8, 9, 4, 5, 3, 2, 2, 9]"
     ],
     "language": "python",
     "metadata": {},
     "outputs": []
    },
    {
     "cell_type": "markdown",
     "metadata": {},
     "source": [
      "* The owner of the Simplex Bakery suspects that the number of cronuts in each order is uniformly distributed on $\\{1,\\dots,9\\}$ (i.e. only the integers).\n",
      "\n",
      "\n",
      "* How would you verify this?"
     ]
    },
    {
     "cell_type": "markdown",
     "metadata": {},
     "source": [
      "*Write your notes here. Double-click to edit.*"
     ]
    },
    {
     "cell_type": "code",
     "collapsed": false,
     "input": [],
     "language": "python",
     "metadata": {},
     "outputs": []
    },
    {
     "cell_type": "code",
     "collapsed": false,
     "input": [],
     "language": "python",
     "metadata": {},
     "outputs": []
    },
    {
     "cell_type": "markdown",
     "metadata": {},
     "source": [
      "* Based on this, what do you think? Does the owner's idea make sense?\n",
      "\n",
      "\n",
      "* Let's consider a similar, but more rigorous approach."
     ]
    },
    {
     "cell_type": "heading",
     "level": 2,
     "metadata": {},
     "source": [
      "Implementing the chi-squared goodness-of-fit test in Python"
     ]
    },
    {
     "cell_type": "markdown",
     "metadata": {},
     "source": [
      "* For this problem:\n",
      "    - $n = 100$\n",
      "    - $y_0, \\dots, y_{99}$ are the observations in the list given above\n",
      "    - $m = 9$\n",
      "    - $X$ is a discrete uniform random variable on $\\{1,\\dots,9\\}$\n",
      "    - $a_0 = 1, a_1 = 2, \\dots, a_8 = 9$\n",
      "    - $p_X(a_i) = 1/9$ for $i = 0,\\dots,8$"
     ]
    },
    {
     "cell_type": "markdown",
     "metadata": {},
     "source": [
      "* $y_0, \\dots, y_{n-1}$ are already defined above.\n",
      "\n",
      "\n",
      "* Let's define $a_0, \\dots, a_{m-1}$, $n$, and $m$."
     ]
    },
    {
     "cell_type": "code",
     "collapsed": false,
     "input": [
      "# Define values of proposed random variable X\n",
      "\n",
      "\n",
      "# Number of values that the proposed random variable takes\n",
      "\n",
      "\n",
      "# Number of observations\n",
      "\n",
      "\n",
      "# Print m and n\n",
      "print(\"m = {0}\".format(m))\n",
      "print(\"n = {0}\".format(n))"
     ],
     "language": "python",
     "metadata": {},
     "outputs": []
    },
    {
     "cell_type": "markdown",
     "metadata": {},
     "source": [
      "* To compute the expected number of observations $e_0, \\dots, e_{m-1}$, we need the pmf of $X$.\n",
      "\n",
      "\n",
      "* This can be found in the `randint` [(docs)](http://docs.scipy.org/doc/scipy/reference/generated/scipy.stats.randint.html) random variable object of `scipy.stats`.\n",
      "\n",
      "\n",
      "* In particular, `randint.pmf(x, low, high + 1)` gives the value of $p_X(x)$.\n",
      "    - Note: to get a discrete uniform random variable that takes on the integers between $c$ and $d$, you must set `high` to $d + 1$ (like you would do with `range()`)"
     ]
    },
    {
     "cell_type": "code",
     "collapsed": false,
     "input": [
      "# Compute expected number of observations equal to a[0], ..., a[m-1]\n",
      "\n",
      "\n",
      "# Print expected number of observations equal to a[0], ..., a[m-1]\n",
      "print(\"e = {0}\".format(e))"
     ],
     "language": "python",
     "metadata": {},
     "outputs": []
    },
    {
     "cell_type": "markdown",
     "metadata": {},
     "source": [
      "* Note that $e_i \\ge 5$ for $i = 0,\\dots,m-1$.\n",
      "\n",
      "\n",
      "* We obtained the number of observations $o_0, \\dots, o_{m-1}$ above with the `hist` function.\n",
      "\n",
      "\n",
      "* Now we're ready to compute the observed test statistic."
     ]
    },
    {
     "cell_type": "code",
     "collapsed": false,
     "input": [
      "# Compute test statistic\n",
      "testStatistic = \n",
      "print(\"Test statistic = {0}\".format(testStatistic))"
     ],
     "language": "python",
     "metadata": {},
     "outputs": []
    },
    {
     "cell_type": "markdown",
     "metadata": {},
     "source": [
      "* Recall that the $p$-value is\n",
      "$$\\Pr\\{ \\chi^2_{m-1} > t \\} = 1 - \\Pr\\{ \\chi^2_{m-1} \\le t \\}$$\n",
      "\n",
      "\n",
      "* So, to compute the $p$-value, we need the cdf of a $\\chi^2$ random variable with $m-1$ degrees of freedom.\n",
      "\n",
      "\n",
      "* This can be found in the `chi2` [(docs)](http://docs.scipy.org/doc/scipy/reference/generated/scipy.stats.chi2.html) random variable object in `scipy.stats`.\n",
      "\n",
      "\n",
      "* In particular, `chi2.cdf(t, m - 1)` gives the value of $\\Pr\\{ \\chi^2_{m-1} \\le t \\}$."
     ]
    },
    {
     "cell_type": "code",
     "collapsed": false,
     "input": [
      "# Compute p-value\n",
      "pValue = \n",
      "print(\"p-value = {0}\".format(pValue))"
     ],
     "language": "python",
     "metadata": {},
     "outputs": []
    },
    {
     "cell_type": "markdown",
     "metadata": {},
     "source": [
      "* So, what can we conclude?"
     ]
    },
    {
     "cell_type": "markdown",
     "metadata": {},
     "source": [
      "Assuming a significance level of 0.05, we do not reject the null hypothesis of the chi-squared goodness-of-fit test. We statistically conclude that the given data does come from a discrete uniform random variable on 1,...,9."
     ]
    },
    {
     "cell_type": "heading",
     "level": 2,
     "metadata": {},
     "source": [
      "With a neighbor..."
     ]
    },
    {
     "cell_type": "markdown",
     "metadata": {},
     "source": [
      "Using a chi-squared goodness-of-fit test with $\\alpha = 0.05$, determine whether the 250 observations below come from a Binomial distribution with 5 trials and success probability 0.47. Based on the result of the chi-squared test, what can you conclude?\n",
      "\n",
      "These might be helpful:\n",
      "\n",
      "* [Wikipedia entry on the binomial distribution](http://en.wikipedia.org/wiki/Binomial_distribution)\n",
      "* [Documentation on `binom` in `scipy.stats`](http://docs.scipy.org/doc/scipy/reference/generated/scipy.stats.binom.html)"
     ]
    },
    {
     "cell_type": "code",
     "collapsed": false,
     "input": [
      "y = [3, 3, 4, 1, 3, 1, 2, 1, 1, 3, 4, 1, 4, 3, 3, 0, 1, 3, 2, 1, 3, 3, 3,\n",
      "       2, 3, 5, 3, 2, 3, 1, 5, 1, 5, 1, 2, 3, 4, 4, 3, 2, 2, 3, 2, 3, 3, 2,\n",
      "       4, 3, 3, 2, 0, 3, 2, 4, 3, 2, 4, 3, 2, 4, 2, 2, 4, 5, 2, 3, 0, 4, 3,\n",
      "       1, 2, 1, 3, 2, 4, 4, 2, 3, 3, 2, 5, 3, 2, 1, 3, 2, 1, 3, 3, 1, 4, 2,\n",
      "       2, 4, 1, 4, 2, 3, 2, 2, 0, 2, 3, 2, 2, 2, 2, 2, 3, 3, 0, 3, 3, 2, 5,\n",
      "       1, 4, 3, 3, 3, 3, 3, 1, 1, 4, 3, 2, 3, 1, 3, 1, 1, 2, 1, 4, 1, 3, 2,\n",
      "       5, 3, 2, 1, 4, 3, 1, 2, 5, 1, 4, 1, 0, 3, 4, 4, 4, 5, 1, 3, 2, 4, 1,\n",
      "       2, 2, 0, 4, 1, 3, 2, 2, 5, 2, 4, 0, 2, 3, 2, 2, 0, 3, 2, 1, 5, 1, 3,\n",
      "       5, 1, 4, 3, 4, 0, 3, 3, 3, 4, 5, 5, 3, 4, 3, 2, 3, 5, 3, 0, 3, 1, 3,\n",
      "       3, 5, 2, 2, 3, 4, 2, 0, 1, 3, 4, 1, 2, 2, 3, 3, 3, 2, 1, 2, 4, 2, 3,\n",
      "       1, 4, 3, 2, 3, 3, 3, 0, 0, 2, 1, 3, 3, 3, 1, 2, 1, 3, 3, 3]"
     ],
     "language": "python",
     "metadata": {},
     "outputs": []
    },
    {
     "cell_type": "code",
     "collapsed": false,
     "input": [],
     "language": "python",
     "metadata": {},
     "outputs": []
    }
   ],
   "metadata": {}
  }
 ]
}