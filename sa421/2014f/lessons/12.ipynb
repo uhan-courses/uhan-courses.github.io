{
 "metadata": {
  "name": "",
  "signature": "sha256:6f0ee1f54e18391f992c4c76439afb6f94802cddc56f0ed0dbbdb6b30a901316"
 },
 "nbformat": 3,
 "nbformat_minor": 0,
 "worksheets": [
  {
   "cells": [
    {
     "cell_type": "heading",
     "level": 1,
     "metadata": {},
     "source": [
      "Lesson 12. Variance reduction &mdash; common random numbers"
     ]
    },
    {
     "cell_type": "heading",
     "level": 3,
     "metadata": {},
     "source": [
      "SA421 Fall 2014"
     ]
    },
    {
     "cell_type": "heading",
     "level": 2,
     "metadata": {},
     "source": [
      "The usual setup code &mdash; what's new:"
     ]
    },
    {
     "cell_type": "markdown",
     "metadata": {},
     "source": [
      "* `RandomState` from `numpy.random` allows us to use <span style=\"color:#d00000\">multiple</span> random number generators (i.e. multiple streams) simultaneously"
     ]
    },
    {
     "cell_type": "code",
     "collapsed": false,
     "input": [
      "##### Setup #####\n",
      "# Friendly floating-point division\n",
      "from __future__ import division\n",
      "\n",
      "# Import all simulation functions from SimPy\n",
      "from SimPy.Simulation import *\n",
      "\n",
      "# Import mean, std functions from numpy\n",
      "from numpy import mean, std\n",
      "\n",
      "# Import seed initializer and random sampling functions from NumPy\n",
      "from numpy.random import RandomState, seed, uniform, exponential"
     ],
     "language": "python",
     "metadata": {},
     "outputs": []
    },
    {
     "cell_type": "heading",
     "level": 2,
     "metadata": {},
     "source": [
      "Motivation"
     ]
    },
    {
     "cell_type": "markdown",
     "metadata": {},
     "source": [
      "* Consider the Fantastic Dan problem once again.\n",
      "\n",
      "\n",
      "* Customer interarrival times are exponentially distributed with a mean of 20 minutes.\n",
      "\n",
      "\n",
      "* In the current system, which we'll call \"System 1\", the service times are uniformly distributed between 15 and 20 minutes.\n",
      "\n",
      "\n",
      "* Fantastic Dan is considering a new haircutting technique, which would change the service times to be uniformly distributed between 10 and 15 minutes. Let's call this hypothetical system \"System 2\".\n",
      "\n",
      "\n",
      "* Fantastic Dan wants to know what effect this new haircutting technique would have on the time average number of customers waiting to get a haircut (in the queue)."
     ]
    },
    {
     "cell_type": "markdown",
     "metadata": {},
     "source": [
      "* In the cell below is SimPy code to simulate the Fantastic Dan problem, similar to what we have used before.\n",
      "\n",
      "\n",
      "* Some notes on this code:\n",
      "    - Service time parameters are not specified at the outset, since we will be changing them later.\n",
      "    - A new parameter `P.printArrival` has been defined: if `True`, the simulation code will print the customer arrival times.\n",
      "    - The resource `R.server` has its monitors activated.\n",
      "    - The `model()` function has been written to accept a seed as input, and compute and outpute the time average number of customers in the queue."
     ]
    },
    {
     "cell_type": "code",
     "collapsed": false,
     "input": [
      "##### Parameters #####\n",
      "class P:\n",
      "    # Customers arrive at the entrance with exponentially distributed\n",
      "    # interarrival times with mean 20\n",
      "    interarrivalTimeMean = 20\n",
      "    \n",
      "    # Service times are uniformly distributed, but min/max values will vary\n",
      "    serviceTimeMin = None\n",
      "    serviceTimeMax = None\n",
      "    \n",
      "    # One server: Fantastic Dan works by himself\n",
      "    nServers = 1\n",
      "    \n",
      "    # Shop is open for 3 continuous hours\n",
      "    simulationTimeMax = 3 * 60\n",
      "    \n",
      "    # Print arrival time information?\n",
      "    printArrival = False\n",
      "    \n",
      "\n",
      "##### Processes #####\n",
      "# Customer\n",
      "class Customer(Process):\n",
      "    def behavior(self):\n",
      "        # Customer arrives, joins queue\n",
      "        yield request, self, R.server\n",
      "        if P.printArrival:\n",
      "            print(\"Time {1:>4.2f}: {0} arrives and joins queue\".format(self.name, now()))    \n",
      "        \n",
      "        # Customer is released from queue and starts service\n",
      "        serviceTime = uniform(low = P.serviceTimeMin, high = P.serviceTimeMax)\n",
      "        yield hold, self, serviceTime\n",
      "        \n",
      "        # Customer finishes service, leaves\n",
      "        yield release, self, R.server\n",
      "\n",
      "# Entrance\n",
      "class Entrance(Process):\n",
      "    def behavior(self):\n",
      "        # At the start of the simulation, no customers have arrived\n",
      "        nCustomers = 0\n",
      "        \n",
      "        # Customer arrivals\n",
      "        while True:\n",
      "            # Wait until the next arrival\n",
      "            interarrivalTime = exponential(scale = P.interarrivalTimeMean)\n",
      "            yield hold, self, interarrivalTime\n",
      "            \n",
      "            # Create a new customer using the template defined in the Customer class\n",
      "            c = Customer(name=\"Customer {0}\".format(nCustomers))\n",
      "            \n",
      "            # Activate the customer's behavior\n",
      "            activate(c, c.behavior())\n",
      "\n",
      "            # Count this new customer\n",
      "            nCustomers += 1\n",
      "\n",
      "            \n",
      "##### Resources #####\n",
      "class R:\n",
      "    # Server\n",
      "    server = None\n",
      "\n",
      "\n",
      "##### Experiment #####\n",
      "def model(inputSeed):\n",
      "    # Initialize SimPy \n",
      "    initialize()\n",
      "\n",
      "    # Initialize a seed for the random number generator\n",
      "    seed(inputSeed)\n",
      "\n",
      "    # Create the server resource\n",
      "    R.server = Resource(capacity = P.nServers, monitored = True)\n",
      "\n",
      "    # Activate the entrance (to generate customers)\n",
      "    e = Entrance()\n",
      "    activate(e, e.behavior())\n",
      "    \n",
      "    # Run the simulation\n",
      "    simulate(until = P.simulationTimeMax)\n",
      "    \n",
      "    # Compute performance measure\n",
      "    tAvgCustQ = R.server.waitMon.timeAverage()\n",
      "    \n",
      "    # Return performance measure\n",
      "    return tAvgCustQ"
     ],
     "language": "python",
     "metadata": {},
     "outputs": []
    },
    {
     "cell_type": "markdown",
     "metadata": {},
     "source": [
      "* Let's replicate this simulation for both systems 200 times."
     ]
    },
    {
     "cell_type": "code",
     "collapsed": false,
     "input": [
      "##### Experiment #####\n",
      "# Number of replications\n",
      "n = 200\n",
      "\n",
      "# Service time parameters for System 1\n",
      "P.serviceTimeMin = 15\n",
      "P.serviceTimeMax = 25\n",
      "\n",
      "# Perform replications, and put performance measure from each replication in one list\n",
      "tAvgCustQ1Obs = [model(inputSeed = 123*i) for i in range(n)]\n",
      "\n",
      "# Service time parameters for System 2\n",
      "P.serviceTimeMin = 10\n",
      "P.serviceTimeMax = 15\n",
      "\n",
      "# Perform replications, and put performance measure from each replication in one list\n",
      "tAvgCustQ2Obs = [model(inputSeed = 123*i) for i in range(n)]"
     ],
     "language": "python",
     "metadata": {},
     "outputs": []
    },
    {
     "cell_type": "markdown",
     "metadata": {},
     "source": [
      "* Instead of computing the sample mean of the performance measure for each system and then comparing them, let's take the sample mean of the <span style=\"color:#d00000\">differences between the performance measures</span>."
     ]
    },
    {
     "cell_type": "code",
     "collapsed": false,
     "input": [
      "##### Analysis #####\n",
      "# Compute difference in performance measure\n",
      "tAvgCustQDiff = \n",
      "\n",
      "# Compute sample mean of difference in performance measure\n",
      "tAvgCustQDiffSM = \n",
      "\n",
      "# Print sample mean of difference in performance measure\n",
      "print(\"Sample mean of difference in performance measure = {0}\".format(tAvgCustQDiffSM))\n",
      "\n",
      "# Compute sample standard deviation of difference in performance measure\n",
      "tAvgCustQDiffSSD = \n",
      "\n",
      "# Print sample standard deviation of difference in performance measure\n",
      "print(\"Sample standard deviation of difference in performance measure = {0}\".format(tAvgCustQDiffSSD))"
     ],
     "language": "python",
     "metadata": {},
     "outputs": []
    },
    {
     "cell_type": "markdown",
     "metadata": {},
     "source": [
      "* Quick check: what does a positive difference in performance measure mean? Negative difference?"
     ]
    },
    {
     "cell_type": "markdown",
     "metadata": {},
     "source": [
      "*Write your notes here. Double-click to edit.*"
     ]
    },
    {
     "cell_type": "heading",
     "level": 2,
     "metadata": {},
     "source": [
      "Using common random numbers"
     ]
    },
    {
     "cell_type": "markdown",
     "metadata": {},
     "source": [
      "* It would be nice if this variance/standard deviation was smaller, so that we could have greater confidence in our estimate of the difference in the performance measure.\n",
      "\n",
      "\n",
      "* How can we do such a thing?\n",
      "\n",
      "\n",
      "* Let's take a closer look at what's going on in these simulations.\n",
      "\n",
      "\n",
      "* In particular, let's look at the customer arrival times in one replication for each system."
     ]
    },
    {
     "cell_type": "code",
     "collapsed": false,
     "input": [
      "##### Experiment #####\n",
      "# Print arrival time information\n",
      "P.printArrival = True\n",
      "\n",
      "# Service time parameters for System 1\n",
      "P.serviceTimeMin = 15\n",
      "P.serviceTimeMax = 25\n",
      "\n",
      "# Run model once\n",
      "model(inputSeed = 123)"
     ],
     "language": "python",
     "metadata": {},
     "outputs": []
    },
    {
     "cell_type": "code",
     "collapsed": false,
     "input": [
      "##### Experiment, cont. #####\n",
      "# Print arrival time information\n",
      "P.printArrival = True\n",
      "\n",
      "# Service time parameters for System 2\n",
      "P.serviceTimeMin = 10\n",
      "P.serviceTimeMax = 15\n",
      "\n",
      "# Run model once\n",
      "model(inputSeed = 123)"
     ],
     "language": "python",
     "metadata": {},
     "outputs": []
    },
    {
     "cell_type": "markdown",
     "metadata": {},
     "source": [
      "* The customer arrival times are different in the two systems, even though \n",
      "    - the interarrival time distribution is the same between the two systems,\n",
      "    - we used the same seed in both simulations.\n",
      "    \n",
      "\n",
      "* Intuitively, we don't want this to happen: we want our analysis to focus on the difference between the two systems, which is the <span style=\"color:#d00000\">service time</span> distribution, not the interarrival time distribution.\n",
      "\n",
      "\n",
      "* Why does this difference occur?\n",
      "\n",
      "\n",
      "* Remember that random variates are generated using a stream of random numbers (i.e. samples from a Uniform[0,1] distribution).\n",
      "\n",
      "\n",
      "* In the above simulations, both interarrival times and service times are being sampled using the <span style=\"color:#d00000\">a single stream of random numbers</span>.\n",
      "\n",
      "\n",
      "* As a result, if the service times are different between the two systems, the interarrival times will eventually be generated using different random numbers.\n",
      "\n",
      "\n",
      "* If we can set up our simulation so that customers have the same arrival times in both systems, then we should be able to reduce the variance of estimate of the difference in the performance measure between the two systems.\n",
      "\n",
      "\n",
      "* We can achieve this by setting up <span style=\"color:#d00000\">separate streams</span> for interarrival times and service times.\n",
      "\n",
      "\n",
      "* This is called the **common random number** technique: ensuring that common random numbers are used to generate the same random variates for matching parts of alternate systems.\n",
      "    - Other names: **correlated sampling**, **matched streams**, **matched pairs**"
     ]
    },
    {
     "cell_type": "heading",
     "level": 2,
     "metadata": {},
     "source": [
      "Common random numbers in Numpy: RandomState"
     ]
    },
    {
     "cell_type": "markdown",
     "metadata": {},
     "source": [
      "* First, we need to decide how to set up our random number streams.\n",
      "    - In this case, let's set up 1 stream for interarrival times and 1 stream for service times.\n",
      "    \n",
      "\n",
      "* To set up separate streams, we can use `RandomState()`.\n",
      "\n",
      "\n",
      "* Like we do for parameters, resources, and monitors, we'll place all our streams into one class, called `S`, so that streams all uniformly start with the prefix `S.`\n",
      "    - For example, `S.inter` for the stream of interarrival times.\n",
      "\n",
      "\n",
      "* To sample from distributions, we need to prepend the name of the stream before the sampling function name.\n",
      "    - For example, <span style=\"color:#d00000; font-family:monospace\">S.inter.</span>`uniform(low = ..., high = ...)`.\n",
      "    \n",
      "\n",
      "* Similarly, to provide a seed for these streams, we prepend the `seed` function with the name of the stream.\n",
      "    - For example, <span style=\"color:#d00000; font-family:monospace\">S.inter.</span>`stream(123)`\n"
     ]
    },
    {
     "cell_type": "code",
     "collapsed": false,
     "input": [
      "##### Parameters #####\n",
      "class P:\n",
      "    # Customers arrive at the entrance with exponentially distributed\n",
      "    # interarrival times with mean 20\n",
      "    interarrivalTimeMean = 20\n",
      "    \n",
      "    # Service times are uniformly distributed, but min/max values will vary\n",
      "    serviceTimeMin = None\n",
      "    serviceTimeMax = None\n",
      "    \n",
      "    # One server: Fantastic Dan works by himself\n",
      "    nServers = 1\n",
      "    \n",
      "    # Shop is open for 3 continuous hours\n",
      "    simulationTimeMax = 3 * 60\n",
      "    \n",
      "    # Print arrival time information?\n",
      "    printArrival = False\n",
      "    \n",
      "\n",
      "##### Processes #####\n",
      "# Customer\n",
      "class Customer(Process):\n",
      "    def behavior(self):\n",
      "        # Customer arrives, joins queue\n",
      "        yield request, self, R.server\n",
      "        if P.printArrival:\n",
      "            print(\"Time {1:>4.2f}: {0} arrives and joins queue\".format(self.name, now()))    \n",
      "        \n",
      "        # Customer is released from queue and starts service\n",
      "        serviceTime = uniform(low = P.serviceTimeMin, high = P.serviceTimeMax)\n",
      "        yield hold, self, serviceTime\n",
      "        \n",
      "        # Customer finishes service, leaves\n",
      "        yield release, self, R.server\n",
      "\n",
      "# Entrance\n",
      "class Entrance(Process):\n",
      "    def behavior(self):\n",
      "        # At the start of the simulation, no customers have arrived\n",
      "        nCustomers = 0\n",
      "        \n",
      "        # Customer arrivals\n",
      "        while True:\n",
      "            # Wait until the next arrival\n",
      "            interarrivalTime = exponential(scale = P.interarrivalTimeMean)\n",
      "            yield hold, self, interarrivalTime\n",
      "            \n",
      "            # Create a new customer using the template defined in the Customer class\n",
      "            c = Customer(name=\"Customer {0}\".format(nCustomers))\n",
      "            \n",
      "            # Activate the customer's behavior\n",
      "            activate(c, c.behavior())\n",
      "\n",
      "            # Count this new customer\n",
      "            nCustomers += 1\n",
      "\n",
      "            \n",
      "##### Resources #####\n",
      "class R:\n",
      "    # Server\n",
      "    server = None\n",
      "\n",
      "\n",
      "##### Experiment #####\n",
      "def model(inputSeed):\n",
      "    # Initialize SimPy \n",
      "    initialize()\n",
      "\n",
      "    # Initialize a seed for the random number generator\n",
      "    seed(inputSeed)\n",
      "\n",
      "    # Create the server resource\n",
      "    R.server = Resource(capacity = P.nServers, monitored = True)\n",
      "\n",
      "    # Activate the entrance (to generate customers)\n",
      "    e = Entrance()\n",
      "    activate(e, e.behavior())\n",
      "    \n",
      "    # Run the simulation\n",
      "    simulate(until = P.simulationTimeMax)\n",
      "    \n",
      "    # Compute performance measure\n",
      "    tAvgCustQ = R.server.waitMon.timeAverage()\n",
      "    \n",
      "    # Return performance measure\n",
      "    return tAvgCustQ"
     ],
     "language": "python",
     "metadata": {},
     "outputs": []
    },
    {
     "cell_type": "markdown",
     "metadata": {},
     "source": [
      "* Note that since we have two streams, we change the definition of `model()` to take two arguments, one input seed for each stream."
     ]
    },
    {
     "cell_type": "markdown",
     "metadata": {},
     "source": [
      "* Now, let's again look at the customer arrival times for 1 replication of each system."
     ]
    },
    {
     "cell_type": "code",
     "collapsed": false,
     "input": [
      "##### Experiment #####\n",
      "# Print arrival time information\n",
      "P.printArrival = True\n",
      "\n",
      "# Service time parameters for System 1\n",
      "P.serviceTimeMin = 15\n",
      "P.serviceTimeMax = 25\n",
      "\n",
      "# Run model once\n",
      "model(interSeed = 123, servSeed = 123)"
     ],
     "language": "python",
     "metadata": {},
     "outputs": []
    },
    {
     "cell_type": "code",
     "collapsed": false,
     "input": [
      "##### Experiment #####\n",
      "# Print arrival time information\n",
      "P.printArrival = True\n",
      "\n",
      "# Service time parameters for System 1\n",
      "P.serviceTimeMin = 10\n",
      "P.serviceTimeMax = 15\n",
      "\n",
      "# Run model once\n",
      "model(interSeed = 123, servSeed = 123)"
     ],
     "language": "python",
     "metadata": {},
     "outputs": []
    },
    {
     "cell_type": "markdown",
     "metadata": {},
     "source": [
      "* As we can see, the arrival times in both systems now match!\n",
      "\n",
      "\n",
      "* We can also replicate these simulations and take the sample mean of the difference of the performance measures:"
     ]
    },
    {
     "cell_type": "code",
     "collapsed": false,
     "input": [
      "##### Experiment #####\n",
      "# Print arrival time information\n",
      "P.printArrival = False\n",
      "\n",
      "# Number of replications\n",
      "n = 200\n",
      "\n",
      "# Service time parameters for System 1\n",
      "P.serviceTimeMin = 15\n",
      "P.serviceTimeMax = 25\n",
      "\n",
      "# Perform replications, and put performance measure from each replication in one list\n",
      "tAvgCustQ1Obs = [model(interSeed = 123*i, servSeed = 123*i) for i in range(n)]\n",
      "\n",
      "# Service time parameters for System 2\n",
      "P.serviceTimeMin = 10\n",
      "P.serviceTimeMax = 15\n",
      "\n",
      "# Perform replications, and put performance measure from each replication in one list\n",
      "tAvgCustQ2Obs = [model(interSeed = 123*i, servSeed = 123*i) for i in range(n)]"
     ],
     "language": "python",
     "metadata": {},
     "outputs": []
    },
    {
     "cell_type": "code",
     "collapsed": false,
     "input": [
      "##### Analysis #####\n",
      "# Compute difference in performance measure\n",
      "tAvgCustQDiff = [tAvgCustQ1Obs[i] - tAvgCustQ2Obs[i] for i in range(n)]\n",
      "\n",
      "# Compute sample mean of difference in performance measure\n",
      "tAvgCustQDiffSM = mean(tAvgCustQDiff)\n",
      "\n",
      "# Print sample mean of difference in performance measure\n",
      "print(\"Sample mean of difference in performance measure = {0}\".format(tAvgCustQDiffSM))\n",
      "\n",
      "# Compute sample standard deviation of difference in performance measure\n",
      "tAvgCustQDiffSSD = std(tAvgCustQDiff, ddof = 1)\n",
      "\n",
      "# Print sample standard deviation of difference in performance measure\n",
      "print(\"Sample standard deviation of difference in performance measure = {0}\".format(tAvgCustQDiffSSD))"
     ],
     "language": "python",
     "metadata": {},
     "outputs": []
    },
    {
     "cell_type": "markdown",
     "metadata": {},
     "source": [
      "* As we can see, the estimate of the difference in performance measure (sample mean) is quite close to what we had before, but now the variance (standard deviation) has been considerably reduced."
     ]
    },
    {
     "cell_type": "heading",
     "level": 2,
     "metadata": {},
     "source": [
      "Why does this work?"
     ]
    },
    {
     "cell_type": "markdown",
     "metadata": {},
     "source": [
      "* Consider 2 simulations.\n",
      "\n",
      "\n",
      "* Let $R_1, \\dots, R_n$ be the random variables sampled from in simulation 1, and $S_1, \\dots, S_n$ be the random variables sampled from in simulation 2.\n",
      "\n",
      "\n",
      "* Let $g(R_1, \\dots, R_n)$ be the performance measure in the first simulation, for some function $g$.\n",
      "\n",
      "\n",
      "* Similarly, let $h(S_1, \\dots, S_n)$ be the performance measure in the second, for some function $h$.\n",
      "\n",
      "\n",
      "* We are interested in $E[g(R_1,\\dots,R_n)] - E[h(S_1,\\dots,S_n)]$.\n",
      "    - We would estimate this by taking the sample mean over many replications.\n",
      "\n",
      "\n",
      "* The variance of difference in performance measures is\n",
      "$$\\begin{align*}\n",
      "    \\text{Var} & \\big(g(R_1,\\dots,R_n) - \\;h(S_1,\\dots,S_n) \\big)\\\\\n",
      "    & = \\text{Var} \\big(g(R_1,\\dots,R_n)\\big) + \\text{Var}\\big(h(S_1,\\dots,S_n)\\big) - 2 \\text{Cov}\\big(g(R_1,\\dots,R_n), h(S_1,\\dots,S_n)\\big)\n",
      "\\end{align*}$$\n",
      "\n",
      "\n",
      "* If $g(R_1,\\dots,R_n)$ and $h(S_1,\\dots,S_n)$ are <span style=\"color:#d00000\">positively correlated</span>, then the variance of the difference in performance measures can be reduced!\n",
      "\n",
      "\n",
      "* This can be achieved by having \n",
      "$$R_1 = S_1, \\quad R_2 = S_2, \\quad \\dots \\quad R_n = S_n$$\n",
      "when $g$ and $h$ are increasing functions of their arguments."
     ]
    }
   ],
   "metadata": {}
  }
 ]
}