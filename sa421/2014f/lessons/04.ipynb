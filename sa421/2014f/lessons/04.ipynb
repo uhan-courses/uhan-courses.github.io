{
 "metadata": {
  "name": "",
  "signature": "sha256:2422e20a5152834353e3ff44398a8cc9cba4e813e69c359362eccdc1663138a4"
 },
 "nbformat": 3,
 "nbformat_minor": 0,
 "worksheets": [
  {
   "cells": [
    {
     "cell_type": "heading",
     "level": 1,
     "metadata": {},
     "source": [
      "Lesson 4. SimPy &mdash; Monitors"
     ]
    },
    {
     "cell_type": "heading",
     "level": 2,
     "metadata": {},
     "source": [
      "From last time... "
     ]
    },
    {
     "cell_type": "markdown",
     "metadata": {},
     "source": [
      "**Problem.** Customers visit the neighborhood hair stylist Fantastic Dan for haircuts. The customer interarrival time is exponentially distributed with mean 20 minutes. Each haircut takes Fantastic Dan anywhere from 15 to 25 minutes, uniformly distributed. This time also includes the initial greetings and the transaction of money at the end of the haircut.\n",
      "\n",
      "* Simulate 1 day of Dan\u2019s operations. Assume Dan works continuously for 6 hours a day.\n",
      "* How many customers enter Dan's shop per day?\n",
      "* How many customers does Dan serve per day?\n",
      "* What is the time average number of customers in the queue? What is the maximum number of customers in the queue? \n",
      "* What is the average time spent by a customer in the queue? What is the maximum?"
     ]
    },
    {
     "cell_type": "markdown",
     "metadata": {},
     "source": [
      "* First, some setup code. \n",
      "    * This is mostly the same as before. \n",
      "    * Observe that there are some new lines to make plotting easy to do in IPython Notebook."
     ]
    },
    {
     "cell_type": "code",
     "collapsed": false,
     "input": [
      "##### Setup #####\n",
      "# Friendly floating-point division\n",
      "from __future__ import division\n",
      "\n",
      "# Import all simulation functions from SimPy\n",
      "from SimPy.Simulation import *\n",
      "\n",
      "# Import seed initializer and random sampling functions from NumPy\n",
      "from numpy.random import seed, uniform, exponential\n",
      "\n",
      "# Import step plotting and histogram functions from Matplotlib\n",
      "from matplotlib.pyplot import step, hist\n",
      "\n",
      "# Run Matplotlib magic to show plots directly in the notebook\n",
      "%matplotlib inline\n",
      "\n",
      "# Make Matplotlib plots display as SVG files, which are cleaner\n",
      "from IPython.display import set_matplotlib_formats\n",
      "set_matplotlib_formats('svg')"
     ],
     "language": "python",
     "metadata": {},
     "outputs": []
    },
    {
     "cell_type": "markdown",
     "metadata": {},
     "source": [
      "* Here is the simulation model for the Fantastic Dan problem from last time, modified to run for only 2 hours."
     ]
    },
    {
     "cell_type": "code",
     "collapsed": false,
     "input": [
      "##### Parameters #####\n",
      "class P:\n",
      "    # Customers arrive at the entrance with exponentially distributed\n",
      "    # interarrival times with mean 20\n",
      "    interarrivalTimeMean = 20\n",
      "    \n",
      "    # Service times are uniformly distributed between 15 and 25\n",
      "    serviceTimeMin = 15\n",
      "    serviceTimeMax = 25\n",
      "    \n",
      "    # One server: Fantastic Dan works by himself\n",
      "    nServers = 1\n",
      "    \n",
      "    # Shop is open for 2 continuous hours\n",
      "    simulationTimeMax =  2 * 60\n",
      "    \n",
      "\n",
      "##### Processes #####\n",
      "# Customer\n",
      "class Customer(Process):\n",
      "    def behavior(self):\n",
      "        # Customer arrives, joins queue\n",
      "        print(\"Time {1}: {0} arrives and joins queue\".format(self.name, now()))\n",
      "        yield request, self, R.server\n",
      "        \n",
      "        # Customer is released from queue and starts service\n",
      "        print(\"Time {1}: {0} begins service\".format(self.name, now()))\n",
      "        serviceTime = uniform(low = P.serviceTimeMin, high = P.serviceTimeMax)\n",
      "        yield hold, self, serviceTime\n",
      "        \n",
      "        # Customer finishes service, leaves\n",
      "        print(\"Time {1}: {0} ends service and leaves\".format(self.name, now()))\n",
      "        yield release, self, R.server\n",
      "\n",
      "# Entrance\n",
      "class Entrance(Process):\n",
      "    def behavior(self):\n",
      "        # At the start of the simulation, no customers have arrived\n",
      "        nCustomers = 0\n",
      "        \n",
      "        # Customer arrivals\n",
      "        while True:\n",
      "            # Wait until the next arrival\n",
      "            interarrivalTime = exponential(scale = P.interarrivalTimeMean)\n",
      "            yield hold, self, interarrivalTime\n",
      "            \n",
      "            # Create a new customer using the template defined in the Customer class\n",
      "            c = Customer(name=\"Customer {0}\".format(nCustomers))\n",
      "            \n",
      "            # Activate the customer's behavior\n",
      "            activate(c, c.behavior())\n",
      "\n",
      "            # Count this new customer\n",
      "            nCustomers += 1\n",
      "\n",
      "##### Resources #####\n",
      "class R:\n",
      "    # Server\n",
      "    server = None\n",
      "\n",
      "\n",
      "##### Experiment #####\n",
      "def model():\n",
      "    # Initialize SimPy \n",
      "    initialize()\n",
      "\n",
      "    # Initialize a seed for the random number generator (more on this later in the semester)\n",
      "    seed(123)\n",
      "\n",
      "    # Create the server resource\n",
      "    R.server = Resource(capacity = P.nServers)\n",
      "\n",
      "    # Activate the entrance (to generate customers)\n",
      "    e = Entrance()\n",
      "    activate(e, e.behavior())\n",
      "    \n",
      "    # Run the simulation\n",
      "    simulate(until = P.simulationTimeMax)"
     ],
     "language": "python",
     "metadata": {},
     "outputs": []
    },
    {
     "cell_type": "markdown",
     "metadata": {},
     "source": [
      "* Running the model, we see output similar to what we had last time."
     ]
    },
    {
     "cell_type": "code",
     "collapsed": false,
     "input": [
      "model()"
     ],
     "language": "python",
     "metadata": {},
     "outputs": []
    },
    {
     "cell_type": "markdown",
     "metadata": {},
     "source": [
      "* Based on our 1 simulation run, Dan cuts hair for 4 customers by the end of the day, and has 4 customers enter his shop.\n",
      "\n",
      "\n",
      "* To compute the time average number of customers in the queue, we can use a monitor."
     ]
    },
    {
     "cell_type": "heading",
     "level": 2,
     "metadata": {},
     "source": [
      "What is a monitor?"
     ]
    },
    {
     "cell_type": "markdown",
     "metadata": {},
     "source": [
      "* A **monitor** enables us to observe a variable of interest and hold a time series of its values\n",
      "\n",
      "\n",
      "* Monitoring certain aspects of a resource in SimPy is quite easy:\n",
      "    - the number of entities in the resource's queue\n",
      "    - the number of entities being processed by the resource\n",
      "    \n",
      "\n",
      "* Monitoring other quantities in SimPy requires a little more work, but is still pretty easy."
     ]
    },
    {
     "cell_type": "heading",
     "level": 2,
     "metadata": {},
     "source": [
      "Built-in monitors for resources"
     ]
    },
    {
     "cell_type": "markdown",
     "metadata": {},
     "source": [
      "* We can activate the built-in monitors for a resource by adding the argument `monitored = True` when we call `Resource()` to create the resource.\n",
      "\n",
      "\n",
      "* Doing this establishes two monitors:\n",
      "    * `waitMon` to record changes in the queue.\n",
      "    * `actMon` to record changes in entities being served.\n",
      "\n",
      "\n",
      "* Let's modify `model()` from our Fantastic Dan simulation to activate these monitors for the server."
     ]
    },
    {
     "cell_type": "code",
     "collapsed": false,
     "input": [
      "##### Experiment #####\n",
      "def model():\n",
      "    # Initialize SimPy \n",
      "    initialize()\n",
      "\n",
      "    # Initialize a seed for the random number generator (more on this later in the semester)\n",
      "    seed(123)\n",
      "\n",
      "    # Create the server resource\n",
      "    R.server = Resource(capacity = P.nServers )\n",
      "\n",
      "    # Activate the entrance (to generate customers)\n",
      "    e = Entrance()\n",
      "    activate(e, e.behavior())\n",
      "    \n",
      "    # Run the simulation\n",
      "    simulate(until = P.simulationTimeMax)"
     ],
     "language": "python",
     "metadata": {},
     "outputs": []
    },
    {
     "cell_type": "markdown",
     "metadata": {},
     "source": [
      "* Now, let's run the model."
     ]
    },
    {
     "cell_type": "code",
     "collapsed": false,
     "input": [
      "model()"
     ],
     "language": "python",
     "metadata": {},
     "outputs": []
    },
    {
     "cell_type": "markdown",
     "metadata": {},
     "source": [
      "* Everything looks the same as before, but...\n",
      "\n",
      "\n",
      "* Now, we can access a resource's monitors using `.waitMon` and `.actMon`.\n",
      "\n",
      "\n",
      "* For example, to examine `waitMon` for `R.server`, we can write:"
     ]
    },
    {
     "cell_type": "code",
     "collapsed": false,
     "input": [
      "print(\"waitMon for R.server: {0}\".format( ))"
     ],
     "language": "python",
     "metadata": {},
     "outputs": []
    },
    {
     "cell_type": "markdown",
     "metadata": {},
     "source": [
      "* As we can see, this monitor is a list of lists.\n",
      "\n",
      "\n",
      "* Comparing `waitMon` with the output of the simulation, we see that the \"inner lists\" are observations of the form $[t, y]$, where\n",
      "\n",
      "$$\\begin{aligned}\n",
      "t & = \\text{time}\\\\\n",
      "y & = \\text{length of queue at time $t$}\n",
      "\\end{aligned}$$"
     ]
    },
    {
     "cell_type": "markdown",
     "metadata": {},
     "source": [
      "* `actMon` works in a similar fashion:"
     ]
    },
    {
     "cell_type": "code",
     "collapsed": false,
     "input": [
      "print(\"actMon for R.server: {0}\".format( ))"
     ],
     "language": "python",
     "metadata": {},
     "outputs": []
    },
    {
     "cell_type": "markdown",
     "metadata": {},
     "source": [
      "* Now, `actMon` consists of data points of the form $[t, y]$, where\n",
      "\n",
      "$$\\begin{aligned}\n",
      "t & = \\text{time}\\\\\n",
      "y & = \\text{number of entities being processed by the resource at time $t$}\n",
      "\\end{aligned}$$"
     ]
    },
    {
     "cell_type": "markdown",
     "metadata": {},
     "source": [
      "* To make these monitors easier to work with, we can split them into two lists:\n",
      "    - One list consisting of the times $t$\n",
      "    - Another list consisting of the values $y$\n",
      "\n",
      "\n",
      "* For example, to get separate lists of the times and values of `waitMon`, we can write:"
     ]
    },
    {
     "cell_type": "code",
     "collapsed": false,
     "input": [
      "print(\"waitMon times = {0}\".format( ))\n",
      "print(\"waitMon values = {0}\".format( ))"
     ],
     "language": "python",
     "metadata": {},
     "outputs": []
    },
    {
     "cell_type": "markdown",
     "metadata": {},
     "source": [
      "* With these separate lists, we can plot the number of customers in the queue as a function of time using the `step` function from Matplotlib\n",
      "\n",
      "\n",
      "* `step(t, y, where = \"post\")` creates a step plot: \n",
      "    - `t` is a list of the horizontal axis breakpoints, assumed to be in nondecreasing order\n",
      "    - `y` is a list of the corresponding vertical axis values\n",
      "    - `where = \"post\"` tells `step` to assign the interval between `t[i]` and `t[i+1]` a value of `y[i]`.\n",
      "    - [Matplotlib documentation on `step` &mdash; scroll to find `matplotlib.pyplot.step`](http://matplotlib.org/api/pyplot_api.html)"
     ]
    },
    {
     "cell_type": "code",
     "collapsed": false,
     "input": [],
     "language": "python",
     "metadata": {},
     "outputs": []
    },
    {
     "cell_type": "markdown",
     "metadata": {},
     "source": [
      "* We can also easily get some summary statistics from these monitors, such as \n",
      "    * the time average number of customers in the queue, and \n",
      "    * the maximum number of customers in the queue."
     ]
    },
    {
     "cell_type": "code",
     "collapsed": false,
     "input": [
      "# Get average number of customers waiting for a haircut\n",
      "print(\"Time average number of customers in queue = {0}\".format( ))\n",
      "\n",
      "# Get maximum number of customers waiting for a haircut\n",
      "print(\"Maximum number of customers in queue = {0}\".format( ))"
     ],
     "language": "python",
     "metadata": {},
     "outputs": []
    },
    {
     "cell_type": "markdown",
     "metadata": {},
     "source": [
      "* Other summary statistics of interest for a monitor `m`:\n",
      "    - `m.count()` gives the current number of observations\n",
      "    - `m.total()` gives the sum of the $y$ values\n",
      "    - `m.mean()` gives the average of the $y$ values, <span style=\"color:red\">ignoring the corresponding times of the $y$ values</span>\n",
      "    - `m.var()` gives the sample variance of the y values, <span style=\"color:red\">ignoring the corresponding times of the $y$ values</span>\n",
      "    \n",
      "    \n",
      "* [SimPy documentation on summary statistics available for a monitor](http://simpy.sourceforge.net/old/SimPy_Manual/Manuals/Manual.html#data-summaries)"
     ]
    },
    {
     "cell_type": "heading",
     "level": 2,
     "metadata": {},
     "source": [
      "Custom-made monitors"
     ]
    },
    {
     "cell_type": "markdown",
     "metadata": {},
     "source": [
      "* To figure out how long a customer waits in the queue on average, we need to monitor the customer behavior directly.\n",
      "\n",
      "\n",
      "* This can be accomplished using a custom-made monitor.\n",
      "\n",
      "\n",
      "* Like with parameters and resources, we define variables for monitors in a common class."
     ]
    },
    {
     "cell_type": "code",
     "collapsed": false,
     "input": [
      "class M:\n",
      "    queueWaitTime = None"
     ],
     "language": "python",
     "metadata": {},
     "outputs": []
    },
    {
     "cell_type": "markdown",
     "metadata": {},
     "source": [
      "* Also like with resources, we create the monitor after we initialize the simulation."
     ]
    },
    {
     "cell_type": "code",
     "collapsed": false,
     "input": [
      "##### Experiment #####\n",
      "def model():\n",
      "    # Initialize SimPy \n",
      "    initialize()\n",
      "\n",
      "    # Initialize a seed for the random number generator (more on this later in the semester)\n",
      "    seed(123)\n",
      "\n",
      "    # Create the server resource\n",
      "    R.server = Resource(capacity = P.nServers, monitored = True)\n",
      "\n",
      "    # Activate the entrance (to generate customers)\n",
      "    e = Entrance()\n",
      "    activate(e, e.behavior())\n",
      "    \n",
      "    # Run the simulation\n",
      "    simulate(until = P.simulationTimeMax)"
     ],
     "language": "python",
     "metadata": {},
     "outputs": []
    },
    {
     "cell_type": "markdown",
     "metadata": {},
     "source": [
      "* We need to modify the behavior of the `Customer` process to monitor the waiting time.\n",
      "\n",
      "\n",
      "* We use `monitor.observe(value)` to record `value` at the current time of the simulation."
     ]
    },
    {
     "cell_type": "code",
     "collapsed": false,
     "input": [
      "# Customer\n",
      "class Customer(Process):\n",
      "    def behavior(self):\n",
      "        # Customer arrives, joins queue\n",
      "        print(\"Time {1}: {0} arrives and joins queue\".format(self.name, now()))\n",
      "        yield request, self, R.server\n",
      "        \n",
      "        # Customer released from queue, starts haircut\n",
      "        print(\"Time {1}: {0} begins service\".format(self.name, now()))\n",
      "        serviceTime = uniform(low = P.serviceTimeMin, high = P.serviceTimeMax)\n",
      "        yield hold, self, serviceTime\n",
      "        \n",
      "        # Customer finishes haircut, leaves\n",
      "        print(\"Time {1}: {0} ends service and leaves\".format(self.name, now()))\n",
      "        yield release, self, R.server"
     ],
     "language": "python",
     "metadata": {},
     "outputs": []
    },
    {
     "cell_type": "markdown",
     "metadata": {},
     "source": [
      "* Now, we can run the model again, with the queue waiting time monitor."
     ]
    },
    {
     "cell_type": "code",
     "collapsed": false,
     "input": [
      "model()"
     ],
     "language": "python",
     "metadata": {},
     "outputs": []
    },
    {
     "cell_type": "markdown",
     "metadata": {},
     "source": [
      "* We can examine the waiting time of each customer that we recorded using this monitor:"
     ]
    },
    {
     "cell_type": "code",
     "collapsed": false,
     "input": [
      "# Print customer waiting times and the time of recording\n",
      "print(\"Time recorded = {0}\".format( ))\n",
      "print(\"Waiting time = {0}\".format( ))"
     ],
     "language": "python",
     "metadata": {},
     "outputs": []
    },
    {
     "cell_type": "markdown",
     "metadata": {},
     "source": [
      "* Finally, we can compute the average and maximum waiting times:"
     ]
    },
    {
     "cell_type": "code",
     "collapsed": false,
     "input": [
      "# Get average customer waiting time\n",
      "print(\"Average customer waiting time = {0}\".format( ))\n",
      "\n",
      "# Get maximum customer waiting time\n",
      "print(\"Maximum customer waiting time = {0}\".format( ))"
     ],
     "language": "python",
     "metadata": {},
     "outputs": []
    },
    {
     "cell_type": "markdown",
     "metadata": {},
     "source": [
      "* While we're at it, we can plot a histogram of the waiting times using the `hist` function from Matplotlib.\n",
      "\n",
      "\n",
      "* `hist(x, bins)` creates a histogram\n",
      "    - `x` is a list of data points\n",
      "    - `bins` is a list of the edges of the bin intervals\n",
      "    - Without any other arguments, `hist` automatically creates bins for the histogram\n",
      "    - [Matplotlib documentation for `hist` - scroll down to find `matplotlib.pyplot.hist`](http://matplotlib.org/api/pyplot_api.html)"
     ]
    },
    {
     "cell_type": "code",
     "collapsed": false,
     "input": [
      "# Define edges of the histogram bin intervals\n",
      "\n",
      "# Get histogram of customer waiting times\n"
     ],
     "language": "python",
     "metadata": {},
     "outputs": []
    },
    {
     "cell_type": "heading",
     "level": 2,
     "metadata": {},
     "source": [
      "On your own..."
     ]
    },
    {
     "cell_type": "markdown",
     "metadata": {},
     "source": [
      "* First, change the simulation to run for 6 hours instead of 2."
     ]
    },
    {
     "cell_type": "code",
     "collapsed": false,
     "input": [
      "P.simulationTimeMax = 6 * 60"
     ],
     "language": "python",
     "metadata": {},
     "outputs": []
    },
    {
     "cell_type": "markdown",
     "metadata": {},
     "source": [
      "* In the Fantastic Dan problem, since there is only 1 server, the time average number of busy servers gives you the server utilization: the fraction of time the server is busy.\n",
      "\n",
      "\n",
      "* Given what we learned today, how can you compute the time average number of busy servers?"
     ]
    },
    {
     "cell_type": "code",
     "collapsed": false,
     "input": [],
     "language": "python",
     "metadata": {},
     "outputs": []
    },
    {
     "cell_type": "markdown",
     "metadata": {},
     "source": [
      "* Create a monitor that records a value for each customer that enters the shop: \n",
      "    - 1 if a customer waits in the queue for more than 15 minutes, \n",
      "    - 0 otherwise.\n",
      "\n",
      "\n",
      "* Using this monitor, find the fraction of customers that wait in the queue for more than 15 minutes."
     ]
    },
    {
     "cell_type": "code",
     "collapsed": false,
     "input": [
      "# Define dummy variable for a new monitor\n"
     ],
     "language": "python",
     "metadata": {},
     "outputs": []
    },
    {
     "cell_type": "code",
     "collapsed": false,
     "input": [
      "# Modify Customer process to record whether a customer\n",
      "# is in the queue for more than 15 minutes\n"
     ],
     "language": "python",
     "metadata": {},
     "outputs": []
    },
    {
     "cell_type": "code",
     "collapsed": false,
     "input": [
      "# Modify model to create new monitor\n"
     ],
     "language": "python",
     "metadata": {},
     "outputs": []
    },
    {
     "cell_type": "code",
     "collapsed": false,
     "input": [
      "# Run new model\n"
     ],
     "language": "python",
     "metadata": {},
     "outputs": []
    },
    {
     "cell_type": "code",
     "collapsed": false,
     "input": [
      "# Find the fraction of customers that wait in the queue for more than 15 minutes\n"
     ],
     "language": "python",
     "metadata": {},
     "outputs": []
    }
   ],
   "metadata": {}
  }
 ]
}