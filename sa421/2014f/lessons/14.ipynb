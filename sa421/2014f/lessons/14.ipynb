{
 "metadata": {
  "name": "",
  "signature": "sha256:e763ae8a5f50f058d97ecaf3186992e93c15ddaa92a39ec1c0154de2fbd92db6"
 },
 "nbformat": 3,
 "nbformat_minor": 0,
 "worksheets": [
  {
   "cells": [
    {
     "cell_type": "heading",
     "level": 1,
     "metadata": {},
     "source": [
      "Lesson 14. SimPy &mdash; balking and reneging"
     ]
    },
    {
     "cell_type": "heading",
     "level": 3,
     "metadata": {},
     "source": [
      "SA421 Fall 2014"
     ]
    },
    {
     "cell_type": "markdown",
     "metadata": {},
     "source": [
      "Setup code, nothing new here today."
     ]
    },
    {
     "cell_type": "code",
     "collapsed": false,
     "input": [
      "##### Setup #####\n",
      "# Friendly floating-point division\n",
      "from __future__ import division\n",
      "\n",
      "# Import RandomState from numpy.random\n",
      "from numpy.random import RandomState, rand\n",
      "\n",
      "# Import all simulation functions from SimPy\n",
      "from SimPy.Simulation import *\n",
      "\n",
      "# Import step plotting and histogram functions from Matplotlib\n",
      "from matplotlib.pyplot import plot\n",
      "\n",
      "# Run Matplotlib magic to show plots directly in the notebook\n",
      "%matplotlib inline\n",
      "\n",
      "# Make Matplotlib plots display as SVG files, which are cleaner\n",
      "from IPython.display import set_matplotlib_formats\n",
      "set_matplotlib_formats('svg')"
     ],
     "language": "python",
     "metadata": {},
     "outputs": []
    },
    {
     "cell_type": "heading",
     "level": 2,
     "metadata": {},
     "source": [
      "Deterministic balking"
     ]
    },
    {
     "cell_type": "markdown",
     "metadata": {},
     "source": [
      "**Problem.** Customers visit the neighborhood hair stylist Fantastic Dan for haircuts. The customer interarrival time is exponentially distributed with mean 20 minutes. Each haircut takes Fantastic Dan anywhere from 15 to 25 minutes, uniformly distributed. This time also includes the initial greetings and the transaction of money at the end of the haircut.\n",
      "\n",
      "<span style=\"color:#d00000\">Suppose Fantastic Dan's shop only has 3 seats for waiting customers. Any customers who arrive when the shop is full simply leave: that is, they **balk**.</span>\n",
      "\n",
      "<span style=\"color:#d00000\">How many customers balked? What fraction of customers balked? Assume an 8 hour day.</span>"
     ]
    },
    {
     "cell_type": "markdown",
     "metadata": {},
     "source": [
      "* **Balking** occurs when potential customers arriving at a queueing system choose not to enter it.\n",
      "\n",
      "\n",
      "* Below is SimPy code for the original Fantastic Dan problem:\n",
      "    - The built-in monitors for `R.server` have been set up.\n",
      "    - No performance measures are computed.\n",
      "    - Interarrival times and service times are generated from separate streams."
     ]
    },
    {
     "cell_type": "code",
     "collapsed": false,
     "input": [
      "##### Parameters #####\n",
      "class P:\n",
      "    # Customers arrive at the entrance with exponentially distributed\n",
      "    # interarrival times with mean 20\n",
      "    interarrivalTimeMean = 20\n",
      "    \n",
      "    # Service times are uniformly distributed, but min/max values will vary\n",
      "    serviceTimeMin = 15\n",
      "    serviceTimeMax = 25\n",
      "    \n",
      "    # One server: Fantastic Dan works by himself\n",
      "    nServers = 1\n",
      "    \n",
      "    # Shop is open for 8 continuous hours\n",
      "    simulationTimeMax = 8 * 60\n",
      "    \n",
      "    \n",
      "##### Streams #####\n",
      "class S:\n",
      "    inter = RandomState()\n",
      "    serve = RandomState()\n",
      "    \n",
      "    \n",
      "##### Processes #####\n",
      "# Customer\n",
      "class Customer(Process):\n",
      "    def behavior(self):\n",
      "        # Customer arrives, joins queue\n",
      "        yield request, self, R.server  \n",
      "        \n",
      "        # Customer is released from queue and starts service\n",
      "        serviceTime = S.serve.uniform(low = P.serviceTimeMin, high = P.serviceTimeMax)\n",
      "        yield hold, self, serviceTime\n",
      "        \n",
      "        # Customer finishes service, leaves\n",
      "        yield release, self, R.server\n",
      "\n",
      "# Entrance\n",
      "class Entrance(Process):\n",
      "    def behavior(self):\n",
      "        # At the start of the simulation, no customers have arrived\n",
      "        nCustomers = 0\n",
      "        \n",
      "        # Customer arrivals\n",
      "        while True:\n",
      "            # Wait until the next arrival\n",
      "            interarrivalTime = S.inter.exponential(scale = P.interarrivalTimeMean)\n",
      "            yield hold, self, interarrivalTime\n",
      "            \n",
      "            # Create a new customer using the template defined in the Customer class\n",
      "            c = Customer(name=\"Customer {0}\".format(nCustomers))\n",
      "            \n",
      "            # Activate the customer's behavior\n",
      "            activate(c, c.behavior())\n",
      "\n",
      "            # Count this new customer\n",
      "            nCustomers += 1\n",
      "\n",
      "            \n",
      "##### Resources #####\n",
      "class R:\n",
      "    # Server\n",
      "    server = None\n",
      "\n",
      "\n",
      "##### Model #####\n",
      "def model(interSeed, serveSeed):\n",
      "    # Initialize SimPy \n",
      "    initialize()\n",
      "\n",
      "    # Initialize a seed for the interarrival time random number stream\n",
      "    S.inter.seed(interSeed)\n",
      "    \n",
      "    # Initialize a seed for the service time random number stream\n",
      "    S.inter.seed(interSeed)\n",
      "\n",
      "    # Create the server resource\n",
      "    R.server = Resource(capacity = P.nServers, monitored = True)\n",
      "\n",
      "    # Activate the entrance (to generate customers)\n",
      "    e = Entrance()\n",
      "    activate(e, e.behavior())\n",
      "    \n",
      "    # Run the simulation\n",
      "    simulate(until = P.simulationTimeMax)"
     ],
     "language": "python",
     "metadata": {},
     "outputs": []
    },
    {
     "cell_type": "markdown",
     "metadata": {},
     "source": [
      "* To modify customer behavior so that it includes the possibility of balking, we need to do several things.\n",
      "\n",
      "\n",
      "* First, let's create a new parameter for the queue capacity. "
     ]
    },
    {
     "cell_type": "code",
     "collapsed": false,
     "input": [],
     "language": "python",
     "metadata": {},
     "outputs": []
    },
    {
     "cell_type": "markdown",
     "metadata": {},
     "source": [
      "* Since we are interested in the number and fraction of balking customers, we need to set up a monitor to keep track of the number of customers who balk."
     ]
    },
    {
     "cell_type": "code",
     "collapsed": false,
     "input": [
      "##### Monitors #####\n",
      "    \n",
      "\n",
      "##### Redefine model() to include monitors #####\n",
      "\n"
     ],
     "language": "python",
     "metadata": {},
     "outputs": []
    },
    {
     "cell_type": "markdown",
     "metadata": {},
     "source": [
      "* Now we're ready to change the SimPy code that defines the customer's behavior so that it includes balking.\n",
      "\n",
      "\n",
      "* SimPy automatically maintains `R.server.waitQ`, the list of customers in the queue waiting for `R.server` at any given time.\n",
      "\n",
      "\n",
      "* Similarly, `R.server.activeQ` is a list of customers being served by `R.server` at any given time.\n",
      "\n",
      "\n",
      "* So, before the customer joins the queue, we can insert an `if` statement that checks whether there is room in the queue.\n",
      "\n",
      "\n",
      "* If there is room in the queue, we have the balking monitor observe a value of \"0\", and we have the customer join the queue and get served, just like before. \n",
      "\n",
      "\n",
      "* If the queue is full, we have the balking monitor observe a value of \"1\", and have the customer do nothing to represent him or her not entering the queue.\n",
      "\n",
      "\n",
      "* Let's also add some `print` statements so that we can make sure the simulation is behaving as we expect."
     ]
    },
    {
     "cell_type": "code",
     "collapsed": false,
     "input": [],
     "language": "python",
     "metadata": {},
     "outputs": []
    },
    {
     "cell_type": "markdown",
     "metadata": {},
     "source": [
      "* Now, let's run the simulation once."
     ]
    },
    {
     "cell_type": "code",
     "collapsed": false,
     "input": [
      "model(interSeed = 123, serveSeed = 123)"
     ],
     "language": "python",
     "metadata": {},
     "outputs": []
    },
    {
     "cell_type": "markdown",
     "metadata": {},
     "source": [
      "* What does the `M.balk` monitor look like?"
     ]
    },
    {
     "cell_type": "code",
     "collapsed": false,
     "input": [
      "print(\"M.balk = {0}\".format(M.balk))"
     ],
     "language": "python",
     "metadata": {},
     "outputs": []
    },
    {
     "cell_type": "markdown",
     "metadata": {},
     "source": [
      "* Using the built-in methods for a monitor, we can compute the number of customers who balked, and the fraction of customers who balked."
     ]
    },
    {
     "cell_type": "code",
     "collapsed": false,
     "input": [
      "print(\"Number of customers who balked = {0}\".format( ))\n",
      "print(\"Fraction of customers who balked = {0}\".format( ))"
     ],
     "language": "python",
     "metadata": {},
     "outputs": []
    },
    {
     "cell_type": "markdown",
     "metadata": {},
     "source": [
      "* With this simulation in hand, you could then perform many replications and compute both point and interval estimates of the mean fraction of customers who balked."
     ]
    },
    {
     "cell_type": "heading",
     "level": 2,
     "metadata": {},
     "source": [
      "Probabilistic balking"
     ]
    },
    {
     "cell_type": "markdown",
     "metadata": {},
     "source": [
      "* Now let's go back to assuming that Fantastic Dan's shop does not have a queue capacity.\n",
      "\n",
      "\n",
      "* Suppose instead that a customer balks **probabilistically:** in particular, the probability that a customer balks grows as the length of the queue grows.\n",
      "    \n",
      "    \n",
      "* For instance, suppose that if $x$ is the current number of customers in the queue, the probability that a customer balks is $\\frac{x}{x+1}$.\n",
      "\n",
      "\n",
      "* Let's plot this balking probabillity as a function of the number of customers in the queue, just to get an idea of what's going on."
     ]
    },
    {
     "cell_type": "code",
     "collapsed": false,
     "input": [],
     "language": "python",
     "metadata": {},
     "outputs": []
    },
    {
     "cell_type": "markdown",
     "metadata": {},
     "source": [
      "* How can we make sure that customers balk according to this probability?\n",
      "\n",
      "\n",
      "* Let $U$ be a Uniform[0,1] random variable (i.e., a random number generated by rand())\n",
      "\n",
      "\n",
      "* If $U < \\frac{x}{x+1}$, then the customer balks, otherwise the customer joins the queue.\n",
      "\n",
      "\n",
      "* With this idea, we can adapt the customer behavior code for deterministic balking to our needs in this case:"
     ]
    },
    {
     "cell_type": "code",
     "collapsed": false,
     "input": [],
     "language": "python",
     "metadata": {},
     "outputs": []
    },
    {
     "cell_type": "markdown",
     "metadata": {},
     "source": [
      "* Let's run the simulation once and compute the number of customers who balked, and the fraction of customers who balked."
     ]
    },
    {
     "cell_type": "code",
     "collapsed": false,
     "input": [
      "# Run model\n",
      "model(interSeed = 123, serveSeed = 123)\n",
      "\n",
      "# Performance measures\n",
      "print(\"Number of customers who balked = {0}\".format(M.balk.total()))\n",
      "print(\"Fraction of customers who balked = {0}\".format(M.balk.mean()))"
     ],
     "language": "python",
     "metadata": {},
     "outputs": []
    },
    {
     "cell_type": "heading",
     "level": 2,
     "metadata": {},
     "source": [
      "Reneging"
     ]
    },
    {
     "cell_type": "markdown",
     "metadata": {},
     "source": [
      "* Let's now forget about balking, and instead focus on **reneging**.\n",
      "\n",
      "\n",
      "* Reneging occurs when customers in a queueing system choose to leave the system prior to receiving service.\n",
      "\n",
      "\n",
      "* Suppose that customers will wait at most 30 minutes in the queue. If they're not served by then, they simply leave the shop.\n",
      "\n",
      "\n",
      "* Let's compute the number and fraction of reneging customers.\n",
      "\n",
      "\n",
      "* To modify customer behavior so that it includes the possibility of balking, we need to do several things.\n",
      "\n",
      "\n",
      "* First, let's create a new parameter for the maximum time a customer is willing to wait before he/she reneges."
     ]
    },
    {
     "cell_type": "code",
     "collapsed": false,
     "input": [],
     "language": "python",
     "metadata": {},
     "outputs": []
    },
    {
     "cell_type": "markdown",
     "metadata": {},
     "source": [
      "* Let's also create a new monitor that records whether a customer reneges or not."
     ]
    },
    {
     "cell_type": "code",
     "collapsed": false,
     "input": [
      "# Add monitor to class M, already defined above\n",
      "\n",
      "\n",
      "##### Redefine model() to include monitors #####\n",
      "\n"
     ],
     "language": "python",
     "metadata": {},
     "outputs": []
    },
    {
     "cell_type": "markdown",
     "metadata": {},
     "source": [
      "* Now we're ready to change the SimPy code that defines the customer's behavior so that it includes reneging.\n",
      "\n",
      "\n",
      "* We model reneging through the `yield` statement: when the customer joins the queue, the customer waits for the server to be free, or the maximum wait time to elapse.\n",
      "\n",
      "\n",
      "* So instead of\n",
      "```\n",
      "yield request, self, R.server\n",
      "```\n",
      "like we would ordinarily have, we write\n",
      "```\n",
      "yield (request, self, R.server), (hold, self, P.renegeTime)\n",
      "```\n",
      "\n",
      "* We can detect whether a customer acquires service through the function `self.acquired(R.server)`, which returns `True` or `False`.\n",
      "\n",
      "\n",
      "* Let's also print the time the customer spends in the queue to make sure the simulation behaves as we expect."
     ]
    },
    {
     "cell_type": "code",
     "collapsed": false,
     "input": [],
     "language": "python",
     "metadata": {},
     "outputs": []
    },
    {
     "cell_type": "markdown",
     "metadata": {},
     "source": [
      "* Now let's run the simulation once."
     ]
    },
    {
     "cell_type": "code",
     "collapsed": false,
     "input": [
      "model(interSeed = 123, serveSeed = 123)"
     ],
     "language": "python",
     "metadata": {},
     "outputs": []
    },
    {
     "cell_type": "markdown",
     "metadata": {},
     "source": [
      "* Finally, let's compute the number and fraction of customers that reneged."
     ]
    },
    {
     "cell_type": "code",
     "collapsed": false,
     "input": [
      "print(\"Number of customers who reneged = {0}\".format(M.renege.total()))\n",
      "print(\"Fraction of customers who reneged = {0}\".format(M.renege.mean()))"
     ],
     "language": "python",
     "metadata": {},
     "outputs": []
    }
   ],
   "metadata": {}
  }
 ]
}