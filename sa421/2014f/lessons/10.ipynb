{
 "metadata": {
  "name": "",
  "signature": "sha256:38a42c6487480049f043b93e85582ec65460fa5ec2c7267474d6b05f99e5a7c5"
 },
 "nbformat": 3,
 "nbformat_minor": 0,
 "worksheets": [
  {
   "cells": [
    {
     "cell_type": "heading",
     "level": 1,
     "metadata": {},
     "source": [
      "Lesson 10. Random number generation"
     ]
    },
    {
     "cell_type": "heading",
     "level": 3,
     "metadata": {},
     "source": [
      "SA421 Fall 2014"
     ]
    },
    {
     "cell_type": "heading",
     "level": 2,
     "metadata": {},
     "source": [
      "Going over Exam 1..."
     ]
    },
    {
     "cell_type": "markdown",
     "metadata": {},
     "source": [
      "**Problem 2.** Passengers arrive at the main entrance of the Bellman Air terminal according to an exponential interarrival- time distribution with mean 1.6 minutes. <span style=\"color:#d00000; font-weight:bold\">The travel time from the entrance to the check-in counter queue is distributed uniformly between 2 and 3 minutes.</span> At the check-in counter, there are 3 agents: the time it takes an agent to serve a passenger (in minutes) follows a gamma distribution with shape parameter 14.4 and scale parameter 0.42. The check-in counter is open from 6:00 to 22:00 every day.\n",
      "\n",
      "For this problem, the \u201ctime a passenger spends in the check-in area\u201d includes <span style=\"color:#d00000; font-weight:bold\">the time waiting in the check-in counter queue and the time being served at the check-in counter; it does not include the time traveling from the entrance to the check-in counter queue.</span>"
     ]
    },
    {
     "cell_type": "markdown",
     "metadata": {},
     "source": [
      "* Below is a SimPy model that is nearly identical to the model we wrote for the Fantastic Dan problem.\n",
      "\n",
      "\n",
      "* Travel time has not yet been incorporated into the model. How can we do so?\n",
      "\n",
      "\n",
      "* A monitor for the time a passenger spends in the check-in area has also not yet been incorporated in the model. Let's do that as well."
     ]
    },
    {
     "cell_type": "code",
     "collapsed": false,
     "input": [
      "##### Setup #####\n",
      "# Friendly floating-point division\n",
      "from __future__ import division\n",
      "\n",
      "# Import various functions from NumPy\n",
      "from numpy import mean\n",
      "\n",
      "# Import all simulation functions from SimPy\n",
      "from SimPy.Simulation import *\n",
      "\n",
      "# Import seed initializer and random sampling functions from NumPy\n",
      "from numpy.random import seed, exponential, gamma, uniform\n",
      "\n",
      "##### Parameters #####\n",
      "class P:\n",
      "    # Customers arrive at the entrance with exponentially distributed\n",
      "    # interarrival times with mean 1.6 minutes\n",
      "    interarrivalTimeMean = 1.6\n",
      "    \n",
      "    # Travel times are uniformly distributed between 2 and 3 minutes.\n",
      "    travelTimeMin = 2\n",
      "    travelTimeMax = 3\n",
      "    \n",
      "    # Service times (in minutes) follow a gamma distribution \n",
      "    # with shape parameter 14.4 and scale parameter 0.42\n",
      "    serviceTimeShape = 14.4\n",
      "    serviceTimeScale = 0.42\n",
      "    \n",
      "    # Number of agents: 3\n",
      "    nAgents = 3\n",
      "    \n",
      "    # Check-in counter is open for 16 continuous hours\n",
      "    simulationTimeMax =  16 * 60\n",
      "    \n",
      "\n",
      "##### Processes #####\n",
      "# Passenger\n",
      "class Passenger(Process):\n",
      "    def behavior(self):\n",
      "        # Passenger arrives at check-in area, joins check-in counter queue\n",
      "        yield request, self, R.counter\n",
      "        \n",
      "        # Passenger is released from queue and starts service\n",
      "        serviceTime = gamma(shape = P.serviceTimeShape, scale = P.serviceTimeScale)\n",
      "        yield hold, self, serviceTime\n",
      "        \n",
      "        # Passenger finishes service, leaves\n",
      "        yield release, self, R.counter\n",
      "\n",
      "# Entrance\n",
      "class Entrance(Process):\n",
      "    def behavior(self):\n",
      "        # At the start of the simulation, no passengers have arrived\n",
      "        nPassengers = 0\n",
      "        \n",
      "        # Passenger arrivals\n",
      "        while True:\n",
      "            # Wait until the next arrival\n",
      "            interarrivalTime = exponential(scale = P.interarrivalTimeMean)\n",
      "            yield hold, self, interarrivalTime\n",
      "            \n",
      "            # Create a new passenger using the template defined in the Passenger class\n",
      "            c = Passenger(name=\"Passenger {0}\".format(nPassengers))\n",
      "            \n",
      "            # Activate the passenger's behavior\n",
      "            activate(c, c.behavior())\n",
      "\n",
      "            # Count this new passenger\n",
      "            nPassengers += 1\n",
      "\n",
      "            \n",
      "##### Resources #####\n",
      "class R:\n",
      "    # Check-in counter\n",
      "    counter = None\n",
      "\n",
      "\n",
      "##### Model #####\n",
      "def model(inputSeed):\n",
      "    # Initialize SimPy \n",
      "    initialize()\n",
      "\n",
      "    # Initialize a seed for the random number generator (more on this later in the semester)\n",
      "    seed(inputSeed)\n",
      "\n",
      "    # Create the server resource\n",
      "    R.counter = Resource(capacity=P.nAgents)\n",
      "\n",
      "    # Activate the entrance (to generate passengers)\n",
      "    e = Entrance()\n",
      "    activate(e, e.behavior())\n",
      "    \n",
      "    # Run the simulation\n",
      "    simulate(until=P.simulationTimeMax)\n",
      "\n",
      "\n",
      "##### Experiment #####\n",
      "n = 100\n",
      "averageCheckinTime1Obs = [model(999 * i) for i in range(n)]\n",
      "\n",
      "# Mean average time a passenger spends in the check-in area\n",
      "mean(averageCheckinTime1Obs)"
     ],
     "language": "python",
     "metadata": {},
     "outputs": []
    },
    {
     "cell_type": "markdown",
     "metadata": {},
     "source": [
      "Remember from Lesson 3:\n",
      "\n",
      "* **`yield request`** has the process (e.g. Customer) wait in line for 1 unit of the resource (e.g. R.counter)\n",
      "\n",
      "\n",
      "* **`yield hold`** has the process pause for the specified amount of time\n",
      "    - \"pause\" is not literal: it can be used to simulate service time, travel time, etc."
     ]
    },
    {
     "cell_type": "markdown",
     "metadata": {},
     "source": [
      "**Problem 4c.** Perform the Kolmogorov-Smirnov goodness-of-fit test to determine whether the given observations are from a uniform distribution on $[10, 20]$. Print the observed test statistic and $p$-value."
     ]
    },
    {
     "cell_type": "code",
     "collapsed": false,
     "input": [
      "y = [13.689150767940093, 11.171607649621214, 15.759103354618054,\n",
      "        13.595488500475357, 17.342390095241967, 14.875294738312064,\n",
      "        15.527182254193566, 11.494909775474541, 13.596355986020441,\n",
      "        15.499183121340053, 18.497461863038072, 14.076730742080949,\n",
      "        10.879932771656254, 17.822744900439776, 18.838556091014425,\n",
      "        17.849482976251362, 13.2727344592443, 10.467463848403659,\n",
      "        11.152942586815783, 12.391283411528969, 16.33750900412429,\n",
      "        16.468864799752385, 19.13653979934207, 16.6557585713094,\n",
      "        12.842310471953837, 12.575684498516045, 10.228875627099981,\n",
      "        10.202836227809232, 13.773764004641647, 13.262738852664569,\n",
      "        11.763780020471742, 10.235151335613889, 15.00240787569663,\n",
      "        16.269608068188713, 16.33303517954792, 13.446320187109047,\n",
      "        16.771291678124413, 12.786069804340134, 14.77273578907357,\n",
      "        12.760836577763376, 17.23158161386951, 19.682823723914215,\n",
      "        12.117676512929503, 12.901264295558635, 10.348566122452334,\n",
      "        17.929863294250598, 11.030838317681166, 10.496289830295964,\n",
      "        10.10062327939966, 14.653399669576327, 16.43324076981847,\n",
      "        12.371031012664012, 15.990919329338343, 17.082901481132627,\n",
      "        10.552804176744672, 14.216910002500533, 14.009395214064408,\n",
      "        11.592323376433944, 18.692683789964136, 13.40187701869356,\n",
      "        17.958818746382128, 14.740807038514093, 12.092029048860002,\n",
      "        10.622662321690829, 16.842252811126322, 11.719341930098556,\n",
      "        18.374112178075793, 18.96655003895143, 10.647369815082579,\n",
      "        16.394616241141335, 19.148804698779404, 11.450743833618528,\n",
      "        11.331355020394549, 10.590332026905001, 10.91056812371452,\n",
      "        12.327538978480392, 10.534518763789759, 13.900626198426414,\n",
      "        15.13537534652448, 17.098865934937837, 12.410730962493233,\n",
      "        15.085853776630657, 11.073496926484909, 19.895615481135838,\n",
      "        12.343952832221285, 10.372584831803145, 10.92920439010082,\n",
      "        11.81357765681188, 19.730686214437103, 11.69149969735051,\n",
      "        10.764815124619151, 10.602060662496017, 13.847380085953736,\n",
      "        19.494229410963275, 15.208451049827422, 13.45509612094987,\n",
      "        18.32353332919313, 10.673783875550953, 10.503656051053209,\n",
      "        11.141475354681322]"
     ],
     "language": "python",
     "metadata": {},
     "outputs": []
    },
    {
     "cell_type": "markdown",
     "metadata": {},
     "source": [
      "* Below is code taken from the **ks** homework problem, with some small modifications."
     ]
    },
    {
     "cell_type": "code",
     "collapsed": false,
     "input": [
      "##### Setup #####\n",
      "# Friendly floating-point division\n",
      "from __future__ import division\n",
      "\n",
      "# Import various random variable objects and statistical tests from scipy.stats\n",
      "from scipy.stats import uniform, kstwobign\n",
      "\n",
      "# Parameters of proposed distribution\n",
      "uniformLoc = 10\n",
      "uniformScale = 10\n",
      "\n",
      "# Get the number of observations\n",
      "n = len(y)\n",
      "\n",
      "# Sort the observations\n",
      "y.sort()\n",
      "\n",
      "# Compute K-S observed test statistic\n",
      "d = max([max(uniform.cdf(y[i], ) - i/n, (i+1)/n - uniform.cdf(y[i], )) for i in range(n)])\n",
      "\n",
      "# Print K-S observed test statistic\n",
      "print(\"K-S observed test statistic = {0}\".format(d))\n",
      "\n",
      "# Compute p-value\n",
      "pValue = 1 - kstwobign.cdf(sqrt(n) * d)\n",
      "\n",
      "# Print p-value\n",
      "print(\"K-S p-value = {0}\".format(pValue))"
     ],
     "language": "python",
     "metadata": {},
     "outputs": []
    },
    {
     "cell_type": "markdown",
     "metadata": {},
     "source": [
      "* Always read the documentation carefully to figure out how to use various functions.\n",
      "\n",
      "\n",
      "* [Here's the documentation for `uniform` from `scipy.stats`.](http://docs.scipy.org/doc/scipy/reference/generated/scipy.stats.uniform.html)\n",
      "\n",
      "\n",
      "* Let's take a look to see how the parameters should be passed into `uniform.cdf`"
     ]
    },
    {
     "cell_type": "heading",
     "level": 2,
     "metadata": {},
     "source": [
      "The linear congruential method"
     ]
    },
    {
     "cell_type": "markdown",
     "metadata": {},
     "source": [
      "* Modular arithmetic in Python: `x % y` is $x \\mod y$\n",
      "\n",
      "\n",
      "* Give it a try: compute $53 \\mod 7$."
     ]
    },
    {
     "cell_type": "code",
     "collapsed": false,
     "input": [],
     "language": "python",
     "metadata": {},
     "outputs": []
    },
    {
     "cell_type": "markdown",
     "metadata": {},
     "source": [
      "**Example.** Generate 50 pseudo-random numbers using the linear congruential method with a modulus of $2^4 = 16$, a multiplier of 5, an increment of 3, and a seed of 1.\n",
      "\n",
      "\n",
      "* Python note: `X[-1]` is the **last** item of list X.\n",
      "\n",
      "\n",
      "* In general, `X[-n]` gives the $n$th-to-last item of list X."
     ]
    },
    {
     "cell_type": "code",
     "collapsed": false,
     "input": [
      "##### Setup #####\n",
      "# Friendly floating-point division\n",
      "from __future__ import division\n",
      "\n",
      "# Multiplier\n",
      "\n",
      "\n",
      "# Increment\n",
      "\n",
      "\n",
      "# Modulus\n",
      "\n",
      "\n",
      "# Initialize sequence of integers with seed\n",
      "\n",
      "\n",
      "# Compute sequence of integers\n",
      "\n",
      "\n",
      "# Print sequence of integers\n",
      "print(\"X = {0}\".format(X))\n",
      "\n",
      "# Compute pseudo-random numbers based on sequence of integers in X\n",
      "\n",
      "\n",
      "# Print pseudo-random numbers\n",
      "print(\"R = {0}\".format(R))"
     ],
     "language": "python",
     "metadata": {},
     "outputs": []
    },
    {
     "cell_type": "markdown",
     "metadata": {},
     "source": [
      "**Example.** In Excel, generate 50 pseudo-random numbers using the linear congruential method with a\n",
      "modulus of $2^{31} \u2212 1$, a multiplier of 75, an increment of 0, and a seed of 123,457.\n",
      "\n",
      "*Historical note.* This generator was used in the IMSL Scientific Subroutine Package in 1978."
     ]
    },
    {
     "cell_type": "code",
     "collapsed": false,
     "input": [],
     "language": "python",
     "metadata": {},
     "outputs": []
    },
    {
     "cell_type": "heading",
     "level": 2,
     "metadata": {},
     "source": [
      "With a neighbor..."
     ]
    },
    {
     "cell_type": "markdown",
     "metadata": {},
     "source": [
      "Perform the Kolmogorov-Smirnov goodness-of-fit test to determine whether the random numbers generated in the previous example are from a uniform distribution on [0,1]. Print the observed test statistic and p-value."
     ]
    },
    {
     "cell_type": "code",
     "collapsed": false,
     "input": [],
     "language": "python",
     "metadata": {},
     "outputs": []
    }
   ],
   "metadata": {}
  }
 ]
}