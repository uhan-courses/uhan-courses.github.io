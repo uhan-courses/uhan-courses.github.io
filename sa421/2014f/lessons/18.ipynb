{
 "metadata": {
  "name": "",
  "signature": "sha256:eb1030302abd05a4d33c351017368ff4073624d3dcc5b5684f8b53ba213a5d65"
 },
 "nbformat": 3,
 "nbformat_minor": 0,
 "worksheets": [
  {
   "cells": [
    {
     "cell_type": "heading",
     "level": 1,
     "metadata": {},
     "source": [
      "Lesson 18. SimPy &mdash; queueing networks"
     ]
    },
    {
     "cell_type": "heading",
     "level": 3,
     "metadata": {},
     "source": [
      "SA421 Fall 2014"
     ]
    },
    {
     "cell_type": "heading",
     "level": 2,
     "metadata": {},
     "source": [
      "Setup"
     ]
    },
    {
     "cell_type": "code",
     "collapsed": false,
     "input": [
      "##### Setup #####\n",
      "# Friendly floating-point division\n",
      "from __future__ import division\n",
      "\n",
      "# Import bisect_left from bisect\n",
      "from bisect import bisect_left\n",
      "\n",
      "# Import all simulation functions from SimPy\n",
      "from SimPy.Simulation import *\n",
      "\n",
      "# Import various functions from NumPy\n",
      "from numpy import inf\n",
      "\n",
      "# Import seed initializer and random sampling functions from NumPy\n",
      "from numpy.random import seed, rand, exponential"
     ],
     "language": "python",
     "metadata": {},
     "outputs": []
    },
    {
     "cell_type": "heading",
     "level": 2,
     "metadata": {},
     "source": [
      "Today's problem"
     ]
    },
    {
     "cell_type": "markdown",
     "metadata": {},
     "source": [
      "The Leviathan Company maintains a repair facility that reconditions their broken tablet computers.\n",
      "The repair facility consists of a repair station, an inspection station and a combined repair-and-inspection station.\n",
      "\n",
      "Tablets arrive at the repair station according to an exponential interarrival time distribution with a mean of 15 minutes.\n",
      "The repair station makes the first attempt to repair a tablet: the repair times are exponentially distributed with a mean of 85 minutes.\n",
      "The tablet then moves to the inspection station to verify that the repairs have been successful: the inspection times are exponentially distributed with a mean of 35 minutes, and 7% of tablets fail this first inspection.\n",
      "Tablets that pass inspection are shipped back to their owner.\n",
      "Tablets that fail inspection move to the combined repair-and-inspection station where they are repeatedly repaired and inspected until they work properly: the time for one repair plus inspection at this station is exponentially distributed with mean 130 minutes.\n",
      "3% of tables fail these subsequent inspections.\n",
      "Each station can process 4 tablets simultaneously.\n",
      "\n",
      "Simulate this system for 24 hours. Based on 1 replication:\n",
      "\n",
      "\n",
      "* What is the average transit time (total time in system) for tablets?\n",
      "\n",
      "\n",
      "* What is the time average number of tablets in the system?"
     ]
    },
    {
     "cell_type": "markdown",
     "metadata": {},
     "source": [
      "* Below is some SimPy code for this problem, with a lot of comments missing. Let's see if we can decipher what is going on."
     ]
    },
    {
     "cell_type": "code",
     "collapsed": false,
     "input": [
      "##### Parameters #####\n",
      "# Station 0 = repair\n",
      "# Station 1 = inspection\n",
      "# Station 2 = combined repair + inspection\n",
      "# \"Station\" 3 = shipped back to customer\n",
      "class P:\n",
      "    # Number of stations (aside from \"shipped back to customer\")\n",
      "    nStations = 3\n",
      "    \n",
      "    # Transition matrix between stations\n",
      "    transition = [[0, 1, 0, 0], [0, 0, 0.07, 0.93], [0, 0, 0.03, 0.97], [0, 0, 0, 1]]\n",
      "    \n",
      "    # Station capacity: each station has capacity 2\n",
      "    stationCapacity = 4\n",
      "    \n",
      "    # Tablets arrive at the entrance with exponentially distributed\n",
      "    # interarrival times with mean 15\n",
      "    interarrivalTimeMean = 15\n",
      "    \n",
      "    # Service times at the three stations: exponentially distributed with some mean\n",
      "    serviceTimeMean = [85, 35, 130]\n",
      "       \n",
      "    # Simulation time: 24 hours\n",
      "    simulationTimeMax = 24 * 60\n",
      "\n",
      "\n",
      "##### Global variables #####\n",
      "class G:\n",
      "    # Current number of tablets in the system\n",
      "    nTabletsCurrent = None\n",
      "    \n",
      "\n",
      "##### Distributions #####\n",
      "# Next station\n",
      "# Based on transition matrix defined above\n",
      "def nextStation(currentStation):\n",
      "    # List of possible values, including -inf\n",
      "    a = [-inf, 0, 1, 2, 3]\n",
      "    \n",
      "    # cdf at above values\n",
      "    # list[i:j] = [list[i], list[i+1], ..., list[j-1]]\n",
      "    pmf = P.transition[currentStation]\n",
      "    cdf = [0, sum(pmf[0:1]), sum(pmf[0:2]), sum(pmf[0:3]), sum(pmf[0:4])]\n",
      "    \n",
      "    # Generate variate\n",
      "    variate = a[bisect_left(cdf, rand())]\n",
      "    \n",
      "    # Return variate\n",
      "    return variate    \n",
      "\n",
      "\n",
      "##### Processes #####\n",
      "# Tablet\n",
      "class Tablet(Process):\n",
      "    def behavior(self):\n",
      "        G.nTabletsCurrent += 1\n",
      "        M.tablets.observe(G.nTabletsCurrent)\n",
      "        \n",
      "        currentStation = 0\n",
      "        \n",
      "        start = now()\n",
      "        \n",
      "        while True:\n",
      "            yield request, self, R.station[currentStation]\n",
      "\n",
      "            serviceTime = exponential(scale = P.serviceTimeMean[currentStation])\n",
      "            yield hold, self, serviceTime\n",
      "\n",
      "            yield release, self, R.station[currentStation]\n",
      "\n",
      "            currentStation = nextStation(currentStation)\n",
      "            \n",
      "            if currentStation == 3:\n",
      "                break\n",
      "        \n",
      "        stop = now()\n",
      "        M.transit.observe(stop - start)\n",
      "        \n",
      "        G.nTabletsCurrent -= 1\n",
      "        M.tablets.observe(G.nTabletsCurrent)\n",
      "\n",
      "# Entrance\n",
      "class Entrance(Process):\n",
      "    def behavior(self):\n",
      "        # At the start of the simulation, no customers have arrived\n",
      "        nTablets = 0\n",
      "        \n",
      "        # Customer arrivals\n",
      "        while True:\n",
      "            # Wait until the next arrival\n",
      "            interarrivalTime = exponential(scale = P.interarrivalTimeMean)\n",
      "            yield hold, self, interarrivalTime\n",
      "            \n",
      "            # Create a new tablet\n",
      "            t = Tablet(name=\"Tablet {0}\".format(nTablets))\n",
      "            \n",
      "            # Activate the tablet's behavior\n",
      "            activate(t, t.behavior())\n",
      "\n",
      "            # Count this new tablet\n",
      "            nTablets += 1\n",
      "\n",
      "            \n",
      "##### Resources #####\n",
      "class R:\n",
      "    # Server\n",
      "    station = None\n",
      "    \n",
      "    \n",
      "##### Monitors #####\n",
      "class M:\n",
      "    transit = None\n",
      "    tablets = None\n",
      "\n",
      "\n",
      "##### Experiment #####\n",
      "def model():\n",
      "    initialize()\n",
      "\n",
      "    seed(123)\n",
      "\n",
      "    R.station = [Resource(capacity = P.stationCapacity) for i in range(P.nStations)]\n",
      "    \n",
      "    M.transit = Monitor()\n",
      "    M.tablets = Monitor()\n",
      "    \n",
      "    G.nTabletsCurrent = 0\n",
      "\n",
      "    e = Entrance()\n",
      "    activate(e, e.behavior())\n",
      "    \n",
      "    simulate(until=P.simulationTimeMax)"
     ],
     "language": "python",
     "metadata": {},
     "outputs": []
    },
    {
     "cell_type": "markdown",
     "metadata": {},
     "source": [
      "* Now that we have a good feel for what the code does, let's run the model."
     ]
    },
    {
     "cell_type": "code",
     "collapsed": false,
     "input": [
      "model()"
     ],
     "language": "python",
     "metadata": {},
     "outputs": []
    },
    {
     "cell_type": "markdown",
     "metadata": {},
     "source": [
      "* To compute the average transit time:"
     ]
    },
    {
     "cell_type": "code",
     "collapsed": false,
     "input": [],
     "language": "python",
     "metadata": {},
     "outputs": []
    },
    {
     "cell_type": "markdown",
     "metadata": {},
     "source": [
      "* To compute the time average number of tablets in the system:"
     ]
    },
    {
     "cell_type": "code",
     "collapsed": false,
     "input": [],
     "language": "python",
     "metadata": {},
     "outputs": []
    },
    {
     "cell_type": "heading",
     "level": 2,
     "metadata": {},
     "source": [
      "With a neighbor..."
     ]
    },
    {
     "cell_type": "markdown",
     "metadata": {},
     "source": [
      "Leviathan is considering eliminating the combined repair-and-inspection station and instead sending tablets that fail inspection back to the primary repair station. The service times and failure rates remain the same.\n",
      "\n",
      "Simulate this proposed system. Based on 1 replication:\n",
      "\n",
      "\n",
      "* What is the average transit time (total time in system) for tablets?\n",
      "\n",
      "\n",
      "* What is the time average number of tablets in the system?"
     ]
    },
    {
     "cell_type": "code",
     "collapsed": false,
     "input": [],
     "language": "python",
     "metadata": {},
     "outputs": []
    }
   ],
   "metadata": {}
  }
 ]
}