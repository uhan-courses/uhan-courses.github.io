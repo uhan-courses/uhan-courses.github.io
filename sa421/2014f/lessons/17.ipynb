{
 "metadata": {
  "name": "",
  "signature": "sha256:23fc450853db485c11c5f5dfb4dec6affcffef04dbf7132b8e6559bf18e85afe"
 },
 "nbformat": 3,
 "nbformat_minor": 0,
 "worksheets": [
  {
   "cells": [
    {
     "cell_type": "heading",
     "level": 1,
     "metadata": {},
     "source": [
      "Lesson 17. SimPy &mdash; priority queues, preemption"
     ]
    },
    {
     "cell_type": "heading",
     "level": 3,
     "metadata": {},
     "source": [
      "SA421 Fall 2014"
     ]
    },
    {
     "cell_type": "code",
     "collapsed": false,
     "input": [
      "##### Setup #####\n",
      "# Friendly floating-point division\n",
      "from __future__ import division\n",
      "\n",
      "# Import infinity from NumPy\n",
      "from numpy import inf\n",
      "\n",
      "# Import seed initializer and random sampling functions from NumPy\n",
      "from numpy.random import seed, rand, exponential, uniform\n",
      "\n",
      "# Import bisect_right from bisect\n",
      "from bisect import bisect_left\n",
      "\n",
      "# Import all simulation functions from SimPy\n",
      "from SimPy.Simulation import *"
     ],
     "language": "python",
     "metadata": {},
     "outputs": []
    },
    {
     "cell_type": "heading",
     "level": 2,
     "metadata": {},
     "source": [
      "Today's problem"
     ]
    },
    {
     "cell_type": "markdown",
     "metadata": {},
     "source": [
      "Dantzig's Diner is very, very small: it only has a 4-seat counter.\n",
      "\n",
      "Suppose that customers arrive individually at the diner according to an exponential interarrival time distribution with a mean of 15 minutes. 25% of these customers are VIPs, and get to skip to the head of the queue upon arrival (behind any VIPs already in line, but ahead of any non-VIPs). The time that each customer spends at the diner is uniformly distributed between 60 and 90 minutes.\n",
      "\n",
      "* Simulate the restaurant for 4 hours.\n",
      "\n",
      "\n",
      "* What is the average delay of VIP customers? What is the average delay of non-VIP customers?"
     ]
    },
    {
     "cell_type": "markdown",
     "metadata": {},
     "source": [
      "* Below, we have SimPy code for this problem, <span style=\"color:#d00000\">under the assumption that all customers are non-VIPs</span>.\n",
      "\n",
      "\n",
      "* Print statements have been added to output when a customer arrives, when a customer starts service, and when a customer finishes service."
     ]
    },
    {
     "cell_type": "code",
     "collapsed": false,
     "input": [
      "##### Parameters #####\n",
      "class P:\n",
      "    # Customers arrive at diner according to  \n",
      "    # exponentially distributed interarrival times with mean 15\n",
      "    interarrivalTimeMean = 15\n",
      "    \n",
      "    # Service times are uniformly distributed between 60 and 90 minutes\n",
      "    serviceTimeMin = 60\n",
      "    serviceTimeMax = 90\n",
      "    \n",
      "    # 4 seats at diner\n",
      "    nSeats = 4\n",
      "    \n",
      "    # Simulate restaurant for 4 hours\n",
      "    simulationTimeMax = 4 * 60\n",
      "    \n",
      "    \n",
      "##### Processes #####\n",
      "# Customer\n",
      "class Customer(Process):\n",
      "    def behavior(self):\n",
      "        # Customer arrives, joins queue\n",
      "        print(\"Time {0}: {1} arrives\".format(now(), self.name))\n",
      "        yield request, self, R.seats  \n",
      "        \n",
      "        # Customer is released from queue and starts service\n",
      "        print(\"Time {0}: {1} starts service\".format(now(), self.name))\n",
      "        serviceTime = uniform(low = P.serviceTimeMin, high = P.serviceTimeMax)\n",
      "        yield hold, self, serviceTime\n",
      "        \n",
      "        # Customer finishes service, leaves\n",
      "        print(\"Time {0}: {1} finishes service\".format(now(), self.name))\n",
      "        yield release, self, R.seats\n",
      "\n",
      "# Entrance\n",
      "class Entrance(Process):\n",
      "    def behavior(self):\n",
      "        # At the start of the simulation, no customers have arrived\n",
      "        nCustomers = 0\n",
      "        \n",
      "        # Customer arrivals\n",
      "        while True:\n",
      "            # Wait until the next arrival\n",
      "            interarrivalTime = exponential(scale = P.interarrivalTimeMean)\n",
      "            yield hold, self, interarrivalTime\n",
      "            \n",
      "            # Create a new customer using the template defined in the Customer class\n",
      "            c = Customer(name=\"Customer {0}\".format(nCustomers))\n",
      "            \n",
      "            # Activate the customer's behavior\n",
      "            activate(c, c.behavior())\n",
      "\n",
      "            # Count this new customer\n",
      "            nCustomers += 1\n",
      "\n",
      "            \n",
      "##### Resources #####\n",
      "class R:\n",
      "    # Seats\n",
      "    seats = None\n",
      "\n",
      "\n",
      "##### Simulation #####\n",
      "def model(inputSeed):\n",
      "    # Initialize SimPy \n",
      "    initialize()\n",
      "\n",
      "    # Initialize seed for random number generator\n",
      "    seed(inputSeed)\n",
      "\n",
      "    # Create the server resource\n",
      "    R.seats = Resource(capacity = P.nSeats)\n",
      "\n",
      "    # Activate the entrance (to generate customers)\n",
      "    e = Entrance()\n",
      "    activate(e, e.behavior())\n",
      "    \n",
      "    # Run the simulation\n",
      "    simulate(until = P.simulationTimeMax)"
     ],
     "language": "python",
     "metadata": {},
     "outputs": []
    },
    {
     "cell_type": "markdown",
     "metadata": {},
     "source": [
      "* First, let's create a function that generates random samples from the VIP/non-VIP customer distribution: let 0 correspond to a non-VIP, and let 1 correspond to a VIP."
     ]
    },
    {
     "cell_type": "code",
     "collapsed": false,
     "input": [
      "# Distribution: VIP/non-VIP\n",
      "# 0 = non-VIP, 1 = VIP\n",
      "def VIPDist():\n",
      "    # List of possible values, including -inf\n",
      "    a = [-inf, 0, 1]\n",
      "    \n",
      "    # cdf at values\n",
      "    cdf = [0, 0.75, 1.0]\n",
      "    \n",
      "    # Generate variate\n",
      "    variate = a[bisect_left(cdf, rand())]\n",
      "    \n",
      "    # Return variate\n",
      "    return variate"
     ],
     "language": "python",
     "metadata": {},
     "outputs": []
    },
    {
     "cell_type": "markdown",
     "metadata": {},
     "source": [
      "* We need to modify the above code so that the priority of customers is taken into account.\n",
      "\n",
      "\n",
      "* This can be accomplished by adding a **priority value** to the `yield request` statement:\n",
      "```\n",
      "yield request, self, resourceName, priorityValue\n",
      "```\n",
      "\n",
      "\n",
      "* The priority value can be any number: processes with higher priority values will be placed closer to the beginning of the queue.\n",
      "\n",
      "\n",
      "* Let's implement the problem setting as follows:\n",
      "    - Determine the customer type in the Customer process, before he/she joins the queue.\n",
      "         - We could have used multiple customer processes/arrival streams &mdash; this is just another way.\n",
      "    - Non-VIPs will join the queue with priority 0.\n",
      "    - VIPs will join the queue with priority 100."
     ]
    },
    {
     "cell_type": "code",
     "collapsed": false,
     "input": [],
     "language": "python",
     "metadata": {},
     "outputs": []
    },
    {
     "cell_type": "markdown",
     "metadata": {},
     "source": [
      "* To have a resource's queue respect the given priority values, we need to specify `qType = PriorityQ` when creating the resource with `Resource()`."
     ]
    },
    {
     "cell_type": "code",
     "collapsed": false,
     "input": [],
     "language": "python",
     "metadata": {},
     "outputs": []
    },
    {
     "cell_type": "markdown",
     "metadata": {},
     "source": [
      "* Let's run the model and see what happens."
     ]
    },
    {
     "cell_type": "code",
     "collapsed": false,
     "input": [
      "model(inputSeed = 456)"
     ],
     "language": "python",
     "metadata": {},
     "outputs": []
    },
    {
     "cell_type": "heading",
     "level": 2,
     "metadata": {},
     "source": [
      "With your neighbor..."
     ]
    },
    {
     "cell_type": "markdown",
     "metadata": {},
     "source": [
      "* Implement two monitors:\n",
      "    - `M.delayVIP` for the delay of each VIP customer\n",
      "    - `M.delayNonVIP` for the delay of each non-VIP customer\n",
      "    \n",
      "\n",
      "* Use these monitors to compute the average delay for each type of customer."
     ]
    },
    {
     "cell_type": "code",
     "collapsed": false,
     "input": [],
     "language": "python",
     "metadata": {},
     "outputs": []
    },
    {
     "cell_type": "heading",
     "level": 2,
     "metadata": {},
     "source": [
      "Preemption"
     ]
    },
    {
     "cell_type": "markdown",
     "metadata": {},
     "source": [
      "* Now suppose that upon arrival, VIPs can displace any non-VIP customer in service (what an unfriendly diner!).\n",
      "\n",
      "\n",
      "* The displaced customer will resume service when all VIPs are gone. \n",
      "\n",
      "\n",
      "* In other words, service for VIPs **preempts** service for non-VIPs.\n",
      "\n",
      "\n",
      "* This change is easy to accomplish: we only need to add the argument `preemptable = True` to the `Resource()` call:"
     ]
    },
    {
     "cell_type": "code",
     "collapsed": false,
     "input": [],
     "language": "python",
     "metadata": {},
     "outputs": []
    },
    {
     "cell_type": "markdown",
     "metadata": {},
     "source": [
      "* Let's run the model again."
     ]
    },
    {
     "cell_type": "code",
     "collapsed": false,
     "input": [
      "model(inputSeed = 456)"
     ],
     "language": "python",
     "metadata": {},
     "outputs": []
    },
    {
     "cell_type": "markdown",
     "metadata": {},
     "source": [
      "* Let's print the average delay for both type of customers."
     ]
    },
    {
     "cell_type": "code",
     "collapsed": false,
     "input": [
      "print(\"Average delay for VIP customers = {0}\".format(M.delayVIP.mean()))\n",
      "print(\"Average delay for non-VIP customers = {0}\".format(M.delayNonVIP.mean()))"
     ],
     "language": "python",
     "metadata": {},
     "outputs": []
    },
    {
     "cell_type": "markdown",
     "metadata": {},
     "source": [
      "* Does this make sense?"
     ]
    },
    {
     "cell_type": "markdown",
     "metadata": {},
     "source": [
      "*Write your notes here. Double-click to edit.*"
     ]
    }
   ],
   "metadata": {}
  }
 ]
}